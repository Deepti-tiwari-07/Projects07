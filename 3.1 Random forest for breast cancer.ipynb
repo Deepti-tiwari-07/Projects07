{
 "cells": [
  {
   "cell_type": "code",
   "execution_count": 1,
   "id": "b6148101",
   "metadata": {},
   "outputs": [
    {
     "name": "stderr",
     "output_type": "stream",
     "text": [
      "── \u001b[1mAttaching packages\u001b[22m ────────────────────────────────────────────────────────────────────────────────────────────────────────────────────────────────────────────────────────────────────────── tidyverse 1.3.2 ──\n",
      "\u001b[32m✔\u001b[39m \u001b[34mggplot2\u001b[39m 3.4.0      \u001b[32m✔\u001b[39m \u001b[34mpurrr  \u001b[39m 0.3.4 \n",
      "\u001b[32m✔\u001b[39m \u001b[34mtibble \u001b[39m 3.1.8      \u001b[32m✔\u001b[39m \u001b[34mdplyr  \u001b[39m 1.0.10\n",
      "\u001b[32m✔\u001b[39m \u001b[34mtidyr  \u001b[39m 1.2.1      \u001b[32m✔\u001b[39m \u001b[34mstringr\u001b[39m 1.4.1 \n",
      "\u001b[32m✔\u001b[39m \u001b[34mreadr  \u001b[39m 2.1.2      \u001b[32m✔\u001b[39m \u001b[34mforcats\u001b[39m 0.5.2 \n",
      "Warning message:\n",
      "\"package 'ggplot2' was built under R version 4.2.2\"\n",
      "── \u001b[1mConflicts\u001b[22m ───────────────────────────────────────────────────────────────────────────────────────────────────────────────────────────────────────────────────────────────────────────── tidyverse_conflicts() ──\n",
      "\u001b[31m✖\u001b[39m \u001b[34mdplyr\u001b[39m::\u001b[32mfilter()\u001b[39m masks \u001b[34mstats\u001b[39m::filter()\n",
      "\u001b[31m✖\u001b[39m \u001b[34mdplyr\u001b[39m::\u001b[32mlag()\u001b[39m    masks \u001b[34mstats\u001b[39m::lag()\n",
      "Warning message:\n",
      "\"package 'car' was built under R version 4.2.2\"\n",
      "Loading required package: carData\n",
      "\n",
      "\n",
      "Attaching package: 'car'\n",
      "\n",
      "\n",
      "The following object is masked from 'package:dplyr':\n",
      "\n",
      "    recode\n",
      "\n",
      "\n",
      "The following object is masked from 'package:purrr':\n",
      "\n",
      "    some\n",
      "\n",
      "\n",
      "Warning message:\n",
      "\"package 'corrplot' was built under R version 4.2.2\"\n",
      "corrplot 0.92 loaded\n",
      "\n",
      "Type 'citation(\"pROC\")' for a citation.\n",
      "\n",
      "\n",
      "Attaching package: 'pROC'\n",
      "\n",
      "\n",
      "The following objects are masked from 'package:stats':\n",
      "\n",
      "    cov, smooth, var\n",
      "\n",
      "\n",
      "\n",
      "Attaching package: 'MLmetrics'\n",
      "\n",
      "\n",
      "The following object is masked from 'package:base':\n",
      "\n",
      "    Recall\n",
      "\n",
      "\n",
      "Warning message:\n",
      "\"package 'rpart' was built under R version 4.2.2\"\n",
      "Warning message:\n",
      "\"package 'rpart.plot' was built under R version 4.2.2\"\n",
      "Warning message:\n",
      "\"package 'randomForest' was built under R version 4.2.2\"\n",
      "randomForest 4.7-1.1\n",
      "\n",
      "Type rfNews() to see new features/changes/bug fixes.\n",
      "\n",
      "\n",
      "Attaching package: 'randomForest'\n",
      "\n",
      "\n",
      "The following object is masked from 'package:dplyr':\n",
      "\n",
      "    combine\n",
      "\n",
      "\n",
      "The following object is masked from 'package:ggplot2':\n",
      "\n",
      "    margin\n",
      "\n",
      "\n",
      "Warning message:\n",
      "\"package 'varImp' was built under R version 4.2.2\"\n",
      "Loading required package: measures\n",
      "\n",
      "\n",
      "Attaching package: 'measures'\n",
      "\n",
      "\n",
      "The following objects are masked from 'package:MLmetrics':\n",
      "\n",
      "    AUC, MAE, MAPE, MSE, RAE, RMSE, RMSLE, RRSE\n",
      "\n",
      "\n",
      "Loading required package: party\n",
      "\n",
      "Warning message:\n",
      "\"package 'party' was built under R version 4.2.2\"\n",
      "Loading required package: grid\n",
      "\n",
      "Loading required package: mvtnorm\n",
      "\n",
      "Loading required package: modeltools\n",
      "\n",
      "Loading required package: stats4\n",
      "\n",
      "\n",
      "Attaching package: 'modeltools'\n",
      "\n",
      "\n",
      "The following object is masked from 'package:car':\n",
      "\n",
      "    Predict\n",
      "\n",
      "\n",
      "Loading required package: strucchange\n",
      "\n",
      "Loading required package: zoo\n",
      "\n",
      "\n",
      "Attaching package: 'zoo'\n",
      "\n",
      "\n",
      "The following objects are masked from 'package:base':\n",
      "\n",
      "    as.Date, as.Date.numeric\n",
      "\n",
      "\n",
      "Loading required package: sandwich\n",
      "\n",
      "\n",
      "Attaching package: 'strucchange'\n",
      "\n",
      "\n",
      "The following object is masked from 'package:stringr':\n",
      "\n",
      "    boundary\n",
      "\n",
      "\n",
      "Loaded gbm 2.1.8.1\n",
      "\n",
      "Warning message:\n",
      "\"package 'caret' was built under R version 4.2.2\"\n",
      "Loading required package: lattice\n",
      "\n",
      "\n",
      "Attaching package: 'caret'\n",
      "\n",
      "\n",
      "The following object is masked from 'package:varImp':\n",
      "\n",
      "    varImp\n",
      "\n",
      "\n",
      "The following objects are masked from 'package:measures':\n",
      "\n",
      "    MAE, RMSE\n",
      "\n",
      "\n",
      "The following objects are masked from 'package:MLmetrics':\n",
      "\n",
      "    MAE, RMSE\n",
      "\n",
      "\n",
      "The following object is masked from 'package:purrr':\n",
      "\n",
      "    lift\n",
      "\n",
      "\n"
     ]
    }
   ],
   "source": [
    "library(tidyverse)\n",
    "library(dplyr)\n",
    "library(car)\n",
    "library(corrplot)\n",
    "library(pROC)\n",
    "library(MLmetrics)\n",
    "library(rpart)\n",
    "library(rpart.plot) \n",
    "library(randomForest)\n",
    "library(varImp)\n",
    "library(gbm)\n",
    "library(caret)"
   ]
  },
  {
   "cell_type": "code",
   "execution_count": 2,
   "id": "5a6b9404",
   "metadata": {},
   "outputs": [],
   "source": [
    "url <- \"https://archive.ics.uci.edu/ml/machine-learning-databases/breast-cancer-wisconsin/breast-cancer-wisconsin.data\"\n",
    "data <- read.csv(file = url, header = FALSE,\n",
    "                 col.names = c(\"ID\",\"clump_thickness\", \"uniformity_size\", \"uniformity_shape\", \"marginal_adhesion\", \"single_epit helial_cell_size\", \"bare_nuclei\", \"bland_chromatin\", \"normal_nucleoli\",\"mitoses\", \"diagnosis\"))"
   ]
  },
  {
   "cell_type": "code",
   "execution_count": 3,
   "id": "dbedc17c",
   "metadata": {
    "scrolled": true
   },
   "outputs": [
    {
     "name": "stdout",
     "output_type": "stream",
     "text": [
      "'data.frame':\t699 obs. of  11 variables:\n",
      " $ ID                          : int  1000025 1002945 1015425 1016277 1017023 1017122 1018099 1018561 1033078 1033078 ...\n",
      " $ clump_thickness             : int  5 5 3 6 4 8 1 2 2 4 ...\n",
      " $ uniformity_size             : int  1 4 1 8 1 10 1 1 1 2 ...\n",
      " $ uniformity_shape            : int  1 4 1 8 1 10 1 2 1 1 ...\n",
      " $ marginal_adhesion           : int  1 5 1 1 3 8 1 1 1 1 ...\n",
      " $ single_epit.helial_cell_size: int  2 7 2 3 2 7 2 2 2 2 ...\n",
      " $ bare_nuclei                 : chr  \"1\" \"10\" \"2\" \"4\" ...\n",
      " $ bland_chromatin             : int  3 3 3 3 3 9 3 3 1 2 ...\n",
      " $ normal_nucleoli             : int  1 2 1 7 1 7 1 1 1 1 ...\n",
      " $ mitoses                     : int  1 1 1 1 1 1 1 1 5 1 ...\n",
      " $ diagnosis                   : int  2 2 2 2 2 4 2 2 2 2 ...\n"
     ]
    }
   ],
   "source": [
    "str(data)"
   ]
  },
  {
   "cell_type": "code",
   "execution_count": 4,
   "id": "04c6479c",
   "metadata": {},
   "outputs": [],
   "source": [
    "data <- data[data$bare_nuclei != \"?\",] %>% mutate(bare_nuclei = as.integer(as.character((bare_nuclei))))"
   ]
  },
  {
   "cell_type": "code",
   "execution_count": 5,
   "id": "da4de366",
   "metadata": {},
   "outputs": [],
   "source": [
    "data <- data %>% mutate(diagnosis = ifelse(diagnosis == 2, 0, 1),\n",
    "                        diagnosis = as.factor(diagnosis))\n"
   ]
  },
  {
   "cell_type": "code",
   "execution_count": 6,
   "id": "6f24cfc4",
   "metadata": {},
   "outputs": [
    {
     "data": {
      "image/png": "[encoded data removed]",
      "text/plain": [
       "plot without title"
      ]
     },
     "metadata": {
      "image/png": {
       "height": 420,
       "width": 420
      }
     },
     "output_type": "display_data"
    }
   ],
   "source": [
    "ggplot(data, aes(x = diagnosis)) +\n",
    "  geom_bar(fill = \"red\") +\n",
    "  ggtitle(\"Distribution of Diagnosis in the Entire Dataset\") +\n",
    "  theme_minimal() +\n",
    "  theme(legend.position = \"none\")"
   ]
  },
  {
   "cell_type": "code",
   "execution_count": 7,
   "id": "ed63e0f8",
   "metadata": {},
   "outputs": [
    {
     "data": {
      "text/html": [
       "<style>\n",
       ".dl-inline {width: auto; margin:0; padding: 0}\n",
       ".dl-inline>dt, .dl-inline>dd {float: none; width: auto; display: inline-block}\n",
       ".dl-inline>dt::after {content: \":\\0020\"; padding-right: .5ex}\n",
       ".dl-inline>dt:not(:first-of-type) {padding-left: .5ex}\n",
       "</style><dl class=dl-inline><dt>0</dt><dd>444</dd><dt>1</dt><dd>239</dd></dl>\n"
      ],
      "text/latex": [
       "\\begin{description*}\n",
       "\\item[0] 444\n",
       "\\item[1] 239\n",
       "\\end{description*}\n"
      ],
      "text/markdown": [
       "0\n",
       ":   4441\n",
       ":   239\n",
       "\n"
      ],
      "text/plain": [
       "  0   1 \n",
       "444 239 "
      ]
     },
     "metadata": {},
     "output_type": "display_data"
    }
   ],
   "source": [
    "summary(data$diagnosis)"
   ]
  },
  {
   "cell_type": "code",
   "execution_count": 8,
   "id": "f49e834b",
   "metadata": {},
   "outputs": [
    {
     "data": {
      "text/html": [
       "<table class=\"dataframe\">\n",
       "<caption>A data.frame: 6 × 11</caption>\n",
       "<thead>\n",
       "\t<tr><th></th><th scope=col>ID</th><th scope=col>clump_thickness</th><th scope=col>uniformity_size</th><th scope=col>uniformity_shape</th><th scope=col>marginal_adhesion</th><th scope=col>single_epit.helial_cell_size</th><th scope=col>bare_nuclei</th><th scope=col>bland_chromatin</th><th scope=col>normal_nucleoli</th><th scope=col>mitoses</th><th scope=col>diagnosis</th></tr>\n",
       "\t<tr><th></th><th scope=col>&lt;int&gt;</th><th scope=col>&lt;int&gt;</th><th scope=col>&lt;int&gt;</th><th scope=col>&lt;int&gt;</th><th scope=col>&lt;int&gt;</th><th scope=col>&lt;int&gt;</th><th scope=col>&lt;int&gt;</th><th scope=col>&lt;int&gt;</th><th scope=col>&lt;int&gt;</th><th scope=col>&lt;int&gt;</th><th scope=col>&lt;fct&gt;</th></tr>\n",
       "</thead>\n",
       "<tbody>\n",
       "\t<tr><th scope=row>1</th><td>1000025</td><td>5</td><td> 1</td><td> 1</td><td>1</td><td>2</td><td> 1</td><td>3</td><td>1</td><td>1</td><td>0</td></tr>\n",
       "\t<tr><th scope=row>2</th><td>1002945</td><td>5</td><td> 4</td><td> 4</td><td>5</td><td>7</td><td>10</td><td>3</td><td>2</td><td>1</td><td>0</td></tr>\n",
       "\t<tr><th scope=row>3</th><td>1015425</td><td>3</td><td> 1</td><td> 1</td><td>1</td><td>2</td><td> 2</td><td>3</td><td>1</td><td>1</td><td>0</td></tr>\n",
       "\t<tr><th scope=row>4</th><td>1016277</td><td>6</td><td> 8</td><td> 8</td><td>1</td><td>3</td><td> 4</td><td>3</td><td>7</td><td>1</td><td>0</td></tr>\n",
       "\t<tr><th scope=row>5</th><td>1017023</td><td>4</td><td> 1</td><td> 1</td><td>3</td><td>2</td><td> 1</td><td>3</td><td>1</td><td>1</td><td>0</td></tr>\n",
       "\t<tr><th scope=row>6</th><td>1017122</td><td>8</td><td>10</td><td>10</td><td>8</td><td>7</td><td>10</td><td>9</td><td>7</td><td>1</td><td>1</td></tr>\n",
       "</tbody>\n",
       "</table>\n"
      ],
      "text/latex": [
       "A data.frame: 6 × 11\n",
       "\\begin{tabular}{r|lllllllllll}\n",
       "  & ID & clump\\_thickness & uniformity\\_size & uniformity\\_shape & marginal\\_adhesion & single\\_epit.helial\\_cell\\_size & bare\\_nuclei & bland\\_chromatin & normal\\_nucleoli & mitoses & diagnosis\\\\\n",
       "  & <int> & <int> & <int> & <int> & <int> & <int> & <int> & <int> & <int> & <int> & <fct>\\\\\n",
       "\\hline\n",
       "\t1 & 1000025 & 5 &  1 &  1 & 1 & 2 &  1 & 3 & 1 & 1 & 0\\\\\n",
       "\t2 & 1002945 & 5 &  4 &  4 & 5 & 7 & 10 & 3 & 2 & 1 & 0\\\\\n",
       "\t3 & 1015425 & 3 &  1 &  1 & 1 & 2 &  2 & 3 & 1 & 1 & 0\\\\\n",
       "\t4 & 1016277 & 6 &  8 &  8 & 1 & 3 &  4 & 3 & 7 & 1 & 0\\\\\n",
       "\t5 & 1017023 & 4 &  1 &  1 & 3 & 2 &  1 & 3 & 1 & 1 & 0\\\\\n",
       "\t6 & 1017122 & 8 & 10 & 10 & 8 & 7 & 10 & 9 & 7 & 1 & 1\\\\\n",
       "\\end{tabular}\n"
      ],
      "text/markdown": [
       "\n",
       "A data.frame: 6 × 11\n",
       "\n",
       "| <!--/--> | ID &lt;int&gt; | clump_thickness &lt;int&gt; | uniformity_size &lt;int&gt; | uniformity_shape &lt;int&gt; | marginal_adhesion &lt;int&gt; | single_epit.helial_cell_size &lt;int&gt; | bare_nuclei &lt;int&gt; | bland_chromatin &lt;int&gt; | normal_nucleoli &lt;int&gt; | mitoses &lt;int&gt; | diagnosis &lt;fct&gt; |\n",
       "|---|---|---|---|---|---|---|---|---|---|---|---|\n",
       "| 1 | 1000025 | 5 |  1 |  1 | 1 | 2 |  1 | 3 | 1 | 1 | 0 |\n",
       "| 2 | 1002945 | 5 |  4 |  4 | 5 | 7 | 10 | 3 | 2 | 1 | 0 |\n",
       "| 3 | 1015425 | 3 |  1 |  1 | 1 | 2 |  2 | 3 | 1 | 1 | 0 |\n",
       "| 4 | 1016277 | 6 |  8 |  8 | 1 | 3 |  4 | 3 | 7 | 1 | 0 |\n",
       "| 5 | 1017023 | 4 |  1 |  1 | 3 | 2 |  1 | 3 | 1 | 1 | 0 |\n",
       "| 6 | 1017122 | 8 | 10 | 10 | 8 | 7 | 10 | 9 | 7 | 1 | 1 |\n",
       "\n"
      ],
      "text/plain": [
       "  ID      clump_thickness uniformity_size uniformity_shape marginal_adhesion\n",
       "1 1000025 5                1               1               1                \n",
       "2 1002945 5                4               4               5                \n",
       "3 1015425 3                1               1               1                \n",
       "4 1016277 6                8               8               1                \n",
       "5 1017023 4                1               1               3                \n",
       "6 1017122 8               10              10               8                \n",
       "  single_epit.helial_cell_size bare_nuclei bland_chromatin normal_nucleoli\n",
       "1 2                             1          3               1              \n",
       "2 7                            10          3               2              \n",
       "3 2                             2          3               1              \n",
       "4 3                             4          3               7              \n",
       "5 2                             1          3               1              \n",
       "6 7                            10          9               7              \n",
       "  mitoses diagnosis\n",
       "1 1       0        \n",
       "2 1       0        \n",
       "3 1       0        \n",
       "4 1       0        \n",
       "5 1       0        \n",
       "6 1       1        "
      ]
     },
     "metadata": {},
     "output_type": "display_data"
    }
   ],
   "source": [
    "head(data)"
   ]
  },
  {
   "cell_type": "code",
   "execution_count": null,
   "id": "aa9c7f9e",
   "metadata": {
    "scrolled": true
   },
   "outputs": [],
   "source": []
  },
  {
   "cell_type": "code",
   "execution_count": 9,
   "id": "cd81dc20",
   "metadata": {},
   "outputs": [
    {
     "data": {
      "text/plain": [
       "\n",
       "  0   1 \n",
       "444 239 "
      ]
     },
     "metadata": {},
     "output_type": "display_data"
    }
   ],
   "source": [
    "data$diagnosis <- as.factor(data$diagnosis)\n",
    "table(data$diagnosis)"
   ]
  },
  {
   "cell_type": "code",
   "execution_count": 10,
   "id": "364a2fd1",
   "metadata": {},
   "outputs": [],
   "source": [
    "set.seed(222)\n",
    "ind <- sample(2, nrow(data), replace = TRUE, prob = c(0.7, 0.3))\n",
    "train <- data[ind==1,]\n",
    "test <- data[ind==2,]"
   ]
  },
  {
   "cell_type": "code",
   "execution_count": 11,
   "id": "0e131ce8",
   "metadata": {},
   "outputs": [
    {
     "data": {
      "text/html": [
       "<table class=\"dataframe\">\n",
       "<caption>A data.frame: 6 × 11</caption>\n",
       "<thead>\n",
       "\t<tr><th></th><th scope=col>ID</th><th scope=col>clump_thickness</th><th scope=col>uniformity_size</th><th scope=col>uniformity_shape</th><th scope=col>marginal_adhesion</th><th scope=col>single_epit.helial_cell_size</th><th scope=col>bare_nuclei</th><th scope=col>bland_chromatin</th><th scope=col>normal_nucleoli</th><th scope=col>mitoses</th><th scope=col>diagnosis</th></tr>\n",
       "\t<tr><th></th><th scope=col>&lt;int&gt;</th><th scope=col>&lt;int&gt;</th><th scope=col>&lt;int&gt;</th><th scope=col>&lt;int&gt;</th><th scope=col>&lt;int&gt;</th><th scope=col>&lt;int&gt;</th><th scope=col>&lt;int&gt;</th><th scope=col>&lt;int&gt;</th><th scope=col>&lt;int&gt;</th><th scope=col>&lt;int&gt;</th><th scope=col>&lt;fct&gt;</th></tr>\n",
       "</thead>\n",
       "<tbody>\n",
       "\t<tr><th scope=row>2</th><td>1002945</td><td>5</td><td>4</td><td>4</td><td>5</td><td>7</td><td>10</td><td>3</td><td>2</td><td>1</td><td>0</td></tr>\n",
       "\t<tr><th scope=row>3</th><td>1015425</td><td>3</td><td>1</td><td>1</td><td>1</td><td>2</td><td> 2</td><td>3</td><td>1</td><td>1</td><td>0</td></tr>\n",
       "\t<tr><th scope=row>4</th><td>1016277</td><td>6</td><td>8</td><td>8</td><td>1</td><td>3</td><td> 4</td><td>3</td><td>7</td><td>1</td><td>0</td></tr>\n",
       "\t<tr><th scope=row>7</th><td>1018099</td><td>1</td><td>1</td><td>1</td><td>1</td><td>2</td><td>10</td><td>3</td><td>1</td><td>1</td><td>0</td></tr>\n",
       "\t<tr><th scope=row>8</th><td>1018561</td><td>2</td><td>1</td><td>2</td><td>1</td><td>2</td><td> 1</td><td>3</td><td>1</td><td>1</td><td>0</td></tr>\n",
       "\t<tr><th scope=row>9</th><td>1033078</td><td>2</td><td>1</td><td>1</td><td>1</td><td>2</td><td> 1</td><td>1</td><td>1</td><td>5</td><td>0</td></tr>\n",
       "</tbody>\n",
       "</table>\n"
      ],
      "text/latex": [
       "A data.frame: 6 × 11\n",
       "\\begin{tabular}{r|lllllllllll}\n",
       "  & ID & clump\\_thickness & uniformity\\_size & uniformity\\_shape & marginal\\_adhesion & single\\_epit.helial\\_cell\\_size & bare\\_nuclei & bland\\_chromatin & normal\\_nucleoli & mitoses & diagnosis\\\\\n",
       "  & <int> & <int> & <int> & <int> & <int> & <int> & <int> & <int> & <int> & <int> & <fct>\\\\\n",
       "\\hline\n",
       "\t2 & 1002945 & 5 & 4 & 4 & 5 & 7 & 10 & 3 & 2 & 1 & 0\\\\\n",
       "\t3 & 1015425 & 3 & 1 & 1 & 1 & 2 &  2 & 3 & 1 & 1 & 0\\\\\n",
       "\t4 & 1016277 & 6 & 8 & 8 & 1 & 3 &  4 & 3 & 7 & 1 & 0\\\\\n",
       "\t7 & 1018099 & 1 & 1 & 1 & 1 & 2 & 10 & 3 & 1 & 1 & 0\\\\\n",
       "\t8 & 1018561 & 2 & 1 & 2 & 1 & 2 &  1 & 3 & 1 & 1 & 0\\\\\n",
       "\t9 & 1033078 & 2 & 1 & 1 & 1 & 2 &  1 & 1 & 1 & 5 & 0\\\\\n",
       "\\end{tabular}\n"
      ],
      "text/markdown": [
       "\n",
       "A data.frame: 6 × 11\n",
       "\n",
       "| <!--/--> | ID &lt;int&gt; | clump_thickness &lt;int&gt; | uniformity_size &lt;int&gt; | uniformity_shape &lt;int&gt; | marginal_adhesion &lt;int&gt; | single_epit.helial_cell_size &lt;int&gt; | bare_nuclei &lt;int&gt; | bland_chromatin &lt;int&gt; | normal_nucleoli &lt;int&gt; | mitoses &lt;int&gt; | diagnosis &lt;fct&gt; |\n",
       "|---|---|---|---|---|---|---|---|---|---|---|---|\n",
       "| 2 | 1002945 | 5 | 4 | 4 | 5 | 7 | 10 | 3 | 2 | 1 | 0 |\n",
       "| 3 | 1015425 | 3 | 1 | 1 | 1 | 2 |  2 | 3 | 1 | 1 | 0 |\n",
       "| 4 | 1016277 | 6 | 8 | 8 | 1 | 3 |  4 | 3 | 7 | 1 | 0 |\n",
       "| 7 | 1018099 | 1 | 1 | 1 | 1 | 2 | 10 | 3 | 1 | 1 | 0 |\n",
       "| 8 | 1018561 | 2 | 1 | 2 | 1 | 2 |  1 | 3 | 1 | 1 | 0 |\n",
       "| 9 | 1033078 | 2 | 1 | 1 | 1 | 2 |  1 | 1 | 1 | 5 | 0 |\n",
       "\n"
      ],
      "text/plain": [
       "  ID      clump_thickness uniformity_size uniformity_shape marginal_adhesion\n",
       "2 1002945 5               4               4                5                \n",
       "3 1015425 3               1               1                1                \n",
       "4 1016277 6               8               8                1                \n",
       "7 1018099 1               1               1                1                \n",
       "8 1018561 2               1               2                1                \n",
       "9 1033078 2               1               1                1                \n",
       "  single_epit.helial_cell_size bare_nuclei bland_chromatin normal_nucleoli\n",
       "2 7                            10          3               2              \n",
       "3 2                             2          3               1              \n",
       "4 3                             4          3               7              \n",
       "7 2                            10          3               1              \n",
       "8 2                             1          3               1              \n",
       "9 2                             1          1               1              \n",
       "  mitoses diagnosis\n",
       "2 1       0        \n",
       "3 1       0        \n",
       "4 1       0        \n",
       "7 1       0        \n",
       "8 1       0        \n",
       "9 5       0        "
      ]
     },
     "metadata": {},
     "output_type": "display_data"
    }
   ],
   "source": [
    "head(train)"
   ]
  },
  {
   "cell_type": "code",
   "execution_count": 12,
   "id": "11f3d3fd",
   "metadata": {},
   "outputs": [
    {
     "data": {
      "text/html": [
       "<table class=\"dataframe\">\n",
       "<caption>A data.frame: 6 × 11</caption>\n",
       "<thead>\n",
       "\t<tr><th></th><th scope=col>ID</th><th scope=col>clump_thickness</th><th scope=col>uniformity_size</th><th scope=col>uniformity_shape</th><th scope=col>marginal_adhesion</th><th scope=col>single_epit.helial_cell_size</th><th scope=col>bare_nuclei</th><th scope=col>bland_chromatin</th><th scope=col>normal_nucleoli</th><th scope=col>mitoses</th><th scope=col>diagnosis</th></tr>\n",
       "\t<tr><th></th><th scope=col>&lt;int&gt;</th><th scope=col>&lt;int&gt;</th><th scope=col>&lt;int&gt;</th><th scope=col>&lt;int&gt;</th><th scope=col>&lt;int&gt;</th><th scope=col>&lt;int&gt;</th><th scope=col>&lt;int&gt;</th><th scope=col>&lt;int&gt;</th><th scope=col>&lt;int&gt;</th><th scope=col>&lt;int&gt;</th><th scope=col>&lt;fct&gt;</th></tr>\n",
       "</thead>\n",
       "<tbody>\n",
       "\t<tr><th scope=row>1</th><td>1000025</td><td>5</td><td> 1</td><td> 1</td><td> 1</td><td>2</td><td> 1</td><td>3</td><td>1</td><td>1</td><td>0</td></tr>\n",
       "\t<tr><th scope=row>5</th><td>1017023</td><td>4</td><td> 1</td><td> 1</td><td> 3</td><td>2</td><td> 1</td><td>3</td><td>1</td><td>1</td><td>0</td></tr>\n",
       "\t<tr><th scope=row>6</th><td>1017122</td><td>8</td><td>10</td><td>10</td><td> 8</td><td>7</td><td>10</td><td>9</td><td>7</td><td>1</td><td>1</td></tr>\n",
       "\t<tr><th scope=row>14</th><td>1043999</td><td>1</td><td> 1</td><td> 1</td><td> 1</td><td>2</td><td> 3</td><td>3</td><td>1</td><td>1</td><td>0</td></tr>\n",
       "\t<tr><th scope=row>15</th><td>1044572</td><td>8</td><td> 7</td><td> 5</td><td>10</td><td>7</td><td> 9</td><td>5</td><td>5</td><td>4</td><td>1</td></tr>\n",
       "\t<tr><th scope=row>21</th><td>1054590</td><td>7</td><td> 3</td><td> 2</td><td>10</td><td>5</td><td>10</td><td>5</td><td>4</td><td>4</td><td>1</td></tr>\n",
       "</tbody>\n",
       "</table>\n"
      ],
      "text/latex": [
       "A data.frame: 6 × 11\n",
       "\\begin{tabular}{r|lllllllllll}\n",
       "  & ID & clump\\_thickness & uniformity\\_size & uniformity\\_shape & marginal\\_adhesion & single\\_epit.helial\\_cell\\_size & bare\\_nuclei & bland\\_chromatin & normal\\_nucleoli & mitoses & diagnosis\\\\\n",
       "  & <int> & <int> & <int> & <int> & <int> & <int> & <int> & <int> & <int> & <int> & <fct>\\\\\n",
       "\\hline\n",
       "\t1 & 1000025 & 5 &  1 &  1 &  1 & 2 &  1 & 3 & 1 & 1 & 0\\\\\n",
       "\t5 & 1017023 & 4 &  1 &  1 &  3 & 2 &  1 & 3 & 1 & 1 & 0\\\\\n",
       "\t6 & 1017122 & 8 & 10 & 10 &  8 & 7 & 10 & 9 & 7 & 1 & 1\\\\\n",
       "\t14 & 1043999 & 1 &  1 &  1 &  1 & 2 &  3 & 3 & 1 & 1 & 0\\\\\n",
       "\t15 & 1044572 & 8 &  7 &  5 & 10 & 7 &  9 & 5 & 5 & 4 & 1\\\\\n",
       "\t21 & 1054590 & 7 &  3 &  2 & 10 & 5 & 10 & 5 & 4 & 4 & 1\\\\\n",
       "\\end{tabular}\n"
      ],
      "text/markdown": [
       "\n",
       "A data.frame: 6 × 11\n",
       "\n",
       "| <!--/--> | ID &lt;int&gt; | clump_thickness &lt;int&gt; | uniformity_size &lt;int&gt; | uniformity_shape &lt;int&gt; | marginal_adhesion &lt;int&gt; | single_epit.helial_cell_size &lt;int&gt; | bare_nuclei &lt;int&gt; | bland_chromatin &lt;int&gt; | normal_nucleoli &lt;int&gt; | mitoses &lt;int&gt; | diagnosis &lt;fct&gt; |\n",
       "|---|---|---|---|---|---|---|---|---|---|---|---|\n",
       "| 1 | 1000025 | 5 |  1 |  1 |  1 | 2 |  1 | 3 | 1 | 1 | 0 |\n",
       "| 5 | 1017023 | 4 |  1 |  1 |  3 | 2 |  1 | 3 | 1 | 1 | 0 |\n",
       "| 6 | 1017122 | 8 | 10 | 10 |  8 | 7 | 10 | 9 | 7 | 1 | 1 |\n",
       "| 14 | 1043999 | 1 |  1 |  1 |  1 | 2 |  3 | 3 | 1 | 1 | 0 |\n",
       "| 15 | 1044572 | 8 |  7 |  5 | 10 | 7 |  9 | 5 | 5 | 4 | 1 |\n",
       "| 21 | 1054590 | 7 |  3 |  2 | 10 | 5 | 10 | 5 | 4 | 4 | 1 |\n",
       "\n"
      ],
      "text/plain": [
       "   ID      clump_thickness uniformity_size uniformity_shape marginal_adhesion\n",
       "1  1000025 5                1               1                1               \n",
       "5  1017023 4                1               1                3               \n",
       "6  1017122 8               10              10                8               \n",
       "14 1043999 1                1               1                1               \n",
       "15 1044572 8                7               5               10               \n",
       "21 1054590 7                3               2               10               \n",
       "   single_epit.helial_cell_size bare_nuclei bland_chromatin normal_nucleoli\n",
       "1  2                             1          3               1              \n",
       "5  2                             1          3               1              \n",
       "6  7                            10          9               7              \n",
       "14 2                             3          3               1              \n",
       "15 7                             9          5               5              \n",
       "21 5                            10          5               4              \n",
       "   mitoses diagnosis\n",
       "1  1       0        \n",
       "5  1       0        \n",
       "6  1       1        \n",
       "14 1       0        \n",
       "15 4       1        \n",
       "21 4       1        "
      ]
     },
     "metadata": {},
     "output_type": "display_data"
    }
   ],
   "source": [
    "head(test)"
   ]
  },
  {
   "cell_type": "code",
   "execution_count": 13,
   "id": "8847712e",
   "metadata": {
    "scrolled": true
   },
   "outputs": [
    {
     "name": "stdout",
     "output_type": "stream",
     "text": [
      "\n",
      "Call:\n",
      " randomForest(formula = diagnosis ~ ., data = train, proximity = TRUE) \n",
      "               Type of random forest: classification\n",
      "                     Number of trees: 500\n",
      "No. of variables tried at each split: 3\n",
      "\n",
      "        OOB estimate of  error rate: 2.89%\n",
      "Confusion matrix:\n",
      "    0   1 class.error\n",
      "0 311   8  0.02507837\n",
      "1   6 160  0.03614458\n"
     ]
    }
   ],
   "source": [
    "rf <- randomForest(diagnosis~., data=train, proximity=TRUE) \n",
    "print(rf)\n"
   ]
  },
  {
   "cell_type": "code",
   "execution_count": 14,
   "id": "3dff6326",
   "metadata": {
    "scrolled": true
   },
   "outputs": [
    {
     "data": {
      "text/plain": [
       "Confusion Matrix and Statistics\n",
       "\n",
       "          Reference\n",
       "Prediction   0   1\n",
       "         0 319   0\n",
       "         1   0 166\n",
       "                                     \n",
       "               Accuracy : 1          \n",
       "                 95% CI : (0.9924, 1)\n",
       "    No Information Rate : 0.6577     \n",
       "    P-Value [Acc > NIR] : < 2.2e-16  \n",
       "                                     \n",
       "                  Kappa : 1          \n",
       "                                     \n",
       " Mcnemar's Test P-Value : NA         \n",
       "                                     \n",
       "            Sensitivity : 1.0000     \n",
       "            Specificity : 1.0000     \n",
       "         Pos Pred Value : 1.0000     \n",
       "         Neg Pred Value : 1.0000     \n",
       "             Prevalence : 0.6577     \n",
       "         Detection Rate : 0.6577     \n",
       "   Detection Prevalence : 0.6577     \n",
       "      Balanced Accuracy : 1.0000     \n",
       "                                     \n",
       "       'Positive' Class : 0          \n",
       "                                     "
      ]
     },
     "metadata": {},
     "output_type": "display_data"
    }
   ],
   "source": [
    "p1 <- predict(rf, train)\n",
    "confusionMatrix(p1, train$ diagnosis)"
   ]
  },
  {
   "cell_type": "code",
   "execution_count": 15,
   "id": "ae2ce730",
   "metadata": {},
   "outputs": [
    {
     "data": {
      "text/plain": [
       "Confusion Matrix and Statistics\n",
       "\n",
       "          Reference\n",
       "Prediction   0   1\n",
       "         0 121   2\n",
       "         1   4  71\n",
       "                                          \n",
       "               Accuracy : 0.9697          \n",
       "                 95% CI : (0.9352, 0.9888)\n",
       "    No Information Rate : 0.6313          \n",
       "    P-Value [Acc > NIR] : <2e-16          \n",
       "                                          \n",
       "                  Kappa : 0.9353          \n",
       "                                          \n",
       " Mcnemar's Test P-Value : 0.6831          \n",
       "                                          \n",
       "            Sensitivity : 0.9680          \n",
       "            Specificity : 0.9726          \n",
       "         Pos Pred Value : 0.9837          \n",
       "         Neg Pred Value : 0.9467          \n",
       "             Prevalence : 0.6313          \n",
       "         Detection Rate : 0.6111          \n",
       "   Detection Prevalence : 0.6212          \n",
       "      Balanced Accuracy : 0.9703          \n",
       "                                          \n",
       "       'Positive' Class : 0               \n",
       "                                          "
      ]
     },
     "metadata": {},
     "output_type": "display_data"
    }
   ],
   "source": [
    "p2 <- predict(rf, test)\n",
    "confusionMatrix(p2, test$diagnosis)"
   ]
  },
  {
   "cell_type": "code",
   "execution_count": 16,
   "id": "f5e760ab",
   "metadata": {},
   "outputs": [
    {
     "data": {
      "image/png": "[encoded data removed]",
      "text/plain": [
       "Plot with title \"rf\""
      ]
     },
     "metadata": {
      "image/png": {
       "height": 420,
       "width": 420
      }
     },
     "output_type": "display_data"
    }
   ],
   "source": [
    "plot(rf)"
   ]
  },
  {
   "cell_type": "code",
   "execution_count": 17,
   "id": "2bb44803",
   "metadata": {
    "scrolled": true
   },
   "outputs": [
    {
     "name": "stdout",
     "output_type": "stream",
     "text": [
      "mtry = 3  OOB error = 3.354967 \n",
      "Searching left ...\n",
      "mtry = 6 \tOOB error = 3.251899 \n",
      "0.03072082 0.05 \n",
      "Searching right ...\n",
      "mtry = 1 \tOOB error = 3.391553 \n",
      "-0.01090499 0.05 \n"
     ]
    },
    {
     "data": {
      "image/png": "[encoded data removed]",
      "text/plain": [
       "plot without title"
      ]
     },
     "metadata": {
      "image/png": {
       "height": 420,
       "width": 420
      }
     },
     "output_type": "display_data"
    }
   ],
   "source": [
    "t <- tuneRF(train[,-5], train[,5],\n",
    "       stepFactor = 0.5,\n",
    "       plot = TRUE,\n",
    "       ntreeTry = 150,\n",
    "       trace = TRUE,\n",
    "       improve = 0.05\n",
    "           )"
   ]
  },
  {
   "cell_type": "code",
   "execution_count": 18,
   "id": "fbe70b07",
   "metadata": {},
   "outputs": [
    {
     "data": {
      "image/png": "[encoded data removed]",
      "text/plain": [
       "Plot with title \"No. of Nodes for the Trees\""
      ]
     },
     "metadata": {
      "image/png": {
       "height": 420,
       "width": 420
      }
     },
     "output_type": "display_data"
    },
    {
     "data": {
      "image/png": "[encoded data removed]",
      "text/plain": [
       "Plot with title \"Top 10 - Variable Importance\""
      ]
     },
     "metadata": {
      "image/png": {
       "height": 420,
       "width": 420
      }
     },
     "output_type": "display_data"
    }
   ],
   "source": [
    "hist(treesize(rf),\n",
    "     main = \"No. of Nodes for the Trees\",\n",
    "     col = \"green\")\n",
    "\n",
    "varImpPlot(rf,\n",
    "           sort = T,\n",
    "           n.var = 10,\n",
    "           main = \"Top 10 - Variable Importance\")\n"
   ]
  },
  {
   "cell_type": "code",
   "execution_count": 19,
   "id": "5b9078d8",
   "metadata": {},
   "outputs": [
    {
     "data": {
      "text/html": [
       "<table class=\"dataframe\">\n",
       "<caption>A matrix: 10 × 1 of type dbl</caption>\n",
       "<thead>\n",
       "\t<tr><th></th><th scope=col>MeanDecreaseGini</th></tr>\n",
       "</thead>\n",
       "<tbody>\n",
       "\t<tr><th scope=row>ID</th><td> 3.226504</td></tr>\n",
       "\t<tr><th scope=row>clump_thickness</th><td>11.164713</td></tr>\n",
       "\t<tr><th scope=row>uniformity_size</th><td>54.975724</td></tr>\n",
       "\t<tr><th scope=row>uniformity_shape</th><td>49.483330</td></tr>\n",
       "\t<tr><th scope=row>marginal_adhesion</th><td> 4.608598</td></tr>\n",
       "\t<tr><th scope=row>single_epit.helial_cell_size</th><td>18.944837</td></tr>\n",
       "\t<tr><th scope=row>bare_nuclei</th><td>33.628732</td></tr>\n",
       "\t<tr><th scope=row>bland_chromatin</th><td>21.488753</td></tr>\n",
       "\t<tr><th scope=row>normal_nucleoli</th><td>18.774732</td></tr>\n",
       "\t<tr><th scope=row>mitoses</th><td> 1.366920</td></tr>\n",
       "</tbody>\n",
       "</table>\n"
      ],
      "text/latex": [
       "A matrix: 10 × 1 of type dbl\n",
       "\\begin{tabular}{r|l}\n",
       "  & MeanDecreaseGini\\\\\n",
       "\\hline\n",
       "\tID &  3.226504\\\\\n",
       "\tclump\\_thickness & 11.164713\\\\\n",
       "\tuniformity\\_size & 54.975724\\\\\n",
       "\tuniformity\\_shape & 49.483330\\\\\n",
       "\tmarginal\\_adhesion &  4.608598\\\\\n",
       "\tsingle\\_epit.helial\\_cell\\_size & 18.944837\\\\\n",
       "\tbare\\_nuclei & 33.628732\\\\\n",
       "\tbland\\_chromatin & 21.488753\\\\\n",
       "\tnormal\\_nucleoli & 18.774732\\\\\n",
       "\tmitoses &  1.366920\\\\\n",
       "\\end{tabular}\n"
      ],
      "text/markdown": [
       "\n",
       "A matrix: 10 × 1 of type dbl\n",
       "\n",
       "| <!--/--> | MeanDecreaseGini |\n",
       "|---|---|\n",
       "| ID |  3.226504 |\n",
       "| clump_thickness | 11.164713 |\n",
       "| uniformity_size | 54.975724 |\n",
       "| uniformity_shape | 49.483330 |\n",
       "| marginal_adhesion |  4.608598 |\n",
       "| single_epit.helial_cell_size | 18.944837 |\n",
       "| bare_nuclei | 33.628732 |\n",
       "| bland_chromatin | 21.488753 |\n",
       "| normal_nucleoli | 18.774732 |\n",
       "| mitoses |  1.366920 |\n",
       "\n"
      ],
      "text/plain": [
       "                             MeanDecreaseGini\n",
       "ID                            3.226504       \n",
       "clump_thickness              11.164713       \n",
       "uniformity_size              54.975724       \n",
       "uniformity_shape             49.483330       \n",
       "marginal_adhesion             4.608598       \n",
       "single_epit.helial_cell_size 18.944837       \n",
       "bare_nuclei                  33.628732       \n",
       "bland_chromatin              21.488753       \n",
       "normal_nucleoli              18.774732       \n",
       "mitoses                       1.366920       "
      ]
     },
     "metadata": {},
     "output_type": "display_data"
    }
   ],
   "source": [
    "importance(rf)\n"
   ]
  },
  {
   "cell_type": "code",
   "execution_count": null,
   "id": "00559dad",
   "metadata": {},
   "outputs": [],
   "source": []
  },
  {
   "cell_type": "code",
   "execution_count": 20,
   "id": "468d9501",
   "metadata": {},
   "outputs": [
    {
     "data": {
      "text/plain": [
       "\n",
       "Call:\n",
       " randomForest(formula = diagnosis ~ ., data = train, mtry = 3,      importance = TRUE) \n",
       "               Type of random forest: classification\n",
       "                     Number of trees: 500\n",
       "No. of variables tried at each split: 3\n",
       "\n",
       "        OOB estimate of  error rate: 2.47%\n",
       "Confusion matrix:\n",
       "    0   1 class.error\n",
       "0 311   8  0.02507837\n",
       "1   4 162  0.02409639"
      ]
     },
     "metadata": {},
     "output_type": "display_data"
    },
    {
     "data": {
      "text/plain": [
       "Confusion Matrix and Statistics\n",
       "\n",
       "          Reference\n",
       "Prediction   0   1\n",
       "         0 121   2\n",
       "         1   4  71\n",
       "                                          \n",
       "               Accuracy : 0.9697          \n",
       "                 95% CI : (0.9352, 0.9888)\n",
       "    No Information Rate : 0.6313          \n",
       "    P-Value [Acc > NIR] : <2e-16          \n",
       "                                          \n",
       "                  Kappa : 0.9353          \n",
       "                                          \n",
       " Mcnemar's Test P-Value : 0.6831          \n",
       "                                          \n",
       "            Sensitivity : 0.9680          \n",
       "            Specificity : 0.9726          \n",
       "         Pos Pred Value : 0.9837          \n",
       "         Neg Pred Value : 0.9467          \n",
       "             Prevalence : 0.6313          \n",
       "         Detection Rate : 0.6111          \n",
       "   Detection Prevalence : 0.6212          \n",
       "      Balanced Accuracy : 0.9703          \n",
       "                                          \n",
       "       'Positive' Class : 0               \n",
       "                                          "
      ]
     },
     "metadata": {},
     "output_type": "display_data"
    }
   ],
   "source": [
    "set.seed (3011)\n",
    "rf2 <- randomForest (diagnosis ~., data= train , mtry =3, importance = TRUE)\n",
    "rf2\n",
    "p2.2 <- predict(rf2, test)\n",
    "confusionMatrix(p2.2, test$diagnosis)"
   ]
  },
  {
   "cell_type": "code",
   "execution_count": 21,
   "id": "a7d89342",
   "metadata": {},
   "outputs": [
    {
     "data": {
      "text/html": [
       "198"
      ],
      "text/latex": [
       "198"
      ],
      "text/markdown": [
       "198"
      ],
      "text/plain": [
       "[1] 198"
      ]
     },
     "metadata": {},
     "output_type": "display_data"
    },
    {
     "data": {
      "text/html": [
       "198"
      ],
      "text/latex": [
       "198"
      ],
      "text/markdown": [
       "198"
      ],
      "text/plain": [
       "[1] 198"
      ]
     },
     "metadata": {},
     "output_type": "display_data"
    },
    {
     "data": {
      "text/html": [
       "-0.727272727272727"
      ],
      "text/latex": [
       "-0.727272727272727"
      ],
      "text/markdown": [
       "-0.727272727272727"
      ],
      "text/plain": [
       "[1] -0.7272727"
      ]
     },
     "metadata": {},
     "output_type": "display_data"
    },
    {
     "data": {
      "image/png": "[encoded data removed]",
      "text/plain": [
       "Plot with title \"\""
      ]
     },
     "metadata": {
      "image/png": {
       "height": 420,
       "width": 420
      }
     },
     "output_type": "display_data"
    }
   ],
   "source": [
    "length(p2.2)\n",
    "length(test$diagnosis)\n",
    "plot(p2.2,test$diagnosis)\n",
    "abline (0, 1)\n",
    "mean((as.numeric(p2.2) - as.numeric(test$diagnosis)^2))"
   ]
  },
  {
   "cell_type": "code",
   "execution_count": 22,
   "id": "78050495",
   "metadata": {},
   "outputs": [
    {
     "data": {
      "text/html": [
       "<table class=\"dataframe\">\n",
       "<caption>A matrix: 10 × 4 of type dbl</caption>\n",
       "<thead>\n",
       "\t<tr><th></th><th scope=col>0</th><th scope=col>1</th><th scope=col>MeanDecreaseAccuracy</th><th scope=col>MeanDecreaseGini</th></tr>\n",
       "</thead>\n",
       "<tbody>\n",
       "\t<tr><th scope=row>ID</th><td>-0.9091007</td><td> 4.8553753</td><td> 3.649797</td><td> 3.165677</td></tr>\n",
       "\t<tr><th scope=row>clump_thickness</th><td>14.7804173</td><td>15.0598971</td><td>18.188104</td><td>11.260549</td></tr>\n",
       "\t<tr><th scope=row>uniformity_size</th><td>16.3343832</td><td>15.6898281</td><td>21.487079</td><td>56.359222</td></tr>\n",
       "\t<tr><th scope=row>uniformity_shape</th><td>10.4318610</td><td>18.9568408</td><td>21.077244</td><td>48.634140</td></tr>\n",
       "\t<tr><th scope=row>marginal_adhesion</th><td> 6.4844948</td><td> 9.8761065</td><td>11.368058</td><td> 5.999196</td></tr>\n",
       "\t<tr><th scope=row>single_epit.helial_cell_size</th><td> 8.7736786</td><td> 9.6134520</td><td>12.017751</td><td>17.950862</td></tr>\n",
       "\t<tr><th scope=row>bare_nuclei</th><td>13.6400267</td><td>22.3027777</td><td>22.318978</td><td>30.841963</td></tr>\n",
       "\t<tr><th scope=row>bland_chromatin</th><td> 8.0181353</td><td>15.1780515</td><td>15.829043</td><td>24.797320</td></tr>\n",
       "\t<tr><th scope=row>normal_nucleoli</th><td>10.9755782</td><td> 9.5717837</td><td>13.523147</td><td>17.840535</td></tr>\n",
       "\t<tr><th scope=row>mitoses</th><td> 5.4420240</td><td>-0.8384047</td><td> 4.465228</td><td> 1.152264</td></tr>\n",
       "</tbody>\n",
       "</table>\n"
      ],
      "text/latex": [
       "A matrix: 10 × 4 of type dbl\n",
       "\\begin{tabular}{r|llll}\n",
       "  & 0 & 1 & MeanDecreaseAccuracy & MeanDecreaseGini\\\\\n",
       "\\hline\n",
       "\tID & -0.9091007 &  4.8553753 &  3.649797 &  3.165677\\\\\n",
       "\tclump\\_thickness & 14.7804173 & 15.0598971 & 18.188104 & 11.260549\\\\\n",
       "\tuniformity\\_size & 16.3343832 & 15.6898281 & 21.487079 & 56.359222\\\\\n",
       "\tuniformity\\_shape & 10.4318610 & 18.9568408 & 21.077244 & 48.634140\\\\\n",
       "\tmarginal\\_adhesion &  6.4844948 &  9.8761065 & 11.368058 &  5.999196\\\\\n",
       "\tsingle\\_epit.helial\\_cell\\_size &  8.7736786 &  9.6134520 & 12.017751 & 17.950862\\\\\n",
       "\tbare\\_nuclei & 13.6400267 & 22.3027777 & 22.318978 & 30.841963\\\\\n",
       "\tbland\\_chromatin &  8.0181353 & 15.1780515 & 15.829043 & 24.797320\\\\\n",
       "\tnormal\\_nucleoli & 10.9755782 &  9.5717837 & 13.523147 & 17.840535\\\\\n",
       "\tmitoses &  5.4420240 & -0.8384047 &  4.465228 &  1.152264\\\\\n",
       "\\end{tabular}\n"
      ],
      "text/markdown": [
       "\n",
       "A matrix: 10 × 4 of type dbl\n",
       "\n",
       "| <!--/--> | 0 | 1 | MeanDecreaseAccuracy | MeanDecreaseGini |\n",
       "|---|---|---|---|---|\n",
       "| ID | -0.9091007 |  4.8553753 |  3.649797 |  3.165677 |\n",
       "| clump_thickness | 14.7804173 | 15.0598971 | 18.188104 | 11.260549 |\n",
       "| uniformity_size | 16.3343832 | 15.6898281 | 21.487079 | 56.359222 |\n",
       "| uniformity_shape | 10.4318610 | 18.9568408 | 21.077244 | 48.634140 |\n",
       "| marginal_adhesion |  6.4844948 |  9.8761065 | 11.368058 |  5.999196 |\n",
       "| single_epit.helial_cell_size |  8.7736786 |  9.6134520 | 12.017751 | 17.950862 |\n",
       "| bare_nuclei | 13.6400267 | 22.3027777 | 22.318978 | 30.841963 |\n",
       "| bland_chromatin |  8.0181353 | 15.1780515 | 15.829043 | 24.797320 |\n",
       "| normal_nucleoli | 10.9755782 |  9.5717837 | 13.523147 | 17.840535 |\n",
       "| mitoses |  5.4420240 | -0.8384047 |  4.465228 |  1.152264 |\n",
       "\n"
      ],
      "text/plain": [
       "                             0          1          MeanDecreaseAccuracy\n",
       "ID                           -0.9091007  4.8553753  3.649797           \n",
       "clump_thickness              14.7804173 15.0598971 18.188104           \n",
       "uniformity_size              16.3343832 15.6898281 21.487079           \n",
       "uniformity_shape             10.4318610 18.9568408 21.077244           \n",
       "marginal_adhesion             6.4844948  9.8761065 11.368058           \n",
       "single_epit.helial_cell_size  8.7736786  9.6134520 12.017751           \n",
       "bare_nuclei                  13.6400267 22.3027777 22.318978           \n",
       "bland_chromatin               8.0181353 15.1780515 15.829043           \n",
       "normal_nucleoli              10.9755782  9.5717837 13.523147           \n",
       "mitoses                       5.4420240 -0.8384047  4.465228           \n",
       "                             MeanDecreaseGini\n",
       "ID                            3.165677       \n",
       "clump_thickness              11.260549       \n",
       "uniformity_size              56.359222       \n",
       "uniformity_shape             48.634140       \n",
       "marginal_adhesion             5.999196       \n",
       "single_epit.helial_cell_size 17.950862       \n",
       "bare_nuclei                  30.841963       \n",
       "bland_chromatin              24.797320       \n",
       "normal_nucleoli              17.840535       \n",
       "mitoses                       1.152264       "
      ]
     },
     "metadata": {},
     "output_type": "display_data"
    }
   ],
   "source": [
    "importance(rf2)"
   ]
  },
  {
   "cell_type": "code",
   "execution_count": 23,
   "id": "ed981e1e",
   "metadata": {},
   "outputs": [
    {
     "name": "stderr",
     "output_type": "stream",
     "text": [
      "Setting levels: control = 0, case = 1\n",
      "\n",
      "Setting direction: controls < cases\n",
      "\n"
     ]
    },
    {
     "data": {
      "image/png": "[encoded data removed]",
      "text/plain": [
       "plot without title"
      ]
     },
     "metadata": {
      "image/png": {
       "height": 420,
       "width": 420
      }
     },
     "output_type": "display_data"
    }
   ],
   "source": [
    "AUCtest <- roc(test$diagnosis, as.numeric(p2.2), percent = TRUE, plot = TRUE, print.auc = TRUE)"
   ]
  },
  {
   "cell_type": "code",
   "execution_count": 24,
   "id": "0e029916",
   "metadata": {},
   "outputs": [
    {
     "data": {
      "text/html": [
       "0.97"
      ],
      "text/latex": [
       "0.97"
      ],
      "text/markdown": [
       "0.97"
      ],
      "text/plain": [
       "[1] 0.97"
      ]
     },
     "metadata": {},
     "output_type": "display_data"
    }
   ],
   "source": [
    "\n",
    "round(Accuracy(y_true = test$diagnosis, y_pred = p2.2),3)\n"
   ]
  },
  {
   "cell_type": "code",
   "execution_count": 26,
   "id": "166115ff",
   "metadata": {},
   "outputs": [
    {
     "data": {
      "text/html": [
       "'integer'"
      ],
      "text/latex": [
       "'integer'"
      ],
      "text/markdown": [
       "'integer'"
      ],
      "text/plain": [
       "[1] \"integer\""
      ]
     },
     "metadata": {},
     "output_type": "display_data"
    },
    {
     "data": {
      "text/html": [
       "'integer'"
      ],
      "text/latex": [
       "'integer'"
      ],
      "text/markdown": [
       "'integer'"
      ],
      "text/plain": [
       "[1] \"integer\""
      ]
     },
     "metadata": {},
     "output_type": "display_data"
    }
   ],
   "source": [
    "typeof(test$diagnosis)\n",
    "typeof(train$diagnosis)\n",
    "\n",
    "v<-rfcv(data[,-11],data[,11], cv.fold=10, scale='log', step=.5)\n",
    "#, scale=\"log\", step=1,\n",
    "#mtry=function(p) max(1, floor(sqrt(p))), recursive=TRUE)\n"
   ]
  },
  {
   "cell_type": "code",
   "execution_count": 27,
   "id": "10653e08",
   "metadata": {},
   "outputs": [
    {
     "data": {
      "text/html": [
       "<style>\n",
       ".list-inline {list-style: none; margin:0; padding: 0}\n",
       ".list-inline>li {display: inline-block}\n",
       ".list-inline>li:not(:last-child)::after {content: \"\\00b7\"; padding: 0 .5ex}\n",
       "</style>\n",
       "<ol class=list-inline><li>0</li><li>1</li><li>0</li><li>1</li><li>0</li><li>1</li><li>0</li><li>0</li><li>0</li><li>0</li><li>0</li><li>0</li><li>0</li><li>0</li><li>1</li><li>1</li><li>0</li><li>0</li><li>1</li><li>0</li><li>1</li><li>1</li><li>0</li><li>0</li><li>1</li><li>0</li><li>0</li><li>0</li><li>0</li><li>0</li><li>0</li><li>1</li><li>0</li><li>0</li><li>0</li><li>1</li><li>0</li><li>1</li><li>1</li><li>1</li><li>1</li><li>1</li><li>1</li><li>0</li><li>1</li><li>0</li><li>0</li><li>1</li><li>1</li><li>1</li><li>1</li><li>1</li><li>1</li><li>1</li><li>1</li><li>1</li><li>1</li><li>1</li><li>1</li><li>0</li><li>1</li><li>0</li><li>0</li><li>1</li><li>0</li><li>1</li><li>1</li><li>0</li><li>0</li><li>1</li><li>0</li><li>1</li><li>1</li><li>0</li><li>0</li><li>0</li><li>0</li><li>0</li><li>0</li><li>0</li><li>0</li><li>0</li><li>1</li><li>1</li><li>1</li><li>1</li><li>0</li><li>0</li><li>0</li><li>0</li><li>0</li><li>0</li><li>0</li><li>0</li><li>0</li><li>0</li><li>1</li><li>1</li><li>1</li><li>1</li><li>0</li><li>1</li><li>1</li><li>1</li><li>1</li><li>1</li><li>0</li><li>1</li><li>0</li><li>1</li><li>1</li><li>1</li><li>0</li><li>0</li><li>0</li><li>1</li><li>0</li><li>0</li><li>0</li><li>0</li><li>1</li><li>1</li><li>1</li><li>0</li><li>1</li><li>0</li><li>1</li><li>0</li><li>0</li><li>0</li><li>1</li><li>0</li><li>0</li><li>0</li><li>0</li><li>0</li><li>0</li><li>0</li><li>0</li><li>1</li><li>0</li><li>0</li><li>1</li><li>0</li><li>0</li><li>1</li><li>0</li><li>1</li><li>1</li><li>0</li><li>0</li><li>1</li><li>0</li><li>0</li><li>1</li><li>1</li><li>0</li><li>0</li><li>0</li><li>0</li><li>1</li><li>1</li><li>0</li><li>0</li><li>0</li><li>0</li><li>0</li><li>1</li><li>1</li><li>1</li><li>0</li><li>1</li><li>0</li><li>1</li><li>0</li><li>0</li><li>0</li><li>1</li><li>1</li><li>0</li><li>1</li><li>1</li><li>1</li><li>0</li><li>1</li><li>1</li><li>0</li><li>0</li><li>0</li><li>0</li><li>1</li><li>0</li><li>0</li><li>0</li><li>1</li><li>1</li><li>0</li><li>0</li><li>0</li><li>1</li><li>⋯</li><li>0</li><li>0</li><li>0</li><li>0</li><li>0</li><li>0</li><li>0</li><li>0</li><li>1</li><li>0</li><li>0</li><li>0</li><li>0</li><li>0</li><li>0</li><li>0</li><li>1</li><li>1</li><li>0</li><li>0</li><li>0</li><li>1</li><li>0</li><li>0</li><li>1</li><li>1</li><li>0</li><li>0</li><li>0</li><li>0</li><li>0</li><li>0</li><li>1</li><li>0</li><li>0</li><li>0</li><li>0</li><li>0</li><li>0</li><li>0</li><li>0</li><li>0</li><li>0</li><li>0</li><li>0</li><li>0</li><li>0</li><li>0</li><li>1</li><li>0</li><li>0</li><li>1</li><li>0</li><li>0</li><li>0</li><li>0</li><li>0</li><li>0</li><li>0</li><li>0</li><li>0</li><li>0</li><li>0</li><li>0</li><li>0</li><li>0</li><li>0</li><li>1</li><li>0</li><li>0</li><li>1</li><li>1</li><li>1</li><li>1</li><li>0</li><li>0</li><li>1</li><li>0</li><li>0</li><li>0</li><li>0</li><li>0</li><li>0</li><li>1</li><li>1</li><li>0</li><li>0</li><li>0</li><li>1</li><li>0</li><li>1</li><li>0</li><li>1</li><li>1</li><li>1</li><li>0</li><li>1</li><li>0</li><li>0</li><li>0</li><li>0</li><li>0</li><li>0</li><li>0</li><li>0</li><li>1</li><li>1</li><li>1</li><li>0</li><li>0</li><li>1</li><li>0</li><li>1</li><li>1</li><li>1</li><li>0</li><li>0</li><li>0</li><li>0</li><li>0</li><li>0</li><li>0</li><li>1</li><li>0</li><li>0</li><li>0</li><li>0</li><li>1</li><li>0</li><li>0</li><li>0</li><li>0</li><li>0</li><li>0</li><li>1</li><li>0</li><li>0</li><li>1</li><li>0</li><li>0</li><li>0</li><li>0</li><li>0</li><li>0</li><li>0</li><li>0</li><li>0</li><li>0</li><li>0</li><li>1</li><li>0</li><li>0</li><li>0</li><li>0</li><li>0</li><li>0</li><li>0</li><li>0</li><li>1</li><li>1</li><li>0</li><li>0</li><li>0</li><li>0</li><li>0</li><li>0</li><li>0</li><li>0</li><li>0</li><li>1</li><li>1</li><li>1</li><li>0</li><li>0</li><li>0</li><li>0</li><li>0</li><li>0</li><li>0</li><li>0</li><li>0</li><li>1</li><li>1</li><li>0</li><li>0</li><li>0</li><li>0</li><li>0</li><li>0</li><li>0</li><li>0</li><li>0</li><li>1</li><li>0</li><li>0</li><li>0</li><li>0</li><li>1</li><li>1</li><li>1</li></ol>\n",
       "\n",
       "<details>\n",
       "\t<summary style=display:list-item;cursor:pointer>\n",
       "\t\t<strong>Levels</strong>:\n",
       "\t</summary>\n",
       "\t<style>\n",
       "\t.list-inline {list-style: none; margin:0; padding: 0}\n",
       "\t.list-inline>li {display: inline-block}\n",
       "\t.list-inline>li:not(:last-child)::after {content: \"\\00b7\"; padding: 0 .5ex}\n",
       "\t</style>\n",
       "\t<ol class=list-inline><li>'0'</li><li>'1'</li></ol>\n",
       "</details>"
      ],
      "text/latex": [
       "\\begin{enumerate*}\n",
       "\\item 0\n",
       "\\item 1\n",
       "\\item 0\n",
       "\\item 1\n",
       "\\item 0\n",
       "\\item 1\n",
       "\\item 0\n",
       "\\item 0\n",
       "\\item 0\n",
       "\\item 0\n",
       "\\item 0\n",
       "\\item 0\n",
       "\\item 0\n",
       "\\item 0\n",
       "\\item 1\n",
       "\\item 1\n",
       "\\item 0\n",
       "\\item 0\n",
       "\\item 1\n",
       "\\item 0\n",
       "\\item 1\n",
       "\\item 1\n",
       "\\item 0\n",
       "\\item 0\n",
       "\\item 1\n",
       "\\item 0\n",
       "\\item 0\n",
       "\\item 0\n",
       "\\item 0\n",
       "\\item 0\n",
       "\\item 0\n",
       "\\item 1\n",
       "\\item 0\n",
       "\\item 0\n",
       "\\item 0\n",
       "\\item 1\n",
       "\\item 0\n",
       "\\item 1\n",
       "\\item 1\n",
       "\\item 1\n",
       "\\item 1\n",
       "\\item 1\n",
       "\\item 1\n",
       "\\item 0\n",
       "\\item 1\n",
       "\\item 0\n",
       "\\item 0\n",
       "\\item 1\n",
       "\\item 1\n",
       "\\item 1\n",
       "\\item 1\n",
       "\\item 1\n",
       "\\item 1\n",
       "\\item 1\n",
       "\\item 1\n",
       "\\item 1\n",
       "\\item 1\n",
       "\\item 1\n",
       "\\item 1\n",
       "\\item 0\n",
       "\\item 1\n",
       "\\item 0\n",
       "\\item 0\n",
       "\\item 1\n",
       "\\item 0\n",
       "\\item 1\n",
       "\\item 1\n",
       "\\item 0\n",
       "\\item 0\n",
       "\\item 1\n",
       "\\item 0\n",
       "\\item 1\n",
       "\\item 1\n",
       "\\item 0\n",
       "\\item 0\n",
       "\\item 0\n",
       "\\item 0\n",
       "\\item 0\n",
       "\\item 0\n",
       "\\item 0\n",
       "\\item 0\n",
       "\\item 0\n",
       "\\item 1\n",
       "\\item 1\n",
       "\\item 1\n",
       "\\item 1\n",
       "\\item 0\n",
       "\\item 0\n",
       "\\item 0\n",
       "\\item 0\n",
       "\\item 0\n",
       "\\item 0\n",
       "\\item 0\n",
       "\\item 0\n",
       "\\item 0\n",
       "\\item 0\n",
       "\\item 1\n",
       "\\item 1\n",
       "\\item 1\n",
       "\\item 1\n",
       "\\item 0\n",
       "\\item 1\n",
       "\\item 1\n",
       "\\item 1\n",
       "\\item 1\n",
       "\\item 1\n",
       "\\item 0\n",
       "\\item 1\n",
       "\\item 0\n",
       "\\item 1\n",
       "\\item 1\n",
       "\\item 1\n",
       "\\item 0\n",
       "\\item 0\n",
       "\\item 0\n",
       "\\item 1\n",
       "\\item 0\n",
       "\\item 0\n",
       "\\item 0\n",
       "\\item 0\n",
       "\\item 1\n",
       "\\item 1\n",
       "\\item 1\n",
       "\\item 0\n",
       "\\item 1\n",
       "\\item 0\n",
       "\\item 1\n",
       "\\item 0\n",
       "\\item 0\n",
       "\\item 0\n",
       "\\item 1\n",
       "\\item 0\n",
       "\\item 0\n",
       "\\item 0\n",
       "\\item 0\n",
       "\\item 0\n",
       "\\item 0\n",
       "\\item 0\n",
       "\\item 0\n",
       "\\item 1\n",
       "\\item 0\n",
       "\\item 0\n",
       "\\item 1\n",
       "\\item 0\n",
       "\\item 0\n",
       "\\item 1\n",
       "\\item 0\n",
       "\\item 1\n",
       "\\item 1\n",
       "\\item 0\n",
       "\\item 0\n",
       "\\item 1\n",
       "\\item 0\n",
       "\\item 0\n",
       "\\item 1\n",
       "\\item 1\n",
       "\\item 0\n",
       "\\item 0\n",
       "\\item 0\n",
       "\\item 0\n",
       "\\item 1\n",
       "\\item 1\n",
       "\\item 0\n",
       "\\item 0\n",
       "\\item 0\n",
       "\\item 0\n",
       "\\item 0\n",
       "\\item 1\n",
       "\\item 1\n",
       "\\item 1\n",
       "\\item 0\n",
       "\\item 1\n",
       "\\item 0\n",
       "\\item 1\n",
       "\\item 0\n",
       "\\item 0\n",
       "\\item 0\n",
       "\\item 1\n",
       "\\item 1\n",
       "\\item 0\n",
       "\\item 1\n",
       "\\item 1\n",
       "\\item 1\n",
       "\\item 0\n",
       "\\item 1\n",
       "\\item 1\n",
       "\\item 0\n",
       "\\item 0\n",
       "\\item 0\n",
       "\\item 0\n",
       "\\item 1\n",
       "\\item 0\n",
       "\\item 0\n",
       "\\item 0\n",
       "\\item 1\n",
       "\\item 1\n",
       "\\item 0\n",
       "\\item 0\n",
       "\\item 0\n",
       "\\item 1\n",
       "\\item ⋯\n",
       "\\item 0\n",
       "\\item 0\n",
       "\\item 0\n",
       "\\item 0\n",
       "\\item 0\n",
       "\\item 0\n",
       "\\item 0\n",
       "\\item 0\n",
       "\\item 1\n",
       "\\item 0\n",
       "\\item 0\n",
       "\\item 0\n",
       "\\item 0\n",
       "\\item 0\n",
       "\\item 0\n",
       "\\item 0\n",
       "\\item 1\n",
       "\\item 1\n",
       "\\item 0\n",
       "\\item 0\n",
       "\\item 0\n",
       "\\item 1\n",
       "\\item 0\n",
       "\\item 0\n",
       "\\item 1\n",
       "\\item 1\n",
       "\\item 0\n",
       "\\item 0\n",
       "\\item 0\n",
       "\\item 0\n",
       "\\item 0\n",
       "\\item 0\n",
       "\\item 1\n",
       "\\item 0\n",
       "\\item 0\n",
       "\\item 0\n",
       "\\item 0\n",
       "\\item 0\n",
       "\\item 0\n",
       "\\item 0\n",
       "\\item 0\n",
       "\\item 0\n",
       "\\item 0\n",
       "\\item 0\n",
       "\\item 0\n",
       "\\item 0\n",
       "\\item 0\n",
       "\\item 0\n",
       "\\item 1\n",
       "\\item 0\n",
       "\\item 0\n",
       "\\item 1\n",
       "\\item 0\n",
       "\\item 0\n",
       "\\item 0\n",
       "\\item 0\n",
       "\\item 0\n",
       "\\item 0\n",
       "\\item 0\n",
       "\\item 0\n",
       "\\item 0\n",
       "\\item 0\n",
       "\\item 0\n",
       "\\item 0\n",
       "\\item 0\n",
       "\\item 0\n",
       "\\item 0\n",
       "\\item 1\n",
       "\\item 0\n",
       "\\item 0\n",
       "\\item 1\n",
       "\\item 1\n",
       "\\item 1\n",
       "\\item 1\n",
       "\\item 0\n",
       "\\item 0\n",
       "\\item 1\n",
       "\\item 0\n",
       "\\item 0\n",
       "\\item 0\n",
       "\\item 0\n",
       "\\item 0\n",
       "\\item 0\n",
       "\\item 1\n",
       "\\item 1\n",
       "\\item 0\n",
       "\\item 0\n",
       "\\item 0\n",
       "\\item 1\n",
       "\\item 0\n",
       "\\item 1\n",
       "\\item 0\n",
       "\\item 1\n",
       "\\item 1\n",
       "\\item 1\n",
       "\\item 0\n",
       "\\item 1\n",
       "\\item 0\n",
       "\\item 0\n",
       "\\item 0\n",
       "\\item 0\n",
       "\\item 0\n",
       "\\item 0\n",
       "\\item 0\n",
       "\\item 0\n",
       "\\item 1\n",
       "\\item 1\n",
       "\\item 1\n",
       "\\item 0\n",
       "\\item 0\n",
       "\\item 1\n",
       "\\item 0\n",
       "\\item 1\n",
       "\\item 1\n",
       "\\item 1\n",
       "\\item 0\n",
       "\\item 0\n",
       "\\item 0\n",
       "\\item 0\n",
       "\\item 0\n",
       "\\item 0\n",
       "\\item 0\n",
       "\\item 1\n",
       "\\item 0\n",
       "\\item 0\n",
       "\\item 0\n",
       "\\item 0\n",
       "\\item 1\n",
       "\\item 0\n",
       "\\item 0\n",
       "\\item 0\n",
       "\\item 0\n",
       "\\item 0\n",
       "\\item 0\n",
       "\\item 1\n",
       "\\item 0\n",
       "\\item 0\n",
       "\\item 1\n",
       "\\item 0\n",
       "\\item 0\n",
       "\\item 0\n",
       "\\item 0\n",
       "\\item 0\n",
       "\\item 0\n",
       "\\item 0\n",
       "\\item 0\n",
       "\\item 0\n",
       "\\item 0\n",
       "\\item 0\n",
       "\\item 1\n",
       "\\item 0\n",
       "\\item 0\n",
       "\\item 0\n",
       "\\item 0\n",
       "\\item 0\n",
       "\\item 0\n",
       "\\item 0\n",
       "\\item 0\n",
       "\\item 1\n",
       "\\item 1\n",
       "\\item 0\n",
       "\\item 0\n",
       "\\item 0\n",
       "\\item 0\n",
       "\\item 0\n",
       "\\item 0\n",
       "\\item 0\n",
       "\\item 0\n",
       "\\item 0\n",
       "\\item 1\n",
       "\\item 1\n",
       "\\item 1\n",
       "\\item 0\n",
       "\\item 0\n",
       "\\item 0\n",
       "\\item 0\n",
       "\\item 0\n",
       "\\item 0\n",
       "\\item 0\n",
       "\\item 0\n",
       "\\item 0\n",
       "\\item 1\n",
       "\\item 1\n",
       "\\item 0\n",
       "\\item 0\n",
       "\\item 0\n",
       "\\item 0\n",
       "\\item 0\n",
       "\\item 0\n",
       "\\item 0\n",
       "\\item 0\n",
       "\\item 0\n",
       "\\item 1\n",
       "\\item 0\n",
       "\\item 0\n",
       "\\item 0\n",
       "\\item 0\n",
       "\\item 1\n",
       "\\item 1\n",
       "\\item 1\n",
       "\\end{enumerate*}\n",
       "\n",
       "\\emph{Levels}: \\begin{enumerate*}\n",
       "\\item '0'\n",
       "\\item '1'\n",
       "\\end{enumerate*}\n"
      ],
      "text/markdown": [
       "1. 0\n",
       "2. 1\n",
       "3. 0\n",
       "4. 1\n",
       "5. 0\n",
       "6. 1\n",
       "7. 0\n",
       "8. 0\n",
       "9. 0\n",
       "10. 0\n",
       "11. 0\n",
       "12. 0\n",
       "13. 0\n",
       "14. 0\n",
       "15. 1\n",
       "16. 1\n",
       "17. 0\n",
       "18. 0\n",
       "19. 1\n",
       "20. 0\n",
       "21. 1\n",
       "22. 1\n",
       "23. 0\n",
       "24. 0\n",
       "25. 1\n",
       "26. 0\n",
       "27. 0\n",
       "28. 0\n",
       "29. 0\n",
       "30. 0\n",
       "31. 0\n",
       "32. 1\n",
       "33. 0\n",
       "34. 0\n",
       "35. 0\n",
       "36. 1\n",
       "37. 0\n",
       "38. 1\n",
       "39. 1\n",
       "40. 1\n",
       "41. 1\n",
       "42. 1\n",
       "43. 1\n",
       "44. 0\n",
       "45. 1\n",
       "46. 0\n",
       "47. 0\n",
       "48. 1\n",
       "49. 1\n",
       "50. 1\n",
       "51. 1\n",
       "52. 1\n",
       "53. 1\n",
       "54. 1\n",
       "55. 1\n",
       "56. 1\n",
       "57. 1\n",
       "58. 1\n",
       "59. 1\n",
       "60. 0\n",
       "61. 1\n",
       "62. 0\n",
       "63. 0\n",
       "64. 1\n",
       "65. 0\n",
       "66. 1\n",
       "67. 1\n",
       "68. 0\n",
       "69. 0\n",
       "70. 1\n",
       "71. 0\n",
       "72. 1\n",
       "73. 1\n",
       "74. 0\n",
       "75. 0\n",
       "76. 0\n",
       "77. 0\n",
       "78. 0\n",
       "79. 0\n",
       "80. 0\n",
       "81. 0\n",
       "82. 0\n",
       "83. 1\n",
       "84. 1\n",
       "85. 1\n",
       "86. 1\n",
       "87. 0\n",
       "88. 0\n",
       "89. 0\n",
       "90. 0\n",
       "91. 0\n",
       "92. 0\n",
       "93. 0\n",
       "94. 0\n",
       "95. 0\n",
       "96. 0\n",
       "97. 1\n",
       "98. 1\n",
       "99. 1\n",
       "100. 1\n",
       "101. 0\n",
       "102. 1\n",
       "103. 1\n",
       "104. 1\n",
       "105. 1\n",
       "106. 1\n",
       "107. 0\n",
       "108. 1\n",
       "109. 0\n",
       "110. 1\n",
       "111. 1\n",
       "112. 1\n",
       "113. 0\n",
       "114. 0\n",
       "115. 0\n",
       "116. 1\n",
       "117. 0\n",
       "118. 0\n",
       "119. 0\n",
       "120. 0\n",
       "121. 1\n",
       "122. 1\n",
       "123. 1\n",
       "124. 0\n",
       "125. 1\n",
       "126. 0\n",
       "127. 1\n",
       "128. 0\n",
       "129. 0\n",
       "130. 0\n",
       "131. 1\n",
       "132. 0\n",
       "133. 0\n",
       "134. 0\n",
       "135. 0\n",
       "136. 0\n",
       "137. 0\n",
       "138. 0\n",
       "139. 0\n",
       "140. 1\n",
       "141. 0\n",
       "142. 0\n",
       "143. 1\n",
       "144. 0\n",
       "145. 0\n",
       "146. 1\n",
       "147. 0\n",
       "148. 1\n",
       "149. 1\n",
       "150. 0\n",
       "151. 0\n",
       "152. 1\n",
       "153. 0\n",
       "154. 0\n",
       "155. 1\n",
       "156. 1\n",
       "157. 0\n",
       "158. 0\n",
       "159. 0\n",
       "160. 0\n",
       "161. 1\n",
       "162. 1\n",
       "163. 0\n",
       "164. 0\n",
       "165. 0\n",
       "166. 0\n",
       "167. 0\n",
       "168. 1\n",
       "169. 1\n",
       "170. 1\n",
       "171. 0\n",
       "172. 1\n",
       "173. 0\n",
       "174. 1\n",
       "175. 0\n",
       "176. 0\n",
       "177. 0\n",
       "178. 1\n",
       "179. 1\n",
       "180. 0\n",
       "181. 1\n",
       "182. 1\n",
       "183. 1\n",
       "184. 0\n",
       "185. 1\n",
       "186. 1\n",
       "187. 0\n",
       "188. 0\n",
       "189. 0\n",
       "190. 0\n",
       "191. 1\n",
       "192. 0\n",
       "193. 0\n",
       "194. 0\n",
       "195. 1\n",
       "196. 1\n",
       "197. 0\n",
       "198. 0\n",
       "199. 0\n",
       "200. 1\n",
       "201. ⋯\n",
       "202. 0\n",
       "203. 0\n",
       "204. 0\n",
       "205. 0\n",
       "206. 0\n",
       "207. 0\n",
       "208. 0\n",
       "209. 0\n",
       "210. 1\n",
       "211. 0\n",
       "212. 0\n",
       "213. 0\n",
       "214. 0\n",
       "215. 0\n",
       "216. 0\n",
       "217. 0\n",
       "218. 1\n",
       "219. 1\n",
       "220. 0\n",
       "221. 0\n",
       "222. 0\n",
       "223. 1\n",
       "224. 0\n",
       "225. 0\n",
       "226. 1\n",
       "227. 1\n",
       "228. 0\n",
       "229. 0\n",
       "230. 0\n",
       "231. 0\n",
       "232. 0\n",
       "233. 0\n",
       "234. 1\n",
       "235. 0\n",
       "236. 0\n",
       "237. 0\n",
       "238. 0\n",
       "239. 0\n",
       "240. 0\n",
       "241. 0\n",
       "242. 0\n",
       "243. 0\n",
       "244. 0\n",
       "245. 0\n",
       "246. 0\n",
       "247. 0\n",
       "248. 0\n",
       "249. 0\n",
       "250. 1\n",
       "251. 0\n",
       "252. 0\n",
       "253. 1\n",
       "254. 0\n",
       "255. 0\n",
       "256. 0\n",
       "257. 0\n",
       "258. 0\n",
       "259. 0\n",
       "260. 0\n",
       "261. 0\n",
       "262. 0\n",
       "263. 0\n",
       "264. 0\n",
       "265. 0\n",
       "266. 0\n",
       "267. 0\n",
       "268. 0\n",
       "269. 1\n",
       "270. 0\n",
       "271. 0\n",
       "272. 1\n",
       "273. 1\n",
       "274. 1\n",
       "275. 1\n",
       "276. 0\n",
       "277. 0\n",
       "278. 1\n",
       "279. 0\n",
       "280. 0\n",
       "281. 0\n",
       "282. 0\n",
       "283. 0\n",
       "284. 0\n",
       "285. 1\n",
       "286. 1\n",
       "287. 0\n",
       "288. 0\n",
       "289. 0\n",
       "290. 1\n",
       "291. 0\n",
       "292. 1\n",
       "293. 0\n",
       "294. 1\n",
       "295. 1\n",
       "296. 1\n",
       "297. 0\n",
       "298. 1\n",
       "299. 0\n",
       "300. 0\n",
       "301. 0\n",
       "302. 0\n",
       "303. 0\n",
       "304. 0\n",
       "305. 0\n",
       "306. 0\n",
       "307. 1\n",
       "308. 1\n",
       "309. 1\n",
       "310. 0\n",
       "311. 0\n",
       "312. 1\n",
       "313. 0\n",
       "314. 1\n",
       "315. 1\n",
       "316. 1\n",
       "317. 0\n",
       "318. 0\n",
       "319. 0\n",
       "320. 0\n",
       "321. 0\n",
       "322. 0\n",
       "323. 0\n",
       "324. 1\n",
       "325. 0\n",
       "326. 0\n",
       "327. 0\n",
       "328. 0\n",
       "329. 1\n",
       "330. 0\n",
       "331. 0\n",
       "332. 0\n",
       "333. 0\n",
       "334. 0\n",
       "335. 0\n",
       "336. 1\n",
       "337. 0\n",
       "338. 0\n",
       "339. 1\n",
       "340. 0\n",
       "341. 0\n",
       "342. 0\n",
       "343. 0\n",
       "344. 0\n",
       "345. 0\n",
       "346. 0\n",
       "347. 0\n",
       "348. 0\n",
       "349. 0\n",
       "350. 0\n",
       "351. 1\n",
       "352. 0\n",
       "353. 0\n",
       "354. 0\n",
       "355. 0\n",
       "356. 0\n",
       "357. 0\n",
       "358. 0\n",
       "359. 0\n",
       "360. 1\n",
       "361. 1\n",
       "362. 0\n",
       "363. 0\n",
       "364. 0\n",
       "365. 0\n",
       "366. 0\n",
       "367. 0\n",
       "368. 0\n",
       "369. 0\n",
       "370. 0\n",
       "371. 1\n",
       "372. 1\n",
       "373. 1\n",
       "374. 0\n",
       "375. 0\n",
       "376. 0\n",
       "377. 0\n",
       "378. 0\n",
       "379. 0\n",
       "380. 0\n",
       "381. 0\n",
       "382. 0\n",
       "383. 1\n",
       "384. 1\n",
       "385. 0\n",
       "386. 0\n",
       "387. 0\n",
       "388. 0\n",
       "389. 0\n",
       "390. 0\n",
       "391. 0\n",
       "392. 0\n",
       "393. 0\n",
       "394. 1\n",
       "395. 0\n",
       "396. 0\n",
       "397. 0\n",
       "398. 0\n",
       "399. 1\n",
       "400. 1\n",
       "401. 1\n",
       "\n",
       "\n",
       "\n",
       "**Levels**: 1. '0'\n",
       "2. '1'\n",
       "\n",
       "\n"
      ],
      "text/plain": [
       "  [1] 0 1 0 1 0 1 0 0 0 0 0 0 0 0 1 1 0 0 1 0 1 1 0 0 1 0 0 0 0 0 0 1 0 0 0 1 0\n",
       " [38] 1 1 1 1 1 1 0 1 0 0 1 1 1 1 1 1 1 1 1 1 1 1 0 1 0 0 1 0 1 1 0 0 1 0 1 1 0\n",
       " [75] 0 0 0 0 0 0 0 0 1 1 1 1 0 0 0 0 0 0 0 0 0 0 1 1 1 1 0 1 1 1 1 1 0 1 0 1 1\n",
       "[112] 1 0 0 0 1 0 0 0 0 1 1 1 0 1 0 1 0 0 0 1 0 0 0 0 0 0 0 0 1 0 0 1 0 0 1 0 1\n",
       "[149] 1 0 0 1 0 0 1 1 0 0 0 0 1 1 0 0 0 0 0 1 1 1 0 1 0 1 0 0 0 1 1 0 1 1 1 0 1\n",
       "[186] 1 0 0 0 0 1 0 0 0 1 1 0 0 0 1 1 0 0 0 1 1 0 1 1 1 0 0 1 0 0 1 0 1 1 0 1 1\n",
       "[223] 0 1 1 1 1 1 0 1 1 1 1 0 0 0 0 0 0 1 1 0 0 1 1 1 1 1 0 0 0 1 1 1 1 1 1 0 1\n",
       "[260] 1 1 0 1 0 1 1 0 0 0 0 1 0 0 1 1 1 1 1 0 1 1 0 0 1 1 1 0 1 1 0 1 0 1 1 0 0\n",
       "[297] 1 0 0 0 1 0 0 1 1 0 1 1 0 1 0 0 1 0 1 1 1 0 0 1 1 0 1 0 0 1 1 0 0 0 1 0 0\n",
       "[334] 0 1 1 0 0 1 1 0 0 0 1 1 1 1 1 0 0 0 0 1 1 0 0 0 0 0 0 0 0 0 0 0 0 0 1 0 0\n",
       "[371] 0 0 1 0 0 0 0 1 0 0 0 0 0 0 0 0 1 0 0 0 0 0 0 0 0 0 0 1 0 1 0 1 0 0 0 0 1\n",
       "[408] 0 0 0 1 0 1 0 0 0 0 0 0 1 1 1 0 0 0 1 0 0 0 0 0 0 0 0 1 0 0 0 1 0 0 1 1 0\n",
       "[445] 0 0 0 0 0 0 1 1 1 0 0 0 0 0 0 0 0 0 0 0 1 0 0 1 1 0 0 0 1 1 0 0 1 0 1 0 0\n",
       "[482] 0 0 0 0 0 0 0 0 0 0 1 0 0 0 0 0 0 0 1 1 0 0 0 1 0 0 1 1 0 0 0 0 0 0 1 0 0\n",
       "[519] 0 0 0 0 0 0 0 0 0 0 0 0 0 1 0 0 1 0 0 0 0 0 0 0 0 0 0 0 0 0 0 0 1 0 0 1 1\n",
       "[556] 1 1 0 0 1 0 0 0 0 0 0 1 1 0 0 0 1 0 1 0 1 1 1 0 1 0 0 0 0 0 0 0 0 1 1 1 0\n",
       "[593] 0 1 0 1 1 1 0 0 0 0 0 0 0 1 0 0 0 0 1 0 0 0 0 0 0 1 0 0 1 0 0 0 0 0 0 0 0\n",
       "[630] 0 0 0 1 0 0 0 0 0 0 0 0 1 1 0 0 0 0 0 0 0 0 0 1 1 1 0 0 0 0 0 0 0 0 0 1 1\n",
       "[667] 0 0 0 0 0 0 0 0 0 1 0 0 0 0 1 1 1\n",
       "Levels: 0 1"
      ]
     },
     "metadata": {},
     "output_type": "display_data"
    }
   ],
   "source": [
    "pred<-v$predicted\n",
    "pred[[1]]"
   ]
  },
  {
   "cell_type": "code",
   "execution_count": 28,
   "id": "1a0f6ce5",
   "metadata": {},
   "outputs": [
    {
     "data": {
      "text/plain": [
       "Confusion Matrix and Statistics\n",
       "\n",
       "          Reference\n",
       "Prediction   0   1\n",
       "         0 432  12\n",
       "         1   6 233\n",
       "                                          \n",
       "               Accuracy : 0.9736          \n",
       "                 95% CI : (0.9587, 0.9843)\n",
       "    No Information Rate : 0.6413          \n",
       "    P-Value [Acc > NIR] : <2e-16          \n",
       "                                          \n",
       "                  Kappa : 0.9424          \n",
       "                                          \n",
       " Mcnemar's Test P-Value : 0.2386          \n",
       "                                          \n",
       "            Sensitivity : 0.9863          \n",
       "            Specificity : 0.9510          \n",
       "         Pos Pred Value : 0.9730          \n",
       "         Neg Pred Value : 0.9749          \n",
       "             Prevalence : 0.6413          \n",
       "         Detection Rate : 0.6325          \n",
       "   Detection Prevalence : 0.6501          \n",
       "      Balanced Accuracy : 0.9687          \n",
       "                                          \n",
       "       'Positive' Class : 0               \n",
       "                                          "
      ]
     },
     "metadata": {},
     "output_type": "display_data"
    }
   ],
   "source": [
    "confusionMatrix(data[,11],pred[[1]])"
   ]
  },
  {
   "cell_type": "code",
   "execution_count": null,
   "id": "e56aae97",
   "metadata": {},
   "outputs": [],
   "source": []
  },
  {
   "cell_type": "code",
   "execution_count": null,
   "id": "5171369d",
   "metadata": {
    "scrolled": true
   },
   "outputs": [],
   "source": [
    "\n",
    "\n",
    " "
   ]
  },
  {
   "cell_type": "code",
   "execution_count": null,
   "id": "18d8b5f8",
   "metadata": {},
   "outputs": [],
   "source": []
  },
  {
   "cell_type": "code",
   "execution_count": null,
   "id": "0ac41f6f",
   "metadata": {},
   "outputs": [],
   "source": []
  },
  {
   "cell_type": "code",
   "execution_count": null,
   "id": "178ac1c8",
   "metadata": {},
   "outputs": [],
   "source": []
  },
  {
   "cell_type": "code",
   "execution_count": null,
   "id": "c666ca28",
   "metadata": {},
   "outputs": [],
   "source": []
  },
  {
   "cell_type": "code",
   "execution_count": null,
   "id": "5fb7d104",
   "metadata": {},
   "outputs": [],
   "source": []
  }
 ],
 "metadata": {
  "kernelspec": {
   "display_name": "R",
   "language": "R",
   "name": "ir"
  },
  "language_info": {
   "codemirror_mode": "r",
   "file_extension": ".r",
   "mimetype": "text/x-r-source",
   "name": "R",
   "pygments_lexer": "r",
   "version": "4.2.1"
  }
 },
 "nbformat": 4,
 "nbformat_minor": 5
}
