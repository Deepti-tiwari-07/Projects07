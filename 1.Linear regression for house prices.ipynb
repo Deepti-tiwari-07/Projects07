{
 "cells": [
  {
   "cell_type": "code",
   "execution_count": 1,
   "id": "2c417694",
   "metadata": {},
   "outputs": [
    {
     "name": "stderr",
     "output_type": "stream",
     "text": [
      "Installing package into 'C:/Users/rosha/AppData/Local/R/win-library/4.2'\n",
      "(as 'lib' is unspecified)\n",
      "\n"
     ]
    },
    {
     "name": "stdout",
     "output_type": "stream",
     "text": [
      "package 'corrplot' successfully unpacked and MD5 sums checked\n",
      "\n",
      "The downloaded binary packages are in\n",
      "\tC:\\Users\\rosha\\AppData\\Local\\Temp\\RtmpolYald\\downloaded_packages\n"
     ]
    },
    {
     "name": "stderr",
     "output_type": "stream",
     "text": [
      "Installing package into 'C:/Users/rosha/AppData/Local/R/win-library/4.2'\n",
      "(as 'lib' is unspecified)\n",
      "\n",
      "Warning message:\n",
      "\"package 'nls' is not available for this version of R\n",
      "\n",
      "A version of this package for your version of R might be available elsewhere,\n",
      "see the ideas at\n",
      "https://cran.r-project.org/doc/manuals/r-patched/R-admin.html#Installing-packages\"\n",
      "Installing package into 'C:/Users/rosha/AppData/Local/R/win-library/4.2'\n",
      "(as 'lib' is unspecified)\n",
      "\n"
     ]
    },
    {
     "name": "stdout",
     "output_type": "stream",
     "text": [
      "package 'correlation' successfully unpacked and MD5 sums checked\n",
      "\n",
      "The downloaded binary packages are in\n",
      "\tC:\\Users\\rosha\\AppData\\Local\\Temp\\RtmpolYald\\downloaded_packages\n"
     ]
    },
    {
     "name": "stderr",
     "output_type": "stream",
     "text": [
      "Installing package into 'C:/Users/rosha/AppData/Local/R/win-library/4.2'\n",
      "(as 'lib' is unspecified)\n",
      "\n"
     ]
    },
    {
     "name": "stdout",
     "output_type": "stream",
     "text": [
      "package 'Hmisc' successfully unpacked and MD5 sums checked\n",
      "\n",
      "The downloaded binary packages are in\n",
      "\tC:\\Users\\rosha\\AppData\\Local\\Temp\\RtmpolYald\\downloaded_packages\n"
     ]
    },
    {
     "name": "stderr",
     "output_type": "stream",
     "text": [
      "Installing package into 'C:/Users/rosha/AppData/Local/R/win-library/4.2'\n",
      "(as 'lib' is unspecified)\n",
      "\n"
     ]
    },
    {
     "name": "stdout",
     "output_type": "stream",
     "text": [
      "package 'psych' successfully unpacked and MD5 sums checked\n",
      "\n",
      "The downloaded binary packages are in\n",
      "\tC:\\Users\\rosha\\AppData\\Local\\Temp\\RtmpolYald\\downloaded_packages\n"
     ]
    },
    {
     "name": "stderr",
     "output_type": "stream",
     "text": [
      "Installing package into 'C:/Users/rosha/AppData/Local/R/win-library/4.2'\n",
      "(as 'lib' is unspecified)\n",
      "\n"
     ]
    },
    {
     "name": "stdout",
     "output_type": "stream",
     "text": [
      "package 'MASS' successfully unpacked and MD5 sums checked\n"
     ]
    },
    {
     "name": "stderr",
     "output_type": "stream",
     "text": [
      "Warning message:\n",
      "\"cannot remove prior installation of package 'MASS'\"\n",
      "Warning message in file.copy(savedcopy, lib, recursive = TRUE):\n",
      "\"problem copying C:\\Users\\rosha\\AppData\\Local\\R\\win-library\\4.2\\00LOCK\\MASS\\libs\\x64\\MASS.dll to C:\\Users\\rosha\\AppData\\Local\\R\\win-library\\4.2\\MASS\\libs\\x64\\MASS.dll: Permission denied\"\n",
      "Warning message:\n",
      "\"restored 'MASS'\"\n"
     ]
    },
    {
     "name": "stdout",
     "output_type": "stream",
     "text": [
      "\n",
      "The downloaded binary packages are in\n",
      "\tC:\\Users\\rosha\\AppData\\Local\\Temp\\RtmpolYald\\downloaded_packages\n"
     ]
    }
   ],
   "source": [
    "\n",
    "#install.packages(\"corrplot\")\n",
    "#install.packages(\"nls\")\n",
    "#install.packages(\"correlation\")\n",
    "#install.packages(\"Hmisc\")\n",
    "#nstall.packages(\"psych\")\n",
    "#install.packages(\"MASS\")"
   ]
  },
  {
   "cell_type": "code",
   "execution_count": 2,
   "id": "bba91795",
   "metadata": {},
   "outputs": [
    {
     "name": "stderr",
     "output_type": "stream",
     "text": [
      "Warning message:\n",
      "\"package 'correlation' was built under R version 4.2.2\"\n",
      "Warning message:\n",
      "\"package 'corrplot' was built under R version 4.2.2\"\n",
      "corrplot 0.92 loaded\n",
      "\n",
      "Warning message:\n",
      "\"package 'Hmisc' was built under R version 4.2.2\"\n",
      "Loading required package: lattice\n",
      "\n",
      "Loading required package: survival\n",
      "\n",
      "Loading required package: Formula\n",
      "\n",
      "Loading required package: ggplot2\n",
      "\n",
      "Warning message:\n",
      "\"package 'ggplot2' was built under R version 4.2.2\"\n",
      "\n",
      "Attaching package: 'Hmisc'\n",
      "\n",
      "\n",
      "The following objects are masked from 'package:base':\n",
      "\n",
      "    format.pval, units\n",
      "\n",
      "\n",
      "Warning message:\n",
      "\"package 'psych' was built under R version 4.2.2\"\n",
      "\n",
      "Attaching package: 'psych'\n",
      "\n",
      "\n",
      "The following object is masked from 'package:Hmisc':\n",
      "\n",
      "    describe\n",
      "\n",
      "\n",
      "The following objects are masked from 'package:ggplot2':\n",
      "\n",
      "    %+%, alpha\n",
      "\n",
      "\n",
      "Warning message:\n",
      "\"package 'MASS' was built under R version 4.2.2\"\n"
     ]
    },
    {
     "ename": "ERROR",
     "evalue": "Error in library(nls): there is no package called 'nls'\n",
     "output_type": "error",
     "traceback": [
      "Error in library(nls): there is no package called 'nls'\nTraceback:\n",
      "1. library(nls)"
     ]
    }
   ],
   "source": [
    "library(correlation)\n",
    "library(corrplot)\n",
    "library(Hmisc)\n",
    "library(psych)\n",
    "library(MASS)\n",
    "library(nls)"
   ]
  },
  {
   "cell_type": "code",
   "execution_count": 3,
   "id": "da9e7ae1",
   "metadata": {},
   "outputs": [
    {
     "data": {
      "text/plain": [
       "       id                date               price            bedrooms     \n",
       " Min.   :1.000e+06   Length:21613       Min.   :  75000   Min.   : 0.000  \n",
       " 1st Qu.:2.123e+09   Class :character   1st Qu.: 321950   1st Qu.: 3.000  \n",
       " Median :3.905e+09   Mode  :character   Median : 450000   Median : 3.000  \n",
       " Mean   :4.580e+09                      Mean   : 540182   Mean   : 3.371  \n",
       " 3rd Qu.:7.309e+09                      3rd Qu.: 645000   3rd Qu.: 4.000  \n",
       " Max.   :9.900e+09                      Max.   :7700000   Max.   :33.000  \n",
       "   bathrooms      sqft_living       sqft_lot           floors     \n",
       " Min.   :0.000   Min.   :  290   Min.   :    520   Min.   :1.000  \n",
       " 1st Qu.:1.750   1st Qu.: 1427   1st Qu.:   5040   1st Qu.:1.000  \n",
       " Median :2.250   Median : 1910   Median :   7618   Median :1.500  \n",
       " Mean   :2.115   Mean   : 2080   Mean   :  15107   Mean   :1.494  \n",
       " 3rd Qu.:2.500   3rd Qu.: 2550   3rd Qu.:  10688   3rd Qu.:2.000  \n",
       " Max.   :8.000   Max.   :13540   Max.   :1651359   Max.   :3.500  \n",
       "   waterfront            view          condition         grade       \n",
       " Min.   :0.000000   Min.   :0.0000   Min.   :1.000   Min.   : 1.000  \n",
       " 1st Qu.:0.000000   1st Qu.:0.0000   1st Qu.:3.000   1st Qu.: 7.000  \n",
       " Median :0.000000   Median :0.0000   Median :3.000   Median : 7.000  \n",
       " Mean   :0.007542   Mean   :0.2343   Mean   :3.409   Mean   : 7.657  \n",
       " 3rd Qu.:0.000000   3rd Qu.:0.0000   3rd Qu.:4.000   3rd Qu.: 8.000  \n",
       " Max.   :1.000000   Max.   :4.0000   Max.   :5.000   Max.   :13.000  \n",
       "   sqft_above   sqft_basement       yr_built     yr_renovated   \n",
       " Min.   : 290   Min.   :   0.0   Min.   :1900   Min.   :   0.0  \n",
       " 1st Qu.:1190   1st Qu.:   0.0   1st Qu.:1951   1st Qu.:   0.0  \n",
       " Median :1560   Median :   0.0   Median :1975   Median :   0.0  \n",
       " Mean   :1788   Mean   : 291.5   Mean   :1971   Mean   :  84.4  \n",
       " 3rd Qu.:2210   3rd Qu.: 560.0   3rd Qu.:1997   3rd Qu.:   0.0  \n",
       " Max.   :9410   Max.   :4820.0   Max.   :2015   Max.   :2015.0  \n",
       "    zipcode           lat             long        sqft_living15 \n",
       " Min.   :98001   Min.   :47.16   Min.   :-122.5   Min.   : 399  \n",
       " 1st Qu.:98033   1st Qu.:47.47   1st Qu.:-122.3   1st Qu.:1490  \n",
       " Median :98065   Median :47.57   Median :-122.2   Median :1840  \n",
       " Mean   :98078   Mean   :47.56   Mean   :-122.2   Mean   :1987  \n",
       " 3rd Qu.:98118   3rd Qu.:47.68   3rd Qu.:-122.1   3rd Qu.:2360  \n",
       " Max.   :98199   Max.   :47.78   Max.   :-121.3   Max.   :6210  \n",
       "   sqft_lot15    \n",
       " Min.   :   651  \n",
       " 1st Qu.:  5100  \n",
       " Median :  7620  \n",
       " Mean   : 12768  \n",
       " 3rd Qu.: 10083  \n",
       " Max.   :871200  "
      ]
     },
     "metadata": {},
     "output_type": "display_data"
    }
   ],
   "source": [
    "lineardata <- read.csv(\"kc_house_data.csv\", stringsAsFactors = FALSE)\n",
    "\n",
    "summary(lineardata)\n"
   ]
  },
  {
   "cell_type": "code",
   "execution_count": 4,
   "id": "eae378ba",
   "metadata": {},
   "outputs": [
    {
     "name": "stdout",
     "output_type": "stream",
     "text": [
      "'data.frame':\t21613 obs. of  21 variables:\n",
      " $ id           : num  7.13e+09 6.41e+09 5.63e+09 2.49e+09 1.95e+09 ...\n",
      " $ date         : chr  \"20141013T000000\" \"20141209T000000\" \"20150225T000000\" \"20141209T000000\" ...\n",
      " $ price        : num  221900 538000 180000 604000 510000 ...\n",
      " $ bedrooms     : int  3 3 2 4 3 4 3 3 3 3 ...\n",
      " $ bathrooms    : num  1 2.25 1 3 2 4.5 2.25 1.5 1 2.5 ...\n",
      " $ sqft_living  : int  1180 2570 770 1960 1680 5420 1715 1060 1780 1890 ...\n",
      " $ sqft_lot     : int  5650 7242 10000 5000 8080 101930 6819 9711 7470 6560 ...\n",
      " $ floors       : num  1 2 1 1 1 1 2 1 1 2 ...\n",
      " $ waterfront   : int  0 0 0 0 0 0 0 0 0 0 ...\n",
      " $ view         : int  0 0 0 0 0 0 0 0 0 0 ...\n",
      " $ condition    : int  3 3 3 5 3 3 3 3 3 3 ...\n",
      " $ grade        : int  7 7 6 7 8 11 7 7 7 7 ...\n",
      " $ sqft_above   : int  1180 2170 770 1050 1680 3890 1715 1060 1050 1890 ...\n",
      " $ sqft_basement: int  0 400 0 910 0 1530 0 0 730 0 ...\n",
      " $ yr_built     : int  1955 1951 1933 1965 1987 2001 1995 1963 1960 2003 ...\n",
      " $ yr_renovated : int  0 1991 0 0 0 0 0 0 0 0 ...\n",
      " $ zipcode      : int  98178 98125 98028 98136 98074 98053 98003 98198 98146 98038 ...\n",
      " $ lat          : num  47.5 47.7 47.7 47.5 47.6 ...\n",
      " $ long         : num  -122 -122 -122 -122 -122 ...\n",
      " $ sqft_living15: int  1340 1690 2720 1360 1800 4760 2238 1650 1780 2390 ...\n",
      " $ sqft_lot15   : int  5650 7639 8062 5000 7503 101930 6819 9711 8113 7570 ...\n"
     ]
    }
   ],
   "source": [
    "str( lineardata )\n",
    "\n"
   ]
  },
  {
   "cell_type": "code",
   "execution_count": 5,
   "id": "126edb50",
   "metadata": {},
   "outputs": [
    {
     "data": {
      "text/html": [
       "<table class=\"dataframe\">\n",
       "<caption>A data.frame: 6 × 21</caption>\n",
       "<thead>\n",
       "\t<tr><th></th><th scope=col>id</th><th scope=col>date</th><th scope=col>price</th><th scope=col>bedrooms</th><th scope=col>bathrooms</th><th scope=col>sqft_living</th><th scope=col>sqft_lot</th><th scope=col>floors</th><th scope=col>waterfront</th><th scope=col>view</th><th scope=col>⋯</th><th scope=col>grade</th><th scope=col>sqft_above</th><th scope=col>sqft_basement</th><th scope=col>yr_built</th><th scope=col>yr_renovated</th><th scope=col>zipcode</th><th scope=col>lat</th><th scope=col>long</th><th scope=col>sqft_living15</th><th scope=col>sqft_lot15</th></tr>\n",
       "\t<tr><th></th><th scope=col>&lt;dbl&gt;</th><th scope=col>&lt;chr&gt;</th><th scope=col>&lt;dbl&gt;</th><th scope=col>&lt;int&gt;</th><th scope=col>&lt;dbl&gt;</th><th scope=col>&lt;int&gt;</th><th scope=col>&lt;int&gt;</th><th scope=col>&lt;dbl&gt;</th><th scope=col>&lt;int&gt;</th><th scope=col>&lt;int&gt;</th><th scope=col>⋯</th><th scope=col>&lt;int&gt;</th><th scope=col>&lt;int&gt;</th><th scope=col>&lt;int&gt;</th><th scope=col>&lt;int&gt;</th><th scope=col>&lt;int&gt;</th><th scope=col>&lt;int&gt;</th><th scope=col>&lt;dbl&gt;</th><th scope=col>&lt;dbl&gt;</th><th scope=col>&lt;int&gt;</th><th scope=col>&lt;int&gt;</th></tr>\n",
       "</thead>\n",
       "<tbody>\n",
       "\t<tr><th scope=row>1</th><td>7129300520</td><td>20141013T000000</td><td> 221900</td><td>3</td><td>1.00</td><td>1180</td><td>  5650</td><td>1</td><td>0</td><td>0</td><td>⋯</td><td> 7</td><td>1180</td><td>   0</td><td>1955</td><td>   0</td><td>98178</td><td>47.5112</td><td>-122.257</td><td>1340</td><td>  5650</td></tr>\n",
       "\t<tr><th scope=row>2</th><td>6414100192</td><td>20141209T000000</td><td> 538000</td><td>3</td><td>2.25</td><td>2570</td><td>  7242</td><td>2</td><td>0</td><td>0</td><td>⋯</td><td> 7</td><td>2170</td><td> 400</td><td>1951</td><td>1991</td><td>98125</td><td>47.7210</td><td>-122.319</td><td>1690</td><td>  7639</td></tr>\n",
       "\t<tr><th scope=row>3</th><td>5631500400</td><td>20150225T000000</td><td> 180000</td><td>2</td><td>1.00</td><td> 770</td><td> 10000</td><td>1</td><td>0</td><td>0</td><td>⋯</td><td> 6</td><td> 770</td><td>   0</td><td>1933</td><td>   0</td><td>98028</td><td>47.7379</td><td>-122.233</td><td>2720</td><td>  8062</td></tr>\n",
       "\t<tr><th scope=row>4</th><td>2487200875</td><td>20141209T000000</td><td> 604000</td><td>4</td><td>3.00</td><td>1960</td><td>  5000</td><td>1</td><td>0</td><td>0</td><td>⋯</td><td> 7</td><td>1050</td><td> 910</td><td>1965</td><td>   0</td><td>98136</td><td>47.5208</td><td>-122.393</td><td>1360</td><td>  5000</td></tr>\n",
       "\t<tr><th scope=row>5</th><td>1954400510</td><td>20150218T000000</td><td> 510000</td><td>3</td><td>2.00</td><td>1680</td><td>  8080</td><td>1</td><td>0</td><td>0</td><td>⋯</td><td> 8</td><td>1680</td><td>   0</td><td>1987</td><td>   0</td><td>98074</td><td>47.6168</td><td>-122.045</td><td>1800</td><td>  7503</td></tr>\n",
       "\t<tr><th scope=row>6</th><td>7237550310</td><td>20140512T000000</td><td>1230000</td><td>4</td><td>4.50</td><td>5420</td><td>101930</td><td>1</td><td>0</td><td>0</td><td>⋯</td><td>11</td><td>3890</td><td>1530</td><td>2001</td><td>   0</td><td>98053</td><td>47.6561</td><td>-122.005</td><td>4760</td><td>101930</td></tr>\n",
       "</tbody>\n",
       "</table>\n"
      ],
      "text/latex": [
       "A data.frame: 6 × 21\n",
       "\\begin{tabular}{r|lllllllllllllllllllll}\n",
       "  & id & date & price & bedrooms & bathrooms & sqft\\_living & sqft\\_lot & floors & waterfront & view & ⋯ & grade & sqft\\_above & sqft\\_basement & yr\\_built & yr\\_renovated & zipcode & lat & long & sqft\\_living15 & sqft\\_lot15\\\\\n",
       "  & <dbl> & <chr> & <dbl> & <int> & <dbl> & <int> & <int> & <dbl> & <int> & <int> & ⋯ & <int> & <int> & <int> & <int> & <int> & <int> & <dbl> & <dbl> & <int> & <int>\\\\\n",
       "\\hline\n",
       "\t1 & 7129300520 & 20141013T000000 &  221900 & 3 & 1.00 & 1180 &   5650 & 1 & 0 & 0 & ⋯ &  7 & 1180 &    0 & 1955 &    0 & 98178 & 47.5112 & -122.257 & 1340 &   5650\\\\\n",
       "\t2 & 6414100192 & 20141209T000000 &  538000 & 3 & 2.25 & 2570 &   7242 & 2 & 0 & 0 & ⋯ &  7 & 2170 &  400 & 1951 & 1991 & 98125 & 47.7210 & -122.319 & 1690 &   7639\\\\\n",
       "\t3 & 5631500400 & 20150225T000000 &  180000 & 2 & 1.00 &  770 &  10000 & 1 & 0 & 0 & ⋯ &  6 &  770 &    0 & 1933 &    0 & 98028 & 47.7379 & -122.233 & 2720 &   8062\\\\\n",
       "\t4 & 2487200875 & 20141209T000000 &  604000 & 4 & 3.00 & 1960 &   5000 & 1 & 0 & 0 & ⋯ &  7 & 1050 &  910 & 1965 &    0 & 98136 & 47.5208 & -122.393 & 1360 &   5000\\\\\n",
       "\t5 & 1954400510 & 20150218T000000 &  510000 & 3 & 2.00 & 1680 &   8080 & 1 & 0 & 0 & ⋯ &  8 & 1680 &    0 & 1987 &    0 & 98074 & 47.6168 & -122.045 & 1800 &   7503\\\\\n",
       "\t6 & 7237550310 & 20140512T000000 & 1230000 & 4 & 4.50 & 5420 & 101930 & 1 & 0 & 0 & ⋯ & 11 & 3890 & 1530 & 2001 &    0 & 98053 & 47.6561 & -122.005 & 4760 & 101930\\\\\n",
       "\\end{tabular}\n"
      ],
      "text/markdown": [
       "\n",
       "A data.frame: 6 × 21\n",
       "\n",
       "| <!--/--> | id &lt;dbl&gt; | date &lt;chr&gt; | price &lt;dbl&gt; | bedrooms &lt;int&gt; | bathrooms &lt;dbl&gt; | sqft_living &lt;int&gt; | sqft_lot &lt;int&gt; | floors &lt;dbl&gt; | waterfront &lt;int&gt; | view &lt;int&gt; | ⋯ ⋯ | grade &lt;int&gt; | sqft_above &lt;int&gt; | sqft_basement &lt;int&gt; | yr_built &lt;int&gt; | yr_renovated &lt;int&gt; | zipcode &lt;int&gt; | lat &lt;dbl&gt; | long &lt;dbl&gt; | sqft_living15 &lt;int&gt; | sqft_lot15 &lt;int&gt; |\n",
       "|---|---|---|---|---|---|---|---|---|---|---|---|---|---|---|---|---|---|---|---|---|---|\n",
       "| 1 | 7129300520 | 20141013T000000 |  221900 | 3 | 1.00 | 1180 |   5650 | 1 | 0 | 0 | ⋯ |  7 | 1180 |    0 | 1955 |    0 | 98178 | 47.5112 | -122.257 | 1340 |   5650 |\n",
       "| 2 | 6414100192 | 20141209T000000 |  538000 | 3 | 2.25 | 2570 |   7242 | 2 | 0 | 0 | ⋯ |  7 | 2170 |  400 | 1951 | 1991 | 98125 | 47.7210 | -122.319 | 1690 |   7639 |\n",
       "| 3 | 5631500400 | 20150225T000000 |  180000 | 2 | 1.00 |  770 |  10000 | 1 | 0 | 0 | ⋯ |  6 |  770 |    0 | 1933 |    0 | 98028 | 47.7379 | -122.233 | 2720 |   8062 |\n",
       "| 4 | 2487200875 | 20141209T000000 |  604000 | 4 | 3.00 | 1960 |   5000 | 1 | 0 | 0 | ⋯ |  7 | 1050 |  910 | 1965 |    0 | 98136 | 47.5208 | -122.393 | 1360 |   5000 |\n",
       "| 5 | 1954400510 | 20150218T000000 |  510000 | 3 | 2.00 | 1680 |   8080 | 1 | 0 | 0 | ⋯ |  8 | 1680 |    0 | 1987 |    0 | 98074 | 47.6168 | -122.045 | 1800 |   7503 |\n",
       "| 6 | 7237550310 | 20140512T000000 | 1230000 | 4 | 4.50 | 5420 | 101930 | 1 | 0 | 0 | ⋯ | 11 | 3890 | 1530 | 2001 |    0 | 98053 | 47.6561 | -122.005 | 4760 | 101930 |\n",
       "\n"
      ],
      "text/plain": [
       "  id         date            price   bedrooms bathrooms sqft_living sqft_lot\n",
       "1 7129300520 20141013T000000  221900 3        1.00      1180          5650  \n",
       "2 6414100192 20141209T000000  538000 3        2.25      2570          7242  \n",
       "3 5631500400 20150225T000000  180000 2        1.00       770         10000  \n",
       "4 2487200875 20141209T000000  604000 4        3.00      1960          5000  \n",
       "5 1954400510 20150218T000000  510000 3        2.00      1680          8080  \n",
       "6 7237550310 20140512T000000 1230000 4        4.50      5420        101930  \n",
       "  floors waterfront view ⋯ grade sqft_above sqft_basement yr_built yr_renovated\n",
       "1 1      0          0    ⋯  7    1180          0          1955        0        \n",
       "2 2      0          0    ⋯  7    2170        400          1951     1991        \n",
       "3 1      0          0    ⋯  6     770          0          1933        0        \n",
       "4 1      0          0    ⋯  7    1050        910          1965        0        \n",
       "5 1      0          0    ⋯  8    1680          0          1987        0        \n",
       "6 1      0          0    ⋯ 11    3890       1530          2001        0        \n",
       "  zipcode lat     long     sqft_living15 sqft_lot15\n",
       "1 98178   47.5112 -122.257 1340            5650    \n",
       "2 98125   47.7210 -122.319 1690            7639    \n",
       "3 98028   47.7379 -122.233 2720            8062    \n",
       "4 98136   47.5208 -122.393 1360            5000    \n",
       "5 98074   47.6168 -122.045 1800            7503    \n",
       "6 98053   47.6561 -122.005 4760          101930    "
      ]
     },
     "metadata": {},
     "output_type": "display_data"
    }
   ],
   "source": [
    "head(lineardata)\n"
   ]
  },
  {
   "cell_type": "code",
   "execution_count": 6,
   "id": "e013266b",
   "metadata": {},
   "outputs": [
    {
     "data": {
      "text/html": [
       "<table class=\"dataframe\">\n",
       "<caption>A data.frame: 6 × 21</caption>\n",
       "<thead>\n",
       "\t<tr><th></th><th scope=col>id</th><th scope=col>date</th><th scope=col>price</th><th scope=col>bedrooms</th><th scope=col>bathrooms</th><th scope=col>sqft_living</th><th scope=col>sqft_lot</th><th scope=col>floors</th><th scope=col>waterfront</th><th scope=col>view</th><th scope=col>⋯</th><th scope=col>grade</th><th scope=col>sqft_above</th><th scope=col>sqft_basement</th><th scope=col>yr_built</th><th scope=col>yr_renovated</th><th scope=col>zipcode</th><th scope=col>lat</th><th scope=col>long</th><th scope=col>sqft_living15</th><th scope=col>sqft_lot15</th></tr>\n",
       "\t<tr><th></th><th scope=col>&lt;dbl&gt;</th><th scope=col>&lt;chr&gt;</th><th scope=col>&lt;dbl&gt;</th><th scope=col>&lt;int&gt;</th><th scope=col>&lt;dbl&gt;</th><th scope=col>&lt;int&gt;</th><th scope=col>&lt;int&gt;</th><th scope=col>&lt;dbl&gt;</th><th scope=col>&lt;int&gt;</th><th scope=col>&lt;int&gt;</th><th scope=col>⋯</th><th scope=col>&lt;int&gt;</th><th scope=col>&lt;int&gt;</th><th scope=col>&lt;int&gt;</th><th scope=col>&lt;int&gt;</th><th scope=col>&lt;int&gt;</th><th scope=col>&lt;int&gt;</th><th scope=col>&lt;dbl&gt;</th><th scope=col>&lt;dbl&gt;</th><th scope=col>&lt;int&gt;</th><th scope=col>&lt;int&gt;</th></tr>\n",
       "</thead>\n",
       "<tbody>\n",
       "\t<tr><th scope=row>21608</th><td>2997800021</td><td>20150219T000000</td><td>475000</td><td>3</td><td>2.50</td><td>1310</td><td>1294</td><td>2</td><td>0</td><td>0</td><td>⋯</td><td>8</td><td>1180</td><td>130</td><td>2008</td><td>0</td><td>98116</td><td>47.5773</td><td>-122.409</td><td>1330</td><td>1265</td></tr>\n",
       "\t<tr><th scope=row>21609</th><td> 263000018</td><td>20140521T000000</td><td>360000</td><td>3</td><td>2.50</td><td>1530</td><td>1131</td><td>3</td><td>0</td><td>0</td><td>⋯</td><td>8</td><td>1530</td><td>  0</td><td>2009</td><td>0</td><td>98103</td><td>47.6993</td><td>-122.346</td><td>1530</td><td>1509</td></tr>\n",
       "\t<tr><th scope=row>21610</th><td>6600060120</td><td>20150223T000000</td><td>400000</td><td>4</td><td>2.50</td><td>2310</td><td>5813</td><td>2</td><td>0</td><td>0</td><td>⋯</td><td>8</td><td>2310</td><td>  0</td><td>2014</td><td>0</td><td>98146</td><td>47.5107</td><td>-122.362</td><td>1830</td><td>7200</td></tr>\n",
       "\t<tr><th scope=row>21611</th><td>1523300141</td><td>20140623T000000</td><td>402101</td><td>2</td><td>0.75</td><td>1020</td><td>1350</td><td>2</td><td>0</td><td>0</td><td>⋯</td><td>7</td><td>1020</td><td>  0</td><td>2009</td><td>0</td><td>98144</td><td>47.5944</td><td>-122.299</td><td>1020</td><td>2007</td></tr>\n",
       "\t<tr><th scope=row>21612</th><td> 291310100</td><td>20150116T000000</td><td>400000</td><td>3</td><td>2.50</td><td>1600</td><td>2388</td><td>2</td><td>0</td><td>0</td><td>⋯</td><td>8</td><td>1600</td><td>  0</td><td>2004</td><td>0</td><td>98027</td><td>47.5345</td><td>-122.069</td><td>1410</td><td>1287</td></tr>\n",
       "\t<tr><th scope=row>21613</th><td>1523300157</td><td>20141015T000000</td><td>325000</td><td>2</td><td>0.75</td><td>1020</td><td>1076</td><td>2</td><td>0</td><td>0</td><td>⋯</td><td>7</td><td>1020</td><td>  0</td><td>2008</td><td>0</td><td>98144</td><td>47.5941</td><td>-122.299</td><td>1020</td><td>1357</td></tr>\n",
       "</tbody>\n",
       "</table>\n"
      ],
      "text/latex": [
       "A data.frame: 6 × 21\n",
       "\\begin{tabular}{r|lllllllllllllllllllll}\n",
       "  & id & date & price & bedrooms & bathrooms & sqft\\_living & sqft\\_lot & floors & waterfront & view & ⋯ & grade & sqft\\_above & sqft\\_basement & yr\\_built & yr\\_renovated & zipcode & lat & long & sqft\\_living15 & sqft\\_lot15\\\\\n",
       "  & <dbl> & <chr> & <dbl> & <int> & <dbl> & <int> & <int> & <dbl> & <int> & <int> & ⋯ & <int> & <int> & <int> & <int> & <int> & <int> & <dbl> & <dbl> & <int> & <int>\\\\\n",
       "\\hline\n",
       "\t21608 & 2997800021 & 20150219T000000 & 475000 & 3 & 2.50 & 1310 & 1294 & 2 & 0 & 0 & ⋯ & 8 & 1180 & 130 & 2008 & 0 & 98116 & 47.5773 & -122.409 & 1330 & 1265\\\\\n",
       "\t21609 &  263000018 & 20140521T000000 & 360000 & 3 & 2.50 & 1530 & 1131 & 3 & 0 & 0 & ⋯ & 8 & 1530 &   0 & 2009 & 0 & 98103 & 47.6993 & -122.346 & 1530 & 1509\\\\\n",
       "\t21610 & 6600060120 & 20150223T000000 & 400000 & 4 & 2.50 & 2310 & 5813 & 2 & 0 & 0 & ⋯ & 8 & 2310 &   0 & 2014 & 0 & 98146 & 47.5107 & -122.362 & 1830 & 7200\\\\\n",
       "\t21611 & 1523300141 & 20140623T000000 & 402101 & 2 & 0.75 & 1020 & 1350 & 2 & 0 & 0 & ⋯ & 7 & 1020 &   0 & 2009 & 0 & 98144 & 47.5944 & -122.299 & 1020 & 2007\\\\\n",
       "\t21612 &  291310100 & 20150116T000000 & 400000 & 3 & 2.50 & 1600 & 2388 & 2 & 0 & 0 & ⋯ & 8 & 1600 &   0 & 2004 & 0 & 98027 & 47.5345 & -122.069 & 1410 & 1287\\\\\n",
       "\t21613 & 1523300157 & 20141015T000000 & 325000 & 2 & 0.75 & 1020 & 1076 & 2 & 0 & 0 & ⋯ & 7 & 1020 &   0 & 2008 & 0 & 98144 & 47.5941 & -122.299 & 1020 & 1357\\\\\n",
       "\\end{tabular}\n"
      ],
      "text/markdown": [
       "\n",
       "A data.frame: 6 × 21\n",
       "\n",
       "| <!--/--> | id &lt;dbl&gt; | date &lt;chr&gt; | price &lt;dbl&gt; | bedrooms &lt;int&gt; | bathrooms &lt;dbl&gt; | sqft_living &lt;int&gt; | sqft_lot &lt;int&gt; | floors &lt;dbl&gt; | waterfront &lt;int&gt; | view &lt;int&gt; | ⋯ ⋯ | grade &lt;int&gt; | sqft_above &lt;int&gt; | sqft_basement &lt;int&gt; | yr_built &lt;int&gt; | yr_renovated &lt;int&gt; | zipcode &lt;int&gt; | lat &lt;dbl&gt; | long &lt;dbl&gt; | sqft_living15 &lt;int&gt; | sqft_lot15 &lt;int&gt; |\n",
       "|---|---|---|---|---|---|---|---|---|---|---|---|---|---|---|---|---|---|---|---|---|---|\n",
       "| 21608 | 2997800021 | 20150219T000000 | 475000 | 3 | 2.50 | 1310 | 1294 | 2 | 0 | 0 | ⋯ | 8 | 1180 | 130 | 2008 | 0 | 98116 | 47.5773 | -122.409 | 1330 | 1265 |\n",
       "| 21609 |  263000018 | 20140521T000000 | 360000 | 3 | 2.50 | 1530 | 1131 | 3 | 0 | 0 | ⋯ | 8 | 1530 |   0 | 2009 | 0 | 98103 | 47.6993 | -122.346 | 1530 | 1509 |\n",
       "| 21610 | 6600060120 | 20150223T000000 | 400000 | 4 | 2.50 | 2310 | 5813 | 2 | 0 | 0 | ⋯ | 8 | 2310 |   0 | 2014 | 0 | 98146 | 47.5107 | -122.362 | 1830 | 7200 |\n",
       "| 21611 | 1523300141 | 20140623T000000 | 402101 | 2 | 0.75 | 1020 | 1350 | 2 | 0 | 0 | ⋯ | 7 | 1020 |   0 | 2009 | 0 | 98144 | 47.5944 | -122.299 | 1020 | 2007 |\n",
       "| 21612 |  291310100 | 20150116T000000 | 400000 | 3 | 2.50 | 1600 | 2388 | 2 | 0 | 0 | ⋯ | 8 | 1600 |   0 | 2004 | 0 | 98027 | 47.5345 | -122.069 | 1410 | 1287 |\n",
       "| 21613 | 1523300157 | 20141015T000000 | 325000 | 2 | 0.75 | 1020 | 1076 | 2 | 0 | 0 | ⋯ | 7 | 1020 |   0 | 2008 | 0 | 98144 | 47.5941 | -122.299 | 1020 | 1357 |\n",
       "\n"
      ],
      "text/plain": [
       "      id         date            price  bedrooms bathrooms sqft_living sqft_lot\n",
       "21608 2997800021 20150219T000000 475000 3        2.50      1310        1294    \n",
       "21609  263000018 20140521T000000 360000 3        2.50      1530        1131    \n",
       "21610 6600060120 20150223T000000 400000 4        2.50      2310        5813    \n",
       "21611 1523300141 20140623T000000 402101 2        0.75      1020        1350    \n",
       "21612  291310100 20150116T000000 400000 3        2.50      1600        2388    \n",
       "21613 1523300157 20141015T000000 325000 2        0.75      1020        1076    \n",
       "      floors waterfront view ⋯ grade sqft_above sqft_basement yr_built\n",
       "21608 2      0          0    ⋯ 8     1180       130           2008    \n",
       "21609 3      0          0    ⋯ 8     1530         0           2009    \n",
       "21610 2      0          0    ⋯ 8     2310         0           2014    \n",
       "21611 2      0          0    ⋯ 7     1020         0           2009    \n",
       "21612 2      0          0    ⋯ 8     1600         0           2004    \n",
       "21613 2      0          0    ⋯ 7     1020         0           2008    \n",
       "      yr_renovated zipcode lat     long     sqft_living15 sqft_lot15\n",
       "21608 0            98116   47.5773 -122.409 1330          1265      \n",
       "21609 0            98103   47.6993 -122.346 1530          1509      \n",
       "21610 0            98146   47.5107 -122.362 1830          7200      \n",
       "21611 0            98144   47.5944 -122.299 1020          2007      \n",
       "21612 0            98027   47.5345 -122.069 1410          1287      \n",
       "21613 0            98144   47.5941 -122.299 1020          1357      "
      ]
     },
     "metadata": {},
     "output_type": "display_data"
    }
   ],
   "source": [
    "tail(lineardata)"
   ]
  },
  {
   "cell_type": "code",
   "execution_count": 7,
   "id": "c03b8eab",
   "metadata": {},
   "outputs": [
    {
     "data": {
      "text/html": [
       "21613"
      ],
      "text/latex": [
       "21613"
      ],
      "text/markdown": [
       "21613"
      ],
      "text/plain": [
       "[1] 21613"
      ]
     },
     "metadata": {},
     "output_type": "display_data"
    }
   ],
   "source": [
    "nrow(lineardata)\n"
   ]
  },
  {
   "cell_type": "code",
   "execution_count": 8,
   "id": "aa8d32eb",
   "metadata": {},
   "outputs": [
    {
     "data": {
      "text/html": [
       "<table class=\"dataframe\">\n",
       "<caption>A data.frame: 6 × 19</caption>\n",
       "<thead>\n",
       "\t<tr><th></th><th scope=col>price</th><th scope=col>bedrooms</th><th scope=col>bathrooms</th><th scope=col>sqft_living</th><th scope=col>sqft_lot</th><th scope=col>floors</th><th scope=col>waterfront</th><th scope=col>view</th><th scope=col>condition</th><th scope=col>grade</th><th scope=col>sqft_above</th><th scope=col>sqft_basement</th><th scope=col>yr_built</th><th scope=col>yr_renovated</th><th scope=col>zipcode</th><th scope=col>lat</th><th scope=col>long</th><th scope=col>sqft_living15</th><th scope=col>sqft_lot15</th></tr>\n",
       "\t<tr><th></th><th scope=col>&lt;dbl&gt;</th><th scope=col>&lt;int&gt;</th><th scope=col>&lt;dbl&gt;</th><th scope=col>&lt;int&gt;</th><th scope=col>&lt;int&gt;</th><th scope=col>&lt;dbl&gt;</th><th scope=col>&lt;int&gt;</th><th scope=col>&lt;int&gt;</th><th scope=col>&lt;int&gt;</th><th scope=col>&lt;int&gt;</th><th scope=col>&lt;int&gt;</th><th scope=col>&lt;int&gt;</th><th scope=col>&lt;int&gt;</th><th scope=col>&lt;int&gt;</th><th scope=col>&lt;int&gt;</th><th scope=col>&lt;dbl&gt;</th><th scope=col>&lt;dbl&gt;</th><th scope=col>&lt;int&gt;</th><th scope=col>&lt;int&gt;</th></tr>\n",
       "</thead>\n",
       "<tbody>\n",
       "\t<tr><th scope=row>1</th><td> 221900</td><td>3</td><td>1.00</td><td>1180</td><td>  5650</td><td>1</td><td>0</td><td>0</td><td>3</td><td> 7</td><td>1180</td><td>   0</td><td>1955</td><td>   0</td><td>98178</td><td>47.5112</td><td>-122.257</td><td>1340</td><td>  5650</td></tr>\n",
       "\t<tr><th scope=row>2</th><td> 538000</td><td>3</td><td>2.25</td><td>2570</td><td>  7242</td><td>2</td><td>0</td><td>0</td><td>3</td><td> 7</td><td>2170</td><td> 400</td><td>1951</td><td>1991</td><td>98125</td><td>47.7210</td><td>-122.319</td><td>1690</td><td>  7639</td></tr>\n",
       "\t<tr><th scope=row>3</th><td> 180000</td><td>2</td><td>1.00</td><td> 770</td><td> 10000</td><td>1</td><td>0</td><td>0</td><td>3</td><td> 6</td><td> 770</td><td>   0</td><td>1933</td><td>   0</td><td>98028</td><td>47.7379</td><td>-122.233</td><td>2720</td><td>  8062</td></tr>\n",
       "\t<tr><th scope=row>4</th><td> 604000</td><td>4</td><td>3.00</td><td>1960</td><td>  5000</td><td>1</td><td>0</td><td>0</td><td>5</td><td> 7</td><td>1050</td><td> 910</td><td>1965</td><td>   0</td><td>98136</td><td>47.5208</td><td>-122.393</td><td>1360</td><td>  5000</td></tr>\n",
       "\t<tr><th scope=row>5</th><td> 510000</td><td>3</td><td>2.00</td><td>1680</td><td>  8080</td><td>1</td><td>0</td><td>0</td><td>3</td><td> 8</td><td>1680</td><td>   0</td><td>1987</td><td>   0</td><td>98074</td><td>47.6168</td><td>-122.045</td><td>1800</td><td>  7503</td></tr>\n",
       "\t<tr><th scope=row>6</th><td>1230000</td><td>4</td><td>4.50</td><td>5420</td><td>101930</td><td>1</td><td>0</td><td>0</td><td>3</td><td>11</td><td>3890</td><td>1530</td><td>2001</td><td>   0</td><td>98053</td><td>47.6561</td><td>-122.005</td><td>4760</td><td>101930</td></tr>\n",
       "</tbody>\n",
       "</table>\n"
      ],
      "text/latex": [
       "A data.frame: 6 × 19\n",
       "\\begin{tabular}{r|lllllllllllllllllll}\n",
       "  & price & bedrooms & bathrooms & sqft\\_living & sqft\\_lot & floors & waterfront & view & condition & grade & sqft\\_above & sqft\\_basement & yr\\_built & yr\\_renovated & zipcode & lat & long & sqft\\_living15 & sqft\\_lot15\\\\\n",
       "  & <dbl> & <int> & <dbl> & <int> & <int> & <dbl> & <int> & <int> & <int> & <int> & <int> & <int> & <int> & <int> & <int> & <dbl> & <dbl> & <int> & <int>\\\\\n",
       "\\hline\n",
       "\t1 &  221900 & 3 & 1.00 & 1180 &   5650 & 1 & 0 & 0 & 3 &  7 & 1180 &    0 & 1955 &    0 & 98178 & 47.5112 & -122.257 & 1340 &   5650\\\\\n",
       "\t2 &  538000 & 3 & 2.25 & 2570 &   7242 & 2 & 0 & 0 & 3 &  7 & 2170 &  400 & 1951 & 1991 & 98125 & 47.7210 & -122.319 & 1690 &   7639\\\\\n",
       "\t3 &  180000 & 2 & 1.00 &  770 &  10000 & 1 & 0 & 0 & 3 &  6 &  770 &    0 & 1933 &    0 & 98028 & 47.7379 & -122.233 & 2720 &   8062\\\\\n",
       "\t4 &  604000 & 4 & 3.00 & 1960 &   5000 & 1 & 0 & 0 & 5 &  7 & 1050 &  910 & 1965 &    0 & 98136 & 47.5208 & -122.393 & 1360 &   5000\\\\\n",
       "\t5 &  510000 & 3 & 2.00 & 1680 &   8080 & 1 & 0 & 0 & 3 &  8 & 1680 &    0 & 1987 &    0 & 98074 & 47.6168 & -122.045 & 1800 &   7503\\\\\n",
       "\t6 & 1230000 & 4 & 4.50 & 5420 & 101930 & 1 & 0 & 0 & 3 & 11 & 3890 & 1530 & 2001 &    0 & 98053 & 47.6561 & -122.005 & 4760 & 101930\\\\\n",
       "\\end{tabular}\n"
      ],
      "text/markdown": [
       "\n",
       "A data.frame: 6 × 19\n",
       "\n",
       "| <!--/--> | price &lt;dbl&gt; | bedrooms &lt;int&gt; | bathrooms &lt;dbl&gt; | sqft_living &lt;int&gt; | sqft_lot &lt;int&gt; | floors &lt;dbl&gt; | waterfront &lt;int&gt; | view &lt;int&gt; | condition &lt;int&gt; | grade &lt;int&gt; | sqft_above &lt;int&gt; | sqft_basement &lt;int&gt; | yr_built &lt;int&gt; | yr_renovated &lt;int&gt; | zipcode &lt;int&gt; | lat &lt;dbl&gt; | long &lt;dbl&gt; | sqft_living15 &lt;int&gt; | sqft_lot15 &lt;int&gt; |\n",
       "|---|---|---|---|---|---|---|---|---|---|---|---|---|---|---|---|---|---|---|---|\n",
       "| 1 |  221900 | 3 | 1.00 | 1180 |   5650 | 1 | 0 | 0 | 3 |  7 | 1180 |    0 | 1955 |    0 | 98178 | 47.5112 | -122.257 | 1340 |   5650 |\n",
       "| 2 |  538000 | 3 | 2.25 | 2570 |   7242 | 2 | 0 | 0 | 3 |  7 | 2170 |  400 | 1951 | 1991 | 98125 | 47.7210 | -122.319 | 1690 |   7639 |\n",
       "| 3 |  180000 | 2 | 1.00 |  770 |  10000 | 1 | 0 | 0 | 3 |  6 |  770 |    0 | 1933 |    0 | 98028 | 47.7379 | -122.233 | 2720 |   8062 |\n",
       "| 4 |  604000 | 4 | 3.00 | 1960 |   5000 | 1 | 0 | 0 | 5 |  7 | 1050 |  910 | 1965 |    0 | 98136 | 47.5208 | -122.393 | 1360 |   5000 |\n",
       "| 5 |  510000 | 3 | 2.00 | 1680 |   8080 | 1 | 0 | 0 | 3 |  8 | 1680 |    0 | 1987 |    0 | 98074 | 47.6168 | -122.045 | 1800 |   7503 |\n",
       "| 6 | 1230000 | 4 | 4.50 | 5420 | 101930 | 1 | 0 | 0 | 3 | 11 | 3890 | 1530 | 2001 |    0 | 98053 | 47.6561 | -122.005 | 4760 | 101930 |\n",
       "\n"
      ],
      "text/plain": [
       "  price   bedrooms bathrooms sqft_living sqft_lot floors waterfront view\n",
       "1  221900 3        1.00      1180          5650   1      0          0   \n",
       "2  538000 3        2.25      2570          7242   2      0          0   \n",
       "3  180000 2        1.00       770         10000   1      0          0   \n",
       "4  604000 4        3.00      1960          5000   1      0          0   \n",
       "5  510000 3        2.00      1680          8080   1      0          0   \n",
       "6 1230000 4        4.50      5420        101930   1      0          0   \n",
       "  condition grade sqft_above sqft_basement yr_built yr_renovated zipcode\n",
       "1 3          7    1180          0          1955        0         98178  \n",
       "2 3          7    2170        400          1951     1991         98125  \n",
       "3 3          6     770          0          1933        0         98028  \n",
       "4 5          7    1050        910          1965        0         98136  \n",
       "5 3          8    1680          0          1987        0         98074  \n",
       "6 3         11    3890       1530          2001        0         98053  \n",
       "  lat     long     sqft_living15 sqft_lot15\n",
       "1 47.5112 -122.257 1340            5650    \n",
       "2 47.7210 -122.319 1690            7639    \n",
       "3 47.7379 -122.233 2720            8062    \n",
       "4 47.5208 -122.393 1360            5000    \n",
       "5 47.6168 -122.045 1800            7503    \n",
       "6 47.6561 -122.005 4760          101930    "
      ]
     },
     "metadata": {},
     "output_type": "display_data"
    }
   ],
   "source": [
    "lineardata$id<-NULL\n",
    "lineardata$date<-NULL\n",
    "head(lineardata)"
   ]
  },
  {
   "cell_type": "code",
   "execution_count": 9,
   "id": "b268b810",
   "metadata": {
    "scrolled": true
   },
   "outputs": [
    {
     "data": {
      "text/html": [
       "0"
      ],
      "text/latex": [
       "0"
      ],
      "text/markdown": [
       "0"
      ],
      "text/plain": [
       "[1] 0"
      ]
     },
     "metadata": {},
     "output_type": "display_data"
    }
   ],
   "source": [
    "NAindata<-sum(is.na(lineardata))\n",
    "NAindata"
   ]
  },
  {
   "cell_type": "code",
   "execution_count": 10,
   "id": "76936657",
   "metadata": {},
   "outputs": [
    {
     "data": {
      "text/html": [
       "<table class=\"dataframe\">\n",
       "<caption>A matrix: 19 × 19 of type dbl</caption>\n",
       "<thead>\n",
       "\t<tr><th></th><th scope=col>price</th><th scope=col>bedrooms</th><th scope=col>bathrooms</th><th scope=col>sqft_living</th><th scope=col>sqft_lot</th><th scope=col>floors</th><th scope=col>waterfront</th><th scope=col>view</th><th scope=col>condition</th><th scope=col>grade</th><th scope=col>sqft_above</th><th scope=col>sqft_basement</th><th scope=col>yr_built</th><th scope=col>yr_renovated</th><th scope=col>zipcode</th><th scope=col>lat</th><th scope=col>long</th><th scope=col>sqft_living15</th><th scope=col>sqft_lot15</th></tr>\n",
       "</thead>\n",
       "<tbody>\n",
       "\t<tr><th scope=row>price</th><td> 1.00000000</td><td> 0.308338369</td><td> 0.52513407</td><td> 0.70204372</td><td> 0.089655208</td><td> 0.256785705</td><td> 0.266330511</td><td> 0.397346474</td><td> 0.036391921</td><td> 0.66746274</td><td> 0.6055655067</td><td> 0.32383736</td><td> 0.05398183</td><td> 0.126442229</td><td>-0.053168199</td><td> 0.3069187697</td><td> 0.02157079</td><td> 0.585374006</td><td> 0.082455546</td></tr>\n",
       "\t<tr><th scope=row>bedrooms</th><td> 0.30833837</td><td> 1.000000000</td><td> 0.51588364</td><td> 0.57667069</td><td> 0.031703243</td><td> 0.175428935</td><td>-0.006582479</td><td> 0.079531852</td><td> 0.028472104</td><td> 0.35696673</td><td> 0.4776001614</td><td> 0.30309338</td><td> 0.15417807</td><td> 0.018840823</td><td>-0.152668487</td><td>-0.0089310097</td><td> 0.12947298</td><td> 0.391637524</td><td> 0.029244224</td></tr>\n",
       "\t<tr><th scope=row>bathrooms</th><td> 0.52513407</td><td> 0.515883638</td><td> 1.00000000</td><td> 0.75466528</td><td> 0.087739662</td><td> 0.500653173</td><td> 0.063743629</td><td> 0.187737024</td><td>-0.124981933</td><td> 0.66498253</td><td> 0.6853424759</td><td> 0.28377003</td><td> 0.50601944</td><td> 0.050738978</td><td>-0.203866274</td><td> 0.0245729528</td><td> 0.22304184</td><td> 0.568634290</td><td> 0.087175361</td></tr>\n",
       "\t<tr><th scope=row>sqft_living</th><td> 0.70204372</td><td> 0.576670693</td><td> 0.75466528</td><td> 1.00000000</td><td> 0.172825661</td><td> 0.353949290</td><td> 0.103817818</td><td> 0.284611186</td><td>-0.058752587</td><td> 0.76270448</td><td> 0.8765965987</td><td> 0.43504297</td><td> 0.31804877</td><td> 0.055362927</td><td>-0.199430043</td><td> 0.0525294622</td><td> 0.24022330</td><td> 0.756420259</td><td> 0.183285551</td></tr>\n",
       "\t<tr><th scope=row>sqft_lot</th><td> 0.08965521</td><td> 0.031703243</td><td> 0.08773966</td><td> 0.17282566</td><td> 1.000000000</td><td>-0.005200991</td><td> 0.021603683</td><td> 0.074710106</td><td>-0.008958250</td><td> 0.11362112</td><td> 0.1835122809</td><td> 0.01528620</td><td> 0.05308037</td><td> 0.007643505</td><td>-0.129574486</td><td>-0.0856827882</td><td> 0.22952086</td><td> 0.144608174</td><td> 0.718556752</td></tr>\n",
       "\t<tr><th scope=row>floors</th><td> 0.25678570</td><td> 0.175428935</td><td> 0.50065317</td><td> 0.35394929</td><td>-0.005200991</td><td> 1.000000000</td><td> 0.023698320</td><td> 0.029443820</td><td>-0.263767946</td><td> 0.45818251</td><td> 0.5238847103</td><td>-0.24570454</td><td> 0.48931942</td><td> 0.006338401</td><td>-0.059120642</td><td> 0.0496141310</td><td> 0.12541903</td><td> 0.279885265</td><td>-0.011269187</td></tr>\n",
       "\t<tr><th scope=row>waterfront</th><td> 0.26633051</td><td>-0.006582479</td><td> 0.06374363</td><td> 0.10381782</td><td> 0.021603683</td><td> 0.023698320</td><td> 1.000000000</td><td> 0.401857351</td><td> 0.016653157</td><td> 0.08277491</td><td> 0.0720745917</td><td> 0.08058794</td><td>-0.02616109</td><td> 0.092884837</td><td> 0.030284728</td><td>-0.0142737756</td><td>-0.04191020</td><td> 0.086463136</td><td> 0.030703283</td></tr>\n",
       "\t<tr><th scope=row>view</th><td> 0.39734647</td><td> 0.079531852</td><td> 0.18773702</td><td> 0.28461119</td><td> 0.074710106</td><td> 0.029443820</td><td> 0.401857351</td><td> 1.000000000</td><td> 0.045989737</td><td> 0.25132058</td><td> 0.1676493441</td><td> 0.27694658</td><td>-0.05343985</td><td> 0.103917288</td><td> 0.084826917</td><td> 0.0061567321</td><td>-0.07839971</td><td> 0.280439082</td><td> 0.072574568</td></tr>\n",
       "\t<tr><th scope=row>condition</th><td> 0.03639192</td><td> 0.028472104</td><td>-0.12498193</td><td>-0.05875259</td><td>-0.008958250</td><td>-0.263767946</td><td> 0.016653157</td><td> 0.045989737</td><td> 1.000000000</td><td>-0.14467367</td><td>-0.1582136164</td><td> 0.17410491</td><td>-0.36141656</td><td>-0.060617787</td><td> 0.003025524</td><td>-0.0149410064</td><td>-0.10650045</td><td>-0.092824268</td><td>-0.003405523</td></tr>\n",
       "\t<tr><th scope=row>grade</th><td> 0.66746274</td><td> 0.356966725</td><td> 0.66498253</td><td> 0.76270448</td><td> 0.113621124</td><td> 0.458182514</td><td> 0.082774914</td><td> 0.251320585</td><td>-0.144673671</td><td> 1.00000000</td><td> 0.7559229376</td><td> 0.16839182</td><td> 0.44696320</td><td> 0.014414281</td><td>-0.184862093</td><td> 0.1140840571</td><td> 0.19837215</td><td> 0.713202093</td><td> 0.119247897</td></tr>\n",
       "\t<tr><th scope=row>sqft_above</th><td> 0.60556551</td><td> 0.477600161</td><td> 0.68534248</td><td> 0.87659660</td><td> 0.183512281</td><td> 0.523884710</td><td> 0.072074592</td><td> 0.167649344</td><td>-0.158213616</td><td> 0.75592294</td><td> 1.0000000000</td><td>-0.05194331</td><td> 0.42389835</td><td> 0.023284688</td><td>-0.261189977</td><td>-0.0008164986</td><td> 0.34380302</td><td> 0.731870292</td><td> 0.194049862</td></tr>\n",
       "\t<tr><th scope=row>sqft_basement</th><td> 0.32383736</td><td> 0.303093375</td><td> 0.28377003</td><td> 0.43504297</td><td> 0.015286202</td><td>-0.245704542</td><td> 0.080587939</td><td> 0.276946579</td><td> 0.174104914</td><td> 0.16839182</td><td>-0.0519433068</td><td> 1.00000000</td><td>-0.13312410</td><td> 0.071322902</td><td> 0.074844608</td><td> 0.1105379580</td><td>-0.14476477</td><td> 0.200354983</td><td> 0.017276181</td></tr>\n",
       "\t<tr><th scope=row>yr_built</th><td> 0.05398183</td><td> 0.154178069</td><td> 0.50601944</td><td> 0.31804877</td><td> 0.053080367</td><td> 0.489319425</td><td>-0.026161086</td><td>-0.053439851</td><td>-0.361416562</td><td> 0.44696320</td><td> 0.4238983517</td><td>-0.13312410</td><td> 1.00000000</td><td>-0.224873518</td><td>-0.346869178</td><td>-0.1481224021</td><td> 0.40935620</td><td> 0.326228900</td><td> 0.070957926</td></tr>\n",
       "\t<tr><th scope=row>yr_renovated</th><td> 0.12644223</td><td> 0.018840823</td><td> 0.05073898</td><td> 0.05536293</td><td> 0.007643505</td><td> 0.006338401</td><td> 0.092884837</td><td> 0.103917288</td><td>-0.060617787</td><td> 0.01441428</td><td> 0.0232846879</td><td> 0.07132290</td><td>-0.22487352</td><td> 1.000000000</td><td> 0.064357057</td><td> 0.0293976092</td><td>-0.06837237</td><td>-0.002672555</td><td> 0.007853765</td></tr>\n",
       "\t<tr><th scope=row>zipcode</th><td>-0.05316820</td><td>-0.152668487</td><td>-0.20386627</td><td>-0.19943004</td><td>-0.129574486</td><td>-0.059120642</td><td> 0.030284728</td><td> 0.084826917</td><td> 0.003025524</td><td>-0.18486209</td><td>-0.2611899765</td><td> 0.07484461</td><td>-0.34686918</td><td> 0.064357057</td><td> 1.000000000</td><td> 0.2670479500</td><td>-0.56407161</td><td>-0.279032997</td><td>-0.147221069</td></tr>\n",
       "\t<tr><th scope=row>lat</th><td> 0.30691877</td><td>-0.008931010</td><td> 0.02457295</td><td> 0.05252946</td><td>-0.085682788</td><td> 0.049614131</td><td>-0.014273776</td><td> 0.006156732</td><td>-0.014941006</td><td> 0.11408406</td><td>-0.0008164986</td><td> 0.11053796</td><td>-0.14812240</td><td> 0.029397609</td><td> 0.267047950</td><td> 1.0000000000</td><td>-0.13551178</td><td> 0.048857932</td><td>-0.086418807</td></tr>\n",
       "\t<tr><th scope=row>long</th><td> 0.02157079</td><td> 0.129472975</td><td> 0.22304184</td><td> 0.24022330</td><td> 0.229520859</td><td> 0.125419028</td><td>-0.041910200</td><td>-0.078399712</td><td>-0.106500448</td><td> 0.19837215</td><td> 0.3438030175</td><td>-0.14476477</td><td> 0.40935620</td><td>-0.068372369</td><td>-0.564071606</td><td>-0.1355117836</td><td> 1.00000000</td><td> 0.334604984</td><td> 0.254451288</td></tr>\n",
       "\t<tr><th scope=row>sqft_living15</th><td> 0.58537401</td><td> 0.391637524</td><td> 0.56863429</td><td> 0.75642026</td><td> 0.144608174</td><td> 0.279885265</td><td> 0.086463136</td><td> 0.280439082</td><td>-0.092824268</td><td> 0.71320209</td><td> 0.7318702924</td><td> 0.20035498</td><td> 0.32622890</td><td>-0.002672555</td><td>-0.279032997</td><td> 0.0488579321</td><td> 0.33460498</td><td> 1.000000000</td><td> 0.183191749</td></tr>\n",
       "\t<tr><th scope=row>sqft_lot15</th><td> 0.08245555</td><td> 0.029244224</td><td> 0.08717536</td><td> 0.18328555</td><td> 0.718556752</td><td>-0.011269187</td><td> 0.030703283</td><td> 0.072574568</td><td>-0.003405523</td><td> 0.11924790</td><td> 0.1940498619</td><td> 0.01727618</td><td> 0.07095793</td><td> 0.007853765</td><td>-0.147221069</td><td>-0.0864188072</td><td> 0.25445129</td><td> 0.183191749</td><td> 1.000000000</td></tr>\n",
       "</tbody>\n",
       "</table>\n"
      ],
      "text/latex": [
       "A matrix: 19 × 19 of type dbl\n",
       "\\begin{tabular}{r|lllllllllllllllllll}\n",
       "  & price & bedrooms & bathrooms & sqft\\_living & sqft\\_lot & floors & waterfront & view & condition & grade & sqft\\_above & sqft\\_basement & yr\\_built & yr\\_renovated & zipcode & lat & long & sqft\\_living15 & sqft\\_lot15\\\\\n",
       "\\hline\n",
       "\tprice &  1.00000000 &  0.308338369 &  0.52513407 &  0.70204372 &  0.089655208 &  0.256785705 &  0.266330511 &  0.397346474 &  0.036391921 &  0.66746274 &  0.6055655067 &  0.32383736 &  0.05398183 &  0.126442229 & -0.053168199 &  0.3069187697 &  0.02157079 &  0.585374006 &  0.082455546\\\\\n",
       "\tbedrooms &  0.30833837 &  1.000000000 &  0.51588364 &  0.57667069 &  0.031703243 &  0.175428935 & -0.006582479 &  0.079531852 &  0.028472104 &  0.35696673 &  0.4776001614 &  0.30309338 &  0.15417807 &  0.018840823 & -0.152668487 & -0.0089310097 &  0.12947298 &  0.391637524 &  0.029244224\\\\\n",
       "\tbathrooms &  0.52513407 &  0.515883638 &  1.00000000 &  0.75466528 &  0.087739662 &  0.500653173 &  0.063743629 &  0.187737024 & -0.124981933 &  0.66498253 &  0.6853424759 &  0.28377003 &  0.50601944 &  0.050738978 & -0.203866274 &  0.0245729528 &  0.22304184 &  0.568634290 &  0.087175361\\\\\n",
       "\tsqft\\_living &  0.70204372 &  0.576670693 &  0.75466528 &  1.00000000 &  0.172825661 &  0.353949290 &  0.103817818 &  0.284611186 & -0.058752587 &  0.76270448 &  0.8765965987 &  0.43504297 &  0.31804877 &  0.055362927 & -0.199430043 &  0.0525294622 &  0.24022330 &  0.756420259 &  0.183285551\\\\\n",
       "\tsqft\\_lot &  0.08965521 &  0.031703243 &  0.08773966 &  0.17282566 &  1.000000000 & -0.005200991 &  0.021603683 &  0.074710106 & -0.008958250 &  0.11362112 &  0.1835122809 &  0.01528620 &  0.05308037 &  0.007643505 & -0.129574486 & -0.0856827882 &  0.22952086 &  0.144608174 &  0.718556752\\\\\n",
       "\tfloors &  0.25678570 &  0.175428935 &  0.50065317 &  0.35394929 & -0.005200991 &  1.000000000 &  0.023698320 &  0.029443820 & -0.263767946 &  0.45818251 &  0.5238847103 & -0.24570454 &  0.48931942 &  0.006338401 & -0.059120642 &  0.0496141310 &  0.12541903 &  0.279885265 & -0.011269187\\\\\n",
       "\twaterfront &  0.26633051 & -0.006582479 &  0.06374363 &  0.10381782 &  0.021603683 &  0.023698320 &  1.000000000 &  0.401857351 &  0.016653157 &  0.08277491 &  0.0720745917 &  0.08058794 & -0.02616109 &  0.092884837 &  0.030284728 & -0.0142737756 & -0.04191020 &  0.086463136 &  0.030703283\\\\\n",
       "\tview &  0.39734647 &  0.079531852 &  0.18773702 &  0.28461119 &  0.074710106 &  0.029443820 &  0.401857351 &  1.000000000 &  0.045989737 &  0.25132058 &  0.1676493441 &  0.27694658 & -0.05343985 &  0.103917288 &  0.084826917 &  0.0061567321 & -0.07839971 &  0.280439082 &  0.072574568\\\\\n",
       "\tcondition &  0.03639192 &  0.028472104 & -0.12498193 & -0.05875259 & -0.008958250 & -0.263767946 &  0.016653157 &  0.045989737 &  1.000000000 & -0.14467367 & -0.1582136164 &  0.17410491 & -0.36141656 & -0.060617787 &  0.003025524 & -0.0149410064 & -0.10650045 & -0.092824268 & -0.003405523\\\\\n",
       "\tgrade &  0.66746274 &  0.356966725 &  0.66498253 &  0.76270448 &  0.113621124 &  0.458182514 &  0.082774914 &  0.251320585 & -0.144673671 &  1.00000000 &  0.7559229376 &  0.16839182 &  0.44696320 &  0.014414281 & -0.184862093 &  0.1140840571 &  0.19837215 &  0.713202093 &  0.119247897\\\\\n",
       "\tsqft\\_above &  0.60556551 &  0.477600161 &  0.68534248 &  0.87659660 &  0.183512281 &  0.523884710 &  0.072074592 &  0.167649344 & -0.158213616 &  0.75592294 &  1.0000000000 & -0.05194331 &  0.42389835 &  0.023284688 & -0.261189977 & -0.0008164986 &  0.34380302 &  0.731870292 &  0.194049862\\\\\n",
       "\tsqft\\_basement &  0.32383736 &  0.303093375 &  0.28377003 &  0.43504297 &  0.015286202 & -0.245704542 &  0.080587939 &  0.276946579 &  0.174104914 &  0.16839182 & -0.0519433068 &  1.00000000 & -0.13312410 &  0.071322902 &  0.074844608 &  0.1105379580 & -0.14476477 &  0.200354983 &  0.017276181\\\\\n",
       "\tyr\\_built &  0.05398183 &  0.154178069 &  0.50601944 &  0.31804877 &  0.053080367 &  0.489319425 & -0.026161086 & -0.053439851 & -0.361416562 &  0.44696320 &  0.4238983517 & -0.13312410 &  1.00000000 & -0.224873518 & -0.346869178 & -0.1481224021 &  0.40935620 &  0.326228900 &  0.070957926\\\\\n",
       "\tyr\\_renovated &  0.12644223 &  0.018840823 &  0.05073898 &  0.05536293 &  0.007643505 &  0.006338401 &  0.092884837 &  0.103917288 & -0.060617787 &  0.01441428 &  0.0232846879 &  0.07132290 & -0.22487352 &  1.000000000 &  0.064357057 &  0.0293976092 & -0.06837237 & -0.002672555 &  0.007853765\\\\\n",
       "\tzipcode & -0.05316820 & -0.152668487 & -0.20386627 & -0.19943004 & -0.129574486 & -0.059120642 &  0.030284728 &  0.084826917 &  0.003025524 & -0.18486209 & -0.2611899765 &  0.07484461 & -0.34686918 &  0.064357057 &  1.000000000 &  0.2670479500 & -0.56407161 & -0.279032997 & -0.147221069\\\\\n",
       "\tlat &  0.30691877 & -0.008931010 &  0.02457295 &  0.05252946 & -0.085682788 &  0.049614131 & -0.014273776 &  0.006156732 & -0.014941006 &  0.11408406 & -0.0008164986 &  0.11053796 & -0.14812240 &  0.029397609 &  0.267047950 &  1.0000000000 & -0.13551178 &  0.048857932 & -0.086418807\\\\\n",
       "\tlong &  0.02157079 &  0.129472975 &  0.22304184 &  0.24022330 &  0.229520859 &  0.125419028 & -0.041910200 & -0.078399712 & -0.106500448 &  0.19837215 &  0.3438030175 & -0.14476477 &  0.40935620 & -0.068372369 & -0.564071606 & -0.1355117836 &  1.00000000 &  0.334604984 &  0.254451288\\\\\n",
       "\tsqft\\_living15 &  0.58537401 &  0.391637524 &  0.56863429 &  0.75642026 &  0.144608174 &  0.279885265 &  0.086463136 &  0.280439082 & -0.092824268 &  0.71320209 &  0.7318702924 &  0.20035498 &  0.32622890 & -0.002672555 & -0.279032997 &  0.0488579321 &  0.33460498 &  1.000000000 &  0.183191749\\\\\n",
       "\tsqft\\_lot15 &  0.08245555 &  0.029244224 &  0.08717536 &  0.18328555 &  0.718556752 & -0.011269187 &  0.030703283 &  0.072574568 & -0.003405523 &  0.11924790 &  0.1940498619 &  0.01727618 &  0.07095793 &  0.007853765 & -0.147221069 & -0.0864188072 &  0.25445129 &  0.183191749 &  1.000000000\\\\\n",
       "\\end{tabular}\n"
      ],
      "text/markdown": [
       "\n",
       "A matrix: 19 × 19 of type dbl\n",
       "\n",
       "| <!--/--> | price | bedrooms | bathrooms | sqft_living | sqft_lot | floors | waterfront | view | condition | grade | sqft_above | sqft_basement | yr_built | yr_renovated | zipcode | lat | long | sqft_living15 | sqft_lot15 |\n",
       "|---|---|---|---|---|---|---|---|---|---|---|---|---|---|---|---|---|---|---|---|\n",
       "| price |  1.00000000 |  0.308338369 |  0.52513407 |  0.70204372 |  0.089655208 |  0.256785705 |  0.266330511 |  0.397346474 |  0.036391921 |  0.66746274 |  0.6055655067 |  0.32383736 |  0.05398183 |  0.126442229 | -0.053168199 |  0.3069187697 |  0.02157079 |  0.585374006 |  0.082455546 |\n",
       "| bedrooms |  0.30833837 |  1.000000000 |  0.51588364 |  0.57667069 |  0.031703243 |  0.175428935 | -0.006582479 |  0.079531852 |  0.028472104 |  0.35696673 |  0.4776001614 |  0.30309338 |  0.15417807 |  0.018840823 | -0.152668487 | -0.0089310097 |  0.12947298 |  0.391637524 |  0.029244224 |\n",
       "| bathrooms |  0.52513407 |  0.515883638 |  1.00000000 |  0.75466528 |  0.087739662 |  0.500653173 |  0.063743629 |  0.187737024 | -0.124981933 |  0.66498253 |  0.6853424759 |  0.28377003 |  0.50601944 |  0.050738978 | -0.203866274 |  0.0245729528 |  0.22304184 |  0.568634290 |  0.087175361 |\n",
       "| sqft_living |  0.70204372 |  0.576670693 |  0.75466528 |  1.00000000 |  0.172825661 |  0.353949290 |  0.103817818 |  0.284611186 | -0.058752587 |  0.76270448 |  0.8765965987 |  0.43504297 |  0.31804877 |  0.055362927 | -0.199430043 |  0.0525294622 |  0.24022330 |  0.756420259 |  0.183285551 |\n",
       "| sqft_lot |  0.08965521 |  0.031703243 |  0.08773966 |  0.17282566 |  1.000000000 | -0.005200991 |  0.021603683 |  0.074710106 | -0.008958250 |  0.11362112 |  0.1835122809 |  0.01528620 |  0.05308037 |  0.007643505 | -0.129574486 | -0.0856827882 |  0.22952086 |  0.144608174 |  0.718556752 |\n",
       "| floors |  0.25678570 |  0.175428935 |  0.50065317 |  0.35394929 | -0.005200991 |  1.000000000 |  0.023698320 |  0.029443820 | -0.263767946 |  0.45818251 |  0.5238847103 | -0.24570454 |  0.48931942 |  0.006338401 | -0.059120642 |  0.0496141310 |  0.12541903 |  0.279885265 | -0.011269187 |\n",
       "| waterfront |  0.26633051 | -0.006582479 |  0.06374363 |  0.10381782 |  0.021603683 |  0.023698320 |  1.000000000 |  0.401857351 |  0.016653157 |  0.08277491 |  0.0720745917 |  0.08058794 | -0.02616109 |  0.092884837 |  0.030284728 | -0.0142737756 | -0.04191020 |  0.086463136 |  0.030703283 |\n",
       "| view |  0.39734647 |  0.079531852 |  0.18773702 |  0.28461119 |  0.074710106 |  0.029443820 |  0.401857351 |  1.000000000 |  0.045989737 |  0.25132058 |  0.1676493441 |  0.27694658 | -0.05343985 |  0.103917288 |  0.084826917 |  0.0061567321 | -0.07839971 |  0.280439082 |  0.072574568 |\n",
       "| condition |  0.03639192 |  0.028472104 | -0.12498193 | -0.05875259 | -0.008958250 | -0.263767946 |  0.016653157 |  0.045989737 |  1.000000000 | -0.14467367 | -0.1582136164 |  0.17410491 | -0.36141656 | -0.060617787 |  0.003025524 | -0.0149410064 | -0.10650045 | -0.092824268 | -0.003405523 |\n",
       "| grade |  0.66746274 |  0.356966725 |  0.66498253 |  0.76270448 |  0.113621124 |  0.458182514 |  0.082774914 |  0.251320585 | -0.144673671 |  1.00000000 |  0.7559229376 |  0.16839182 |  0.44696320 |  0.014414281 | -0.184862093 |  0.1140840571 |  0.19837215 |  0.713202093 |  0.119247897 |\n",
       "| sqft_above |  0.60556551 |  0.477600161 |  0.68534248 |  0.87659660 |  0.183512281 |  0.523884710 |  0.072074592 |  0.167649344 | -0.158213616 |  0.75592294 |  1.0000000000 | -0.05194331 |  0.42389835 |  0.023284688 | -0.261189977 | -0.0008164986 |  0.34380302 |  0.731870292 |  0.194049862 |\n",
       "| sqft_basement |  0.32383736 |  0.303093375 |  0.28377003 |  0.43504297 |  0.015286202 | -0.245704542 |  0.080587939 |  0.276946579 |  0.174104914 |  0.16839182 | -0.0519433068 |  1.00000000 | -0.13312410 |  0.071322902 |  0.074844608 |  0.1105379580 | -0.14476477 |  0.200354983 |  0.017276181 |\n",
       "| yr_built |  0.05398183 |  0.154178069 |  0.50601944 |  0.31804877 |  0.053080367 |  0.489319425 | -0.026161086 | -0.053439851 | -0.361416562 |  0.44696320 |  0.4238983517 | -0.13312410 |  1.00000000 | -0.224873518 | -0.346869178 | -0.1481224021 |  0.40935620 |  0.326228900 |  0.070957926 |\n",
       "| yr_renovated |  0.12644223 |  0.018840823 |  0.05073898 |  0.05536293 |  0.007643505 |  0.006338401 |  0.092884837 |  0.103917288 | -0.060617787 |  0.01441428 |  0.0232846879 |  0.07132290 | -0.22487352 |  1.000000000 |  0.064357057 |  0.0293976092 | -0.06837237 | -0.002672555 |  0.007853765 |\n",
       "| zipcode | -0.05316820 | -0.152668487 | -0.20386627 | -0.19943004 | -0.129574486 | -0.059120642 |  0.030284728 |  0.084826917 |  0.003025524 | -0.18486209 | -0.2611899765 |  0.07484461 | -0.34686918 |  0.064357057 |  1.000000000 |  0.2670479500 | -0.56407161 | -0.279032997 | -0.147221069 |\n",
       "| lat |  0.30691877 | -0.008931010 |  0.02457295 |  0.05252946 | -0.085682788 |  0.049614131 | -0.014273776 |  0.006156732 | -0.014941006 |  0.11408406 | -0.0008164986 |  0.11053796 | -0.14812240 |  0.029397609 |  0.267047950 |  1.0000000000 | -0.13551178 |  0.048857932 | -0.086418807 |\n",
       "| long |  0.02157079 |  0.129472975 |  0.22304184 |  0.24022330 |  0.229520859 |  0.125419028 | -0.041910200 | -0.078399712 | -0.106500448 |  0.19837215 |  0.3438030175 | -0.14476477 |  0.40935620 | -0.068372369 | -0.564071606 | -0.1355117836 |  1.00000000 |  0.334604984 |  0.254451288 |\n",
       "| sqft_living15 |  0.58537401 |  0.391637524 |  0.56863429 |  0.75642026 |  0.144608174 |  0.279885265 |  0.086463136 |  0.280439082 | -0.092824268 |  0.71320209 |  0.7318702924 |  0.20035498 |  0.32622890 | -0.002672555 | -0.279032997 |  0.0488579321 |  0.33460498 |  1.000000000 |  0.183191749 |\n",
       "| sqft_lot15 |  0.08245555 |  0.029244224 |  0.08717536 |  0.18328555 |  0.718556752 | -0.011269187 |  0.030703283 |  0.072574568 | -0.003405523 |  0.11924790 |  0.1940498619 |  0.01727618 |  0.07095793 |  0.007853765 | -0.147221069 | -0.0864188072 |  0.25445129 |  0.183191749 |  1.000000000 |\n",
       "\n"
      ],
      "text/plain": [
       "              price       bedrooms     bathrooms   sqft_living sqft_lot    \n",
       "price          1.00000000  0.308338369  0.52513407  0.70204372  0.089655208\n",
       "bedrooms       0.30833837  1.000000000  0.51588364  0.57667069  0.031703243\n",
       "bathrooms      0.52513407  0.515883638  1.00000000  0.75466528  0.087739662\n",
       "sqft_living    0.70204372  0.576670693  0.75466528  1.00000000  0.172825661\n",
       "sqft_lot       0.08965521  0.031703243  0.08773966  0.17282566  1.000000000\n",
       "floors         0.25678570  0.175428935  0.50065317  0.35394929 -0.005200991\n",
       "waterfront     0.26633051 -0.006582479  0.06374363  0.10381782  0.021603683\n",
       "view           0.39734647  0.079531852  0.18773702  0.28461119  0.074710106\n",
       "condition      0.03639192  0.028472104 -0.12498193 -0.05875259 -0.008958250\n",
       "grade          0.66746274  0.356966725  0.66498253  0.76270448  0.113621124\n",
       "sqft_above     0.60556551  0.477600161  0.68534248  0.87659660  0.183512281\n",
       "sqft_basement  0.32383736  0.303093375  0.28377003  0.43504297  0.015286202\n",
       "yr_built       0.05398183  0.154178069  0.50601944  0.31804877  0.053080367\n",
       "yr_renovated   0.12644223  0.018840823  0.05073898  0.05536293  0.007643505\n",
       "zipcode       -0.05316820 -0.152668487 -0.20386627 -0.19943004 -0.129574486\n",
       "lat            0.30691877 -0.008931010  0.02457295  0.05252946 -0.085682788\n",
       "long           0.02157079  0.129472975  0.22304184  0.24022330  0.229520859\n",
       "sqft_living15  0.58537401  0.391637524  0.56863429  0.75642026  0.144608174\n",
       "sqft_lot15     0.08245555  0.029244224  0.08717536  0.18328555  0.718556752\n",
       "              floors       waterfront   view         condition    grade      \n",
       "price          0.256785705  0.266330511  0.397346474  0.036391921  0.66746274\n",
       "bedrooms       0.175428935 -0.006582479  0.079531852  0.028472104  0.35696673\n",
       "bathrooms      0.500653173  0.063743629  0.187737024 -0.124981933  0.66498253\n",
       "sqft_living    0.353949290  0.103817818  0.284611186 -0.058752587  0.76270448\n",
       "sqft_lot      -0.005200991  0.021603683  0.074710106 -0.008958250  0.11362112\n",
       "floors         1.000000000  0.023698320  0.029443820 -0.263767946  0.45818251\n",
       "waterfront     0.023698320  1.000000000  0.401857351  0.016653157  0.08277491\n",
       "view           0.029443820  0.401857351  1.000000000  0.045989737  0.25132058\n",
       "condition     -0.263767946  0.016653157  0.045989737  1.000000000 -0.14467367\n",
       "grade          0.458182514  0.082774914  0.251320585 -0.144673671  1.00000000\n",
       "sqft_above     0.523884710  0.072074592  0.167649344 -0.158213616  0.75592294\n",
       "sqft_basement -0.245704542  0.080587939  0.276946579  0.174104914  0.16839182\n",
       "yr_built       0.489319425 -0.026161086 -0.053439851 -0.361416562  0.44696320\n",
       "yr_renovated   0.006338401  0.092884837  0.103917288 -0.060617787  0.01441428\n",
       "zipcode       -0.059120642  0.030284728  0.084826917  0.003025524 -0.18486209\n",
       "lat            0.049614131 -0.014273776  0.006156732 -0.014941006  0.11408406\n",
       "long           0.125419028 -0.041910200 -0.078399712 -0.106500448  0.19837215\n",
       "sqft_living15  0.279885265  0.086463136  0.280439082 -0.092824268  0.71320209\n",
       "sqft_lot15    -0.011269187  0.030703283  0.072574568 -0.003405523  0.11924790\n",
       "              sqft_above    sqft_basement yr_built    yr_renovated zipcode     \n",
       "price          0.6055655067  0.32383736    0.05398183  0.126442229 -0.053168199\n",
       "bedrooms       0.4776001614  0.30309338    0.15417807  0.018840823 -0.152668487\n",
       "bathrooms      0.6853424759  0.28377003    0.50601944  0.050738978 -0.203866274\n",
       "sqft_living    0.8765965987  0.43504297    0.31804877  0.055362927 -0.199430043\n",
       "sqft_lot       0.1835122809  0.01528620    0.05308037  0.007643505 -0.129574486\n",
       "floors         0.5238847103 -0.24570454    0.48931942  0.006338401 -0.059120642\n",
       "waterfront     0.0720745917  0.08058794   -0.02616109  0.092884837  0.030284728\n",
       "view           0.1676493441  0.27694658   -0.05343985  0.103917288  0.084826917\n",
       "condition     -0.1582136164  0.17410491   -0.36141656 -0.060617787  0.003025524\n",
       "grade          0.7559229376  0.16839182    0.44696320  0.014414281 -0.184862093\n",
       "sqft_above     1.0000000000 -0.05194331    0.42389835  0.023284688 -0.261189977\n",
       "sqft_basement -0.0519433068  1.00000000   -0.13312410  0.071322902  0.074844608\n",
       "yr_built       0.4238983517 -0.13312410    1.00000000 -0.224873518 -0.346869178\n",
       "yr_renovated   0.0232846879  0.07132290   -0.22487352  1.000000000  0.064357057\n",
       "zipcode       -0.2611899765  0.07484461   -0.34686918  0.064357057  1.000000000\n",
       "lat           -0.0008164986  0.11053796   -0.14812240  0.029397609  0.267047950\n",
       "long           0.3438030175 -0.14476477    0.40935620 -0.068372369 -0.564071606\n",
       "sqft_living15  0.7318702924  0.20035498    0.32622890 -0.002672555 -0.279032997\n",
       "sqft_lot15     0.1940498619  0.01727618    0.07095793  0.007853765 -0.147221069\n",
       "              lat           long        sqft_living15 sqft_lot15  \n",
       "price          0.3069187697  0.02157079  0.585374006   0.082455546\n",
       "bedrooms      -0.0089310097  0.12947298  0.391637524   0.029244224\n",
       "bathrooms      0.0245729528  0.22304184  0.568634290   0.087175361\n",
       "sqft_living    0.0525294622  0.24022330  0.756420259   0.183285551\n",
       "sqft_lot      -0.0856827882  0.22952086  0.144608174   0.718556752\n",
       "floors         0.0496141310  0.12541903  0.279885265  -0.011269187\n",
       "waterfront    -0.0142737756 -0.04191020  0.086463136   0.030703283\n",
       "view           0.0061567321 -0.07839971  0.280439082   0.072574568\n",
       "condition     -0.0149410064 -0.10650045 -0.092824268  -0.003405523\n",
       "grade          0.1140840571  0.19837215  0.713202093   0.119247897\n",
       "sqft_above    -0.0008164986  0.34380302  0.731870292   0.194049862\n",
       "sqft_basement  0.1105379580 -0.14476477  0.200354983   0.017276181\n",
       "yr_built      -0.1481224021  0.40935620  0.326228900   0.070957926\n",
       "yr_renovated   0.0293976092 -0.06837237 -0.002672555   0.007853765\n",
       "zipcode        0.2670479500 -0.56407161 -0.279032997  -0.147221069\n",
       "lat            1.0000000000 -0.13551178  0.048857932  -0.086418807\n",
       "long          -0.1355117836  1.00000000  0.334604984   0.254451288\n",
       "sqft_living15  0.0488579321  0.33460498  1.000000000   0.183191749\n",
       "sqft_lot15    -0.0864188072  0.25445129  0.183191749   1.000000000"
      ]
     },
     "metadata": {},
     "output_type": "display_data"
    }
   ],
   "source": [
    "cor(lineardata[,-20])\n"
   ]
  },
  {
   "cell_type": "code",
   "execution_count": 11,
   "id": "ac481ff7",
   "metadata": {},
   "outputs": [
    {
     "data": {
      "text/html": [
       "540182.158793319"
      ],
      "text/latex": [
       "540182.158793319"
      ],
      "text/markdown": [
       "540182.158793319"
      ],
      "text/plain": [
       "[1] 540182.2"
      ]
     },
     "metadata": {},
     "output_type": "display_data"
    }
   ],
   "source": [
    "\n",
    "meanprice<-mean(lineardata$price)\n",
    "meanprice\n",
    "\n"
   ]
  },
  {
   "cell_type": "code",
   "execution_count": 12,
   "id": "ea947fc0",
   "metadata": {},
   "outputs": [
    {
     "data": {
      "text/html": [
       "450000"
      ],
      "text/latex": [
       "450000"
      ],
      "text/markdown": [
       "450000"
      ],
      "text/plain": [
       "[1] 450000"
      ]
     },
     "metadata": {},
     "output_type": "display_data"
    }
   ],
   "source": [
    "medianprice<- median(lineardata$price)\n",
    "medianprice"
   ]
  },
  {
   "cell_type": "code",
   "execution_count": 13,
   "id": "9e7f0ef6",
   "metadata": {},
   "outputs": [],
   "source": [
    "set.seed(205)\n",
    "\n"
   ]
  },
  {
   "cell_type": "code",
   "execution_count": 14,
   "id": "3049e511",
   "metadata": {
    "scrolled": true
   },
   "outputs": [
    {
     "data": {
      "image/png": "[encoded data removed]",
      "text/plain": [
       "Plot with title \"Histogram of lineardata$price\""
      ]
     },
     "metadata": {
      "image/png": {
       "height": 420,
       "width": 420
      }
     },
     "output_type": "display_data"
    },
    {
     "data": {
      "image/png": "[encoded data removed]",
      "text/plain": [
       "Plot with title \"Histogram of lineardata$sqft_living\""
      ]
     },
     "metadata": {
      "image/png": {
       "height": 420,
       "width": 420
      }
     },
     "output_type": "display_data"
    }
   ],
   "source": [
    "hist(lineardata$price)\n",
    "hist(lineardata$sqft_living)"
   ]
  },
  {
   "cell_type": "code",
   "execution_count": 16,
   "id": "8b1bab82",
   "metadata": {},
   "outputs": [],
   "source": [
    "\n",
    "train_index <- sample(nrow(lineardata), size = round(0.70 * nrow(lineardata)), replace = FALSE)\n",
    "train <- lineardata[train_index,]\n",
    "test <- lineardata[-train_index,]\n",
    "\n"
   ]
  },
  {
   "cell_type": "code",
   "execution_count": 17,
   "id": "05953653",
   "metadata": {},
   "outputs": [
    {
     "data": {
      "text/plain": [
       "\n",
       "Call:\n",
       "lm(formula = price ~ sqft_living, data = train)\n",
       "\n",
       "Residuals:\n",
       "     Min       1Q   Median       3Q      Max \n",
       "-1452524  -146735   -25289   106983  4382520 \n",
       "\n",
       "Coefficients:\n",
       "              Estimate Std. Error t value Pr(>|t|)    \n",
       "(Intercept) -39089.924   5243.368  -7.455 9.47e-14 ***\n",
       "sqft_living    278.553      2.303 120.959  < 2e-16 ***\n",
       "---\n",
       "Signif. codes:  0 '***' 0.001 '**' 0.01 '*' 0.05 '.' 0.1 ' ' 1\n",
       "\n",
       "Residual standard error: 262300 on 15127 degrees of freedom\n",
       "Multiple R-squared:  0.4917,\tAdjusted R-squared:  0.4916 \n",
       "F-statistic: 1.463e+04 on 1 and 15127 DF,  p-value: < 2.2e-16\n"
      ]
     },
     "metadata": {},
     "output_type": "display_data"
    }
   ],
   "source": [
    "lm<-lm(price~ sqft_living, data=train)\n",
    "\n",
    "summary(lm)\n"
   ]
  },
  {
   "cell_type": "code",
   "execution_count": 18,
   "id": "173e4e55",
   "metadata": {},
   "outputs": [
    {
     "data": {
      "image/png": "[encoded data removed]",
      "text/plain": [
       "Plot with title \"\""
      ]
     },
     "metadata": {
      "image/png": {
       "height": 420,
       "width": 420
      }
     },
     "output_type": "display_data"
    }
   ],
   "source": [
    "par(mfrow=c(2,2))\n",
    "plot(lm)"
   ]
  },
  {
   "cell_type": "code",
   "execution_count": 19,
   "id": "2950e5db",
   "metadata": {},
   "outputs": [
    {
     "name": "stdout",
     "output_type": "stream",
     "text": [
      "Start:  AIC=377536.5\n",
      "price ~ sqft_living\n",
      "\n",
      "              Df  Sum of Sq        RSS    AIC\n",
      "<none>                      1.0406e+15 377536\n",
      "- sqft_living  1 1.0065e+15 2.0471e+15 387771\n"
     ]
    },
    {
     "data": {
      "text/plain": [
       "\n",
       "Call:\n",
       "lm(formula = price ~ sqft_living, data = train)\n",
       "\n",
       "Residuals:\n",
       "     Min       1Q   Median       3Q      Max \n",
       "-1452524  -146735   -25289   106983  4382520 \n",
       "\n",
       "Coefficients:\n",
       "              Estimate Std. Error t value Pr(>|t|)    \n",
       "(Intercept) -39089.924   5243.368  -7.455 9.47e-14 ***\n",
       "sqft_living    278.553      2.303 120.959  < 2e-16 ***\n",
       "---\n",
       "Signif. codes:  0 '***' 0.001 '**' 0.01 '*' 0.05 '.' 0.1 ' ' 1\n",
       "\n",
       "Residual standard error: 262300 on 15127 degrees of freedom\n",
       "Multiple R-squared:  0.4917,\tAdjusted R-squared:  0.4916 \n",
       "F-statistic: 1.463e+04 on 1 and 15127 DF,  p-value: < 2.2e-16\n"
      ]
     },
     "metadata": {},
     "output_type": "display_data"
    },
    {
     "ename": "ERROR",
     "evalue": "Error in vif(R2): could not find function \"vif\"\n",
     "output_type": "error",
     "traceback": [
      "Error in vif(R2): could not find function \"vif\"\nTraceback:\n"
     ]
    }
   ],
   "source": [
    "R2<-stepAIC(lm,direction = \"both\")###Reduce get a good fit model\n",
    "summary(R2)\n",
    "vif(R2)\n"
   ]
  },
  {
   "cell_type": "code",
   "execution_count": 21,
   "id": "63edb356",
   "metadata": {},
   "outputs": [],
   "source": [
    "predictedprice<-predict(R2,test)\n"
   ]
  },
  {
   "cell_type": "code",
   "execution_count": 22,
   "id": "855ea56a",
   "metadata": {},
   "outputs": [],
   "source": [
    "test[\"Predicted\"]<-predictedprice\n"
   ]
  },
  {
   "cell_type": "code",
   "execution_count": 23,
   "id": "ebc107cc",
   "metadata": {},
   "outputs": [
    {
     "data": {
      "image/png": "[encoded data removed]",
      "text/plain": [
       "plot without title"
      ]
     },
     "metadata": {
      "image/png": {
       "height": 420,
       "width": 420
      }
     },
     "output_type": "display_data"
    }
   ],
   "source": [
    "plot(test$Predicted,test$price,xlab=\"Actuall\",ylab=\"predicted\")\n",
    "abline(lm(test$Predicted~test$price))"
   ]
  },
  {
   "cell_type": "code",
   "execution_count": 26,
   "id": "46048240",
   "metadata": {},
   "outputs": [],
   "source": [
    "normalize <- function(x) { return ((x - min(x)) / (max(x) - min(x))) }"
   ]
  },
  {
   "cell_type": "code",
   "execution_count": 27,
   "id": "d7cf2e93",
   "metadata": {},
   "outputs": [
    {
     "data": {
      "text/html": [
       "<style>\n",
       ".list-inline {list-style: none; margin:0; padding: 0}\n",
       ".list-inline>li {display: inline-block}\n",
       ".list-inline>li:not(:last-child)::after {content: \"\\00b7\"; padding: 0 .5ex}\n",
       "</style>\n",
       "<ol class=list-inline><li>0</li><li>0.25</li><li>0.5</li><li>0.75</li><li>1</li></ol>\n"
      ],
      "text/latex": [
       "\\begin{enumerate*}\n",
       "\\item 0\n",
       "\\item 0.25\n",
       "\\item 0.5\n",
       "\\item 0.75\n",
       "\\item 1\n",
       "\\end{enumerate*}\n"
      ],
      "text/markdown": [
       "1. 0\n",
       "2. 0.25\n",
       "3. 0.5\n",
       "4. 0.75\n",
       "5. 1\n",
       "\n",
       "\n"
      ],
      "text/plain": [
       "[1] 0.00 0.25 0.50 0.75 1.00"
      ]
     },
     "metadata": {},
     "output_type": "display_data"
    },
    {
     "data": {
      "text/html": [
       "<style>\n",
       ".list-inline {list-style: none; margin:0; padding: 0}\n",
       ".list-inline>li {display: inline-block}\n",
       ".list-inline>li:not(:last-child)::after {content: \"\\00b7\"; padding: 0 .5ex}\n",
       "</style>\n",
       "<ol class=list-inline><li>0</li><li>0.25</li><li>0.5</li><li>0.75</li><li>1</li></ol>\n"
      ],
      "text/latex": [
       "\\begin{enumerate*}\n",
       "\\item 0\n",
       "\\item 0.25\n",
       "\\item 0.5\n",
       "\\item 0.75\n",
       "\\item 1\n",
       "\\end{enumerate*}\n"
      ],
      "text/markdown": [
       "1. 0\n",
       "2. 0.25\n",
       "3. 0.5\n",
       "4. 0.75\n",
       "5. 1\n",
       "\n",
       "\n"
      ],
      "text/plain": [
       "[1] 0.00 0.25 0.50 0.75 1.00"
      ]
     },
     "metadata": {},
     "output_type": "display_data"
    }
   ],
   "source": [
    "\n",
    "normalize(c(1, 2, 3, 4, 5))\n",
    "normalize(c(10, 20, 30, 40, 50))"
   ]
  },
  {
   "cell_type": "code",
   "execution_count": 28,
   "id": "2b02958e",
   "metadata": {},
   "outputs": [
    {
     "data": {
      "text/html": [
       "<table class=\"dataframe\">\n",
       "<caption>A data.frame: 6 × 19</caption>\n",
       "<thead>\n",
       "\t<tr><th></th><th scope=col>price</th><th scope=col>bedrooms</th><th scope=col>bathrooms</th><th scope=col>sqft_living</th><th scope=col>sqft_lot</th><th scope=col>floors</th><th scope=col>waterfront</th><th scope=col>view</th><th scope=col>condition</th><th scope=col>grade</th><th scope=col>sqft_above</th><th scope=col>sqft_basement</th><th scope=col>yr_built</th><th scope=col>yr_renovated</th><th scope=col>zipcode</th><th scope=col>lat</th><th scope=col>long</th><th scope=col>sqft_living15</th><th scope=col>sqft_lot15</th></tr>\n",
       "\t<tr><th></th><th scope=col>&lt;dbl&gt;</th><th scope=col>&lt;dbl&gt;</th><th scope=col>&lt;dbl&gt;</th><th scope=col>&lt;dbl&gt;</th><th scope=col>&lt;dbl&gt;</th><th scope=col>&lt;dbl&gt;</th><th scope=col>&lt;dbl&gt;</th><th scope=col>&lt;dbl&gt;</th><th scope=col>&lt;dbl&gt;</th><th scope=col>&lt;dbl&gt;</th><th scope=col>&lt;dbl&gt;</th><th scope=col>&lt;dbl&gt;</th><th scope=col>&lt;dbl&gt;</th><th scope=col>&lt;dbl&gt;</th><th scope=col>&lt;dbl&gt;</th><th scope=col>&lt;dbl&gt;</th><th scope=col>&lt;dbl&gt;</th><th scope=col>&lt;dbl&gt;</th><th scope=col>&lt;dbl&gt;</th></tr>\n",
       "</thead>\n",
       "<tbody>\n",
       "\t<tr><th scope=row>1</th><td>0.01926557</td><td>0.09090909</td><td>0.12500</td><td>0.06716981</td><td>0.003107511</td><td>0.0</td><td>0</td><td>0</td><td>0.5</td><td>0.5000000</td><td>0.09758772</td><td>0.00000000</td><td>0.4782609</td><td>0.0000000</td><td>0.8939394</td><td>0.5714975</td><td>0.2176080</td><td>0.1619343</td><td>0.005742353</td></tr>\n",
       "\t<tr><th scope=row>2</th><td>0.06072131</td><td>0.09090909</td><td>0.28125</td><td>0.17207547</td><td>0.004071869</td><td>0.4</td><td>0</td><td>0</td><td>0.5</td><td>0.5000000</td><td>0.20614035</td><td>0.08298755</td><td>0.4434783</td><td>0.9880893</td><td>0.6262626</td><td>0.9089593</td><td>0.1661130</td><td>0.2221649</td><td>0.008027119</td></tr>\n",
       "\t<tr><th scope=row>3</th><td>0.01377049</td><td>0.06060606</td><td>0.12500</td><td>0.03622642</td><td>0.005742535</td><td>0.0</td><td>0</td><td>0</td><td>0.5</td><td>0.4166667</td><td>0.05263158</td><td>0.00000000</td><td>0.2869565</td><td>0.0000000</td><td>0.1363636</td><td>0.9361428</td><td>0.2375415</td><td>0.3994149</td><td>0.008513019</td></tr>\n",
       "\t<tr><th scope=row>4</th><td>0.06937705</td><td>0.12121212</td><td>0.37500</td><td>0.12603774</td><td>0.002713772</td><td>0.0</td><td>0</td><td>0</td><td>1.0</td><td>0.5000000</td><td>0.08333333</td><td>0.18879668</td><td>0.5652174</td><td>0.0000000</td><td>0.6818182</td><td>0.5869390</td><td>0.1046512</td><td>0.1653760</td><td>0.004995698</td></tr>\n",
       "\t<tr><th scope=row>5</th><td>0.05704918</td><td>0.09090909</td><td>0.25000</td><td>0.10490566</td><td>0.004579490</td><td>0.0</td><td>0</td><td>0</td><td>0.5</td><td>0.5833333</td><td>0.15241228</td><td>0.00000000</td><td>0.7565217</td><td>0.0000000</td><td>0.3686869</td><td>0.7413544</td><td>0.3936877</td><td>0.2410945</td><td>0.007870895</td></tr>\n",
       "\t<tr><th scope=row>6</th><td>0.15147541</td><td>0.12121212</td><td>0.56250</td><td>0.38716981</td><td>0.061429370</td><td>0.0</td><td>0</td><td>0</td><td>0.5</td><td>0.8333333</td><td>0.39473684</td><td>0.31742739</td><td>0.8782609</td><td>0.0000000</td><td>0.2626263</td><td>0.8045681</td><td>0.4269103</td><td>0.7504732</td><td>0.116339230</td></tr>\n",
       "</tbody>\n",
       "</table>\n"
      ],
      "text/latex": [
       "A data.frame: 6 × 19\n",
       "\\begin{tabular}{r|lllllllllllllllllll}\n",
       "  & price & bedrooms & bathrooms & sqft\\_living & sqft\\_lot & floors & waterfront & view & condition & grade & sqft\\_above & sqft\\_basement & yr\\_built & yr\\_renovated & zipcode & lat & long & sqft\\_living15 & sqft\\_lot15\\\\\n",
       "  & <dbl> & <dbl> & <dbl> & <dbl> & <dbl> & <dbl> & <dbl> & <dbl> & <dbl> & <dbl> & <dbl> & <dbl> & <dbl> & <dbl> & <dbl> & <dbl> & <dbl> & <dbl> & <dbl>\\\\\n",
       "\\hline\n",
       "\t1 & 0.01926557 & 0.09090909 & 0.12500 & 0.06716981 & 0.003107511 & 0.0 & 0 & 0 & 0.5 & 0.5000000 & 0.09758772 & 0.00000000 & 0.4782609 & 0.0000000 & 0.8939394 & 0.5714975 & 0.2176080 & 0.1619343 & 0.005742353\\\\\n",
       "\t2 & 0.06072131 & 0.09090909 & 0.28125 & 0.17207547 & 0.004071869 & 0.4 & 0 & 0 & 0.5 & 0.5000000 & 0.20614035 & 0.08298755 & 0.4434783 & 0.9880893 & 0.6262626 & 0.9089593 & 0.1661130 & 0.2221649 & 0.008027119\\\\\n",
       "\t3 & 0.01377049 & 0.06060606 & 0.12500 & 0.03622642 & 0.005742535 & 0.0 & 0 & 0 & 0.5 & 0.4166667 & 0.05263158 & 0.00000000 & 0.2869565 & 0.0000000 & 0.1363636 & 0.9361428 & 0.2375415 & 0.3994149 & 0.008513019\\\\\n",
       "\t4 & 0.06937705 & 0.12121212 & 0.37500 & 0.12603774 & 0.002713772 & 0.0 & 0 & 0 & 1.0 & 0.5000000 & 0.08333333 & 0.18879668 & 0.5652174 & 0.0000000 & 0.6818182 & 0.5869390 & 0.1046512 & 0.1653760 & 0.004995698\\\\\n",
       "\t5 & 0.05704918 & 0.09090909 & 0.25000 & 0.10490566 & 0.004579490 & 0.0 & 0 & 0 & 0.5 & 0.5833333 & 0.15241228 & 0.00000000 & 0.7565217 & 0.0000000 & 0.3686869 & 0.7413544 & 0.3936877 & 0.2410945 & 0.007870895\\\\\n",
       "\t6 & 0.15147541 & 0.12121212 & 0.56250 & 0.38716981 & 0.061429370 & 0.0 & 0 & 0 & 0.5 & 0.8333333 & 0.39473684 & 0.31742739 & 0.8782609 & 0.0000000 & 0.2626263 & 0.8045681 & 0.4269103 & 0.7504732 & 0.116339230\\\\\n",
       "\\end{tabular}\n"
      ],
      "text/markdown": [
       "\n",
       "A data.frame: 6 × 19\n",
       "\n",
       "| <!--/--> | price &lt;dbl&gt; | bedrooms &lt;dbl&gt; | bathrooms &lt;dbl&gt; | sqft_living &lt;dbl&gt; | sqft_lot &lt;dbl&gt; | floors &lt;dbl&gt; | waterfront &lt;dbl&gt; | view &lt;dbl&gt; | condition &lt;dbl&gt; | grade &lt;dbl&gt; | sqft_above &lt;dbl&gt; | sqft_basement &lt;dbl&gt; | yr_built &lt;dbl&gt; | yr_renovated &lt;dbl&gt; | zipcode &lt;dbl&gt; | lat &lt;dbl&gt; | long &lt;dbl&gt; | sqft_living15 &lt;dbl&gt; | sqft_lot15 &lt;dbl&gt; |\n",
       "|---|---|---|---|---|---|---|---|---|---|---|---|---|---|---|---|---|---|---|---|\n",
       "| 1 | 0.01926557 | 0.09090909 | 0.12500 | 0.06716981 | 0.003107511 | 0.0 | 0 | 0 | 0.5 | 0.5000000 | 0.09758772 | 0.00000000 | 0.4782609 | 0.0000000 | 0.8939394 | 0.5714975 | 0.2176080 | 0.1619343 | 0.005742353 |\n",
       "| 2 | 0.06072131 | 0.09090909 | 0.28125 | 0.17207547 | 0.004071869 | 0.4 | 0 | 0 | 0.5 | 0.5000000 | 0.20614035 | 0.08298755 | 0.4434783 | 0.9880893 | 0.6262626 | 0.9089593 | 0.1661130 | 0.2221649 | 0.008027119 |\n",
       "| 3 | 0.01377049 | 0.06060606 | 0.12500 | 0.03622642 | 0.005742535 | 0.0 | 0 | 0 | 0.5 | 0.4166667 | 0.05263158 | 0.00000000 | 0.2869565 | 0.0000000 | 0.1363636 | 0.9361428 | 0.2375415 | 0.3994149 | 0.008513019 |\n",
       "| 4 | 0.06937705 | 0.12121212 | 0.37500 | 0.12603774 | 0.002713772 | 0.0 | 0 | 0 | 1.0 | 0.5000000 | 0.08333333 | 0.18879668 | 0.5652174 | 0.0000000 | 0.6818182 | 0.5869390 | 0.1046512 | 0.1653760 | 0.004995698 |\n",
       "| 5 | 0.05704918 | 0.09090909 | 0.25000 | 0.10490566 | 0.004579490 | 0.0 | 0 | 0 | 0.5 | 0.5833333 | 0.15241228 | 0.00000000 | 0.7565217 | 0.0000000 | 0.3686869 | 0.7413544 | 0.3936877 | 0.2410945 | 0.007870895 |\n",
       "| 6 | 0.15147541 | 0.12121212 | 0.56250 | 0.38716981 | 0.061429370 | 0.0 | 0 | 0 | 0.5 | 0.8333333 | 0.39473684 | 0.31742739 | 0.8782609 | 0.0000000 | 0.2626263 | 0.8045681 | 0.4269103 | 0.7504732 | 0.116339230 |\n",
       "\n"
      ],
      "text/plain": [
       "  price      bedrooms   bathrooms sqft_living sqft_lot    floors waterfront\n",
       "1 0.01926557 0.09090909 0.12500   0.06716981  0.003107511 0.0    0         \n",
       "2 0.06072131 0.09090909 0.28125   0.17207547  0.004071869 0.4    0         \n",
       "3 0.01377049 0.06060606 0.12500   0.03622642  0.005742535 0.0    0         \n",
       "4 0.06937705 0.12121212 0.37500   0.12603774  0.002713772 0.0    0         \n",
       "5 0.05704918 0.09090909 0.25000   0.10490566  0.004579490 0.0    0         \n",
       "6 0.15147541 0.12121212 0.56250   0.38716981  0.061429370 0.0    0         \n",
       "  view condition grade     sqft_above sqft_basement yr_built  yr_renovated\n",
       "1 0    0.5       0.5000000 0.09758772 0.00000000    0.4782609 0.0000000   \n",
       "2 0    0.5       0.5000000 0.20614035 0.08298755    0.4434783 0.9880893   \n",
       "3 0    0.5       0.4166667 0.05263158 0.00000000    0.2869565 0.0000000   \n",
       "4 0    1.0       0.5000000 0.08333333 0.18879668    0.5652174 0.0000000   \n",
       "5 0    0.5       0.5833333 0.15241228 0.00000000    0.7565217 0.0000000   \n",
       "6 0    0.5       0.8333333 0.39473684 0.31742739    0.8782609 0.0000000   \n",
       "  zipcode   lat       long      sqft_living15 sqft_lot15 \n",
       "1 0.8939394 0.5714975 0.2176080 0.1619343     0.005742353\n",
       "2 0.6262626 0.9089593 0.1661130 0.2221649     0.008027119\n",
       "3 0.1363636 0.9361428 0.2375415 0.3994149     0.008513019\n",
       "4 0.6818182 0.5869390 0.1046512 0.1653760     0.004995698\n",
       "5 0.3686869 0.7413544 0.3936877 0.2410945     0.007870895\n",
       "6 0.2626263 0.8045681 0.4269103 0.7504732     0.116339230"
      ]
     },
     "metadata": {},
     "output_type": "display_data"
    }
   ],
   "source": [
    "housingnorm<- as.data.frame(lapply(lineardata[1:19], normalize))\n",
    "head(housingnorm)"
   ]
  },
  {
   "cell_type": "code",
   "execution_count": 29,
   "id": "fa1e540f",
   "metadata": {},
   "outputs": [],
   "source": [
    "fitnorm<-lm(price ~ sqft_living,data=train)"
   ]
  },
  {
   "cell_type": "code",
   "execution_count": 30,
   "id": "ec6bf340",
   "metadata": {},
   "outputs": [
    {
     "data": {
      "text/plain": [
       "\n",
       "Call:\n",
       "lm(formula = price ~ sqft_living, data = train)\n",
       "\n",
       "Residuals:\n",
       "     Min       1Q   Median       3Q      Max \n",
       "-1452524  -146735   -25289   106983  4382520 \n",
       "\n",
       "Coefficients:\n",
       "              Estimate Std. Error t value Pr(>|t|)    \n",
       "(Intercept) -39089.924   5243.368  -7.455 9.47e-14 ***\n",
       "sqft_living    278.553      2.303 120.959  < 2e-16 ***\n",
       "---\n",
       "Signif. codes:  0 '***' 0.001 '**' 0.01 '*' 0.05 '.' 0.1 ' ' 1\n",
       "\n",
       "Residual standard error: 262300 on 15127 degrees of freedom\n",
       "Multiple R-squared:  0.4917,\tAdjusted R-squared:  0.4916 \n",
       "F-statistic: 1.463e+04 on 1 and 15127 DF,  p-value: < 2.2e-16\n"
      ]
     },
     "metadata": {},
     "output_type": "display_data"
    },
    {
     "data": {
      "image/png": "[encoded data removed]",
      "text/plain": [
       "Plot with title \"\""
      ]
     },
     "metadata": {
      "image/png": {
       "height": 420,
       "width": 420
      }
     },
     "output_type": "display_data"
    },
    {
     "data": {
      "image/png": "[encoded data removed]",
      "text/plain": [
       "Plot with title \"\""
      ]
     },
     "metadata": {
      "image/png": {
       "height": 420,
       "width": 420
      }
     },
     "output_type": "display_data"
    },
    {
     "data": {
      "image/png": "[encoded data removed]",
      "text/plain": [
       "Plot with title \"\""
      ]
     },
     "metadata": {
      "image/png": {
       "height": 420,
       "width": 420
      }
     },
     "output_type": "display_data"
    },
    {
     "data": {
      "image/png": "[encoded data removed]",
      "text/plain": [
       "Plot with title \"\""
      ]
     },
     "metadata": {
      "image/png": {
       "height": 420,
       "width": 420
      }
     },
     "output_type": "display_data"
    }
   ],
   "source": [
    "summary(fitnorm)\n",
    "plot(fitnorm)"
   ]
  },
  {
   "cell_type": "code",
   "execution_count": 31,
   "id": "b8d15036",
   "metadata": {
    "scrolled": false
   },
   "outputs": [
    {
     "data": {
      "image/png": "[encoded data removed]",
      "text/plain": [
       "Plot with title \"\""
      ]
     },
     "metadata": {
      "image/png": {
       "height": 420,
       "width": 420
      }
     },
     "output_type": "display_data"
    }
   ],
   "source": [
    "refitnorm3<-lm(log(price) ~ log(sqft_living), data=train)\n",
    "par(mfrow=c(2,2))\n",
    "plot(refitnorm3)\n"
   ]
  },
  {
   "cell_type": "code",
   "execution_count": 32,
   "id": "88f710f4",
   "metadata": {},
   "outputs": [
    {
     "data": {
      "text/plain": [
       "\n",
       "Call:\n",
       "lm(formula = log(price) ~ log(sqft_living), data = train)\n",
       "\n",
       "Residuals:\n",
       "     Min       1Q   Median       3Q      Max \n",
       "-1.10709 -0.29413  0.01226  0.25828  1.33315 \n",
       "\n",
       "Coefficients:\n",
       "                 Estimate Std. Error t value Pr(>|t|)    \n",
       "(Intercept)      6.748632   0.056250   120.0   <2e-16 ***\n",
       "log(sqft_living) 0.834372   0.007439   112.2   <2e-16 ***\n",
       "---\n",
       "Signif. codes:  0 '***' 0.001 '**' 0.01 '*' 0.05 '.' 0.1 ' ' 1\n",
       "\n",
       "Residual standard error: 0.3899 on 15127 degrees of freedom\n",
       "Multiple R-squared:  0.4541,\tAdjusted R-squared:  0.454 \n",
       "F-statistic: 1.258e+04 on 1 and 15127 DF,  p-value: < 2.2e-16\n"
      ]
     },
     "metadata": {},
     "output_type": "display_data"
    }
   ],
   "source": [
    "summary(refitnorm3)"
   ]
  },
  {
   "cell_type": "code",
   "execution_count": 33,
   "id": "45ebe48a",
   "metadata": {},
   "outputs": [
    {
     "data": {
      "text/html": [
       "0.670948309667568"
      ],
      "text/latex": [
       "0.670948309667568"
      ],
      "text/markdown": [
       "0.670948309667568"
      ],
      "text/plain": [
       "[1] 0.6709483"
      ]
     },
     "metadata": {},
     "output_type": "display_data"
    }
   ],
   "source": [
    "xtab<- data.frame(exp(refitnorm3$fitted.values), train$price)\n",
    "\n",
    "1-mean(abs(xtab$train.price - xtab$exp.refitnorm3.fitted.values)/xtab$train.price)"
   ]
  },
  {
   "cell_type": "code",
   "execution_count": 34,
   "id": "84b43ba4",
   "metadata": {},
   "outputs": [
    {
     "data": {
      "text/html": [
       "0.69"
      ],
      "text/latex": [
       "0.69"
      ],
      "text/markdown": [
       "0.69"
      ],
      "text/plain": [
       "[1] 0.69"
      ]
     },
     "metadata": {},
     "output_type": "display_data"
    }
   ],
   "source": [
    "\n",
    "train.corr<-round(cor(xtab$exp.refitnorm3.fitted.values,xtab$train.price),2)\n",
    "train.corr"
   ]
  },
  {
   "cell_type": "code",
   "execution_count": 35,
   "id": "1289b0f9",
   "metadata": {},
   "outputs": [
    {
     "data": {
      "text/html": [
       "280078"
      ],
      "text/latex": [
       "280078"
      ],
      "text/markdown": [
       "280078"
      ],
      "text/plain": [
       "[1] 280078"
      ]
     },
     "metadata": {},
     "output_type": "display_data"
    }
   ],
   "source": [
    "sample.RMSE<-round(sqrt(mean((xtab$exp.refitnorm3.fitted.values-xtab$train.price)^2)))\n",
    "sample.RMSE"
   ]
  },
  {
   "cell_type": "code",
   "execution_count": 36,
   "id": "3b06c861",
   "metadata": {},
   "outputs": [
    {
     "data": {
      "text/html": [
       "169300"
      ],
      "text/latex": [
       "169300"
      ],
      "text/markdown": [
       "169300"
      ],
      "text/plain": [
       "[1] 169300"
      ]
     },
     "metadata": {},
     "output_type": "display_data"
    }
   ],
   "source": [
    "train.MAE<-round(mean(abs(xtab$exp.refitnorm3.fitted.values-xtab$train.price)))\n",
    "train.MAE"
   ]
  }
 ],
 "metadata": {
  "kernelspec": {
   "display_name": "R",
   "language": "R",
   "name": "ir"
  },
  "language_info": {
   "codemirror_mode": "r",
   "file_extension": ".r",
   "mimetype": "text/x-r-source",
   "name": "R",
   "pygments_lexer": "r",
   "version": "4.2.1"
  }
 },
 "nbformat": 4,
 "nbformat_minor": 5
}
