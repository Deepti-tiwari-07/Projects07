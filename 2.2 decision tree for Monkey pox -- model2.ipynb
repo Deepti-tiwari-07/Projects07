{
 "cells": [
  {
   "cell_type": "code",
   "execution_count": 1,
   "id": "575cd7e8",
   "metadata": {},
   "outputs": [
    {
     "name": "stderr",
     "output_type": "stream",
     "text": [
      "Warning message:\n",
      "\"package 'DAAG' was built under R version 4.2.2\"\n"
     ]
    }
   ],
   "source": [
    "#install.packages(\"DAAG\")\n",
    "library(DAAG)\n",
    "\n",
    "#install.packages(\"tree\")\n",
    "#install.packages(\"rpart\")\n",
    "#install.packages(\"mlbench\")"
   ]
  },
  {
   "cell_type": "code",
   "execution_count": 2,
   "id": "803490e6",
   "metadata": {
    "scrolled": true
   },
   "outputs": [],
   "source": [
    "#install.packages(\"party\")"
   ]
  },
  {
   "cell_type": "code",
   "execution_count": 3,
   "id": "d827e583",
   "metadata": {
    "scrolled": true
   },
   "outputs": [
    {
     "name": "stderr",
     "output_type": "stream",
     "text": [
      "Warning message:\n",
      "\"package 'party' was built under R version 4.2.2\"\n",
      "Loading required package: grid\n",
      "\n",
      "Loading required package: mvtnorm\n",
      "\n",
      "Loading required package: modeltools\n",
      "\n",
      "Loading required package: stats4\n",
      "\n",
      "Loading required package: strucchange\n",
      "\n",
      "Loading required package: zoo\n",
      "\n",
      "\n",
      "Attaching package: 'zoo'\n",
      "\n",
      "\n",
      "The following objects are masked from 'package:base':\n",
      "\n",
      "    as.Date, as.Date.numeric\n",
      "\n",
      "\n",
      "Loading required package: sandwich\n",
      "\n",
      "Warning message:\n",
      "\"package 'rpart' was built under R version 4.2.2\"\n",
      "Warning message:\n",
      "\"package 'rpart.plot' was built under R version 4.2.2\"\n",
      "Warning message:\n",
      "\"package 'mlbench' was built under R version 4.2.2\"\n",
      "Warning message:\n",
      "\"package 'caret' was built under R version 4.2.2\"\n",
      "Loading required package: ggplot2\n",
      "\n",
      "Warning message:\n",
      "\"package 'ggplot2' was built under R version 4.2.2\"\n",
      "Loading required package: lattice\n",
      "\n",
      "Type 'citation(\"pROC\")' for a citation.\n",
      "\n",
      "\n",
      "Attaching package: 'pROC'\n",
      "\n",
      "\n",
      "The following objects are masked from 'package:stats':\n",
      "\n",
      "    cov, smooth, var\n",
      "\n",
      "\n",
      "Warning message:\n",
      "\"package 'tree' was built under R version 4.2.2\"\n",
      "\n",
      "Attaching package: 'dplyr'\n",
      "\n",
      "\n",
      "The following objects are masked from 'package:stats':\n",
      "\n",
      "    filter, lag\n",
      "\n",
      "\n",
      "The following objects are masked from 'package:base':\n",
      "\n",
      "    intersect, setdiff, setequal, union\n",
      "\n",
      "\n"
     ]
    }
   ],
   "source": [
    "library(DAAG)\n",
    "library(party)\n",
    "library(rpart)\n",
    "library(rpart.plot)\n",
    "library(mlbench)\n",
    "library(caret)\n",
    "library(pROC)\n",
    "library(tree)\n",
    "library(dplyr)"
   ]
  },
  {
   "cell_type": "code",
   "execution_count": 4,
   "id": "b4b65ed7",
   "metadata": {},
   "outputs": [],
   "source": [
    "data1<-read.csv(\"monkeypoxcsv.csv\")"
   ]
  },
  {
   "cell_type": "code",
   "execution_count": 5,
   "id": "f8f7ad32",
   "metadata": {
    "scrolled": true
   },
   "outputs": [
    {
     "data": {
      "text/html": [
       "<table class=\"dataframe\">\n",
       "<caption>A data.frame: 6 × 11</caption>\n",
       "<thead>\n",
       "\t<tr><th></th><th scope=col>Patient_ID</th><th scope=col>Systemic.Illness</th><th scope=col>Rectal.Pain</th><th scope=col>Sore.Throat</th><th scope=col>Penile.Oedema</th><th scope=col>Oral.Lesions</th><th scope=col>Solitary.Lesion</th><th scope=col>Swollen.Tonsils</th><th scope=col>HIV.Infection</th><th scope=col>Sexually.Transmitted.Infection</th><th scope=col>MonkeyPox</th></tr>\n",
       "\t<tr><th></th><th scope=col>&lt;chr&gt;</th><th scope=col>&lt;chr&gt;</th><th scope=col>&lt;chr&gt;</th><th scope=col>&lt;chr&gt;</th><th scope=col>&lt;chr&gt;</th><th scope=col>&lt;chr&gt;</th><th scope=col>&lt;chr&gt;</th><th scope=col>&lt;chr&gt;</th><th scope=col>&lt;chr&gt;</th><th scope=col>&lt;chr&gt;</th><th scope=col>&lt;chr&gt;</th></tr>\n",
       "</thead>\n",
       "<tbody>\n",
       "\t<tr><th scope=row>1</th><td>P0</td><td>None               </td><td>False</td><td>True </td><td>True </td><td>True </td><td>False</td><td>True </td><td>False</td><td>False</td><td>Negative</td></tr>\n",
       "\t<tr><th scope=row>2</th><td>P1</td><td>Fever              </td><td>True </td><td>False</td><td>True </td><td>True </td><td>False</td><td>False</td><td>True </td><td>False</td><td>Positive</td></tr>\n",
       "\t<tr><th scope=row>3</th><td>P2</td><td>Fever              </td><td>False</td><td>True </td><td>True </td><td>False</td><td>False</td><td>False</td><td>True </td><td>False</td><td>Positive</td></tr>\n",
       "\t<tr><th scope=row>4</th><td>P3</td><td>None               </td><td>True </td><td>False</td><td>False</td><td>False</td><td>True </td><td>True </td><td>True </td><td>False</td><td>Positive</td></tr>\n",
       "\t<tr><th scope=row>5</th><td>P4</td><td>Swollen Lymph Nodes</td><td>True </td><td>True </td><td>True </td><td>False</td><td>False</td><td>True </td><td>True </td><td>False</td><td>Positive</td></tr>\n",
       "\t<tr><th scope=row>6</th><td>P5</td><td>Swollen Lymph Nodes</td><td>False</td><td>True </td><td>False</td><td>False</td><td>False</td><td>False</td><td>False</td><td>False</td><td>Negative</td></tr>\n",
       "</tbody>\n",
       "</table>\n"
      ],
      "text/latex": [
       "A data.frame: 6 × 11\n",
       "\\begin{tabular}{r|lllllllllll}\n",
       "  & Patient\\_ID & Systemic.Illness & Rectal.Pain & Sore.Throat & Penile.Oedema & Oral.Lesions & Solitary.Lesion & Swollen.Tonsils & HIV.Infection & Sexually.Transmitted.Infection & MonkeyPox\\\\\n",
       "  & <chr> & <chr> & <chr> & <chr> & <chr> & <chr> & <chr> & <chr> & <chr> & <chr> & <chr>\\\\\n",
       "\\hline\n",
       "\t1 & P0 & None                & False & True  & True  & True  & False & True  & False & False & Negative\\\\\n",
       "\t2 & P1 & Fever               & True  & False & True  & True  & False & False & True  & False & Positive\\\\\n",
       "\t3 & P2 & Fever               & False & True  & True  & False & False & False & True  & False & Positive\\\\\n",
       "\t4 & P3 & None                & True  & False & False & False & True  & True  & True  & False & Positive\\\\\n",
       "\t5 & P4 & Swollen Lymph Nodes & True  & True  & True  & False & False & True  & True  & False & Positive\\\\\n",
       "\t6 & P5 & Swollen Lymph Nodes & False & True  & False & False & False & False & False & False & Negative\\\\\n",
       "\\end{tabular}\n"
      ],
      "text/markdown": [
       "\n",
       "A data.frame: 6 × 11\n",
       "\n",
       "| <!--/--> | Patient_ID &lt;chr&gt; | Systemic.Illness &lt;chr&gt; | Rectal.Pain &lt;chr&gt; | Sore.Throat &lt;chr&gt; | Penile.Oedema &lt;chr&gt; | Oral.Lesions &lt;chr&gt; | Solitary.Lesion &lt;chr&gt; | Swollen.Tonsils &lt;chr&gt; | HIV.Infection &lt;chr&gt; | Sexually.Transmitted.Infection &lt;chr&gt; | MonkeyPox &lt;chr&gt; |\n",
       "|---|---|---|---|---|---|---|---|---|---|---|---|\n",
       "| 1 | P0 | None                | False | True  | True  | True  | False | True  | False | False | Negative |\n",
       "| 2 | P1 | Fever               | True  | False | True  | True  | False | False | True  | False | Positive |\n",
       "| 3 | P2 | Fever               | False | True  | True  | False | False | False | True  | False | Positive |\n",
       "| 4 | P3 | None                | True  | False | False | False | True  | True  | True  | False | Positive |\n",
       "| 5 | P4 | Swollen Lymph Nodes | True  | True  | True  | False | False | True  | True  | False | Positive |\n",
       "| 6 | P5 | Swollen Lymph Nodes | False | True  | False | False | False | False | False | False | Negative |\n",
       "\n"
      ],
      "text/plain": [
       "  Patient_ID Systemic.Illness    Rectal.Pain Sore.Throat Penile.Oedema\n",
       "1 P0         None                False       True        True         \n",
       "2 P1         Fever               True        False       True         \n",
       "3 P2         Fever               False       True        True         \n",
       "4 P3         None                True        False       False        \n",
       "5 P4         Swollen Lymph Nodes True        True        True         \n",
       "6 P5         Swollen Lymph Nodes False       True        False        \n",
       "  Oral.Lesions Solitary.Lesion Swollen.Tonsils HIV.Infection\n",
       "1 True         False           True            False        \n",
       "2 True         False           False           True         \n",
       "3 False        False           False           True         \n",
       "4 False        True            True            True         \n",
       "5 False        False           True            True         \n",
       "6 False        False           False           False        \n",
       "  Sexually.Transmitted.Infection MonkeyPox\n",
       "1 False                          Negative \n",
       "2 False                          Positive \n",
       "3 False                          Positive \n",
       "4 False                          Positive \n",
       "5 False                          Positive \n",
       "6 False                          Negative "
      ]
     },
     "metadata": {},
     "output_type": "display_data"
    }
   ],
   "source": [
    "head(data1)"
   ]
  },
  {
   "cell_type": "code",
   "execution_count": 6,
   "id": "a3faf892",
   "metadata": {},
   "outputs": [
    {
     "data": {
      "text/html": [
       "<table class=\"dataframe\">\n",
       "<caption>A data.frame: 6 × 11</caption>\n",
       "<thead>\n",
       "\t<tr><th></th><th scope=col>Patient_ID</th><th scope=col>Systemic.Illness</th><th scope=col>Rectal.Pain</th><th scope=col>Sore.Throat</th><th scope=col>Penile.Oedema</th><th scope=col>Oral.Lesions</th><th scope=col>Solitary.Lesion</th><th scope=col>Swollen.Tonsils</th><th scope=col>HIV.Infection</th><th scope=col>Sexually.Transmitted.Infection</th><th scope=col>MonkeyPox</th></tr>\n",
       "\t<tr><th></th><th scope=col>&lt;chr&gt;</th><th scope=col>&lt;chr&gt;</th><th scope=col>&lt;chr&gt;</th><th scope=col>&lt;chr&gt;</th><th scope=col>&lt;chr&gt;</th><th scope=col>&lt;chr&gt;</th><th scope=col>&lt;chr&gt;</th><th scope=col>&lt;chr&gt;</th><th scope=col>&lt;chr&gt;</th><th scope=col>&lt;chr&gt;</th><th scope=col>&lt;chr&gt;</th></tr>\n",
       "</thead>\n",
       "<tbody>\n",
       "\t<tr><th scope=row>24995</th><td>P24994</td><td>Fever              </td><td>False</td><td>True </td><td>True </td><td>False</td><td>False</td><td>False</td><td>True </td><td>True </td><td>Positive</td></tr>\n",
       "\t<tr><th scope=row>24996</th><td>P24995</td><td>None               </td><td>True </td><td>True </td><td>False</td><td>True </td><td>True </td><td>False</td><td>False</td><td>True </td><td>Positive</td></tr>\n",
       "\t<tr><th scope=row>24997</th><td>P24996</td><td>Fever              </td><td>False</td><td>True </td><td>True </td><td>False</td><td>True </td><td>True </td><td>True </td><td>True </td><td>Positive</td></tr>\n",
       "\t<tr><th scope=row>24998</th><td>P24997</td><td>None               </td><td>True </td><td>True </td><td>False</td><td>False</td><td>True </td><td>True </td><td>False</td><td>False</td><td>Positive</td></tr>\n",
       "\t<tr><th scope=row>24999</th><td>P24998</td><td>Swollen Lymph Nodes</td><td>False</td><td>True </td><td>False</td><td>True </td><td>True </td><td>True </td><td>False</td><td>False</td><td>Negative</td></tr>\n",
       "\t<tr><th scope=row>25000</th><td>P24999</td><td>Swollen Lymph Nodes</td><td>False</td><td>False</td><td>True </td><td>False</td><td>False</td><td>True </td><td>True </td><td>False</td><td>Positive</td></tr>\n",
       "</tbody>\n",
       "</table>\n"
      ],
      "text/latex": [
       "A data.frame: 6 × 11\n",
       "\\begin{tabular}{r|lllllllllll}\n",
       "  & Patient\\_ID & Systemic.Illness & Rectal.Pain & Sore.Throat & Penile.Oedema & Oral.Lesions & Solitary.Lesion & Swollen.Tonsils & HIV.Infection & Sexually.Transmitted.Infection & MonkeyPox\\\\\n",
       "  & <chr> & <chr> & <chr> & <chr> & <chr> & <chr> & <chr> & <chr> & <chr> & <chr> & <chr>\\\\\n",
       "\\hline\n",
       "\t24995 & P24994 & Fever               & False & True  & True  & False & False & False & True  & True  & Positive\\\\\n",
       "\t24996 & P24995 & None                & True  & True  & False & True  & True  & False & False & True  & Positive\\\\\n",
       "\t24997 & P24996 & Fever               & False & True  & True  & False & True  & True  & True  & True  & Positive\\\\\n",
       "\t24998 & P24997 & None                & True  & True  & False & False & True  & True  & False & False & Positive\\\\\n",
       "\t24999 & P24998 & Swollen Lymph Nodes & False & True  & False & True  & True  & True  & False & False & Negative\\\\\n",
       "\t25000 & P24999 & Swollen Lymph Nodes & False & False & True  & False & False & True  & True  & False & Positive\\\\\n",
       "\\end{tabular}\n"
      ],
      "text/markdown": [
       "\n",
       "A data.frame: 6 × 11\n",
       "\n",
       "| <!--/--> | Patient_ID &lt;chr&gt; | Systemic.Illness &lt;chr&gt; | Rectal.Pain &lt;chr&gt; | Sore.Throat &lt;chr&gt; | Penile.Oedema &lt;chr&gt; | Oral.Lesions &lt;chr&gt; | Solitary.Lesion &lt;chr&gt; | Swollen.Tonsils &lt;chr&gt; | HIV.Infection &lt;chr&gt; | Sexually.Transmitted.Infection &lt;chr&gt; | MonkeyPox &lt;chr&gt; |\n",
       "|---|---|---|---|---|---|---|---|---|---|---|---|\n",
       "| 24995 | P24994 | Fever               | False | True  | True  | False | False | False | True  | True  | Positive |\n",
       "| 24996 | P24995 | None                | True  | True  | False | True  | True  | False | False | True  | Positive |\n",
       "| 24997 | P24996 | Fever               | False | True  | True  | False | True  | True  | True  | True  | Positive |\n",
       "| 24998 | P24997 | None                | True  | True  | False | False | True  | True  | False | False | Positive |\n",
       "| 24999 | P24998 | Swollen Lymph Nodes | False | True  | False | True  | True  | True  | False | False | Negative |\n",
       "| 25000 | P24999 | Swollen Lymph Nodes | False | False | True  | False | False | True  | True  | False | Positive |\n",
       "\n"
      ],
      "text/plain": [
       "      Patient_ID Systemic.Illness    Rectal.Pain Sore.Throat Penile.Oedema\n",
       "24995 P24994     Fever               False       True        True         \n",
       "24996 P24995     None                True        True        False        \n",
       "24997 P24996     Fever               False       True        True         \n",
       "24998 P24997     None                True        True        False        \n",
       "24999 P24998     Swollen Lymph Nodes False       True        False        \n",
       "25000 P24999     Swollen Lymph Nodes False       False       True         \n",
       "      Oral.Lesions Solitary.Lesion Swollen.Tonsils HIV.Infection\n",
       "24995 False        False           False           True         \n",
       "24996 True         True            False           False        \n",
       "24997 False        True            True            True         \n",
       "24998 False        True            True            False        \n",
       "24999 True         True            True            False        \n",
       "25000 False        False           True            True         \n",
       "      Sexually.Transmitted.Infection MonkeyPox\n",
       "24995 True                           Positive \n",
       "24996 True                           Positive \n",
       "24997 True                           Positive \n",
       "24998 False                          Positive \n",
       "24999 False                          Negative \n",
       "25000 False                          Positive "
      ]
     },
     "metadata": {},
     "output_type": "display_data"
    }
   ],
   "source": [
    "tail(data1)"
   ]
  },
  {
   "cell_type": "code",
   "execution_count": 7,
   "id": "47fb0b2e",
   "metadata": {},
   "outputs": [
    {
     "data": {
      "text/html": [
       "25000"
      ],
      "text/latex": [
       "25000"
      ],
      "text/markdown": [
       "25000"
      ],
      "text/plain": [
       "[1] 25000"
      ]
     },
     "metadata": {},
     "output_type": "display_data"
    }
   ],
   "source": [
    "nrow(data1)"
   ]
  },
  {
   "cell_type": "code",
   "execution_count": 8,
   "id": "a20ad7ee",
   "metadata": {},
   "outputs": [
    {
     "name": "stdout",
     "output_type": "stream",
     "text": [
      "'data.frame':\t25000 obs. of  11 variables:\n",
      " $ Patient_ID                    : chr  \"P0\" \"P1\" \"P2\" \"P3\" ...\n",
      " $ Systemic.Illness              : chr  \"None\" \"Fever\" \"Fever\" \"None\" ...\n",
      " $ Rectal.Pain                   : chr  \"False\" \"True\" \"False\" \"True\" ...\n",
      " $ Sore.Throat                   : chr  \"True\" \"False\" \"True\" \"False\" ...\n",
      " $ Penile.Oedema                 : chr  \"True\" \"True\" \"True\" \"False\" ...\n",
      " $ Oral.Lesions                  : chr  \"True\" \"True\" \"False\" \"False\" ...\n",
      " $ Solitary.Lesion               : chr  \"False\" \"False\" \"False\" \"True\" ...\n",
      " $ Swollen.Tonsils               : chr  \"True\" \"False\" \"False\" \"True\" ...\n",
      " $ HIV.Infection                 : chr  \"False\" \"True\" \"True\" \"True\" ...\n",
      " $ Sexually.Transmitted.Infection: chr  \"False\" \"False\" \"False\" \"False\" ...\n",
      " $ MonkeyPox                     : chr  \"Negative\" \"Positive\" \"Positive\" \"Positive\" ...\n"
     ]
    }
   ],
   "source": [
    "str(data1)"
   ]
  },
  {
   "cell_type": "code",
   "execution_count": 9,
   "id": "b7039c6d",
   "metadata": {},
   "outputs": [
    {
     "data": {
      "text/html": [
       "<table class=\"dataframe\">\n",
       "<caption>A data.frame: 25000 × 10</caption>\n",
       "<thead>\n",
       "\t<tr><th scope=col>Systemic.Illness</th><th scope=col>Rectal.Pain</th><th scope=col>Sore.Throat</th><th scope=col>Penile.Oedema</th><th scope=col>Oral.Lesions</th><th scope=col>Solitary.Lesion</th><th scope=col>Swollen.Tonsils</th><th scope=col>HIV.Infection</th><th scope=col>Sexually.Transmitted.Infection</th><th scope=col>MonkeyPox</th></tr>\n",
       "\t<tr><th scope=col>&lt;chr&gt;</th><th scope=col>&lt;chr&gt;</th><th scope=col>&lt;chr&gt;</th><th scope=col>&lt;chr&gt;</th><th scope=col>&lt;chr&gt;</th><th scope=col>&lt;chr&gt;</th><th scope=col>&lt;chr&gt;</th><th scope=col>&lt;chr&gt;</th><th scope=col>&lt;chr&gt;</th><th scope=col>&lt;chr&gt;</th></tr>\n",
       "</thead>\n",
       "<tbody>\n",
       "\t<tr><td>None                 </td><td>False</td><td>True </td><td>True </td><td>True </td><td>False</td><td>True </td><td>False</td><td>False</td><td>Negative</td></tr>\n",
       "\t<tr><td>Fever                </td><td>True </td><td>False</td><td>True </td><td>True </td><td>False</td><td>False</td><td>True </td><td>False</td><td>Positive</td></tr>\n",
       "\t<tr><td>Fever                </td><td>False</td><td>True </td><td>True </td><td>False</td><td>False</td><td>False</td><td>True </td><td>False</td><td>Positive</td></tr>\n",
       "\t<tr><td>None                 </td><td>True </td><td>False</td><td>False</td><td>False</td><td>True </td><td>True </td><td>True </td><td>False</td><td>Positive</td></tr>\n",
       "\t<tr><td>Swollen Lymph Nodes  </td><td>True </td><td>True </td><td>True </td><td>False</td><td>False</td><td>True </td><td>True </td><td>False</td><td>Positive</td></tr>\n",
       "\t<tr><td>Swollen Lymph Nodes  </td><td>False</td><td>True </td><td>False</td><td>False</td><td>False</td><td>False</td><td>False</td><td>False</td><td>Negative</td></tr>\n",
       "\t<tr><td>Fever                </td><td>False</td><td>True </td><td>False</td><td>False</td><td>False</td><td>False</td><td>True </td><td>False</td><td>Positive</td></tr>\n",
       "\t<tr><td>Fever                </td><td>True </td><td>True </td><td>False</td><td>True </td><td>True </td><td>True </td><td>False</td><td>False</td><td>Positive</td></tr>\n",
       "\t<tr><td>Muscle Aches and Pain</td><td>False</td><td>True </td><td>True </td><td>True </td><td>False</td><td>False</td><td>False</td><td>False</td><td>Positive</td></tr>\n",
       "\t<tr><td>Fever                </td><td>False</td><td>False</td><td>True </td><td>True </td><td>True </td><td>False</td><td>True </td><td>False</td><td>Negative</td></tr>\n",
       "\t<tr><td>Muscle Aches and Pain</td><td>False</td><td>True </td><td>True </td><td>True </td><td>True </td><td>True </td><td>False</td><td>True </td><td>Negative</td></tr>\n",
       "\t<tr><td>Swollen Lymph Nodes  </td><td>True </td><td>True </td><td>False</td><td>False</td><td>True </td><td>False</td><td>False</td><td>False</td><td>Negative</td></tr>\n",
       "\t<tr><td>Fever                </td><td>True </td><td>False</td><td>True </td><td>False</td><td>True </td><td>True </td><td>True </td><td>True </td><td>Positive</td></tr>\n",
       "\t<tr><td>Swollen Lymph Nodes  </td><td>True </td><td>True </td><td>False</td><td>True </td><td>True </td><td>True </td><td>False</td><td>False</td><td>Positive</td></tr>\n",
       "\t<tr><td>Swollen Lymph Nodes  </td><td>True </td><td>False</td><td>False</td><td>False</td><td>False</td><td>False</td><td>True </td><td>False</td><td>Negative</td></tr>\n",
       "\t<tr><td>Swollen Lymph Nodes  </td><td>False</td><td>True </td><td>False</td><td>True </td><td>True </td><td>True </td><td>True </td><td>False</td><td>Positive</td></tr>\n",
       "\t<tr><td>None                 </td><td>True </td><td>True </td><td>False</td><td>False</td><td>True </td><td>True </td><td>True </td><td>False</td><td>Positive</td></tr>\n",
       "\t<tr><td>None                 </td><td>False</td><td>True </td><td>False</td><td>False</td><td>False</td><td>False</td><td>True </td><td>True </td><td>Positive</td></tr>\n",
       "\t<tr><td>Muscle Aches and Pain</td><td>False</td><td>True </td><td>True </td><td>False</td><td>False</td><td>False</td><td>False</td><td>False</td><td>Negative</td></tr>\n",
       "\t<tr><td>Swollen Lymph Nodes  </td><td>True </td><td>False</td><td>True </td><td>True </td><td>False</td><td>True </td><td>False</td><td>False</td><td>Positive</td></tr>\n",
       "\t<tr><td>Fever                </td><td>False</td><td>False</td><td>True </td><td>False</td><td>True </td><td>True </td><td>False</td><td>False</td><td>Negative</td></tr>\n",
       "\t<tr><td>None                 </td><td>False</td><td>True </td><td>False</td><td>False</td><td>False</td><td>True </td><td>True </td><td>True </td><td>Negative</td></tr>\n",
       "\t<tr><td>Swollen Lymph Nodes  </td><td>True </td><td>True </td><td>True </td><td>False</td><td>False</td><td>True </td><td>True </td><td>True </td><td>Positive</td></tr>\n",
       "\t<tr><td>Fever                </td><td>True </td><td>False</td><td>False</td><td>True </td><td>False</td><td>True </td><td>True </td><td>False</td><td>Positive</td></tr>\n",
       "\t<tr><td>Swollen Lymph Nodes  </td><td>False</td><td>True </td><td>True </td><td>True </td><td>True </td><td>True </td><td>False</td><td>True </td><td>Positive</td></tr>\n",
       "\t<tr><td>Muscle Aches and Pain</td><td>True </td><td>True </td><td>True </td><td>False</td><td>False</td><td>False</td><td>False</td><td>True </td><td>Negative</td></tr>\n",
       "\t<tr><td>Muscle Aches and Pain</td><td>True </td><td>False</td><td>False</td><td>True </td><td>True </td><td>False</td><td>True </td><td>False</td><td>Negative</td></tr>\n",
       "\t<tr><td>None                 </td><td>False</td><td>True </td><td>True </td><td>False</td><td>True </td><td>True </td><td>True </td><td>True </td><td>Positive</td></tr>\n",
       "\t<tr><td>None                 </td><td>False</td><td>False</td><td>False</td><td>True </td><td>True </td><td>False</td><td>True </td><td>False</td><td>Negative</td></tr>\n",
       "\t<tr><td>Muscle Aches and Pain</td><td>True </td><td>True </td><td>False</td><td>False</td><td>False</td><td>True </td><td>False</td><td>True </td><td>Negative</td></tr>\n",
       "\t<tr><td>⋮</td><td>⋮</td><td>⋮</td><td>⋮</td><td>⋮</td><td>⋮</td><td>⋮</td><td>⋮</td><td>⋮</td><td>⋮</td></tr>\n",
       "\t<tr><td>Fever                </td><td>False</td><td>True </td><td>True </td><td>True </td><td>True </td><td>False</td><td>True </td><td>False</td><td>Positive</td></tr>\n",
       "\t<tr><td>Fever                </td><td>True </td><td>False</td><td>True </td><td>False</td><td>False</td><td>False</td><td>False</td><td>True </td><td>Positive</td></tr>\n",
       "\t<tr><td>Swollen Lymph Nodes  </td><td>True </td><td>False</td><td>False</td><td>False</td><td>True </td><td>True </td><td>False</td><td>True </td><td>Positive</td></tr>\n",
       "\t<tr><td>Fever                </td><td>False</td><td>True </td><td>True </td><td>True </td><td>False</td><td>False</td><td>True </td><td>True </td><td>Positive</td></tr>\n",
       "\t<tr><td>Fever                </td><td>True </td><td>True </td><td>False</td><td>False</td><td>True </td><td>True </td><td>True </td><td>False</td><td>Positive</td></tr>\n",
       "\t<tr><td>Swollen Lymph Nodes  </td><td>False</td><td>False</td><td>True </td><td>False</td><td>True </td><td>True </td><td>False</td><td>True </td><td>Negative</td></tr>\n",
       "\t<tr><td>Muscle Aches and Pain</td><td>True </td><td>False</td><td>False</td><td>True </td><td>False</td><td>False</td><td>True </td><td>False</td><td>Negative</td></tr>\n",
       "\t<tr><td>None                 </td><td>False</td><td>False</td><td>False</td><td>True </td><td>True </td><td>True </td><td>True </td><td>False</td><td>Negative</td></tr>\n",
       "\t<tr><td>Fever                </td><td>True </td><td>False</td><td>True </td><td>True </td><td>False</td><td>False</td><td>True </td><td>True </td><td>Positive</td></tr>\n",
       "\t<tr><td>Muscle Aches and Pain</td><td>False</td><td>False</td><td>False</td><td>True </td><td>False</td><td>True </td><td>True </td><td>False</td><td>Negative</td></tr>\n",
       "\t<tr><td>Swollen Lymph Nodes  </td><td>False</td><td>True </td><td>True </td><td>True </td><td>True </td><td>True </td><td>True </td><td>False</td><td>Positive</td></tr>\n",
       "\t<tr><td>Muscle Aches and Pain</td><td>False</td><td>True </td><td>False</td><td>False</td><td>True </td><td>True </td><td>True </td><td>False</td><td>Negative</td></tr>\n",
       "\t<tr><td>Swollen Lymph Nodes  </td><td>True </td><td>True </td><td>True </td><td>False</td><td>False</td><td>True </td><td>False</td><td>False</td><td>Positive</td></tr>\n",
       "\t<tr><td>Muscle Aches and Pain</td><td>False</td><td>True </td><td>True </td><td>True </td><td>False</td><td>False</td><td>True </td><td>True </td><td>Negative</td></tr>\n",
       "\t<tr><td>Fever                </td><td>False</td><td>True </td><td>False</td><td>True </td><td>False</td><td>False</td><td>False</td><td>True </td><td>Positive</td></tr>\n",
       "\t<tr><td>Swollen Lymph Nodes  </td><td>False</td><td>True </td><td>False</td><td>True </td><td>False</td><td>True </td><td>True </td><td>True </td><td>Positive</td></tr>\n",
       "\t<tr><td>Swollen Lymph Nodes  </td><td>False</td><td>True </td><td>True </td><td>False</td><td>True </td><td>True </td><td>True </td><td>True </td><td>Positive</td></tr>\n",
       "\t<tr><td>Fever                </td><td>True </td><td>False</td><td>False</td><td>True </td><td>True </td><td>True </td><td>False</td><td>True </td><td>Positive</td></tr>\n",
       "\t<tr><td>Muscle Aches and Pain</td><td>True </td><td>True </td><td>False</td><td>False</td><td>False</td><td>False</td><td>True </td><td>False</td><td>Negative</td></tr>\n",
       "\t<tr><td>Fever                </td><td>False</td><td>True </td><td>True </td><td>True </td><td>True </td><td>False</td><td>False</td><td>False</td><td>Positive</td></tr>\n",
       "\t<tr><td>Muscle Aches and Pain</td><td>False</td><td>False</td><td>True </td><td>True </td><td>False</td><td>False</td><td>True </td><td>False</td><td>Negative</td></tr>\n",
       "\t<tr><td>Fever                </td><td>False</td><td>True </td><td>False</td><td>False</td><td>True </td><td>False</td><td>True </td><td>True </td><td>Positive</td></tr>\n",
       "\t<tr><td>None                 </td><td>True </td><td>False</td><td>True </td><td>False</td><td>False</td><td>False</td><td>False</td><td>True </td><td>Negative</td></tr>\n",
       "\t<tr><td>None                 </td><td>True </td><td>True </td><td>True </td><td>False</td><td>False</td><td>False</td><td>False</td><td>True </td><td>Positive</td></tr>\n",
       "\t<tr><td>Fever                </td><td>False</td><td>True </td><td>True </td><td>False</td><td>False</td><td>False</td><td>True </td><td>True </td><td>Positive</td></tr>\n",
       "\t<tr><td>None                 </td><td>True </td><td>True </td><td>False</td><td>True </td><td>True </td><td>False</td><td>False</td><td>True </td><td>Positive</td></tr>\n",
       "\t<tr><td>Fever                </td><td>False</td><td>True </td><td>True </td><td>False</td><td>True </td><td>True </td><td>True </td><td>True </td><td>Positive</td></tr>\n",
       "\t<tr><td>None                 </td><td>True </td><td>True </td><td>False</td><td>False</td><td>True </td><td>True </td><td>False</td><td>False</td><td>Positive</td></tr>\n",
       "\t<tr><td>Swollen Lymph Nodes  </td><td>False</td><td>True </td><td>False</td><td>True </td><td>True </td><td>True </td><td>False</td><td>False</td><td>Negative</td></tr>\n",
       "\t<tr><td>Swollen Lymph Nodes  </td><td>False</td><td>False</td><td>True </td><td>False</td><td>False</td><td>True </td><td>True </td><td>False</td><td>Positive</td></tr>\n",
       "</tbody>\n",
       "</table>\n"
      ],
      "text/latex": [
       "A data.frame: 25000 × 10\n",
       "\\begin{tabular}{llllllllll}\n",
       " Systemic.Illness & Rectal.Pain & Sore.Throat & Penile.Oedema & Oral.Lesions & Solitary.Lesion & Swollen.Tonsils & HIV.Infection & Sexually.Transmitted.Infection & MonkeyPox\\\\\n",
       " <chr> & <chr> & <chr> & <chr> & <chr> & <chr> & <chr> & <chr> & <chr> & <chr>\\\\\n",
       "\\hline\n",
       "\t None                  & False & True  & True  & True  & False & True  & False & False & Negative\\\\\n",
       "\t Fever                 & True  & False & True  & True  & False & False & True  & False & Positive\\\\\n",
       "\t Fever                 & False & True  & True  & False & False & False & True  & False & Positive\\\\\n",
       "\t None                  & True  & False & False & False & True  & True  & True  & False & Positive\\\\\n",
       "\t Swollen Lymph Nodes   & True  & True  & True  & False & False & True  & True  & False & Positive\\\\\n",
       "\t Swollen Lymph Nodes   & False & True  & False & False & False & False & False & False & Negative\\\\\n",
       "\t Fever                 & False & True  & False & False & False & False & True  & False & Positive\\\\\n",
       "\t Fever                 & True  & True  & False & True  & True  & True  & False & False & Positive\\\\\n",
       "\t Muscle Aches and Pain & False & True  & True  & True  & False & False & False & False & Positive\\\\\n",
       "\t Fever                 & False & False & True  & True  & True  & False & True  & False & Negative\\\\\n",
       "\t Muscle Aches and Pain & False & True  & True  & True  & True  & True  & False & True  & Negative\\\\\n",
       "\t Swollen Lymph Nodes   & True  & True  & False & False & True  & False & False & False & Negative\\\\\n",
       "\t Fever                 & True  & False & True  & False & True  & True  & True  & True  & Positive\\\\\n",
       "\t Swollen Lymph Nodes   & True  & True  & False & True  & True  & True  & False & False & Positive\\\\\n",
       "\t Swollen Lymph Nodes   & True  & False & False & False & False & False & True  & False & Negative\\\\\n",
       "\t Swollen Lymph Nodes   & False & True  & False & True  & True  & True  & True  & False & Positive\\\\\n",
       "\t None                  & True  & True  & False & False & True  & True  & True  & False & Positive\\\\\n",
       "\t None                  & False & True  & False & False & False & False & True  & True  & Positive\\\\\n",
       "\t Muscle Aches and Pain & False & True  & True  & False & False & False & False & False & Negative\\\\\n",
       "\t Swollen Lymph Nodes   & True  & False & True  & True  & False & True  & False & False & Positive\\\\\n",
       "\t Fever                 & False & False & True  & False & True  & True  & False & False & Negative\\\\\n",
       "\t None                  & False & True  & False & False & False & True  & True  & True  & Negative\\\\\n",
       "\t Swollen Lymph Nodes   & True  & True  & True  & False & False & True  & True  & True  & Positive\\\\\n",
       "\t Fever                 & True  & False & False & True  & False & True  & True  & False & Positive\\\\\n",
       "\t Swollen Lymph Nodes   & False & True  & True  & True  & True  & True  & False & True  & Positive\\\\\n",
       "\t Muscle Aches and Pain & True  & True  & True  & False & False & False & False & True  & Negative\\\\\n",
       "\t Muscle Aches and Pain & True  & False & False & True  & True  & False & True  & False & Negative\\\\\n",
       "\t None                  & False & True  & True  & False & True  & True  & True  & True  & Positive\\\\\n",
       "\t None                  & False & False & False & True  & True  & False & True  & False & Negative\\\\\n",
       "\t Muscle Aches and Pain & True  & True  & False & False & False & True  & False & True  & Negative\\\\\n",
       "\t ⋮ & ⋮ & ⋮ & ⋮ & ⋮ & ⋮ & ⋮ & ⋮ & ⋮ & ⋮\\\\\n",
       "\t Fever                 & False & True  & True  & True  & True  & False & True  & False & Positive\\\\\n",
       "\t Fever                 & True  & False & True  & False & False & False & False & True  & Positive\\\\\n",
       "\t Swollen Lymph Nodes   & True  & False & False & False & True  & True  & False & True  & Positive\\\\\n",
       "\t Fever                 & False & True  & True  & True  & False & False & True  & True  & Positive\\\\\n",
       "\t Fever                 & True  & True  & False & False & True  & True  & True  & False & Positive\\\\\n",
       "\t Swollen Lymph Nodes   & False & False & True  & False & True  & True  & False & True  & Negative\\\\\n",
       "\t Muscle Aches and Pain & True  & False & False & True  & False & False & True  & False & Negative\\\\\n",
       "\t None                  & False & False & False & True  & True  & True  & True  & False & Negative\\\\\n",
       "\t Fever                 & True  & False & True  & True  & False & False & True  & True  & Positive\\\\\n",
       "\t Muscle Aches and Pain & False & False & False & True  & False & True  & True  & False & Negative\\\\\n",
       "\t Swollen Lymph Nodes   & False & True  & True  & True  & True  & True  & True  & False & Positive\\\\\n",
       "\t Muscle Aches and Pain & False & True  & False & False & True  & True  & True  & False & Negative\\\\\n",
       "\t Swollen Lymph Nodes   & True  & True  & True  & False & False & True  & False & False & Positive\\\\\n",
       "\t Muscle Aches and Pain & False & True  & True  & True  & False & False & True  & True  & Negative\\\\\n",
       "\t Fever                 & False & True  & False & True  & False & False & False & True  & Positive\\\\\n",
       "\t Swollen Lymph Nodes   & False & True  & False & True  & False & True  & True  & True  & Positive\\\\\n",
       "\t Swollen Lymph Nodes   & False & True  & True  & False & True  & True  & True  & True  & Positive\\\\\n",
       "\t Fever                 & True  & False & False & True  & True  & True  & False & True  & Positive\\\\\n",
       "\t Muscle Aches and Pain & True  & True  & False & False & False & False & True  & False & Negative\\\\\n",
       "\t Fever                 & False & True  & True  & True  & True  & False & False & False & Positive\\\\\n",
       "\t Muscle Aches and Pain & False & False & True  & True  & False & False & True  & False & Negative\\\\\n",
       "\t Fever                 & False & True  & False & False & True  & False & True  & True  & Positive\\\\\n",
       "\t None                  & True  & False & True  & False & False & False & False & True  & Negative\\\\\n",
       "\t None                  & True  & True  & True  & False & False & False & False & True  & Positive\\\\\n",
       "\t Fever                 & False & True  & True  & False & False & False & True  & True  & Positive\\\\\n",
       "\t None                  & True  & True  & False & True  & True  & False & False & True  & Positive\\\\\n",
       "\t Fever                 & False & True  & True  & False & True  & True  & True  & True  & Positive\\\\\n",
       "\t None                  & True  & True  & False & False & True  & True  & False & False & Positive\\\\\n",
       "\t Swollen Lymph Nodes   & False & True  & False & True  & True  & True  & False & False & Negative\\\\\n",
       "\t Swollen Lymph Nodes   & False & False & True  & False & False & True  & True  & False & Positive\\\\\n",
       "\\end{tabular}\n"
      ],
      "text/markdown": [
       "\n",
       "A data.frame: 25000 × 10\n",
       "\n",
       "| Systemic.Illness &lt;chr&gt; | Rectal.Pain &lt;chr&gt; | Sore.Throat &lt;chr&gt; | Penile.Oedema &lt;chr&gt; | Oral.Lesions &lt;chr&gt; | Solitary.Lesion &lt;chr&gt; | Swollen.Tonsils &lt;chr&gt; | HIV.Infection &lt;chr&gt; | Sexually.Transmitted.Infection &lt;chr&gt; | MonkeyPox &lt;chr&gt; |\n",
       "|---|---|---|---|---|---|---|---|---|---|\n",
       "| None                  | False | True  | True  | True  | False | True  | False | False | Negative |\n",
       "| Fever                 | True  | False | True  | True  | False | False | True  | False | Positive |\n",
       "| Fever                 | False | True  | True  | False | False | False | True  | False | Positive |\n",
       "| None                  | True  | False | False | False | True  | True  | True  | False | Positive |\n",
       "| Swollen Lymph Nodes   | True  | True  | True  | False | False | True  | True  | False | Positive |\n",
       "| Swollen Lymph Nodes   | False | True  | False | False | False | False | False | False | Negative |\n",
       "| Fever                 | False | True  | False | False | False | False | True  | False | Positive |\n",
       "| Fever                 | True  | True  | False | True  | True  | True  | False | False | Positive |\n",
       "| Muscle Aches and Pain | False | True  | True  | True  | False | False | False | False | Positive |\n",
       "| Fever                 | False | False | True  | True  | True  | False | True  | False | Negative |\n",
       "| Muscle Aches and Pain | False | True  | True  | True  | True  | True  | False | True  | Negative |\n",
       "| Swollen Lymph Nodes   | True  | True  | False | False | True  | False | False | False | Negative |\n",
       "| Fever                 | True  | False | True  | False | True  | True  | True  | True  | Positive |\n",
       "| Swollen Lymph Nodes   | True  | True  | False | True  | True  | True  | False | False | Positive |\n",
       "| Swollen Lymph Nodes   | True  | False | False | False | False | False | True  | False | Negative |\n",
       "| Swollen Lymph Nodes   | False | True  | False | True  | True  | True  | True  | False | Positive |\n",
       "| None                  | True  | True  | False | False | True  | True  | True  | False | Positive |\n",
       "| None                  | False | True  | False | False | False | False | True  | True  | Positive |\n",
       "| Muscle Aches and Pain | False | True  | True  | False | False | False | False | False | Negative |\n",
       "| Swollen Lymph Nodes   | True  | False | True  | True  | False | True  | False | False | Positive |\n",
       "| Fever                 | False | False | True  | False | True  | True  | False | False | Negative |\n",
       "| None                  | False | True  | False | False | False | True  | True  | True  | Negative |\n",
       "| Swollen Lymph Nodes   | True  | True  | True  | False | False | True  | True  | True  | Positive |\n",
       "| Fever                 | True  | False | False | True  | False | True  | True  | False | Positive |\n",
       "| Swollen Lymph Nodes   | False | True  | True  | True  | True  | True  | False | True  | Positive |\n",
       "| Muscle Aches and Pain | True  | True  | True  | False | False | False | False | True  | Negative |\n",
       "| Muscle Aches and Pain | True  | False | False | True  | True  | False | True  | False | Negative |\n",
       "| None                  | False | True  | True  | False | True  | True  | True  | True  | Positive |\n",
       "| None                  | False | False | False | True  | True  | False | True  | False | Negative |\n",
       "| Muscle Aches and Pain | True  | True  | False | False | False | True  | False | True  | Negative |\n",
       "| ⋮ | ⋮ | ⋮ | ⋮ | ⋮ | ⋮ | ⋮ | ⋮ | ⋮ | ⋮ |\n",
       "| Fever                 | False | True  | True  | True  | True  | False | True  | False | Positive |\n",
       "| Fever                 | True  | False | True  | False | False | False | False | True  | Positive |\n",
       "| Swollen Lymph Nodes   | True  | False | False | False | True  | True  | False | True  | Positive |\n",
       "| Fever                 | False | True  | True  | True  | False | False | True  | True  | Positive |\n",
       "| Fever                 | True  | True  | False | False | True  | True  | True  | False | Positive |\n",
       "| Swollen Lymph Nodes   | False | False | True  | False | True  | True  | False | True  | Negative |\n",
       "| Muscle Aches and Pain | True  | False | False | True  | False | False | True  | False | Negative |\n",
       "| None                  | False | False | False | True  | True  | True  | True  | False | Negative |\n",
       "| Fever                 | True  | False | True  | True  | False | False | True  | True  | Positive |\n",
       "| Muscle Aches and Pain | False | False | False | True  | False | True  | True  | False | Negative |\n",
       "| Swollen Lymph Nodes   | False | True  | True  | True  | True  | True  | True  | False | Positive |\n",
       "| Muscle Aches and Pain | False | True  | False | False | True  | True  | True  | False | Negative |\n",
       "| Swollen Lymph Nodes   | True  | True  | True  | False | False | True  | False | False | Positive |\n",
       "| Muscle Aches and Pain | False | True  | True  | True  | False | False | True  | True  | Negative |\n",
       "| Fever                 | False | True  | False | True  | False | False | False | True  | Positive |\n",
       "| Swollen Lymph Nodes   | False | True  | False | True  | False | True  | True  | True  | Positive |\n",
       "| Swollen Lymph Nodes   | False | True  | True  | False | True  | True  | True  | True  | Positive |\n",
       "| Fever                 | True  | False | False | True  | True  | True  | False | True  | Positive |\n",
       "| Muscle Aches and Pain | True  | True  | False | False | False | False | True  | False | Negative |\n",
       "| Fever                 | False | True  | True  | True  | True  | False | False | False | Positive |\n",
       "| Muscle Aches and Pain | False | False | True  | True  | False | False | True  | False | Negative |\n",
       "| Fever                 | False | True  | False | False | True  | False | True  | True  | Positive |\n",
       "| None                  | True  | False | True  | False | False | False | False | True  | Negative |\n",
       "| None                  | True  | True  | True  | False | False | False | False | True  | Positive |\n",
       "| Fever                 | False | True  | True  | False | False | False | True  | True  | Positive |\n",
       "| None                  | True  | True  | False | True  | True  | False | False | True  | Positive |\n",
       "| Fever                 | False | True  | True  | False | True  | True  | True  | True  | Positive |\n",
       "| None                  | True  | True  | False | False | True  | True  | False | False | Positive |\n",
       "| Swollen Lymph Nodes   | False | True  | False | True  | True  | True  | False | False | Negative |\n",
       "| Swollen Lymph Nodes   | False | False | True  | False | False | True  | True  | False | Positive |\n",
       "\n"
      ],
      "text/plain": [
       "      Systemic.Illness      Rectal.Pain Sore.Throat Penile.Oedema Oral.Lesions\n",
       "1     None                  False       True        True          True        \n",
       "2     Fever                 True        False       True          True        \n",
       "3     Fever                 False       True        True          False       \n",
       "4     None                  True        False       False         False       \n",
       "5     Swollen Lymph Nodes   True        True        True          False       \n",
       "6     Swollen Lymph Nodes   False       True        False         False       \n",
       "7     Fever                 False       True        False         False       \n",
       "8     Fever                 True        True        False         True        \n",
       "9     Muscle Aches and Pain False       True        True          True        \n",
       "10    Fever                 False       False       True          True        \n",
       "11    Muscle Aches and Pain False       True        True          True        \n",
       "12    Swollen Lymph Nodes   True        True        False         False       \n",
       "13    Fever                 True        False       True          False       \n",
       "14    Swollen Lymph Nodes   True        True        False         True        \n",
       "15    Swollen Lymph Nodes   True        False       False         False       \n",
       "16    Swollen Lymph Nodes   False       True        False         True        \n",
       "17    None                  True        True        False         False       \n",
       "18    None                  False       True        False         False       \n",
       "19    Muscle Aches and Pain False       True        True          False       \n",
       "20    Swollen Lymph Nodes   True        False       True          True        \n",
       "21    Fever                 False       False       True          False       \n",
       "22    None                  False       True        False         False       \n",
       "23    Swollen Lymph Nodes   True        True        True          False       \n",
       "24    Fever                 True        False       False         True        \n",
       "25    Swollen Lymph Nodes   False       True        True          True        \n",
       "26    Muscle Aches and Pain True        True        True          False       \n",
       "27    Muscle Aches and Pain True        False       False         True        \n",
       "28    None                  False       True        True          False       \n",
       "29    None                  False       False       False         True        \n",
       "30    Muscle Aches and Pain True        True        False         False       \n",
       "⋮     ⋮                     ⋮           ⋮           ⋮             ⋮           \n",
       "24971 Fever                 False       True        True          True        \n",
       "24972 Fever                 True        False       True          False       \n",
       "24973 Swollen Lymph Nodes   True        False       False         False       \n",
       "24974 Fever                 False       True        True          True        \n",
       "24975 Fever                 True        True        False         False       \n",
       "24976 Swollen Lymph Nodes   False       False       True          False       \n",
       "24977 Muscle Aches and Pain True        False       False         True        \n",
       "24978 None                  False       False       False         True        \n",
       "24979 Fever                 True        False       True          True        \n",
       "24980 Muscle Aches and Pain False       False       False         True        \n",
       "24981 Swollen Lymph Nodes   False       True        True          True        \n",
       "24982 Muscle Aches and Pain False       True        False         False       \n",
       "24983 Swollen Lymph Nodes   True        True        True          False       \n",
       "24984 Muscle Aches and Pain False       True        True          True        \n",
       "24985 Fever                 False       True        False         True        \n",
       "24986 Swollen Lymph Nodes   False       True        False         True        \n",
       "24987 Swollen Lymph Nodes   False       True        True          False       \n",
       "24988 Fever                 True        False       False         True        \n",
       "24989 Muscle Aches and Pain True        True        False         False       \n",
       "24990 Fever                 False       True        True          True        \n",
       "24991 Muscle Aches and Pain False       False       True          True        \n",
       "24992 Fever                 False       True        False         False       \n",
       "24993 None                  True        False       True          False       \n",
       "24994 None                  True        True        True          False       \n",
       "24995 Fever                 False       True        True          False       \n",
       "24996 None                  True        True        False         True        \n",
       "24997 Fever                 False       True        True          False       \n",
       "24998 None                  True        True        False         False       \n",
       "24999 Swollen Lymph Nodes   False       True        False         True        \n",
       "25000 Swollen Lymph Nodes   False       False       True          False       \n",
       "      Solitary.Lesion Swollen.Tonsils HIV.Infection\n",
       "1     False           True            False        \n",
       "2     False           False           True         \n",
       "3     False           False           True         \n",
       "4     True            True            True         \n",
       "5     False           True            True         \n",
       "6     False           False           False        \n",
       "7     False           False           True         \n",
       "8     True            True            False        \n",
       "9     False           False           False        \n",
       "10    True            False           True         \n",
       "11    True            True            False        \n",
       "12    True            False           False        \n",
       "13    True            True            True         \n",
       "14    True            True            False        \n",
       "15    False           False           True         \n",
       "16    True            True            True         \n",
       "17    True            True            True         \n",
       "18    False           False           True         \n",
       "19    False           False           False        \n",
       "20    False           True            False        \n",
       "21    True            True            False        \n",
       "22    False           True            True         \n",
       "23    False           True            True         \n",
       "24    False           True            True         \n",
       "25    True            True            False        \n",
       "26    False           False           False        \n",
       "27    True            False           True         \n",
       "28    True            True            True         \n",
       "29    True            False           True         \n",
       "30    False           True            False        \n",
       "⋮     ⋮               ⋮               ⋮            \n",
       "24971 True            False           True         \n",
       "24972 False           False           False        \n",
       "24973 True            True            False        \n",
       "24974 False           False           True         \n",
       "24975 True            True            True         \n",
       "24976 True            True            False        \n",
       "24977 False           False           True         \n",
       "24978 True            True            True         \n",
       "24979 False           False           True         \n",
       "24980 False           True            True         \n",
       "24981 True            True            True         \n",
       "24982 True            True            True         \n",
       "24983 False           True            False        \n",
       "24984 False           False           True         \n",
       "24985 False           False           False        \n",
       "24986 False           True            True         \n",
       "24987 True            True            True         \n",
       "24988 True            True            False        \n",
       "24989 False           False           True         \n",
       "24990 True            False           False        \n",
       "24991 False           False           True         \n",
       "24992 True            False           True         \n",
       "24993 False           False           False        \n",
       "24994 False           False           False        \n",
       "24995 False           False           True         \n",
       "24996 True            False           False        \n",
       "24997 True            True            True         \n",
       "24998 True            True            False        \n",
       "24999 True            True            False        \n",
       "25000 False           True            True         \n",
       "      Sexually.Transmitted.Infection MonkeyPox\n",
       "1     False                          Negative \n",
       "2     False                          Positive \n",
       "3     False                          Positive \n",
       "4     False                          Positive \n",
       "5     False                          Positive \n",
       "6     False                          Negative \n",
       "7     False                          Positive \n",
       "8     False                          Positive \n",
       "9     False                          Positive \n",
       "10    False                          Negative \n",
       "11    True                           Negative \n",
       "12    False                          Negative \n",
       "13    True                           Positive \n",
       "14    False                          Positive \n",
       "15    False                          Negative \n",
       "16    False                          Positive \n",
       "17    False                          Positive \n",
       "18    True                           Positive \n",
       "19    False                          Negative \n",
       "20    False                          Positive \n",
       "21    False                          Negative \n",
       "22    True                           Negative \n",
       "23    True                           Positive \n",
       "24    False                          Positive \n",
       "25    True                           Positive \n",
       "26    True                           Negative \n",
       "27    False                          Negative \n",
       "28    True                           Positive \n",
       "29    False                          Negative \n",
       "30    True                           Negative \n",
       "⋮     ⋮                              ⋮        \n",
       "24971 False                          Positive \n",
       "24972 True                           Positive \n",
       "24973 True                           Positive \n",
       "24974 True                           Positive \n",
       "24975 False                          Positive \n",
       "24976 True                           Negative \n",
       "24977 False                          Negative \n",
       "24978 False                          Negative \n",
       "24979 True                           Positive \n",
       "24980 False                          Negative \n",
       "24981 False                          Positive \n",
       "24982 False                          Negative \n",
       "24983 False                          Positive \n",
       "24984 True                           Negative \n",
       "24985 True                           Positive \n",
       "24986 True                           Positive \n",
       "24987 True                           Positive \n",
       "24988 True                           Positive \n",
       "24989 False                          Negative \n",
       "24990 False                          Positive \n",
       "24991 False                          Negative \n",
       "24992 True                           Positive \n",
       "24993 True                           Negative \n",
       "24994 True                           Positive \n",
       "24995 True                           Positive \n",
       "24996 True                           Positive \n",
       "24997 True                           Positive \n",
       "24998 False                          Positive \n",
       "24999 False                          Negative \n",
       "25000 False                          Positive "
      ]
     },
     "metadata": {},
     "output_type": "display_data"
    }
   ],
   "source": [
    "\n",
    "data1<-select(data1, -Patient_ID )\n",
    "data1"
   ]
  },
  {
   "cell_type": "code",
   "execution_count": 10,
   "id": "a74d24c1",
   "metadata": {},
   "outputs": [],
   "source": [
    "set.seed(1)\n",
    "ind <- sample(nrow(data1),.7*nrow(data1) )\n",
    "#tsample <- sample(25000,10)\n",
    "test <- data1[-ind,]\n",
    "train<-data1[ind,]"
   ]
  },
  {
   "cell_type": "code",
   "execution_count": 11,
   "id": "0a7dfeed",
   "metadata": {},
   "outputs": [
    {
     "data": {
      "text/html": [
       "17500"
      ],
      "text/latex": [
       "17500"
      ],
      "text/markdown": [
       "17500"
      ],
      "text/plain": [
       "[1] 17500"
      ]
     },
     "metadata": {},
     "output_type": "display_data"
    }
   ],
   "source": [
    "length(ind)"
   ]
  },
  {
   "cell_type": "code",
   "execution_count": 12,
   "id": "8c57b645",
   "metadata": {},
   "outputs": [
    {
     "data": {
      "text/html": [
       "<table class=\"dataframe\">\n",
       "<caption>A data.frame: 7500 × 10</caption>\n",
       "<thead>\n",
       "\t<tr><th></th><th scope=col>Systemic.Illness</th><th scope=col>Rectal.Pain</th><th scope=col>Sore.Throat</th><th scope=col>Penile.Oedema</th><th scope=col>Oral.Lesions</th><th scope=col>Solitary.Lesion</th><th scope=col>Swollen.Tonsils</th><th scope=col>HIV.Infection</th><th scope=col>Sexually.Transmitted.Infection</th><th scope=col>MonkeyPox</th></tr>\n",
       "\t<tr><th></th><th scope=col>&lt;chr&gt;</th><th scope=col>&lt;chr&gt;</th><th scope=col>&lt;chr&gt;</th><th scope=col>&lt;chr&gt;</th><th scope=col>&lt;chr&gt;</th><th scope=col>&lt;chr&gt;</th><th scope=col>&lt;chr&gt;</th><th scope=col>&lt;chr&gt;</th><th scope=col>&lt;chr&gt;</th><th scope=col>&lt;chr&gt;</th></tr>\n",
       "</thead>\n",
       "<tbody>\n",
       "\t<tr><th scope=row>5</th><td>Swollen Lymph Nodes  </td><td>True </td><td>True </td><td>True </td><td>False</td><td>False</td><td>True </td><td>True </td><td>False</td><td>Positive</td></tr>\n",
       "\t<tr><th scope=row>9</th><td>Muscle Aches and Pain</td><td>False</td><td>True </td><td>True </td><td>True </td><td>False</td><td>False</td><td>False</td><td>False</td><td>Positive</td></tr>\n",
       "\t<tr><th scope=row>10</th><td>Fever                </td><td>False</td><td>False</td><td>True </td><td>True </td><td>True </td><td>False</td><td>True </td><td>False</td><td>Negative</td></tr>\n",
       "\t<tr><th scope=row>11</th><td>Muscle Aches and Pain</td><td>False</td><td>True </td><td>True </td><td>True </td><td>True </td><td>True </td><td>False</td><td>True </td><td>Negative</td></tr>\n",
       "\t<tr><th scope=row>12</th><td>Swollen Lymph Nodes  </td><td>True </td><td>True </td><td>False</td><td>False</td><td>True </td><td>False</td><td>False</td><td>False</td><td>Negative</td></tr>\n",
       "\t<tr><th scope=row>17</th><td>None                 </td><td>True </td><td>True </td><td>False</td><td>False</td><td>True </td><td>True </td><td>True </td><td>False</td><td>Positive</td></tr>\n",
       "\t<tr><th scope=row>22</th><td>None                 </td><td>False</td><td>True </td><td>False</td><td>False</td><td>False</td><td>True </td><td>True </td><td>True </td><td>Negative</td></tr>\n",
       "\t<tr><th scope=row>23</th><td>Swollen Lymph Nodes  </td><td>True </td><td>True </td><td>True </td><td>False</td><td>False</td><td>True </td><td>True </td><td>True </td><td>Positive</td></tr>\n",
       "\t<tr><th scope=row>26</th><td>Muscle Aches and Pain</td><td>True </td><td>True </td><td>True </td><td>False</td><td>False</td><td>False</td><td>False</td><td>True </td><td>Negative</td></tr>\n",
       "\t<tr><th scope=row>31</th><td>Swollen Lymph Nodes  </td><td>False</td><td>True </td><td>False</td><td>True </td><td>False</td><td>True </td><td>True </td><td>True </td><td>Negative</td></tr>\n",
       "\t<tr><th scope=row>33</th><td>Fever                </td><td>False</td><td>False</td><td>False</td><td>True </td><td>True </td><td>False</td><td>True </td><td>False</td><td>Positive</td></tr>\n",
       "\t<tr><th scope=row>34</th><td>Fever                </td><td>False</td><td>False</td><td>False</td><td>True </td><td>False</td><td>False</td><td>False</td><td>True </td><td>Negative</td></tr>\n",
       "\t<tr><th scope=row>35</th><td>None                 </td><td>False</td><td>True </td><td>False</td><td>True </td><td>False</td><td>False</td><td>False</td><td>True </td><td>Positive</td></tr>\n",
       "\t<tr><th scope=row>37</th><td>None                 </td><td>False</td><td>False</td><td>False</td><td>False</td><td>True </td><td>True </td><td>True </td><td>False</td><td>Positive</td></tr>\n",
       "\t<tr><th scope=row>42</th><td>None                 </td><td>False</td><td>True </td><td>False</td><td>True </td><td>True </td><td>False</td><td>False</td><td>True </td><td>Negative</td></tr>\n",
       "\t<tr><th scope=row>43</th><td>Swollen Lymph Nodes  </td><td>True </td><td>False</td><td>True </td><td>False</td><td>True </td><td>True </td><td>False</td><td>True </td><td>Positive</td></tr>\n",
       "\t<tr><th scope=row>50</th><td>Fever                </td><td>True </td><td>False</td><td>True </td><td>False</td><td>False</td><td>False</td><td>False</td><td>True </td><td>Negative</td></tr>\n",
       "\t<tr><th scope=row>52</th><td>Fever                </td><td>False</td><td>False</td><td>False</td><td>False</td><td>False</td><td>False</td><td>False</td><td>True </td><td>Positive</td></tr>\n",
       "\t<tr><th scope=row>53</th><td>Swollen Lymph Nodes  </td><td>False</td><td>True </td><td>False</td><td>False</td><td>True </td><td>False</td><td>False</td><td>True </td><td>Positive</td></tr>\n",
       "\t<tr><th scope=row>57</th><td>Fever                </td><td>False</td><td>True </td><td>True </td><td>False</td><td>False</td><td>False</td><td>False</td><td>False</td><td>Negative</td></tr>\n",
       "\t<tr><th scope=row>62</th><td>Muscle Aches and Pain</td><td>False</td><td>True </td><td>False</td><td>False</td><td>False</td><td>False</td><td>False</td><td>False</td><td>Positive</td></tr>\n",
       "\t<tr><th scope=row>66</th><td>Swollen Lymph Nodes  </td><td>False</td><td>True </td><td>False</td><td>True </td><td>True </td><td>True </td><td>False</td><td>True </td><td>Positive</td></tr>\n",
       "\t<tr><th scope=row>69</th><td>Muscle Aches and Pain</td><td>False</td><td>True </td><td>False</td><td>False</td><td>True </td><td>True </td><td>True </td><td>True </td><td>Negative</td></tr>\n",
       "\t<tr><th scope=row>71</th><td>Muscle Aches and Pain</td><td>True </td><td>True </td><td>True </td><td>True </td><td>False</td><td>True </td><td>True </td><td>False</td><td>Positive</td></tr>\n",
       "\t<tr><th scope=row>78</th><td>None                 </td><td>True </td><td>False</td><td>True </td><td>False</td><td>False</td><td>False</td><td>False</td><td>False</td><td>Negative</td></tr>\n",
       "\t<tr><th scope=row>80</th><td>Swollen Lymph Nodes  </td><td>True </td><td>True </td><td>False</td><td>False</td><td>False</td><td>True </td><td>True </td><td>False</td><td>Positive</td></tr>\n",
       "\t<tr><th scope=row>81</th><td>None                 </td><td>True </td><td>True </td><td>False</td><td>True </td><td>False</td><td>False</td><td>False</td><td>False</td><td>Negative</td></tr>\n",
       "\t<tr><th scope=row>82</th><td>Swollen Lymph Nodes  </td><td>True </td><td>False</td><td>False</td><td>False</td><td>True </td><td>True </td><td>True </td><td>False</td><td>Positive</td></tr>\n",
       "\t<tr><th scope=row>84</th><td>None                 </td><td>False</td><td>True </td><td>True </td><td>False</td><td>False</td><td>True </td><td>True </td><td>True </td><td>Positive</td></tr>\n",
       "\t<tr><th scope=row>85</th><td>Muscle Aches and Pain</td><td>True </td><td>True </td><td>True </td><td>False</td><td>False</td><td>False</td><td>False</td><td>False</td><td>Positive</td></tr>\n",
       "\t<tr><th scope=row>⋮</th><td>⋮</td><td>⋮</td><td>⋮</td><td>⋮</td><td>⋮</td><td>⋮</td><td>⋮</td><td>⋮</td><td>⋮</td><td>⋮</td></tr>\n",
       "\t<tr><th scope=row>24876</th><td>Fever                </td><td>True </td><td>True </td><td>False</td><td>False</td><td>True </td><td>False</td><td>False</td><td>False</td><td>Negative</td></tr>\n",
       "\t<tr><th scope=row>24877</th><td>Fever                </td><td>False</td><td>True </td><td>True </td><td>False</td><td>False</td><td>True </td><td>True </td><td>True </td><td>Positive</td></tr>\n",
       "\t<tr><th scope=row>24883</th><td>None                 </td><td>True </td><td>True </td><td>False</td><td>False</td><td>False</td><td>False</td><td>True </td><td>False</td><td>Positive</td></tr>\n",
       "\t<tr><th scope=row>24884</th><td>Muscle Aches and Pain</td><td>False</td><td>False</td><td>False</td><td>False</td><td>False</td><td>True </td><td>True </td><td>False</td><td>Negative</td></tr>\n",
       "\t<tr><th scope=row>24889</th><td>Fever                </td><td>False</td><td>False</td><td>True </td><td>True </td><td>False</td><td>True </td><td>False</td><td>False</td><td>Positive</td></tr>\n",
       "\t<tr><th scope=row>24891</th><td>Swollen Lymph Nodes  </td><td>False</td><td>True </td><td>False</td><td>True </td><td>False</td><td>True </td><td>True </td><td>False</td><td>Negative</td></tr>\n",
       "\t<tr><th scope=row>24894</th><td>Swollen Lymph Nodes  </td><td>True </td><td>False</td><td>False</td><td>True </td><td>True </td><td>False</td><td>False</td><td>False</td><td>Positive</td></tr>\n",
       "\t<tr><th scope=row>24902</th><td>None                 </td><td>True </td><td>False</td><td>False</td><td>True </td><td>True </td><td>False</td><td>False</td><td>True </td><td>Positive</td></tr>\n",
       "\t<tr><th scope=row>24903</th><td>Fever                </td><td>True </td><td>False</td><td>False</td><td>True </td><td>False</td><td>False</td><td>False</td><td>True </td><td>Negative</td></tr>\n",
       "\t<tr><th scope=row>24907</th><td>None                 </td><td>True </td><td>False</td><td>False</td><td>False</td><td>True </td><td>False</td><td>False</td><td>True </td><td>Positive</td></tr>\n",
       "\t<tr><th scope=row>24913</th><td>Muscle Aches and Pain</td><td>False</td><td>False</td><td>False</td><td>False</td><td>True </td><td>False</td><td>True </td><td>True </td><td>Positive</td></tr>\n",
       "\t<tr><th scope=row>24914</th><td>Fever                </td><td>False</td><td>True </td><td>True </td><td>False</td><td>False</td><td>True </td><td>False</td><td>False</td><td>Negative</td></tr>\n",
       "\t<tr><th scope=row>24919</th><td>Muscle Aches and Pain</td><td>True </td><td>False</td><td>False</td><td>True </td><td>True </td><td>False</td><td>True </td><td>True </td><td>Positive</td></tr>\n",
       "\t<tr><th scope=row>24922</th><td>Fever                </td><td>True </td><td>True </td><td>True </td><td>True </td><td>False</td><td>False</td><td>False</td><td>True </td><td>Positive</td></tr>\n",
       "\t<tr><th scope=row>24929</th><td>Swollen Lymph Nodes  </td><td>True </td><td>True </td><td>False</td><td>False</td><td>False</td><td>True </td><td>False</td><td>False</td><td>Positive</td></tr>\n",
       "\t<tr><th scope=row>24930</th><td>Swollen Lymph Nodes  </td><td>True </td><td>True </td><td>False</td><td>False</td><td>False</td><td>True </td><td>True </td><td>False</td><td>Positive</td></tr>\n",
       "\t<tr><th scope=row>24943</th><td>Swollen Lymph Nodes  </td><td>True </td><td>True </td><td>True </td><td>True </td><td>False</td><td>True </td><td>False</td><td>True </td><td>Positive</td></tr>\n",
       "\t<tr><th scope=row>24945</th><td>Muscle Aches and Pain</td><td>False</td><td>False</td><td>False</td><td>False</td><td>False</td><td>False</td><td>True </td><td>False</td><td>Positive</td></tr>\n",
       "\t<tr><th scope=row>24955</th><td>Fever                </td><td>True </td><td>True </td><td>False</td><td>False</td><td>True </td><td>False</td><td>False</td><td>True </td><td>Positive</td></tr>\n",
       "\t<tr><th scope=row>24957</th><td>None                 </td><td>True </td><td>True </td><td>False</td><td>False</td><td>True </td><td>False</td><td>False</td><td>True </td><td>Positive</td></tr>\n",
       "\t<tr><th scope=row>24959</th><td>Muscle Aches and Pain</td><td>False</td><td>True </td><td>False</td><td>True </td><td>False</td><td>True </td><td>False</td><td>False</td><td>Negative</td></tr>\n",
       "\t<tr><th scope=row>24963</th><td>None                 </td><td>False</td><td>False</td><td>True </td><td>True </td><td>True </td><td>False</td><td>False</td><td>False</td><td>Negative</td></tr>\n",
       "\t<tr><th scope=row>24965</th><td>Swollen Lymph Nodes  </td><td>False</td><td>True </td><td>True </td><td>False</td><td>True </td><td>True </td><td>False</td><td>True </td><td>Positive</td></tr>\n",
       "\t<tr><th scope=row>24968</th><td>None                 </td><td>False</td><td>True </td><td>False</td><td>True </td><td>False</td><td>False</td><td>False</td><td>True </td><td>Positive</td></tr>\n",
       "\t<tr><th scope=row>24977</th><td>Muscle Aches and Pain</td><td>True </td><td>False</td><td>False</td><td>True </td><td>False</td><td>False</td><td>True </td><td>False</td><td>Negative</td></tr>\n",
       "\t<tr><th scope=row>24984</th><td>Muscle Aches and Pain</td><td>False</td><td>True </td><td>True </td><td>True </td><td>False</td><td>False</td><td>True </td><td>True </td><td>Negative</td></tr>\n",
       "\t<tr><th scope=row>24988</th><td>Fever                </td><td>True </td><td>False</td><td>False</td><td>True </td><td>True </td><td>True </td><td>False</td><td>True </td><td>Positive</td></tr>\n",
       "\t<tr><th scope=row>24990</th><td>Fever                </td><td>False</td><td>True </td><td>True </td><td>True </td><td>True </td><td>False</td><td>False</td><td>False</td><td>Positive</td></tr>\n",
       "\t<tr><th scope=row>24991</th><td>Muscle Aches and Pain</td><td>False</td><td>False</td><td>True </td><td>True </td><td>False</td><td>False</td><td>True </td><td>False</td><td>Negative</td></tr>\n",
       "\t<tr><th scope=row>24993</th><td>None                 </td><td>True </td><td>False</td><td>True </td><td>False</td><td>False</td><td>False</td><td>False</td><td>True </td><td>Negative</td></tr>\n",
       "</tbody>\n",
       "</table>\n"
      ],
      "text/latex": [
       "A data.frame: 7500 × 10\n",
       "\\begin{tabular}{r|llllllllll}\n",
       "  & Systemic.Illness & Rectal.Pain & Sore.Throat & Penile.Oedema & Oral.Lesions & Solitary.Lesion & Swollen.Tonsils & HIV.Infection & Sexually.Transmitted.Infection & MonkeyPox\\\\\n",
       "  & <chr> & <chr> & <chr> & <chr> & <chr> & <chr> & <chr> & <chr> & <chr> & <chr>\\\\\n",
       "\\hline\n",
       "\t5 & Swollen Lymph Nodes   & True  & True  & True  & False & False & True  & True  & False & Positive\\\\\n",
       "\t9 & Muscle Aches and Pain & False & True  & True  & True  & False & False & False & False & Positive\\\\\n",
       "\t10 & Fever                 & False & False & True  & True  & True  & False & True  & False & Negative\\\\\n",
       "\t11 & Muscle Aches and Pain & False & True  & True  & True  & True  & True  & False & True  & Negative\\\\\n",
       "\t12 & Swollen Lymph Nodes   & True  & True  & False & False & True  & False & False & False & Negative\\\\\n",
       "\t17 & None                  & True  & True  & False & False & True  & True  & True  & False & Positive\\\\\n",
       "\t22 & None                  & False & True  & False & False & False & True  & True  & True  & Negative\\\\\n",
       "\t23 & Swollen Lymph Nodes   & True  & True  & True  & False & False & True  & True  & True  & Positive\\\\\n",
       "\t26 & Muscle Aches and Pain & True  & True  & True  & False & False & False & False & True  & Negative\\\\\n",
       "\t31 & Swollen Lymph Nodes   & False & True  & False & True  & False & True  & True  & True  & Negative\\\\\n",
       "\t33 & Fever                 & False & False & False & True  & True  & False & True  & False & Positive\\\\\n",
       "\t34 & Fever                 & False & False & False & True  & False & False & False & True  & Negative\\\\\n",
       "\t35 & None                  & False & True  & False & True  & False & False & False & True  & Positive\\\\\n",
       "\t37 & None                  & False & False & False & False & True  & True  & True  & False & Positive\\\\\n",
       "\t42 & None                  & False & True  & False & True  & True  & False & False & True  & Negative\\\\\n",
       "\t43 & Swollen Lymph Nodes   & True  & False & True  & False & True  & True  & False & True  & Positive\\\\\n",
       "\t50 & Fever                 & True  & False & True  & False & False & False & False & True  & Negative\\\\\n",
       "\t52 & Fever                 & False & False & False & False & False & False & False & True  & Positive\\\\\n",
       "\t53 & Swollen Lymph Nodes   & False & True  & False & False & True  & False & False & True  & Positive\\\\\n",
       "\t57 & Fever                 & False & True  & True  & False & False & False & False & False & Negative\\\\\n",
       "\t62 & Muscle Aches and Pain & False & True  & False & False & False & False & False & False & Positive\\\\\n",
       "\t66 & Swollen Lymph Nodes   & False & True  & False & True  & True  & True  & False & True  & Positive\\\\\n",
       "\t69 & Muscle Aches and Pain & False & True  & False & False & True  & True  & True  & True  & Negative\\\\\n",
       "\t71 & Muscle Aches and Pain & True  & True  & True  & True  & False & True  & True  & False & Positive\\\\\n",
       "\t78 & None                  & True  & False & True  & False & False & False & False & False & Negative\\\\\n",
       "\t80 & Swollen Lymph Nodes   & True  & True  & False & False & False & True  & True  & False & Positive\\\\\n",
       "\t81 & None                  & True  & True  & False & True  & False & False & False & False & Negative\\\\\n",
       "\t82 & Swollen Lymph Nodes   & True  & False & False & False & True  & True  & True  & False & Positive\\\\\n",
       "\t84 & None                  & False & True  & True  & False & False & True  & True  & True  & Positive\\\\\n",
       "\t85 & Muscle Aches and Pain & True  & True  & True  & False & False & False & False & False & Positive\\\\\n",
       "\t⋮ & ⋮ & ⋮ & ⋮ & ⋮ & ⋮ & ⋮ & ⋮ & ⋮ & ⋮ & ⋮\\\\\n",
       "\t24876 & Fever                 & True  & True  & False & False & True  & False & False & False & Negative\\\\\n",
       "\t24877 & Fever                 & False & True  & True  & False & False & True  & True  & True  & Positive\\\\\n",
       "\t24883 & None                  & True  & True  & False & False & False & False & True  & False & Positive\\\\\n",
       "\t24884 & Muscle Aches and Pain & False & False & False & False & False & True  & True  & False & Negative\\\\\n",
       "\t24889 & Fever                 & False & False & True  & True  & False & True  & False & False & Positive\\\\\n",
       "\t24891 & Swollen Lymph Nodes   & False & True  & False & True  & False & True  & True  & False & Negative\\\\\n",
       "\t24894 & Swollen Lymph Nodes   & True  & False & False & True  & True  & False & False & False & Positive\\\\\n",
       "\t24902 & None                  & True  & False & False & True  & True  & False & False & True  & Positive\\\\\n",
       "\t24903 & Fever                 & True  & False & False & True  & False & False & False & True  & Negative\\\\\n",
       "\t24907 & None                  & True  & False & False & False & True  & False & False & True  & Positive\\\\\n",
       "\t24913 & Muscle Aches and Pain & False & False & False & False & True  & False & True  & True  & Positive\\\\\n",
       "\t24914 & Fever                 & False & True  & True  & False & False & True  & False & False & Negative\\\\\n",
       "\t24919 & Muscle Aches and Pain & True  & False & False & True  & True  & False & True  & True  & Positive\\\\\n",
       "\t24922 & Fever                 & True  & True  & True  & True  & False & False & False & True  & Positive\\\\\n",
       "\t24929 & Swollen Lymph Nodes   & True  & True  & False & False & False & True  & False & False & Positive\\\\\n",
       "\t24930 & Swollen Lymph Nodes   & True  & True  & False & False & False & True  & True  & False & Positive\\\\\n",
       "\t24943 & Swollen Lymph Nodes   & True  & True  & True  & True  & False & True  & False & True  & Positive\\\\\n",
       "\t24945 & Muscle Aches and Pain & False & False & False & False & False & False & True  & False & Positive\\\\\n",
       "\t24955 & Fever                 & True  & True  & False & False & True  & False & False & True  & Positive\\\\\n",
       "\t24957 & None                  & True  & True  & False & False & True  & False & False & True  & Positive\\\\\n",
       "\t24959 & Muscle Aches and Pain & False & True  & False & True  & False & True  & False & False & Negative\\\\\n",
       "\t24963 & None                  & False & False & True  & True  & True  & False & False & False & Negative\\\\\n",
       "\t24965 & Swollen Lymph Nodes   & False & True  & True  & False & True  & True  & False & True  & Positive\\\\\n",
       "\t24968 & None                  & False & True  & False & True  & False & False & False & True  & Positive\\\\\n",
       "\t24977 & Muscle Aches and Pain & True  & False & False & True  & False & False & True  & False & Negative\\\\\n",
       "\t24984 & Muscle Aches and Pain & False & True  & True  & True  & False & False & True  & True  & Negative\\\\\n",
       "\t24988 & Fever                 & True  & False & False & True  & True  & True  & False & True  & Positive\\\\\n",
       "\t24990 & Fever                 & False & True  & True  & True  & True  & False & False & False & Positive\\\\\n",
       "\t24991 & Muscle Aches and Pain & False & False & True  & True  & False & False & True  & False & Negative\\\\\n",
       "\t24993 & None                  & True  & False & True  & False & False & False & False & True  & Negative\\\\\n",
       "\\end{tabular}\n"
      ],
      "text/markdown": [
       "\n",
       "A data.frame: 7500 × 10\n",
       "\n",
       "| <!--/--> | Systemic.Illness &lt;chr&gt; | Rectal.Pain &lt;chr&gt; | Sore.Throat &lt;chr&gt; | Penile.Oedema &lt;chr&gt; | Oral.Lesions &lt;chr&gt; | Solitary.Lesion &lt;chr&gt; | Swollen.Tonsils &lt;chr&gt; | HIV.Infection &lt;chr&gt; | Sexually.Transmitted.Infection &lt;chr&gt; | MonkeyPox &lt;chr&gt; |\n",
       "|---|---|---|---|---|---|---|---|---|---|---|\n",
       "| 5 | Swollen Lymph Nodes   | True  | True  | True  | False | False | True  | True  | False | Positive |\n",
       "| 9 | Muscle Aches and Pain | False | True  | True  | True  | False | False | False | False | Positive |\n",
       "| 10 | Fever                 | False | False | True  | True  | True  | False | True  | False | Negative |\n",
       "| 11 | Muscle Aches and Pain | False | True  | True  | True  | True  | True  | False | True  | Negative |\n",
       "| 12 | Swollen Lymph Nodes   | True  | True  | False | False | True  | False | False | False | Negative |\n",
       "| 17 | None                  | True  | True  | False | False | True  | True  | True  | False | Positive |\n",
       "| 22 | None                  | False | True  | False | False | False | True  | True  | True  | Negative |\n",
       "| 23 | Swollen Lymph Nodes   | True  | True  | True  | False | False | True  | True  | True  | Positive |\n",
       "| 26 | Muscle Aches and Pain | True  | True  | True  | False | False | False | False | True  | Negative |\n",
       "| 31 | Swollen Lymph Nodes   | False | True  | False | True  | False | True  | True  | True  | Negative |\n",
       "| 33 | Fever                 | False | False | False | True  | True  | False | True  | False | Positive |\n",
       "| 34 | Fever                 | False | False | False | True  | False | False | False | True  | Negative |\n",
       "| 35 | None                  | False | True  | False | True  | False | False | False | True  | Positive |\n",
       "| 37 | None                  | False | False | False | False | True  | True  | True  | False | Positive |\n",
       "| 42 | None                  | False | True  | False | True  | True  | False | False | True  | Negative |\n",
       "| 43 | Swollen Lymph Nodes   | True  | False | True  | False | True  | True  | False | True  | Positive |\n",
       "| 50 | Fever                 | True  | False | True  | False | False | False | False | True  | Negative |\n",
       "| 52 | Fever                 | False | False | False | False | False | False | False | True  | Positive |\n",
       "| 53 | Swollen Lymph Nodes   | False | True  | False | False | True  | False | False | True  | Positive |\n",
       "| 57 | Fever                 | False | True  | True  | False | False | False | False | False | Negative |\n",
       "| 62 | Muscle Aches and Pain | False | True  | False | False | False | False | False | False | Positive |\n",
       "| 66 | Swollen Lymph Nodes   | False | True  | False | True  | True  | True  | False | True  | Positive |\n",
       "| 69 | Muscle Aches and Pain | False | True  | False | False | True  | True  | True  | True  | Negative |\n",
       "| 71 | Muscle Aches and Pain | True  | True  | True  | True  | False | True  | True  | False | Positive |\n",
       "| 78 | None                  | True  | False | True  | False | False | False | False | False | Negative |\n",
       "| 80 | Swollen Lymph Nodes   | True  | True  | False | False | False | True  | True  | False | Positive |\n",
       "| 81 | None                  | True  | True  | False | True  | False | False | False | False | Negative |\n",
       "| 82 | Swollen Lymph Nodes   | True  | False | False | False | True  | True  | True  | False | Positive |\n",
       "| 84 | None                  | False | True  | True  | False | False | True  | True  | True  | Positive |\n",
       "| 85 | Muscle Aches and Pain | True  | True  | True  | False | False | False | False | False | Positive |\n",
       "| ⋮ | ⋮ | ⋮ | ⋮ | ⋮ | ⋮ | ⋮ | ⋮ | ⋮ | ⋮ | ⋮ |\n",
       "| 24876 | Fever                 | True  | True  | False | False | True  | False | False | False | Negative |\n",
       "| 24877 | Fever                 | False | True  | True  | False | False | True  | True  | True  | Positive |\n",
       "| 24883 | None                  | True  | True  | False | False | False | False | True  | False | Positive |\n",
       "| 24884 | Muscle Aches and Pain | False | False | False | False | False | True  | True  | False | Negative |\n",
       "| 24889 | Fever                 | False | False | True  | True  | False | True  | False | False | Positive |\n",
       "| 24891 | Swollen Lymph Nodes   | False | True  | False | True  | False | True  | True  | False | Negative |\n",
       "| 24894 | Swollen Lymph Nodes   | True  | False | False | True  | True  | False | False | False | Positive |\n",
       "| 24902 | None                  | True  | False | False | True  | True  | False | False | True  | Positive |\n",
       "| 24903 | Fever                 | True  | False | False | True  | False | False | False | True  | Negative |\n",
       "| 24907 | None                  | True  | False | False | False | True  | False | False | True  | Positive |\n",
       "| 24913 | Muscle Aches and Pain | False | False | False | False | True  | False | True  | True  | Positive |\n",
       "| 24914 | Fever                 | False | True  | True  | False | False | True  | False | False | Negative |\n",
       "| 24919 | Muscle Aches and Pain | True  | False | False | True  | True  | False | True  | True  | Positive |\n",
       "| 24922 | Fever                 | True  | True  | True  | True  | False | False | False | True  | Positive |\n",
       "| 24929 | Swollen Lymph Nodes   | True  | True  | False | False | False | True  | False | False | Positive |\n",
       "| 24930 | Swollen Lymph Nodes   | True  | True  | False | False | False | True  | True  | False | Positive |\n",
       "| 24943 | Swollen Lymph Nodes   | True  | True  | True  | True  | False | True  | False | True  | Positive |\n",
       "| 24945 | Muscle Aches and Pain | False | False | False | False | False | False | True  | False | Positive |\n",
       "| 24955 | Fever                 | True  | True  | False | False | True  | False | False | True  | Positive |\n",
       "| 24957 | None                  | True  | True  | False | False | True  | False | False | True  | Positive |\n",
       "| 24959 | Muscle Aches and Pain | False | True  | False | True  | False | True  | False | False | Negative |\n",
       "| 24963 | None                  | False | False | True  | True  | True  | False | False | False | Negative |\n",
       "| 24965 | Swollen Lymph Nodes   | False | True  | True  | False | True  | True  | False | True  | Positive |\n",
       "| 24968 | None                  | False | True  | False | True  | False | False | False | True  | Positive |\n",
       "| 24977 | Muscle Aches and Pain | True  | False | False | True  | False | False | True  | False | Negative |\n",
       "| 24984 | Muscle Aches and Pain | False | True  | True  | True  | False | False | True  | True  | Negative |\n",
       "| 24988 | Fever                 | True  | False | False | True  | True  | True  | False | True  | Positive |\n",
       "| 24990 | Fever                 | False | True  | True  | True  | True  | False | False | False | Positive |\n",
       "| 24991 | Muscle Aches and Pain | False | False | True  | True  | False | False | True  | False | Negative |\n",
       "| 24993 | None                  | True  | False | True  | False | False | False | False | True  | Negative |\n",
       "\n"
      ],
      "text/plain": [
       "      Systemic.Illness      Rectal.Pain Sore.Throat Penile.Oedema Oral.Lesions\n",
       "5     Swollen Lymph Nodes   True        True        True          False       \n",
       "9     Muscle Aches and Pain False       True        True          True        \n",
       "10    Fever                 False       False       True          True        \n",
       "11    Muscle Aches and Pain False       True        True          True        \n",
       "12    Swollen Lymph Nodes   True        True        False         False       \n",
       "17    None                  True        True        False         False       \n",
       "22    None                  False       True        False         False       \n",
       "23    Swollen Lymph Nodes   True        True        True          False       \n",
       "26    Muscle Aches and Pain True        True        True          False       \n",
       "31    Swollen Lymph Nodes   False       True        False         True        \n",
       "33    Fever                 False       False       False         True        \n",
       "34    Fever                 False       False       False         True        \n",
       "35    None                  False       True        False         True        \n",
       "37    None                  False       False       False         False       \n",
       "42    None                  False       True        False         True        \n",
       "43    Swollen Lymph Nodes   True        False       True          False       \n",
       "50    Fever                 True        False       True          False       \n",
       "52    Fever                 False       False       False         False       \n",
       "53    Swollen Lymph Nodes   False       True        False         False       \n",
       "57    Fever                 False       True        True          False       \n",
       "62    Muscle Aches and Pain False       True        False         False       \n",
       "66    Swollen Lymph Nodes   False       True        False         True        \n",
       "69    Muscle Aches and Pain False       True        False         False       \n",
       "71    Muscle Aches and Pain True        True        True          True        \n",
       "78    None                  True        False       True          False       \n",
       "80    Swollen Lymph Nodes   True        True        False         False       \n",
       "81    None                  True        True        False         True        \n",
       "82    Swollen Lymph Nodes   True        False       False         False       \n",
       "84    None                  False       True        True          False       \n",
       "85    Muscle Aches and Pain True        True        True          False       \n",
       "⋮     ⋮                     ⋮           ⋮           ⋮             ⋮           \n",
       "24876 Fever                 True        True        False         False       \n",
       "24877 Fever                 False       True        True          False       \n",
       "24883 None                  True        True        False         False       \n",
       "24884 Muscle Aches and Pain False       False       False         False       \n",
       "24889 Fever                 False       False       True          True        \n",
       "24891 Swollen Lymph Nodes   False       True        False         True        \n",
       "24894 Swollen Lymph Nodes   True        False       False         True        \n",
       "24902 None                  True        False       False         True        \n",
       "24903 Fever                 True        False       False         True        \n",
       "24907 None                  True        False       False         False       \n",
       "24913 Muscle Aches and Pain False       False       False         False       \n",
       "24914 Fever                 False       True        True          False       \n",
       "24919 Muscle Aches and Pain True        False       False         True        \n",
       "24922 Fever                 True        True        True          True        \n",
       "24929 Swollen Lymph Nodes   True        True        False         False       \n",
       "24930 Swollen Lymph Nodes   True        True        False         False       \n",
       "24943 Swollen Lymph Nodes   True        True        True          True        \n",
       "24945 Muscle Aches and Pain False       False       False         False       \n",
       "24955 Fever                 True        True        False         False       \n",
       "24957 None                  True        True        False         False       \n",
       "24959 Muscle Aches and Pain False       True        False         True        \n",
       "24963 None                  False       False       True          True        \n",
       "24965 Swollen Lymph Nodes   False       True        True          False       \n",
       "24968 None                  False       True        False         True        \n",
       "24977 Muscle Aches and Pain True        False       False         True        \n",
       "24984 Muscle Aches and Pain False       True        True          True        \n",
       "24988 Fever                 True        False       False         True        \n",
       "24990 Fever                 False       True        True          True        \n",
       "24991 Muscle Aches and Pain False       False       True          True        \n",
       "24993 None                  True        False       True          False       \n",
       "      Solitary.Lesion Swollen.Tonsils HIV.Infection\n",
       "5     False           True            True         \n",
       "9     False           False           False        \n",
       "10    True            False           True         \n",
       "11    True            True            False        \n",
       "12    True            False           False        \n",
       "17    True            True            True         \n",
       "22    False           True            True         \n",
       "23    False           True            True         \n",
       "26    False           False           False        \n",
       "31    False           True            True         \n",
       "33    True            False           True         \n",
       "34    False           False           False        \n",
       "35    False           False           False        \n",
       "37    True            True            True         \n",
       "42    True            False           False        \n",
       "43    True            True            False        \n",
       "50    False           False           False        \n",
       "52    False           False           False        \n",
       "53    True            False           False        \n",
       "57    False           False           False        \n",
       "62    False           False           False        \n",
       "66    True            True            False        \n",
       "69    True            True            True         \n",
       "71    False           True            True         \n",
       "78    False           False           False        \n",
       "80    False           True            True         \n",
       "81    False           False           False        \n",
       "82    True            True            True         \n",
       "84    False           True            True         \n",
       "85    False           False           False        \n",
       "⋮     ⋮               ⋮               ⋮            \n",
       "24876 True            False           False        \n",
       "24877 False           True            True         \n",
       "24883 False           False           True         \n",
       "24884 False           True            True         \n",
       "24889 False           True            False        \n",
       "24891 False           True            True         \n",
       "24894 True            False           False        \n",
       "24902 True            False           False        \n",
       "24903 False           False           False        \n",
       "24907 True            False           False        \n",
       "24913 True            False           True         \n",
       "24914 False           True            False        \n",
       "24919 True            False           True         \n",
       "24922 False           False           False        \n",
       "24929 False           True            False        \n",
       "24930 False           True            True         \n",
       "24943 False           True            False        \n",
       "24945 False           False           True         \n",
       "24955 True            False           False        \n",
       "24957 True            False           False        \n",
       "24959 False           True            False        \n",
       "24963 True            False           False        \n",
       "24965 True            True            False        \n",
       "24968 False           False           False        \n",
       "24977 False           False           True         \n",
       "24984 False           False           True         \n",
       "24988 True            True            False        \n",
       "24990 True            False           False        \n",
       "24991 False           False           True         \n",
       "24993 False           False           False        \n",
       "      Sexually.Transmitted.Infection MonkeyPox\n",
       "5     False                          Positive \n",
       "9     False                          Positive \n",
       "10    False                          Negative \n",
       "11    True                           Negative \n",
       "12    False                          Negative \n",
       "17    False                          Positive \n",
       "22    True                           Negative \n",
       "23    True                           Positive \n",
       "26    True                           Negative \n",
       "31    True                           Negative \n",
       "33    False                          Positive \n",
       "34    True                           Negative \n",
       "35    True                           Positive \n",
       "37    False                          Positive \n",
       "42    True                           Negative \n",
       "43    True                           Positive \n",
       "50    True                           Negative \n",
       "52    True                           Positive \n",
       "53    True                           Positive \n",
       "57    False                          Negative \n",
       "62    False                          Positive \n",
       "66    True                           Positive \n",
       "69    True                           Negative \n",
       "71    False                          Positive \n",
       "78    False                          Negative \n",
       "80    False                          Positive \n",
       "81    False                          Negative \n",
       "82    False                          Positive \n",
       "84    True                           Positive \n",
       "85    False                          Positive \n",
       "⋮     ⋮                              ⋮        \n",
       "24876 False                          Negative \n",
       "24877 True                           Positive \n",
       "24883 False                          Positive \n",
       "24884 False                          Negative \n",
       "24889 False                          Positive \n",
       "24891 False                          Negative \n",
       "24894 False                          Positive \n",
       "24902 True                           Positive \n",
       "24903 True                           Negative \n",
       "24907 True                           Positive \n",
       "24913 True                           Positive \n",
       "24914 False                          Negative \n",
       "24919 True                           Positive \n",
       "24922 True                           Positive \n",
       "24929 False                          Positive \n",
       "24930 False                          Positive \n",
       "24943 True                           Positive \n",
       "24945 False                          Positive \n",
       "24955 True                           Positive \n",
       "24957 True                           Positive \n",
       "24959 False                          Negative \n",
       "24963 False                          Negative \n",
       "24965 True                           Positive \n",
       "24968 True                           Positive \n",
       "24977 False                          Negative \n",
       "24984 True                           Negative \n",
       "24988 True                           Positive \n",
       "24990 False                          Positive \n",
       "24991 False                          Negative \n",
       "24993 True                           Negative "
      ]
     },
     "metadata": {},
     "output_type": "display_data"
    }
   ],
   "source": [
    "test"
   ]
  },
  {
   "cell_type": "code",
   "execution_count": 13,
   "id": "33c32e1d",
   "metadata": {},
   "outputs": [
    {
     "data": {
      "text/html": [
       "<table class=\"dataframe\">\n",
       "<caption>A data.frame: 6 × 10</caption>\n",
       "<thead>\n",
       "\t<tr><th></th><th scope=col>Systemic.Illness</th><th scope=col>Rectal.Pain</th><th scope=col>Sore.Throat</th><th scope=col>Penile.Oedema</th><th scope=col>Oral.Lesions</th><th scope=col>Solitary.Lesion</th><th scope=col>Swollen.Tonsils</th><th scope=col>HIV.Infection</th><th scope=col>Sexually.Transmitted.Infection</th><th scope=col>MonkeyPox</th></tr>\n",
       "\t<tr><th></th><th scope=col>&lt;chr&gt;</th><th scope=col>&lt;chr&gt;</th><th scope=col>&lt;chr&gt;</th><th scope=col>&lt;chr&gt;</th><th scope=col>&lt;chr&gt;</th><th scope=col>&lt;chr&gt;</th><th scope=col>&lt;chr&gt;</th><th scope=col>&lt;chr&gt;</th><th scope=col>&lt;chr&gt;</th><th scope=col>&lt;chr&gt;</th></tr>\n",
       "</thead>\n",
       "<tbody>\n",
       "\t<tr><th scope=row>17401</th><td>Swollen Lymph Nodes  </td><td>False</td><td>False</td><td>False</td><td>True </td><td>True </td><td>False</td><td>False</td><td>False</td><td>Positive</td></tr>\n",
       "\t<tr><th scope=row>24388</th><td>Muscle Aches and Pain</td><td>True </td><td>True </td><td>True </td><td>False</td><td>False</td><td>False</td><td>False</td><td>False</td><td>Negative</td></tr>\n",
       "\t<tr><th scope=row>4775</th><td>Fever                </td><td>True </td><td>False</td><td>False</td><td>False</td><td>False</td><td>False</td><td>True </td><td>True </td><td>Positive</td></tr>\n",
       "\t<tr><th scope=row>13218</th><td>Fever                </td><td>False</td><td>False</td><td>True </td><td>True </td><td>False</td><td>True </td><td>True </td><td>False</td><td>Positive</td></tr>\n",
       "\t<tr><th scope=row>10539</th><td>Fever                </td><td>False</td><td>False</td><td>False</td><td>True </td><td>False</td><td>False</td><td>True </td><td>False</td><td>Positive</td></tr>\n",
       "\t<tr><th scope=row>8462</th><td>None                 </td><td>False</td><td>True </td><td>False</td><td>True </td><td>True </td><td>True </td><td>True </td><td>True </td><td>Positive</td></tr>\n",
       "</tbody>\n",
       "</table>\n"
      ],
      "text/latex": [
       "A data.frame: 6 × 10\n",
       "\\begin{tabular}{r|llllllllll}\n",
       "  & Systemic.Illness & Rectal.Pain & Sore.Throat & Penile.Oedema & Oral.Lesions & Solitary.Lesion & Swollen.Tonsils & HIV.Infection & Sexually.Transmitted.Infection & MonkeyPox\\\\\n",
       "  & <chr> & <chr> & <chr> & <chr> & <chr> & <chr> & <chr> & <chr> & <chr> & <chr>\\\\\n",
       "\\hline\n",
       "\t17401 & Swollen Lymph Nodes   & False & False & False & True  & True  & False & False & False & Positive\\\\\n",
       "\t24388 & Muscle Aches and Pain & True  & True  & True  & False & False & False & False & False & Negative\\\\\n",
       "\t4775 & Fever                 & True  & False & False & False & False & False & True  & True  & Positive\\\\\n",
       "\t13218 & Fever                 & False & False & True  & True  & False & True  & True  & False & Positive\\\\\n",
       "\t10539 & Fever                 & False & False & False & True  & False & False & True  & False & Positive\\\\\n",
       "\t8462 & None                  & False & True  & False & True  & True  & True  & True  & True  & Positive\\\\\n",
       "\\end{tabular}\n"
      ],
      "text/markdown": [
       "\n",
       "A data.frame: 6 × 10\n",
       "\n",
       "| <!--/--> | Systemic.Illness &lt;chr&gt; | Rectal.Pain &lt;chr&gt; | Sore.Throat &lt;chr&gt; | Penile.Oedema &lt;chr&gt; | Oral.Lesions &lt;chr&gt; | Solitary.Lesion &lt;chr&gt; | Swollen.Tonsils &lt;chr&gt; | HIV.Infection &lt;chr&gt; | Sexually.Transmitted.Infection &lt;chr&gt; | MonkeyPox &lt;chr&gt; |\n",
       "|---|---|---|---|---|---|---|---|---|---|---|\n",
       "| 17401 | Swollen Lymph Nodes   | False | False | False | True  | True  | False | False | False | Positive |\n",
       "| 24388 | Muscle Aches and Pain | True  | True  | True  | False | False | False | False | False | Negative |\n",
       "| 4775 | Fever                 | True  | False | False | False | False | False | True  | True  | Positive |\n",
       "| 13218 | Fever                 | False | False | True  | True  | False | True  | True  | False | Positive |\n",
       "| 10539 | Fever                 | False | False | False | True  | False | False | True  | False | Positive |\n",
       "| 8462 | None                  | False | True  | False | True  | True  | True  | True  | True  | Positive |\n",
       "\n"
      ],
      "text/plain": [
       "      Systemic.Illness      Rectal.Pain Sore.Throat Penile.Oedema Oral.Lesions\n",
       "17401 Swollen Lymph Nodes   False       False       False         True        \n",
       "24388 Muscle Aches and Pain True        True        True          False       \n",
       "4775  Fever                 True        False       False         False       \n",
       "13218 Fever                 False       False       True          True        \n",
       "10539 Fever                 False       False       False         True        \n",
       "8462  None                  False       True        False         True        \n",
       "      Solitary.Lesion Swollen.Tonsils HIV.Infection\n",
       "17401 True            False           False        \n",
       "24388 False           False           False        \n",
       "4775  False           False           True         \n",
       "13218 False           True            True         \n",
       "10539 False           False           True         \n",
       "8462  True            True            True         \n",
       "      Sexually.Transmitted.Infection MonkeyPox\n",
       "17401 False                          Positive \n",
       "24388 False                          Negative \n",
       "4775  True                           Positive \n",
       "13218 False                          Positive \n",
       "10539 False                          Positive \n",
       "8462  True                           Positive "
      ]
     },
     "metadata": {},
     "output_type": "display_data"
    }
   ],
   "source": [
    "head(train)"
   ]
  },
  {
   "cell_type": "code",
   "execution_count": 14,
   "id": "4bbfc427",
   "metadata": {
    "scrolled": true
   },
   "outputs": [
    {
     "data": {
      "text/html": [
       "<table class=\"dataframe\">\n",
       "<caption>A data.frame: 6 × 10</caption>\n",
       "<thead>\n",
       "\t<tr><th></th><th scope=col>Systemic.Illness</th><th scope=col>Rectal.Pain</th><th scope=col>Sore.Throat</th><th scope=col>Penile.Oedema</th><th scope=col>Oral.Lesions</th><th scope=col>Solitary.Lesion</th><th scope=col>Swollen.Tonsils</th><th scope=col>HIV.Infection</th><th scope=col>Sexually.Transmitted.Infection</th><th scope=col>MonkeyPox</th></tr>\n",
       "\t<tr><th></th><th scope=col>&lt;chr&gt;</th><th scope=col>&lt;chr&gt;</th><th scope=col>&lt;chr&gt;</th><th scope=col>&lt;chr&gt;</th><th scope=col>&lt;chr&gt;</th><th scope=col>&lt;chr&gt;</th><th scope=col>&lt;chr&gt;</th><th scope=col>&lt;chr&gt;</th><th scope=col>&lt;chr&gt;</th><th scope=col>&lt;chr&gt;</th></tr>\n",
       "</thead>\n",
       "<tbody>\n",
       "\t<tr><th scope=row>17401</th><td>Swollen Lymph Nodes  </td><td>False</td><td>False</td><td>False</td><td>True </td><td>True </td><td>False</td><td>False</td><td>False</td><td>Positive</td></tr>\n",
       "\t<tr><th scope=row>24388</th><td>Muscle Aches and Pain</td><td>True </td><td>True </td><td>True </td><td>False</td><td>False</td><td>False</td><td>False</td><td>False</td><td>Negative</td></tr>\n",
       "\t<tr><th scope=row>4775</th><td>Fever                </td><td>True </td><td>False</td><td>False</td><td>False</td><td>False</td><td>False</td><td>True </td><td>True </td><td>Positive</td></tr>\n",
       "\t<tr><th scope=row>13218</th><td>Fever                </td><td>False</td><td>False</td><td>True </td><td>True </td><td>False</td><td>True </td><td>True </td><td>False</td><td>Positive</td></tr>\n",
       "\t<tr><th scope=row>10539</th><td>Fever                </td><td>False</td><td>False</td><td>False</td><td>True </td><td>False</td><td>False</td><td>True </td><td>False</td><td>Positive</td></tr>\n",
       "\t<tr><th scope=row>8462</th><td>None                 </td><td>False</td><td>True </td><td>False</td><td>True </td><td>True </td><td>True </td><td>True </td><td>True </td><td>Positive</td></tr>\n",
       "</tbody>\n",
       "</table>\n"
      ],
      "text/latex": [
       "A data.frame: 6 × 10\n",
       "\\begin{tabular}{r|llllllllll}\n",
       "  & Systemic.Illness & Rectal.Pain & Sore.Throat & Penile.Oedema & Oral.Lesions & Solitary.Lesion & Swollen.Tonsils & HIV.Infection & Sexually.Transmitted.Infection & MonkeyPox\\\\\n",
       "  & <chr> & <chr> & <chr> & <chr> & <chr> & <chr> & <chr> & <chr> & <chr> & <chr>\\\\\n",
       "\\hline\n",
       "\t17401 & Swollen Lymph Nodes   & False & False & False & True  & True  & False & False & False & Positive\\\\\n",
       "\t24388 & Muscle Aches and Pain & True  & True  & True  & False & False & False & False & False & Negative\\\\\n",
       "\t4775 & Fever                 & True  & False & False & False & False & False & True  & True  & Positive\\\\\n",
       "\t13218 & Fever                 & False & False & True  & True  & False & True  & True  & False & Positive\\\\\n",
       "\t10539 & Fever                 & False & False & False & True  & False & False & True  & False & Positive\\\\\n",
       "\t8462 & None                  & False & True  & False & True  & True  & True  & True  & True  & Positive\\\\\n",
       "\\end{tabular}\n"
      ],
      "text/markdown": [
       "\n",
       "A data.frame: 6 × 10\n",
       "\n",
       "| <!--/--> | Systemic.Illness &lt;chr&gt; | Rectal.Pain &lt;chr&gt; | Sore.Throat &lt;chr&gt; | Penile.Oedema &lt;chr&gt; | Oral.Lesions &lt;chr&gt; | Solitary.Lesion &lt;chr&gt; | Swollen.Tonsils &lt;chr&gt; | HIV.Infection &lt;chr&gt; | Sexually.Transmitted.Infection &lt;chr&gt; | MonkeyPox &lt;chr&gt; |\n",
       "|---|---|---|---|---|---|---|---|---|---|---|\n",
       "| 17401 | Swollen Lymph Nodes   | False | False | False | True  | True  | False | False | False | Positive |\n",
       "| 24388 | Muscle Aches and Pain | True  | True  | True  | False | False | False | False | False | Negative |\n",
       "| 4775 | Fever                 | True  | False | False | False | False | False | True  | True  | Positive |\n",
       "| 13218 | Fever                 | False | False | True  | True  | False | True  | True  | False | Positive |\n",
       "| 10539 | Fever                 | False | False | False | True  | False | False | True  | False | Positive |\n",
       "| 8462 | None                  | False | True  | False | True  | True  | True  | True  | True  | Positive |\n",
       "\n"
      ],
      "text/plain": [
       "      Systemic.Illness      Rectal.Pain Sore.Throat Penile.Oedema Oral.Lesions\n",
       "17401 Swollen Lymph Nodes   False       False       False         True        \n",
       "24388 Muscle Aches and Pain True        True        True          False       \n",
       "4775  Fever                 True        False       False         False       \n",
       "13218 Fever                 False       False       True          True        \n",
       "10539 Fever                 False       False       False         True        \n",
       "8462  None                  False       True        False         True        \n",
       "      Solitary.Lesion Swollen.Tonsils HIV.Infection\n",
       "17401 True            False           False        \n",
       "24388 False           False           False        \n",
       "4775  False           False           True         \n",
       "13218 False           True            True         \n",
       "10539 False           False           True         \n",
       "8462  True            True            True         \n",
       "      Sexually.Transmitted.Infection MonkeyPox\n",
       "17401 False                          Positive \n",
       "24388 False                          Negative \n",
       "4775  True                           Positive \n",
       "13218 False                          Positive \n",
       "10539 False                          Positive \n",
       "8462  True                           Positive "
      ]
     },
     "metadata": {},
     "output_type": "display_data"
    },
    {
     "data": {
      "text/html": [
       "<table class=\"dataframe\">\n",
       "<caption>A data.frame: 6 × 10</caption>\n",
       "<thead>\n",
       "\t<tr><th></th><th scope=col>Systemic.Illness</th><th scope=col>Rectal.Pain</th><th scope=col>Sore.Throat</th><th scope=col>Penile.Oedema</th><th scope=col>Oral.Lesions</th><th scope=col>Solitary.Lesion</th><th scope=col>Swollen.Tonsils</th><th scope=col>HIV.Infection</th><th scope=col>Sexually.Transmitted.Infection</th><th scope=col>MonkeyPox</th></tr>\n",
       "\t<tr><th></th><th scope=col>&lt;chr&gt;</th><th scope=col>&lt;chr&gt;</th><th scope=col>&lt;chr&gt;</th><th scope=col>&lt;chr&gt;</th><th scope=col>&lt;chr&gt;</th><th scope=col>&lt;chr&gt;</th><th scope=col>&lt;chr&gt;</th><th scope=col>&lt;chr&gt;</th><th scope=col>&lt;chr&gt;</th><th scope=col>&lt;chr&gt;</th></tr>\n",
       "</thead>\n",
       "<tbody>\n",
       "\t<tr><th scope=row>5</th><td>Swollen Lymph Nodes  </td><td>True </td><td>True </td><td>True </td><td>False</td><td>False</td><td>True </td><td>True </td><td>False</td><td>Positive</td></tr>\n",
       "\t<tr><th scope=row>9</th><td>Muscle Aches and Pain</td><td>False</td><td>True </td><td>True </td><td>True </td><td>False</td><td>False</td><td>False</td><td>False</td><td>Positive</td></tr>\n",
       "\t<tr><th scope=row>10</th><td>Fever                </td><td>False</td><td>False</td><td>True </td><td>True </td><td>True </td><td>False</td><td>True </td><td>False</td><td>Negative</td></tr>\n",
       "\t<tr><th scope=row>11</th><td>Muscle Aches and Pain</td><td>False</td><td>True </td><td>True </td><td>True </td><td>True </td><td>True </td><td>False</td><td>True </td><td>Negative</td></tr>\n",
       "\t<tr><th scope=row>12</th><td>Swollen Lymph Nodes  </td><td>True </td><td>True </td><td>False</td><td>False</td><td>True </td><td>False</td><td>False</td><td>False</td><td>Negative</td></tr>\n",
       "\t<tr><th scope=row>17</th><td>None                 </td><td>True </td><td>True </td><td>False</td><td>False</td><td>True </td><td>True </td><td>True </td><td>False</td><td>Positive</td></tr>\n",
       "</tbody>\n",
       "</table>\n"
      ],
      "text/latex": [
       "A data.frame: 6 × 10\n",
       "\\begin{tabular}{r|llllllllll}\n",
       "  & Systemic.Illness & Rectal.Pain & Sore.Throat & Penile.Oedema & Oral.Lesions & Solitary.Lesion & Swollen.Tonsils & HIV.Infection & Sexually.Transmitted.Infection & MonkeyPox\\\\\n",
       "  & <chr> & <chr> & <chr> & <chr> & <chr> & <chr> & <chr> & <chr> & <chr> & <chr>\\\\\n",
       "\\hline\n",
       "\t5 & Swollen Lymph Nodes   & True  & True  & True  & False & False & True  & True  & False & Positive\\\\\n",
       "\t9 & Muscle Aches and Pain & False & True  & True  & True  & False & False & False & False & Positive\\\\\n",
       "\t10 & Fever                 & False & False & True  & True  & True  & False & True  & False & Negative\\\\\n",
       "\t11 & Muscle Aches and Pain & False & True  & True  & True  & True  & True  & False & True  & Negative\\\\\n",
       "\t12 & Swollen Lymph Nodes   & True  & True  & False & False & True  & False & False & False & Negative\\\\\n",
       "\t17 & None                  & True  & True  & False & False & True  & True  & True  & False & Positive\\\\\n",
       "\\end{tabular}\n"
      ],
      "text/markdown": [
       "\n",
       "A data.frame: 6 × 10\n",
       "\n",
       "| <!--/--> | Systemic.Illness &lt;chr&gt; | Rectal.Pain &lt;chr&gt; | Sore.Throat &lt;chr&gt; | Penile.Oedema &lt;chr&gt; | Oral.Lesions &lt;chr&gt; | Solitary.Lesion &lt;chr&gt; | Swollen.Tonsils &lt;chr&gt; | HIV.Infection &lt;chr&gt; | Sexually.Transmitted.Infection &lt;chr&gt; | MonkeyPox &lt;chr&gt; |\n",
       "|---|---|---|---|---|---|---|---|---|---|---|\n",
       "| 5 | Swollen Lymph Nodes   | True  | True  | True  | False | False | True  | True  | False | Positive |\n",
       "| 9 | Muscle Aches and Pain | False | True  | True  | True  | False | False | False | False | Positive |\n",
       "| 10 | Fever                 | False | False | True  | True  | True  | False | True  | False | Negative |\n",
       "| 11 | Muscle Aches and Pain | False | True  | True  | True  | True  | True  | False | True  | Negative |\n",
       "| 12 | Swollen Lymph Nodes   | True  | True  | False | False | True  | False | False | False | Negative |\n",
       "| 17 | None                  | True  | True  | False | False | True  | True  | True  | False | Positive |\n",
       "\n"
      ],
      "text/plain": [
       "   Systemic.Illness      Rectal.Pain Sore.Throat Penile.Oedema Oral.Lesions\n",
       "5  Swollen Lymph Nodes   True        True        True          False       \n",
       "9  Muscle Aches and Pain False       True        True          True        \n",
       "10 Fever                 False       False       True          True        \n",
       "11 Muscle Aches and Pain False       True        True          True        \n",
       "12 Swollen Lymph Nodes   True        True        False         False       \n",
       "17 None                  True        True        False         False       \n",
       "   Solitary.Lesion Swollen.Tonsils HIV.Infection Sexually.Transmitted.Infection\n",
       "5  False           True            True          False                         \n",
       "9  False           False           False         False                         \n",
       "10 True            False           True          False                         \n",
       "11 True            True            False         True                          \n",
       "12 True            False           False         False                         \n",
       "17 True            True            True          False                         \n",
       "   MonkeyPox\n",
       "5  Positive \n",
       "9  Positive \n",
       "10 Negative \n",
       "11 Negative \n",
       "12 Negative \n",
       "17 Positive "
      ]
     },
     "metadata": {},
     "output_type": "display_data"
    }
   ],
   "source": [
    "head(train)\n",
    "head(test)"
   ]
  },
  {
   "cell_type": "code",
   "execution_count": 15,
   "id": "44088127",
   "metadata": {
    "scrolled": true
   },
   "outputs": [
    {
     "data": {
      "image/png": "[encoded data removed]",
      "text/plain": [
       "plot without title"
      ]
     },
     "metadata": {
      "image/png": {
       "height": 420,
       "width": 420
      }
     },
     "output_type": "display_data"
    }
   ],
   "source": [
    "\n",
    "tree <- rpart(MonkeyPox~., data = train)\n",
    "rpart.plot(tree)"
   ]
  },
  {
   "cell_type": "code",
   "execution_count": 16,
   "id": "76fcebc7",
   "metadata": {
    "scrolled": false
   },
   "outputs": [
    {
     "name": "stdout",
     "output_type": "stream",
     "text": [
      "\n",
      "Classification tree:\n",
      "rpart(formula = MonkeyPox ~ ., data = train)\n",
      "\n",
      "Variables actually used in tree construction:\n",
      "[1] HIV.Infection                  Rectal.Pain                   \n",
      "[3] Sexually.Transmitted.Infection Systemic.Illness              \n",
      "\n",
      "Root node error: 6385/17500 = 0.36486\n",
      "\n",
      "n= 17500 \n",
      "\n",
      "        CP nsplit rel error  xerror      xstd\n",
      "1 0.044479      0   1.00000 1.00000 0.0099737\n",
      "2 0.030227      2   0.91104 0.91731 0.0097767\n",
      "3 0.012060      3   0.88081 0.88081 0.0096756\n",
      "4 0.010000      4   0.86875 0.88050 0.0096747\n"
     ]
    },
    {
     "data": {
      "image/png": "[encoded data removed]",
      "text/plain": [
       "plot without title"
      ]
     },
     "metadata": {
      "image/png": {
       "height": 420,
       "width": 420
      }
     },
     "output_type": "display_data"
    }
   ],
   "source": [
    "printcp(tree)\n",
    "plotcp(tree)"
   ]
  },
  {
   "cell_type": "code",
   "execution_count": 17,
   "id": "97082f7e",
   "metadata": {
    "scrolled": false
   },
   "outputs": [],
   "source": [
    "\n",
    "p <- predict(tree,test, type = 'class')\n",
    "\n"
   ]
  },
  {
   "cell_type": "code",
   "execution_count": 18,
   "id": "a3f543e0",
   "metadata": {},
   "outputs": [
    {
     "name": "stderr",
     "output_type": "stream",
     "text": [
      "Warning message:\n",
      "\"package 'gmodels' was built under R version 4.2.2\"\n",
      "\n",
      "Attaching package: 'gmodels'\n",
      "\n",
      "\n",
      "The following object is masked from 'package:pROC':\n",
      "\n",
      "    ci\n",
      "\n",
      "\n"
     ]
    },
    {
     "name": "stdout",
     "output_type": "stream",
     "text": [
      "\n",
      " \n",
      "   Cell Contents\n",
      "|-------------------------|\n",
      "|                       N |\n",
      "|         N / Table Total |\n",
      "|-------------------------|\n",
      "\n",
      " \n",
      "Total Observations in Table:  7500 \n",
      "\n",
      " \n",
      "             | actual \n",
      "     predict |  Negative |  Positive | Row Total | \n",
      "-------------|-----------|-----------|-----------|\n",
      "    Negative |       857 |       559 |      1416 | \n",
      "             |     0.114 |     0.075 |           | \n",
      "-------------|-----------|-----------|-----------|\n",
      "    Positive |      1849 |      4235 |      6084 | \n",
      "             |     0.247 |     0.565 |           | \n",
      "-------------|-----------|-----------|-----------|\n",
      "Column Total |      2706 |      4794 |      7500 | \n",
      "-------------|-----------|-----------|-----------|\n",
      "\n",
      " \n"
     ]
    }
   ],
   "source": [
    "library(gmodels)\n",
    "\n",
    "CrossTable(p,test$MonkeyPox,\n",
    "           prop.chisq= FALSE,prop.c=FALSE,prop.r=FALSE,\n",
    "           dnn=c(\"predict\",'actual'))\n"
   ]
  },
  {
   "cell_type": "code",
   "execution_count": 19,
   "id": "b68e5bce",
   "metadata": {},
   "outputs": [
    {
     "data": {
      "text/plain": [
       "Confusion Matrix and Statistics\n",
       "\n",
       "          Reference\n",
       "Prediction Negative Positive\n",
       "  Negative      857      559\n",
       "  Positive     1849     4235\n",
       "                                          \n",
       "               Accuracy : 0.6789          \n",
       "                 95% CI : (0.6682, 0.6895)\n",
       "    No Information Rate : 0.6392          \n",
       "    P-Value [Acc > NIR] : 2.704e-13       \n",
       "                                          \n",
       "                  Kappa : 0.2233          \n",
       "                                          \n",
       " Mcnemar's Test P-Value : < 2.2e-16       \n",
       "                                          \n",
       "            Sensitivity : 0.3167          \n",
       "            Specificity : 0.8834          \n",
       "         Pos Pred Value : 0.6052          \n",
       "         Neg Pred Value : 0.6961          \n",
       "             Prevalence : 0.3608          \n",
       "         Detection Rate : 0.1143          \n",
       "   Detection Prevalence : 0.1888          \n",
       "      Balanced Accuracy : 0.6000          \n",
       "                                          \n",
       "       'Positive' Class : Negative        \n",
       "                                          "
      ]
     },
     "metadata": {},
     "output_type": "display_data"
    },
    {
     "data": {
      "text/plain": [
       "          \n",
       "p          Negative Positive\n",
       "  Negative      857      559\n",
       "  Positive     1849     4235"
      ]
     },
     "metadata": {},
     "output_type": "display_data"
    }
   ],
   "source": [
    "confusionMatrix(as.factor(p), as.factor(test$MonkeyPox))\n",
    "table(p, test$MonkeyPox)\n"
   ]
  },
  {
   "cell_type": "code",
   "execution_count": 20,
   "id": "6f925031",
   "metadata": {},
   "outputs": [
    {
     "data": {
      "image/png": "[encoded data removed]",
      "text/plain": [
       "plot without title"
      ]
     },
     "metadata": {
      "image/png": {
       "height": 420,
       "width": 420
      }
     },
     "output_type": "display_data"
    }
   ],
   "source": [
    "tree1 <- rpart(MonkeyPox ~., data = train,cp=0.002)\n",
    "rpart.plot(tree1)"
   ]
  },
  {
   "cell_type": "code",
   "execution_count": 21,
   "id": "92a16e40",
   "metadata": {},
   "outputs": [
    {
     "name": "stdout",
     "output_type": "stream",
     "text": [
      "\n",
      "Classification tree:\n",
      "rpart(formula = MonkeyPox ~ ., data = train, cp = 0.002)\n",
      "\n",
      "Variables actually used in tree construction:\n",
      "[1] HIV.Infection                  Oral.Lesions                  \n",
      "[3] Rectal.Pain                    Sexually.Transmitted.Infection\n",
      "[5] Sore.Throat                    Systemic.Illness              \n",
      "\n",
      "Root node error: 6385/17500 = 0.36486\n",
      "\n",
      "n= 17500 \n",
      "\n",
      "         CP nsplit rel error  xerror      xstd\n",
      "1 0.0444792      0   1.00000 1.00000 0.0099737\n",
      "2 0.0302271      2   0.91104 0.92106 0.0097866\n",
      "3 0.0120595      3   0.88081 0.88081 0.0096756\n",
      "4 0.0045419      4   0.86875 0.87674 0.0096638\n",
      "5 0.0036022      7   0.85121 0.85544 0.0096000\n",
      "6 0.0020000      9   0.84401 0.85043 0.0095846\n"
     ]
    },
    {
     "data": {
      "image/png": "[encoded data removed]",
      "text/plain": [
       "plot without title"
      ]
     },
     "metadata": {
      "image/png": {
       "height": 420,
       "width": 420
      }
     },
     "output_type": "display_data"
    }
   ],
   "source": [
    "printcp(tree1)\n",
    "plotcp(tree1)\n",
    "p1 <- predict(tree1,test, type = 'class')"
   ]
  },
  {
   "cell_type": "code",
   "execution_count": 22,
   "id": "b7d05504",
   "metadata": {},
   "outputs": [
    {
     "name": "stdout",
     "output_type": "stream",
     "text": [
      "\n",
      " \n",
      "   Cell Contents\n",
      "|-------------------------|\n",
      "|                       N |\n",
      "|         N / Table Total |\n",
      "|-------------------------|\n",
      "\n",
      " \n",
      "Total Observations in Table:  7500 \n",
      "\n",
      " \n",
      "             | actual \n",
      "     predict |  Negative |  Positive | Row Total | \n",
      "-------------|-----------|-----------|-----------|\n",
      "    Negative |       920 |       570 |      1490 | \n",
      "             |     0.123 |     0.076 |           | \n",
      "-------------|-----------|-----------|-----------|\n",
      "    Positive |      1786 |      4224 |      6010 | \n",
      "             |     0.238 |     0.563 |           | \n",
      "-------------|-----------|-----------|-----------|\n",
      "Column Total |      2706 |      4794 |      7500 | \n",
      "-------------|-----------|-----------|-----------|\n",
      "\n",
      " \n"
     ]
    },
    {
     "data": {
      "text/plain": [
       "Confusion Matrix and Statistics\n",
       "\n",
       "          Reference\n",
       "Prediction Negative Positive\n",
       "  Negative      920      570\n",
       "  Positive     1786     4224\n",
       "                                          \n",
       "               Accuracy : 0.6859          \n",
       "                 95% CI : (0.6752, 0.6964)\n",
       "    No Information Rate : 0.6392          \n",
       "    P-Value [Acc > NIR] : < 2.2e-16       \n",
       "                                          \n",
       "                  Kappa : 0.2451          \n",
       "                                          \n",
       " Mcnemar's Test P-Value : < 2.2e-16       \n",
       "                                          \n",
       "            Sensitivity : 0.3400          \n",
       "            Specificity : 0.8811          \n",
       "         Pos Pred Value : 0.6174          \n",
       "         Neg Pred Value : 0.7028          \n",
       "             Prevalence : 0.3608          \n",
       "         Detection Rate : 0.1227          \n",
       "   Detection Prevalence : 0.1987          \n",
       "      Balanced Accuracy : 0.6105          \n",
       "                                          \n",
       "       'Positive' Class : Negative        \n",
       "                                          "
      ]
     },
     "metadata": {},
     "output_type": "display_data"
    },
    {
     "data": {
      "text/plain": [
       "          \n",
       "p1         Negative Positive\n",
       "  Negative      920      570\n",
       "  Positive     1786     4224"
      ]
     },
     "metadata": {},
     "output_type": "display_data"
    }
   ],
   "source": [
    "CrossTable(p1,test$MonkeyPox,\n",
    "           prop.chisq= FALSE,prop.c=FALSE,prop.r=FALSE,\n",
    "           dnn=c(\"predict\",'actual'))\n",
    "confusionMatrix(as.factor(p1), as.factor(test$MonkeyPox))\n",
    "table(p1, test$MonkeyPox)\n"
   ]
  },
  {
   "cell_type": "code",
   "execution_count": 23,
   "id": "0dba1a78",
   "metadata": {
    "scrolled": true
   },
   "outputs": [
    {
     "data": {
      "image/png": "[encoded data removed]",
      "text/plain": [
       "plot without title"
      ]
     },
     "metadata": {
      "image/png": {
       "height": 420,
       "width": 420
      }
     },
     "output_type": "display_data"
    }
   ],
   "source": [
    "tree2 <- rpart(MonkeyPox ~., data = train,cp=0.0010)\n",
    "rpart.plot(tree2)"
   ]
  },
  {
   "cell_type": "code",
   "execution_count": 24,
   "id": "b3a0ccc5",
   "metadata": {},
   "outputs": [
    {
     "name": "stdout",
     "output_type": "stream",
     "text": [
      "\n",
      "Classification tree:\n",
      "rpart(formula = MonkeyPox ~ ., data = train, cp = 0.001)\n",
      "\n",
      "Variables actually used in tree construction:\n",
      "[1] HIV.Infection                  Oral.Lesions                  \n",
      "[3] Penile.Oedema                  Rectal.Pain                   \n",
      "[5] Sexually.Transmitted.Infection Solitary.Lesion               \n",
      "[7] Sore.Throat                    Systemic.Illness              \n",
      "\n",
      "Root node error: 6385/17500 = 0.36486\n",
      "\n",
      "n= 17500 \n",
      "\n",
      "          CP nsplit rel error  xerror      xstd\n",
      "1  0.0444792      0   1.00000 1.00000 0.0099737\n",
      "2  0.0302271      2   0.91104 0.92185 0.0097886\n",
      "3  0.0120595      3   0.88081 0.88081 0.0096756\n",
      "4  0.0045419      4   0.86875 0.87157 0.0096486\n",
      "5  0.0036022      7   0.85121 0.85842 0.0096091\n",
      "6  0.0015140      9   0.84401 0.84902 0.0095802\n",
      "7  0.0014096     12   0.83947 0.85200 0.0095894\n",
      "8  0.0012529     14   0.83665 0.85168 0.0095885\n",
      "9  0.0010180     15   0.83540 0.84996 0.0095831\n",
      "10 0.0010000     17   0.83336 0.84980 0.0095826\n"
     ]
    },
    {
     "data": {
      "image/png": "[encoded data removed]",
      "text/plain": [
       "plot without title"
      ]
     },
     "metadata": {
      "image/png": {
       "height": 420,
       "width": 420
      }
     },
     "output_type": "display_data"
    }
   ],
   "source": [
    "printcp(tree2)\n",
    "plotcp(tree2)"
   ]
  },
  {
   "cell_type": "code",
   "execution_count": 25,
   "id": "a56dc99b",
   "metadata": {},
   "outputs": [
    {
     "name": "stdout",
     "output_type": "stream",
     "text": [
      "\n",
      " \n",
      "   Cell Contents\n",
      "|-------------------------|\n",
      "|                       N |\n",
      "|         N / Table Total |\n",
      "|-------------------------|\n",
      "\n",
      " \n",
      "Total Observations in Table:  7500 \n",
      "\n",
      " \n",
      "             | actual \n",
      "     predict |  Negative |  Positive | Row Total | \n",
      "-------------|-----------|-----------|-----------|\n",
      "    Negative |       862 |       484 |      1346 | \n",
      "             |     0.115 |     0.065 |           | \n",
      "-------------|-----------|-----------|-----------|\n",
      "    Positive |      1844 |      4310 |      6154 | \n",
      "             |     0.246 |     0.575 |           | \n",
      "-------------|-----------|-----------|-----------|\n",
      "Column Total |      2706 |      4794 |      7500 | \n",
      "-------------|-----------|-----------|-----------|\n",
      "\n",
      " \n"
     ]
    },
    {
     "data": {
      "text/plain": [
       "Confusion Matrix and Statistics\n",
       "\n",
       "          Reference\n",
       "Prediction Negative Positive\n",
       "  Negative      862      484\n",
       "  Positive     1844     4310\n",
       "                                         \n",
       "               Accuracy : 0.6896         \n",
       "                 95% CI : (0.679, 0.7001)\n",
       "    No Information Rate : 0.6392         \n",
       "    P-Value [Acc > NIR] : < 2.2e-16      \n",
       "                                         \n",
       "                  Kappa : 0.2443         \n",
       "                                         \n",
       " Mcnemar's Test P-Value : < 2.2e-16      \n",
       "                                         \n",
       "            Sensitivity : 0.3186         \n",
       "            Specificity : 0.8990         \n",
       "         Pos Pred Value : 0.6404         \n",
       "         Neg Pred Value : 0.7004         \n",
       "             Prevalence : 0.3608         \n",
       "         Detection Rate : 0.1149         \n",
       "   Detection Prevalence : 0.1795         \n",
       "      Balanced Accuracy : 0.6088         \n",
       "                                         \n",
       "       'Positive' Class : Negative       \n",
       "                                         "
      ]
     },
     "metadata": {},
     "output_type": "display_data"
    },
    {
     "data": {
      "text/plain": [
       "          \n",
       "p2         Negative Positive\n",
       "  Negative      862      484\n",
       "  Positive     1844     4310"
      ]
     },
     "metadata": {},
     "output_type": "display_data"
    }
   ],
   "source": [
    "p2 <- predict(tree2,test, type = 'class')\n",
    "\n",
    "\n",
    "\n",
    "\n",
    "CrossTable(p2,test$MonkeyPox,\n",
    "           prop.chisq= FALSE,prop.c=FALSE,prop.r=FALSE,\n",
    "           dnn=c(\"predict\",'actual'))\n",
    "confusionMatrix(as.factor(p2), as.factor(test$MonkeyPox))\n",
    "table(p2, test$MonkeyPox)\n"
   ]
  },
  {
   "cell_type": "code",
   "execution_count": 26,
   "id": "d85f55ae",
   "metadata": {},
   "outputs": [],
   "source": [
    "library(rpart.plot)\n",
    "library(RColorBrewer)"
   ]
  },
  {
   "cell_type": "code",
   "execution_count": 27,
   "id": "bd9bd99c",
   "metadata": {},
   "outputs": [
    {
     "data": {
      "image/png": "[encoded data removed]",
      "text/plain": [
       "Plot with title \"Pruned Classification Tree\""
      ]
     },
     "metadata": {
      "image/png": {
       "height": 420,
       "width": 420
      }
     },
     "output_type": "display_data"
    }
   ],
   "source": [
    "# Pruning of Tree\n",
    "ptree<- prune(tree2,cp= tree2$cptable[which.min(tree2$cptable[,\"xerror\"]),\"CP\"])\n",
    "rpart.plot(ptree, uniform=TRUE,main=\"Pruned Classification Tree\")\n",
    "\n",
    "ptp<-predict(ptree,test, type = 'class')\n"
   ]
  },
  {
   "cell_type": "code",
   "execution_count": 28,
   "id": "e437067a",
   "metadata": {},
   "outputs": [
    {
     "name": "stdout",
     "output_type": "stream",
     "text": [
      "\n",
      " \n",
      "   Cell Contents\n",
      "|-------------------------|\n",
      "|                       N |\n",
      "|         N / Table Total |\n",
      "|-------------------------|\n",
      "\n",
      " \n",
      "Total Observations in Table:  7500 \n",
      "\n",
      " \n",
      "             | actual \n",
      "     predict |  Negative |  Positive | Row Total | \n",
      "-------------|-----------|-----------|-----------|\n",
      "    Negative |       920 |       570 |      1490 | \n",
      "             |     0.123 |     0.076 |           | \n",
      "-------------|-----------|-----------|-----------|\n",
      "    Positive |      1786 |      4224 |      6010 | \n",
      "             |     0.238 |     0.563 |           | \n",
      "-------------|-----------|-----------|-----------|\n",
      "Column Total |      2706 |      4794 |      7500 | \n",
      "-------------|-----------|-----------|-----------|\n",
      "\n",
      " \n"
     ]
    },
    {
     "data": {
      "text/plain": [
       "Confusion Matrix and Statistics\n",
       "\n",
       "          Reference\n",
       "Prediction Negative Positive\n",
       "  Negative      920      570\n",
       "  Positive     1786     4224\n",
       "                                          \n",
       "               Accuracy : 0.6859          \n",
       "                 95% CI : (0.6752, 0.6964)\n",
       "    No Information Rate : 0.6392          \n",
       "    P-Value [Acc > NIR] : < 2.2e-16       \n",
       "                                          \n",
       "                  Kappa : 0.2451          \n",
       "                                          \n",
       " Mcnemar's Test P-Value : < 2.2e-16       \n",
       "                                          \n",
       "            Sensitivity : 0.3400          \n",
       "            Specificity : 0.8811          \n",
       "         Pos Pred Value : 0.6174          \n",
       "         Neg Pred Value : 0.7028          \n",
       "             Prevalence : 0.3608          \n",
       "         Detection Rate : 0.1227          \n",
       "   Detection Prevalence : 0.1987          \n",
       "      Balanced Accuracy : 0.6105          \n",
       "                                          \n",
       "       'Positive' Class : Negative        \n",
       "                                          "
      ]
     },
     "metadata": {},
     "output_type": "display_data"
    }
   ],
   "source": [
    "# Cross Table for Prune Tree\n",
    "CrossTable(ptp,test$MonkeyPox,\n",
    "           prop.chisq= FALSE,prop.c=FALSE,prop.r=FALSE,\n",
    "           dnn=c(\"predict\",'actual'))\n",
    "confusionMatrix(as.factor(ptp), as.factor(test$MonkeyPox))\n",
    "t<-table(ptp, test$MonkeyPox)"
   ]
  },
  {
   "cell_type": "code",
   "execution_count": 29,
   "id": "cbb53202",
   "metadata": {},
   "outputs": [
    {
     "data": {
      "image/png": "[encoded data removed]",
      "text/plain": [
       "plot without title"
      ]
     },
     "metadata": {
      "image/png": {
       "height": 420,
       "width": 420
      }
     },
     "output_type": "display_data"
    }
   ],
   "source": [
    "\n",
    "plotcp(ptree)"
   ]
  },
  {
   "cell_type": "code",
   "execution_count": 30,
   "id": "8dfd6d09",
   "metadata": {},
   "outputs": [],
   "source": [
    "accuracy_Test <- (sum(diag(t)) / sum(t))*100"
   ]
  },
  {
   "cell_type": "code",
   "execution_count": 31,
   "id": "e8a48161",
   "metadata": {},
   "outputs": [
    {
     "data": {
      "text/html": [
       "68.5866666666667"
      ],
      "text/latex": [
       "68.5866666666667"
      ],
      "text/markdown": [
       "68.5866666666667"
      ],
      "text/plain": [
       "[1] 68.58667"
      ]
     },
     "metadata": {},
     "output_type": "display_data"
    }
   ],
   "source": [
    "accuracy_Test"
   ]
  },
  {
   "cell_type": "code",
   "execution_count": null,
   "id": "09f95ff4",
   "metadata": {},
   "outputs": [],
   "source": []
  },
  {
   "cell_type": "code",
   "execution_count": null,
   "id": "d8f44760",
   "metadata": {},
   "outputs": [],
   "source": []
  },
  {
   "cell_type": "code",
   "execution_count": 33,
   "id": "6f57f158",
   "metadata": {},
   "outputs": [
    {
     "name": "stdout",
     "output_type": "stream",
     "text": [
      "[1] \"average error using k-fold cross-validation: 31.576 percent\"\n"
     ]
    },
    {
     "data": {
      "text/plain": [
       "          tmp.predict\n",
       "           Negative Positive\n",
       "  Negative      282      608\n",
       "  Positive      157     1453"
      ]
     },
     "metadata": {},
     "output_type": "display_data"
    }
   ],
   "source": [
    "#K-fold Validation error\n",
    "library(plyr)\n",
    "library(rpart)\n",
    "set.seed(123)\n",
    "form <- \"MonkeyPox~.\"\n",
    "folds <- split(data1, cut(sample(1:nrow(data1)),10))\n",
    "errs <- rep(NA, length(folds))\n",
    "\n",
    "for (i in 1:length(folds)) {\n",
    " test <- ldply(folds[i])\n",
    " train <- ldply(folds[-i])\n",
    " tmp.model <- rpart(form , test, method = \"class\")\n",
    " tmp.predict <- predict(tmp.model,nw=test, type = \"class\")\n",
    " \n",
    " conf.mat <- table(test$MonkeyPox, tmp.predict)\n",
    " errs[i] <- 1-sum(diag(conf.mat))/sum(conf.mat)\n",
    "}\n",
    "print(sprintf(\"average error using k-fold cross-validation: %.3f percent\", 100*mean(errs)))\n",
    "conf.mat"
   ]
  },
  {
   "cell_type": "code",
   "execution_count": null,
   "id": "e2865a07",
   "metadata": {},
   "outputs": [],
   "source": []
  }
 ],
 "metadata": {
  "kernelspec": {
   "display_name": "R",
   "language": "R",
   "name": "ir"
  },
  "language_info": {
   "codemirror_mode": "r",
   "file_extension": ".r",
   "mimetype": "text/x-r-source",
   "name": "R",
   "pygments_lexer": "r",
   "version": "4.2.1"
  }
 },
 "nbformat": 4,
 "nbformat_minor": 5
}
