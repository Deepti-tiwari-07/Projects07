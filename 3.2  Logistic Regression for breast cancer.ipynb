{
 "cells": [
  {
   "cell_type": "code",
   "execution_count": 1,
   "id": "963be87d",
   "metadata": {},
   "outputs": [
    {
     "name": "stderr",
     "output_type": "stream",
     "text": [
      "── \u001b[1mAttaching packages\u001b[22m ────────────────────────────────────────────────────────────────────────────────────────────────────────────────────────────────────────────────────────────────────────── tidyverse 1.3.2 ──\n",
      "\u001b[32m✔\u001b[39m \u001b[34mggplot2\u001b[39m 3.4.0      \u001b[32m✔\u001b[39m \u001b[34mpurrr  \u001b[39m 0.3.4 \n",
      "\u001b[32m✔\u001b[39m \u001b[34mtibble \u001b[39m 3.1.8      \u001b[32m✔\u001b[39m \u001b[34mdplyr  \u001b[39m 1.0.10\n",
      "\u001b[32m✔\u001b[39m \u001b[34mtidyr  \u001b[39m 1.2.1      \u001b[32m✔\u001b[39m \u001b[34mstringr\u001b[39m 1.4.1 \n",
      "\u001b[32m✔\u001b[39m \u001b[34mreadr  \u001b[39m 2.1.2      \u001b[32m✔\u001b[39m \u001b[34mforcats\u001b[39m 0.5.2 \n",
      "Warning message:\n",
      "\"package 'ggplot2' was built under R version 4.2.2\"\n",
      "── \u001b[1mConflicts\u001b[22m ───────────────────────────────────────────────────────────────────────────────────────────────────────────────────────────────────────────────────────────────────────────── tidyverse_conflicts() ──\n",
      "\u001b[31m✖\u001b[39m \u001b[34mdplyr\u001b[39m::\u001b[32mfilter()\u001b[39m masks \u001b[34mstats\u001b[39m::filter()\n",
      "\u001b[31m✖\u001b[39m \u001b[34mdplyr\u001b[39m::\u001b[32mlag()\u001b[39m    masks \u001b[34mstats\u001b[39m::lag()\n",
      "Warning message:\n",
      "\"package 'car' was built under R version 4.2.2\"\n",
      "Loading required package: carData\n",
      "\n",
      "\n",
      "Attaching package: 'car'\n",
      "\n",
      "\n",
      "The following object is masked from 'package:dplyr':\n",
      "\n",
      "    recode\n",
      "\n",
      "\n",
      "The following object is masked from 'package:purrr':\n",
      "\n",
      "    some\n",
      "\n",
      "\n",
      "Warning message:\n",
      "\"package 'corrplot' was built under R version 4.2.2\"\n",
      "corrplot 0.92 loaded\n",
      "\n",
      "Type 'citation(\"pROC\")' for a citation.\n",
      "\n",
      "\n",
      "Attaching package: 'pROC'\n",
      "\n",
      "\n",
      "The following objects are masked from 'package:stats':\n",
      "\n",
      "    cov, smooth, var\n",
      "\n",
      "\n",
      "\n",
      "Attaching package: 'MLmetrics'\n",
      "\n",
      "\n",
      "The following object is masked from 'package:base':\n",
      "\n",
      "    Recall\n",
      "\n",
      "\n",
      "Warning message:\n",
      "\"package 'rpart' was built under R version 4.2.2\"\n",
      "Warning message:\n",
      "\"package 'rpart.plot' was built under R version 4.2.2\"\n",
      "Warning message:\n",
      "\"package 'randomForest' was built under R version 4.2.2\"\n",
      "randomForest 4.7-1.1\n",
      "\n",
      "Type rfNews() to see new features/changes/bug fixes.\n",
      "\n",
      "\n",
      "Attaching package: 'randomForest'\n",
      "\n",
      "\n",
      "The following object is masked from 'package:dplyr':\n",
      "\n",
      "    combine\n",
      "\n",
      "\n",
      "The following object is masked from 'package:ggplot2':\n",
      "\n",
      "    margin\n",
      "\n",
      "\n",
      "Warning message:\n",
      "\"package 'varImp' was built under R version 4.2.2\"\n",
      "Loading required package: measures\n",
      "\n",
      "\n",
      "Attaching package: 'measures'\n",
      "\n",
      "\n",
      "The following objects are masked from 'package:MLmetrics':\n",
      "\n",
      "    AUC, MAE, MAPE, MSE, RAE, RMSE, RMSLE, RRSE\n",
      "\n",
      "\n",
      "Loading required package: party\n",
      "\n",
      "Warning message:\n",
      "\"package 'party' was built under R version 4.2.2\"\n",
      "Loading required package: grid\n",
      "\n",
      "Loading required package: mvtnorm\n",
      "\n",
      "Loading required package: modeltools\n",
      "\n",
      "Loading required package: stats4\n",
      "\n",
      "\n",
      "Attaching package: 'modeltools'\n",
      "\n",
      "\n",
      "The following object is masked from 'package:car':\n",
      "\n",
      "    Predict\n",
      "\n",
      "\n",
      "Loading required package: strucchange\n",
      "\n",
      "Loading required package: zoo\n",
      "\n",
      "\n",
      "Attaching package: 'zoo'\n",
      "\n",
      "\n",
      "The following objects are masked from 'package:base':\n",
      "\n",
      "    as.Date, as.Date.numeric\n",
      "\n",
      "\n",
      "Loading required package: sandwich\n",
      "\n",
      "\n",
      "Attaching package: 'strucchange'\n",
      "\n",
      "\n",
      "The following object is masked from 'package:stringr':\n",
      "\n",
      "    boundary\n",
      "\n",
      "\n",
      "Loaded gbm 2.1.8.1\n",
      "\n",
      "Warning message:\n",
      "\"package 'caret' was built under R version 4.2.2\"\n",
      "Loading required package: lattice\n",
      "\n",
      "\n",
      "Attaching package: 'caret'\n",
      "\n",
      "\n",
      "The following object is masked from 'package:varImp':\n",
      "\n",
      "    varImp\n",
      "\n",
      "\n",
      "The following objects are masked from 'package:measures':\n",
      "\n",
      "    MAE, RMSE\n",
      "\n",
      "\n",
      "The following objects are masked from 'package:MLmetrics':\n",
      "\n",
      "    MAE, RMSE\n",
      "\n",
      "\n",
      "The following object is masked from 'package:purrr':\n",
      "\n",
      "    lift\n",
      "\n",
      "\n"
     ]
    }
   ],
   "source": [
    "library(tidyverse)\n",
    "library(dplyr)\n",
    "library(car)\n",
    "library(corrplot)\n",
    "library(pROC)\n",
    "library(MLmetrics)\n",
    "library(rpart)\n",
    "library(rpart.plot) \n",
    "library(randomForest)\n",
    "library(varImp)\n",
    "library(gbm)\n",
    "library(caret)"
   ]
  },
  {
   "cell_type": "code",
   "execution_count": 2,
   "id": "6059cb66",
   "metadata": {},
   "outputs": [
    {
     "name": "stdout",
     "output_type": "stream",
     "text": [
      "'data.frame':\t699 obs. of  11 variables:\n",
      " $ ID                         : int  1000025 1002945 1015425 1016277 1017023 1017122 1018099 1018561 1033078 1033078 ...\n",
      " $ clump_thickness            : int  5 5 3 6 4 8 1 2 2 4 ...\n",
      " $ uniformity_size            : int  1 4 1 8 1 10 1 1 1 2 ...\n",
      " $ uniformity_shape           : int  1 4 1 8 1 10 1 2 1 1 ...\n",
      " $ marginal_adhesion          : int  1 5 1 1 3 8 1 1 1 1 ...\n",
      " $ single_epithelial_cell_size: int  2 7 2 3 2 7 2 2 2 2 ...\n",
      " $ bare_nuclei                : chr  \"1\" \"10\" \"2\" \"4\" ...\n",
      " $ bland_chromatin            : int  3 3 3 3 3 9 3 3 1 2 ...\n",
      " $ normal_nucleoli            : int  1 2 1 7 1 7 1 1 1 1 ...\n",
      " $ mitoses                    : int  1 1 1 1 1 1 1 1 5 1 ...\n",
      " $ diagnosis                  : int  2 2 2 2 2 4 2 2 2 2 ...\n"
     ]
    }
   ],
   "source": [
    "url <- \"https://archive.ics.uci.edu/ml/machine-learning-databases/breast-cancer-wisconsin/breast-cancer-wisconsin.data\"\n",
    "cancerdata <- read.csv(file = url, header = FALSE,\n",
    "                 col.names = c(\"ID\",\"clump_thickness\", \"uniformity_size\", \"uniformity_shape\", \"marginal_adhesion\", \"single_epithelial_cell_size\", \"bare_nuclei\", \"bland_chromatin\", \"normal_nucleoli\",\"mitoses\", \"diagnosis\"))\n",
    "\n",
    "str(cancerdata)"
   ]
  },
  {
   "cell_type": "code",
   "execution_count": 3,
   "id": "855491b1",
   "metadata": {},
   "outputs": [
    {
     "data": {
      "text/html": [
       "16"
      ],
      "text/latex": [
       "16"
      ],
      "text/markdown": [
       "16"
      ],
      "text/plain": [
       "[1] 16"
      ]
     },
     "metadata": {},
     "output_type": "display_data"
    }
   ],
   "source": [
    "sum(cancerdata$bare_nuclei == \"?\")"
   ]
  },
  {
   "cell_type": "code",
   "execution_count": 4,
   "id": "f6359e37",
   "metadata": {},
   "outputs": [],
   "source": [
    "cancerdata <- select(cancerdata, -1)\n"
   ]
  },
  {
   "cell_type": "code",
   "execution_count": 5,
   "id": "dccb4d75",
   "metadata": {},
   "outputs": [
    {
     "data": {
      "text/html": [
       "<table class=\"dataframe\">\n",
       "<caption>A data.frame: 6 × 10</caption>\n",
       "<thead>\n",
       "\t<tr><th></th><th scope=col>clump_thickness</th><th scope=col>uniformity_size</th><th scope=col>uniformity_shape</th><th scope=col>marginal_adhesion</th><th scope=col>single_epithelial_cell_size</th><th scope=col>bare_nuclei</th><th scope=col>bland_chromatin</th><th scope=col>normal_nucleoli</th><th scope=col>mitoses</th><th scope=col>diagnosis</th></tr>\n",
       "\t<tr><th></th><th scope=col>&lt;int&gt;</th><th scope=col>&lt;int&gt;</th><th scope=col>&lt;int&gt;</th><th scope=col>&lt;int&gt;</th><th scope=col>&lt;int&gt;</th><th scope=col>&lt;chr&gt;</th><th scope=col>&lt;int&gt;</th><th scope=col>&lt;int&gt;</th><th scope=col>&lt;int&gt;</th><th scope=col>&lt;int&gt;</th></tr>\n",
       "</thead>\n",
       "<tbody>\n",
       "\t<tr><th scope=row>1</th><td>5</td><td> 1</td><td> 1</td><td>1</td><td>2</td><td>1 </td><td>3</td><td>1</td><td>1</td><td>2</td></tr>\n",
       "\t<tr><th scope=row>2</th><td>5</td><td> 4</td><td> 4</td><td>5</td><td>7</td><td>10</td><td>3</td><td>2</td><td>1</td><td>2</td></tr>\n",
       "\t<tr><th scope=row>3</th><td>3</td><td> 1</td><td> 1</td><td>1</td><td>2</td><td>2 </td><td>3</td><td>1</td><td>1</td><td>2</td></tr>\n",
       "\t<tr><th scope=row>4</th><td>6</td><td> 8</td><td> 8</td><td>1</td><td>3</td><td>4 </td><td>3</td><td>7</td><td>1</td><td>2</td></tr>\n",
       "\t<tr><th scope=row>5</th><td>4</td><td> 1</td><td> 1</td><td>3</td><td>2</td><td>1 </td><td>3</td><td>1</td><td>1</td><td>2</td></tr>\n",
       "\t<tr><th scope=row>6</th><td>8</td><td>10</td><td>10</td><td>8</td><td>7</td><td>10</td><td>9</td><td>7</td><td>1</td><td>4</td></tr>\n",
       "</tbody>\n",
       "</table>\n"
      ],
      "text/latex": [
       "A data.frame: 6 × 10\n",
       "\\begin{tabular}{r|llllllllll}\n",
       "  & clump\\_thickness & uniformity\\_size & uniformity\\_shape & marginal\\_adhesion & single\\_epithelial\\_cell\\_size & bare\\_nuclei & bland\\_chromatin & normal\\_nucleoli & mitoses & diagnosis\\\\\n",
       "  & <int> & <int> & <int> & <int> & <int> & <chr> & <int> & <int> & <int> & <int>\\\\\n",
       "\\hline\n",
       "\t1 & 5 &  1 &  1 & 1 & 2 & 1  & 3 & 1 & 1 & 2\\\\\n",
       "\t2 & 5 &  4 &  4 & 5 & 7 & 10 & 3 & 2 & 1 & 2\\\\\n",
       "\t3 & 3 &  1 &  1 & 1 & 2 & 2  & 3 & 1 & 1 & 2\\\\\n",
       "\t4 & 6 &  8 &  8 & 1 & 3 & 4  & 3 & 7 & 1 & 2\\\\\n",
       "\t5 & 4 &  1 &  1 & 3 & 2 & 1  & 3 & 1 & 1 & 2\\\\\n",
       "\t6 & 8 & 10 & 10 & 8 & 7 & 10 & 9 & 7 & 1 & 4\\\\\n",
       "\\end{tabular}\n"
      ],
      "text/markdown": [
       "\n",
       "A data.frame: 6 × 10\n",
       "\n",
       "| <!--/--> | clump_thickness &lt;int&gt; | uniformity_size &lt;int&gt; | uniformity_shape &lt;int&gt; | marginal_adhesion &lt;int&gt; | single_epithelial_cell_size &lt;int&gt; | bare_nuclei &lt;chr&gt; | bland_chromatin &lt;int&gt; | normal_nucleoli &lt;int&gt; | mitoses &lt;int&gt; | diagnosis &lt;int&gt; |\n",
       "|---|---|---|---|---|---|---|---|---|---|---|\n",
       "| 1 | 5 |  1 |  1 | 1 | 2 | 1  | 3 | 1 | 1 | 2 |\n",
       "| 2 | 5 |  4 |  4 | 5 | 7 | 10 | 3 | 2 | 1 | 2 |\n",
       "| 3 | 3 |  1 |  1 | 1 | 2 | 2  | 3 | 1 | 1 | 2 |\n",
       "| 4 | 6 |  8 |  8 | 1 | 3 | 4  | 3 | 7 | 1 | 2 |\n",
       "| 5 | 4 |  1 |  1 | 3 | 2 | 1  | 3 | 1 | 1 | 2 |\n",
       "| 6 | 8 | 10 | 10 | 8 | 7 | 10 | 9 | 7 | 1 | 4 |\n",
       "\n"
      ],
      "text/plain": [
       "  clump_thickness uniformity_size uniformity_shape marginal_adhesion\n",
       "1 5                1               1               1                \n",
       "2 5                4               4               5                \n",
       "3 3                1               1               1                \n",
       "4 6                8               8               1                \n",
       "5 4                1               1               3                \n",
       "6 8               10              10               8                \n",
       "  single_epithelial_cell_size bare_nuclei bland_chromatin normal_nucleoli\n",
       "1 2                           1           3               1              \n",
       "2 7                           10          3               2              \n",
       "3 2                           2           3               1              \n",
       "4 3                           4           3               7              \n",
       "5 2                           1           3               1              \n",
       "6 7                           10          9               7              \n",
       "  mitoses diagnosis\n",
       "1 1       2        \n",
       "2 1       2        \n",
       "3 1       2        \n",
       "4 1       2        \n",
       "5 1       2        \n",
       "6 1       4        "
      ]
     },
     "metadata": {},
     "output_type": "display_data"
    }
   ],
   "source": [
    "head(cancerdata)"
   ]
  },
  {
   "cell_type": "code",
   "execution_count": 6,
   "id": "2f52fae5",
   "metadata": {},
   "outputs": [],
   "source": [
    "cancerdata <- cancerdata[cancerdata$bare_nuclei != \"?\",] %>% mutate(bare_nuclei = as.integer(as.character((bare_nuclei))))"
   ]
  },
  {
   "cell_type": "code",
   "execution_count": 7,
   "id": "2bd7bbec",
   "metadata": {
    "scrolled": true
   },
   "outputs": [],
   "source": [
    "cancerdata <- cancerdata %>% mutate(diagnosis = ifelse(diagnosis == 2, 0, 1),\n",
    "                        diagnosis = as.factor(diagnosis))\n"
   ]
  },
  {
   "cell_type": "code",
   "execution_count": 8,
   "id": "48c9f8fc",
   "metadata": {
    "scrolled": true
   },
   "outputs": [
    {
     "data": {
      "image/png": "[encoded data removed]",
      "text/plain": [
       "plot without title"
      ]
     },
     "metadata": {
      "image/png": {
       "height": 420,
       "width": 420
      }
     },
     "output_type": "display_data"
    }
   ],
   "source": [
    "ggplot(data, aes(x = diagnosis)) +\n",
    "  geom_bar(fill = \"red\") +\n",
    "  ggtitle(\"Distribution of Diagnosis in the Entire Dataset\") +\n",
    "  theme_minimal() +\n",
    "  theme(legend.position = \"none\")"
   ]
  },
  {
   "cell_type": "code",
   "execution_count": 9,
   "id": "4b88b28b",
   "metadata": {},
   "outputs": [
    {
     "data": {
      "image/png": "[encoded data removed]",
      "text/plain": [
       "Plot with title \"\""
      ]
     },
     "metadata": {
      "image/png": {
       "height": 420,
       "width": 420
      }
     },
     "output_type": "display_data"
    }
   ],
   "source": [
    "correlation <- cor(cancerdata[,-10])\n",
    "corrplot(correlation, col = c(\"#fcbba1\", \"#b2d2e8\"), addCoef.col = \"black\", tl.col = \"black\")"
   ]
  },
  {
   "cell_type": "code",
   "execution_count": 10,
   "id": "4ee17cb1",
   "metadata": {},
   "outputs": [],
   "source": [
    "set.seed(3011) \n",
    "train_index <- sample(nrow(cancerdata), size = round(0.70 * nrow(cancerdata)), replace = FALSE)\n",
    "train <- cancerdata[train_index,]\n",
    "test <- cancerdata[-train_index,]\n"
   ]
  },
  {
   "cell_type": "code",
   "execution_count": 11,
   "id": "706361db",
   "metadata": {},
   "outputs": [
    {
     "data": {
      "text/html": [
       "<style>\n",
       ".list-inline {list-style: none; margin:0; padding: 0}\n",
       ".list-inline>li {display: inline-block}\n",
       ".list-inline>li:not(:last-child)::after {content: \"\\00b7\"; padding: 0 .5ex}\n",
       "</style>\n",
       "<ol class=list-inline><li>0</li><li>0</li><li>0</li><li>1</li><li>1</li><li>0</li><li>0</li><li>1</li><li>1</li><li>1</li><li>1</li><li>1</li><li>1</li><li>1</li><li>1</li><li>1</li><li>1</li><li>0</li><li>1</li><li>0</li><li>1</li><li>1</li><li>0</li><li>0</li><li>0</li><li>0</li><li>0</li><li>0</li><li>1</li><li>1</li><li>0</li><li>1</li><li>0</li><li>0</li><li>0</li><li>0</li><li>1</li><li>0</li><li>1</li><li>1</li><li>0</li><li>1</li><li>0</li><li>1</li><li>1</li><li>1</li><li>1</li><li>0</li><li>0</li><li>0</li><li>0</li><li>0</li><li>0</li><li>1</li><li>1</li><li>1</li><li>0</li><li>1</li><li>1</li><li>1</li><li>1</li><li>1</li><li>0</li><li>0</li><li>1</li><li>0</li><li>1</li><li>1</li><li>0</li><li>0</li><li>1</li><li>0</li><li>1</li><li>1</li><li>0</li><li>1</li><li>0</li><li>0</li><li>1</li><li>1</li><li>1</li><li>0</li><li>1</li><li>0</li><li>0</li><li>0</li><li>0</li><li>1</li><li>1</li><li>0</li><li>0</li><li>0</li><li>1</li><li>1</li><li>1</li><li>1</li><li>1</li><li>0</li><li>0</li><li>1</li><li>0</li><li>0</li><li>0</li><li>0</li><li>0</li><li>0</li><li>1</li><li>0</li><li>0</li><li>1</li><li>0</li><li>0</li><li>1</li><li>0</li><li>0</li><li>0</li><li>0</li><li>1</li><li>0</li><li>0</li><li>0</li><li>1</li><li>1</li><li>0</li><li>0</li><li>0</li><li>0</li><li>1</li><li>1</li><li>0</li><li>1</li><li>1</li><li>0</li><li>0</li><li>0</li><li>0</li><li>1</li><li>0</li><li>1</li><li>1</li><li>0</li><li>0</li><li>0</li><li>1</li><li>0</li><li>0</li><li>0</li><li>0</li><li>1</li><li>1</li><li>0</li><li>0</li><li>0</li><li>0</li><li>0</li><li>0</li><li>1</li><li>0</li><li>0</li><li>0</li><li>0</li><li>0</li><li>1</li><li>0</li><li>1</li><li>1</li><li>0</li><li>0</li><li>0</li><li>0</li><li>1</li><li>1</li><li>1</li><li>0</li><li>0</li><li>1</li><li>0</li><li>0</li><li>1</li><li>0</li><li>0</li><li>0</li><li>0</li><li>0</li><li>0</li><li>0</li><li>0</li><li>0</li><li>0</li><li>0</li><li>0</li><li>1</li><li>1</li><li>0</li><li>0</li><li>0</li><li>0</li><li>0</li><li>1</li><li>0</li><li>0</li><li>0</li><li>1</li><li>0</li><li>0</li></ol>\n",
       "\n",
       "<details>\n",
       "\t<summary style=display:list-item;cursor:pointer>\n",
       "\t\t<strong>Levels</strong>:\n",
       "\t</summary>\n",
       "\t<style>\n",
       "\t.list-inline {list-style: none; margin:0; padding: 0}\n",
       "\t.list-inline>li {display: inline-block}\n",
       "\t.list-inline>li:not(:last-child)::after {content: \"\\00b7\"; padding: 0 .5ex}\n",
       "\t</style>\n",
       "\t<ol class=list-inline><li>'0'</li><li>'1'</li></ol>\n",
       "</details>"
      ],
      "text/latex": [
       "\\begin{enumerate*}\n",
       "\\item 0\n",
       "\\item 0\n",
       "\\item 0\n",
       "\\item 1\n",
       "\\item 1\n",
       "\\item 0\n",
       "\\item 0\n",
       "\\item 1\n",
       "\\item 1\n",
       "\\item 1\n",
       "\\item 1\n",
       "\\item 1\n",
       "\\item 1\n",
       "\\item 1\n",
       "\\item 1\n",
       "\\item 1\n",
       "\\item 1\n",
       "\\item 0\n",
       "\\item 1\n",
       "\\item 0\n",
       "\\item 1\n",
       "\\item 1\n",
       "\\item 0\n",
       "\\item 0\n",
       "\\item 0\n",
       "\\item 0\n",
       "\\item 0\n",
       "\\item 0\n",
       "\\item 1\n",
       "\\item 1\n",
       "\\item 0\n",
       "\\item 1\n",
       "\\item 0\n",
       "\\item 0\n",
       "\\item 0\n",
       "\\item 0\n",
       "\\item 1\n",
       "\\item 0\n",
       "\\item 1\n",
       "\\item 1\n",
       "\\item 0\n",
       "\\item 1\n",
       "\\item 0\n",
       "\\item 1\n",
       "\\item 1\n",
       "\\item 1\n",
       "\\item 1\n",
       "\\item 0\n",
       "\\item 0\n",
       "\\item 0\n",
       "\\item 0\n",
       "\\item 0\n",
       "\\item 0\n",
       "\\item 1\n",
       "\\item 1\n",
       "\\item 1\n",
       "\\item 0\n",
       "\\item 1\n",
       "\\item 1\n",
       "\\item 1\n",
       "\\item 1\n",
       "\\item 1\n",
       "\\item 0\n",
       "\\item 0\n",
       "\\item 1\n",
       "\\item 0\n",
       "\\item 1\n",
       "\\item 1\n",
       "\\item 0\n",
       "\\item 0\n",
       "\\item 1\n",
       "\\item 0\n",
       "\\item 1\n",
       "\\item 1\n",
       "\\item 0\n",
       "\\item 1\n",
       "\\item 0\n",
       "\\item 0\n",
       "\\item 1\n",
       "\\item 1\n",
       "\\item 1\n",
       "\\item 0\n",
       "\\item 1\n",
       "\\item 0\n",
       "\\item 0\n",
       "\\item 0\n",
       "\\item 0\n",
       "\\item 1\n",
       "\\item 1\n",
       "\\item 0\n",
       "\\item 0\n",
       "\\item 0\n",
       "\\item 1\n",
       "\\item 1\n",
       "\\item 1\n",
       "\\item 1\n",
       "\\item 1\n",
       "\\item 0\n",
       "\\item 0\n",
       "\\item 1\n",
       "\\item 0\n",
       "\\item 0\n",
       "\\item 0\n",
       "\\item 0\n",
       "\\item 0\n",
       "\\item 0\n",
       "\\item 1\n",
       "\\item 0\n",
       "\\item 0\n",
       "\\item 1\n",
       "\\item 0\n",
       "\\item 0\n",
       "\\item 1\n",
       "\\item 0\n",
       "\\item 0\n",
       "\\item 0\n",
       "\\item 0\n",
       "\\item 1\n",
       "\\item 0\n",
       "\\item 0\n",
       "\\item 0\n",
       "\\item 1\n",
       "\\item 1\n",
       "\\item 0\n",
       "\\item 0\n",
       "\\item 0\n",
       "\\item 0\n",
       "\\item 1\n",
       "\\item 1\n",
       "\\item 0\n",
       "\\item 1\n",
       "\\item 1\n",
       "\\item 0\n",
       "\\item 0\n",
       "\\item 0\n",
       "\\item 0\n",
       "\\item 1\n",
       "\\item 0\n",
       "\\item 1\n",
       "\\item 1\n",
       "\\item 0\n",
       "\\item 0\n",
       "\\item 0\n",
       "\\item 1\n",
       "\\item 0\n",
       "\\item 0\n",
       "\\item 0\n",
       "\\item 0\n",
       "\\item 1\n",
       "\\item 1\n",
       "\\item 0\n",
       "\\item 0\n",
       "\\item 0\n",
       "\\item 0\n",
       "\\item 0\n",
       "\\item 0\n",
       "\\item 1\n",
       "\\item 0\n",
       "\\item 0\n",
       "\\item 0\n",
       "\\item 0\n",
       "\\item 0\n",
       "\\item 1\n",
       "\\item 0\n",
       "\\item 1\n",
       "\\item 1\n",
       "\\item 0\n",
       "\\item 0\n",
       "\\item 0\n",
       "\\item 0\n",
       "\\item 1\n",
       "\\item 1\n",
       "\\item 1\n",
       "\\item 0\n",
       "\\item 0\n",
       "\\item 1\n",
       "\\item 0\n",
       "\\item 0\n",
       "\\item 1\n",
       "\\item 0\n",
       "\\item 0\n",
       "\\item 0\n",
       "\\item 0\n",
       "\\item 0\n",
       "\\item 0\n",
       "\\item 0\n",
       "\\item 0\n",
       "\\item 0\n",
       "\\item 0\n",
       "\\item 0\n",
       "\\item 0\n",
       "\\item 1\n",
       "\\item 1\n",
       "\\item 0\n",
       "\\item 0\n",
       "\\item 0\n",
       "\\item 0\n",
       "\\item 0\n",
       "\\item 1\n",
       "\\item 0\n",
       "\\item 0\n",
       "\\item 0\n",
       "\\item 1\n",
       "\\item 0\n",
       "\\item 0\n",
       "\\end{enumerate*}\n",
       "\n",
       "\\emph{Levels}: \\begin{enumerate*}\n",
       "\\item '0'\n",
       "\\item '1'\n",
       "\\end{enumerate*}\n"
      ],
      "text/markdown": [
       "1. 0\n",
       "2. 0\n",
       "3. 0\n",
       "4. 1\n",
       "5. 1\n",
       "6. 0\n",
       "7. 0\n",
       "8. 1\n",
       "9. 1\n",
       "10. 1\n",
       "11. 1\n",
       "12. 1\n",
       "13. 1\n",
       "14. 1\n",
       "15. 1\n",
       "16. 1\n",
       "17. 1\n",
       "18. 0\n",
       "19. 1\n",
       "20. 0\n",
       "21. 1\n",
       "22. 1\n",
       "23. 0\n",
       "24. 0\n",
       "25. 0\n",
       "26. 0\n",
       "27. 0\n",
       "28. 0\n",
       "29. 1\n",
       "30. 1\n",
       "31. 0\n",
       "32. 1\n",
       "33. 0\n",
       "34. 0\n",
       "35. 0\n",
       "36. 0\n",
       "37. 1\n",
       "38. 0\n",
       "39. 1\n",
       "40. 1\n",
       "41. 0\n",
       "42. 1\n",
       "43. 0\n",
       "44. 1\n",
       "45. 1\n",
       "46. 1\n",
       "47. 1\n",
       "48. 0\n",
       "49. 0\n",
       "50. 0\n",
       "51. 0\n",
       "52. 0\n",
       "53. 0\n",
       "54. 1\n",
       "55. 1\n",
       "56. 1\n",
       "57. 0\n",
       "58. 1\n",
       "59. 1\n",
       "60. 1\n",
       "61. 1\n",
       "62. 1\n",
       "63. 0\n",
       "64. 0\n",
       "65. 1\n",
       "66. 0\n",
       "67. 1\n",
       "68. 1\n",
       "69. 0\n",
       "70. 0\n",
       "71. 1\n",
       "72. 0\n",
       "73. 1\n",
       "74. 1\n",
       "75. 0\n",
       "76. 1\n",
       "77. 0\n",
       "78. 0\n",
       "79. 1\n",
       "80. 1\n",
       "81. 1\n",
       "82. 0\n",
       "83. 1\n",
       "84. 0\n",
       "85. 0\n",
       "86. 0\n",
       "87. 0\n",
       "88. 1\n",
       "89. 1\n",
       "90. 0\n",
       "91. 0\n",
       "92. 0\n",
       "93. 1\n",
       "94. 1\n",
       "95. 1\n",
       "96. 1\n",
       "97. 1\n",
       "98. 0\n",
       "99. 0\n",
       "100. 1\n",
       "101. 0\n",
       "102. 0\n",
       "103. 0\n",
       "104. 0\n",
       "105. 0\n",
       "106. 0\n",
       "107. 1\n",
       "108. 0\n",
       "109. 0\n",
       "110. 1\n",
       "111. 0\n",
       "112. 0\n",
       "113. 1\n",
       "114. 0\n",
       "115. 0\n",
       "116. 0\n",
       "117. 0\n",
       "118. 1\n",
       "119. 0\n",
       "120. 0\n",
       "121. 0\n",
       "122. 1\n",
       "123. 1\n",
       "124. 0\n",
       "125. 0\n",
       "126. 0\n",
       "127. 0\n",
       "128. 1\n",
       "129. 1\n",
       "130. 0\n",
       "131. 1\n",
       "132. 1\n",
       "133. 0\n",
       "134. 0\n",
       "135. 0\n",
       "136. 0\n",
       "137. 1\n",
       "138. 0\n",
       "139. 1\n",
       "140. 1\n",
       "141. 0\n",
       "142. 0\n",
       "143. 0\n",
       "144. 1\n",
       "145. 0\n",
       "146. 0\n",
       "147. 0\n",
       "148. 0\n",
       "149. 1\n",
       "150. 1\n",
       "151. 0\n",
       "152. 0\n",
       "153. 0\n",
       "154. 0\n",
       "155. 0\n",
       "156. 0\n",
       "157. 1\n",
       "158. 0\n",
       "159. 0\n",
       "160. 0\n",
       "161. 0\n",
       "162. 0\n",
       "163. 1\n",
       "164. 0\n",
       "165. 1\n",
       "166. 1\n",
       "167. 0\n",
       "168. 0\n",
       "169. 0\n",
       "170. 0\n",
       "171. 1\n",
       "172. 1\n",
       "173. 1\n",
       "174. 0\n",
       "175. 0\n",
       "176. 1\n",
       "177. 0\n",
       "178. 0\n",
       "179. 1\n",
       "180. 0\n",
       "181. 0\n",
       "182. 0\n",
       "183. 0\n",
       "184. 0\n",
       "185. 0\n",
       "186. 0\n",
       "187. 0\n",
       "188. 0\n",
       "189. 0\n",
       "190. 0\n",
       "191. 0\n",
       "192. 1\n",
       "193. 1\n",
       "194. 0\n",
       "195. 0\n",
       "196. 0\n",
       "197. 0\n",
       "198. 0\n",
       "199. 1\n",
       "200. 0\n",
       "201. 0\n",
       "202. 0\n",
       "203. 1\n",
       "204. 0\n",
       "205. 0\n",
       "\n",
       "\n",
       "\n",
       "**Levels**: 1. '0'\n",
       "2. '1'\n",
       "\n",
       "\n"
      ],
      "text/plain": [
       "  [1] 0 0 0 1 1 0 0 1 1 1 1 1 1 1 1 1 1 0 1 0 1 1 0 0 0 0 0 0 1 1 0 1 0 0 0 0 1\n",
       " [38] 0 1 1 0 1 0 1 1 1 1 0 0 0 0 0 0 1 1 1 0 1 1 1 1 1 0 0 1 0 1 1 0 0 1 0 1 1\n",
       " [75] 0 1 0 0 1 1 1 0 1 0 0 0 0 1 1 0 0 0 1 1 1 1 1 0 0 1 0 0 0 0 0 0 1 0 0 1 0\n",
       "[112] 0 1 0 0 0 0 1 0 0 0 1 1 0 0 0 0 1 1 0 1 1 0 0 0 0 1 0 1 1 0 0 0 1 0 0 0 0\n",
       "[149] 1 1 0 0 0 0 0 0 1 0 0 0 0 0 1 0 1 1 0 0 0 0 1 1 1 0 0 1 0 0 1 0 0 0 0 0 0\n",
       "[186] 0 0 0 0 0 0 1 1 0 0 0 0 0 1 0 0 0 1 0 0\n",
       "Levels: 0 1"
      ]
     },
     "metadata": {},
     "output_type": "display_data"
    }
   ],
   "source": [
    "test$diagnosis"
   ]
  },
  {
   "cell_type": "code",
   "execution_count": 12,
   "id": "0b3aa587",
   "metadata": {},
   "outputs": [
    {
     "data": {
      "text/html": [
       "<table class=\"dataframe\">\n",
       "<caption>A data.frame: 6 × 10</caption>\n",
       "<thead>\n",
       "\t<tr><th></th><th scope=col>clump_thickness</th><th scope=col>uniformity_size</th><th scope=col>uniformity_shape</th><th scope=col>marginal_adhesion</th><th scope=col>single_epithelial_cell_size</th><th scope=col>bare_nuclei</th><th scope=col>bland_chromatin</th><th scope=col>normal_nucleoli</th><th scope=col>mitoses</th><th scope=col>diagnosis</th></tr>\n",
       "\t<tr><th></th><th scope=col>&lt;int&gt;</th><th scope=col>&lt;int&gt;</th><th scope=col>&lt;int&gt;</th><th scope=col>&lt;int&gt;</th><th scope=col>&lt;int&gt;</th><th scope=col>&lt;int&gt;</th><th scope=col>&lt;int&gt;</th><th scope=col>&lt;int&gt;</th><th scope=col>&lt;int&gt;</th><th scope=col>&lt;fct&gt;</th></tr>\n",
       "</thead>\n",
       "<tbody>\n",
       "\t<tr><th scope=row>224</th><td> 7</td><td>5</td><td>6</td><td> 3</td><td>3</td><td> 8</td><td>7</td><td> 4</td><td>1</td><td>1</td></tr>\n",
       "\t<tr><th scope=row>641</th><td> 4</td><td>1</td><td>1</td><td> 3</td><td>2</td><td> 1</td><td>1</td><td> 1</td><td>1</td><td>0</td></tr>\n",
       "\t<tr><th scope=row>330</th><td>10</td><td>4</td><td>6</td><td> 4</td><td>5</td><td>10</td><td>7</td><td> 1</td><td>1</td><td>1</td></tr>\n",
       "\t<tr><th scope=row>653</th><td> 5</td><td>1</td><td>1</td><td> 1</td><td>2</td><td> 1</td><td>2</td><td> 2</td><td>1</td><td>0</td></tr>\n",
       "\t<tr><th scope=row>634</th><td> 8</td><td>7</td><td>4</td><td> 4</td><td>5</td><td> 3</td><td>5</td><td>10</td><td>1</td><td>1</td></tr>\n",
       "\t<tr><th scope=row>495</th><td> 5</td><td>1</td><td>2</td><td>10</td><td>4</td><td> 5</td><td>2</td><td> 1</td><td>1</td><td>0</td></tr>\n",
       "</tbody>\n",
       "</table>\n"
      ],
      "text/latex": [
       "A data.frame: 6 × 10\n",
       "\\begin{tabular}{r|llllllllll}\n",
       "  & clump\\_thickness & uniformity\\_size & uniformity\\_shape & marginal\\_adhesion & single\\_epithelial\\_cell\\_size & bare\\_nuclei & bland\\_chromatin & normal\\_nucleoli & mitoses & diagnosis\\\\\n",
       "  & <int> & <int> & <int> & <int> & <int> & <int> & <int> & <int> & <int> & <fct>\\\\\n",
       "\\hline\n",
       "\t224 &  7 & 5 & 6 &  3 & 3 &  8 & 7 &  4 & 1 & 1\\\\\n",
       "\t641 &  4 & 1 & 1 &  3 & 2 &  1 & 1 &  1 & 1 & 0\\\\\n",
       "\t330 & 10 & 4 & 6 &  4 & 5 & 10 & 7 &  1 & 1 & 1\\\\\n",
       "\t653 &  5 & 1 & 1 &  1 & 2 &  1 & 2 &  2 & 1 & 0\\\\\n",
       "\t634 &  8 & 7 & 4 &  4 & 5 &  3 & 5 & 10 & 1 & 1\\\\\n",
       "\t495 &  5 & 1 & 2 & 10 & 4 &  5 & 2 &  1 & 1 & 0\\\\\n",
       "\\end{tabular}\n"
      ],
      "text/markdown": [
       "\n",
       "A data.frame: 6 × 10\n",
       "\n",
       "| <!--/--> | clump_thickness &lt;int&gt; | uniformity_size &lt;int&gt; | uniformity_shape &lt;int&gt; | marginal_adhesion &lt;int&gt; | single_epithelial_cell_size &lt;int&gt; | bare_nuclei &lt;int&gt; | bland_chromatin &lt;int&gt; | normal_nucleoli &lt;int&gt; | mitoses &lt;int&gt; | diagnosis &lt;fct&gt; |\n",
       "|---|---|---|---|---|---|---|---|---|---|---|\n",
       "| 224 |  7 | 5 | 6 |  3 | 3 |  8 | 7 |  4 | 1 | 1 |\n",
       "| 641 |  4 | 1 | 1 |  3 | 2 |  1 | 1 |  1 | 1 | 0 |\n",
       "| 330 | 10 | 4 | 6 |  4 | 5 | 10 | 7 |  1 | 1 | 1 |\n",
       "| 653 |  5 | 1 | 1 |  1 | 2 |  1 | 2 |  2 | 1 | 0 |\n",
       "| 634 |  8 | 7 | 4 |  4 | 5 |  3 | 5 | 10 | 1 | 1 |\n",
       "| 495 |  5 | 1 | 2 | 10 | 4 |  5 | 2 |  1 | 1 | 0 |\n",
       "\n"
      ],
      "text/plain": [
       "    clump_thickness uniformity_size uniformity_shape marginal_adhesion\n",
       "224  7              5               6                 3               \n",
       "641  4              1               1                 3               \n",
       "330 10              4               6                 4               \n",
       "653  5              1               1                 1               \n",
       "634  8              7               4                 4               \n",
       "495  5              1               2                10               \n",
       "    single_epithelial_cell_size bare_nuclei bland_chromatin normal_nucleoli\n",
       "224 3                            8          7                4             \n",
       "641 2                            1          1                1             \n",
       "330 5                           10          7                1             \n",
       "653 2                            1          2                2             \n",
       "634 5                            3          5               10             \n",
       "495 4                            5          2                1             \n",
       "    mitoses diagnosis\n",
       "224 1       1        \n",
       "641 1       0        \n",
       "330 1       1        \n",
       "653 1       0        \n",
       "634 1       1        \n",
       "495 1       0        "
      ]
     },
     "metadata": {},
     "output_type": "display_data"
    }
   ],
   "source": [
    "head(train)"
   ]
  },
  {
   "cell_type": "code",
   "execution_count": 13,
   "id": "4d0c19f9",
   "metadata": {
    "scrolled": true
   },
   "outputs": [
    {
     "data": {
      "text/plain": [
       "\n",
       "Call:\n",
       "glm(formula = diagnosis ~ ., family = binomial(), data = train)\n",
       "\n",
       "Deviance Residuals: \n",
       "     Min        1Q    Median        3Q       Max  \n",
       "-2.97669  -0.09604  -0.05255   0.01633   2.51530  \n",
       "\n",
       "Coefficients:\n",
       "                             Estimate Std. Error z value Pr(>|z|)    \n",
       "(Intercept)                 -10.90839    1.52524  -7.152 8.56e-13 ***\n",
       "clump_thickness               0.58422    0.17601   3.319 0.000903 ***\n",
       "uniformity_size              -0.42170    0.28007  -1.506 0.132145    \n",
       "uniformity_shape              0.45155    0.29871   1.512 0.130613    \n",
       "marginal_adhesion             0.34826    0.15409   2.260 0.023812 *  \n",
       "single_epithelial_cell_size   0.03309    0.24234   0.137 0.891399    \n",
       "bare_nuclei                   0.40814    0.11776   3.466 0.000528 ***\n",
       "bland_chromatin               0.65408    0.20359   3.213 0.001315 ** \n",
       "normal_nucleoli               0.43168    0.16422   2.629 0.008574 ** \n",
       "mitoses                       0.56310    0.37376   1.507 0.131920    \n",
       "---\n",
       "Signif. codes:  0 '***' 0.001 '**' 0.01 '*' 0.05 '.' 0.1 ' ' 1\n",
       "\n",
       "(Dispersion parameter for binomial family taken to be 1)\n",
       "\n",
       "    Null deviance: 605.221  on 477  degrees of freedom\n",
       "Residual deviance:  64.769  on 468  degrees of freedom\n",
       "AIC: 84.769\n",
       "\n",
       "Number of Fisher Scoring iterations: 8\n"
      ]
     },
     "metadata": {},
     "output_type": "display_data"
    }
   ],
   "source": [
    "lm <- glm(diagnosis~., data = train, family=binomial())\n",
    "summary(lm)"
   ]
  },
  {
   "cell_type": "markdown",
   "id": "1b70530f",
   "metadata": {},
   "source": [
    "##Deleting the variable which doesnot have significant value of p\n",
    "single_epithelial_cell_size  .  \n",
    "bare_nuclei1\n",
    "bare_nuclei2\n",
    "mitoses"
   ]
  },
  {
   "cell_type": "code",
   "execution_count": 15,
   "id": "fc0607fd",
   "metadata": {
    "scrolled": false
   },
   "outputs": [
    {
     "data": {
      "text/html": [
       "<style>\n",
       ".dl-inline {width: auto; margin:0; padding: 0}\n",
       ".dl-inline>dt, .dl-inline>dd {float: none; width: auto; display: inline-block}\n",
       ".dl-inline>dt::after {content: \":\\0020\"; padding-right: .5ex}\n",
       ".dl-inline>dt:not(:first-of-type) {padding-left: .5ex}\n",
       "</style><dl class=dl-inline><dt>clump_thickness</dt><dd>1.26886566021306</dd><dt>uniformity_size</dt><dd>4.20480572803075</dd><dt>uniformity_shape</dt><dd>3.74947220444238</dd><dt>marginal_adhesion</dt><dd>1.24388478612331</dd><dt>single_epithelial_cell_size</dt><dd>1.66903942276204</dd><dt>bare_nuclei</dt><dd>1.26856944040662</dd><dt>bland_chromatin</dt><dd>1.39920367950785</dd><dt>normal_nucleoli</dt><dd>1.21359163574589</dd><dt>mitoses</dt><dd>1.09658321251474</dd></dl>\n"
      ],
      "text/latex": [
       "\\begin{description*}\n",
       "\\item[clump\\textbackslash{}\\_thickness] 1.26886566021306\n",
       "\\item[uniformity\\textbackslash{}\\_size] 4.20480572803075\n",
       "\\item[uniformity\\textbackslash{}\\_shape] 3.74947220444238\n",
       "\\item[marginal\\textbackslash{}\\_adhesion] 1.24388478612331\n",
       "\\item[single\\textbackslash{}\\_epithelial\\textbackslash{}\\_cell\\textbackslash{}\\_size] 1.66903942276204\n",
       "\\item[bare\\textbackslash{}\\_nuclei] 1.26856944040662\n",
       "\\item[bland\\textbackslash{}\\_chromatin] 1.39920367950785\n",
       "\\item[normal\\textbackslash{}\\_nucleoli] 1.21359163574589\n",
       "\\item[mitoses] 1.09658321251474\n",
       "\\end{description*}\n"
      ],
      "text/markdown": [
       "clump_thickness\n",
       ":   1.26886566021306uniformity_size\n",
       ":   4.20480572803075uniformity_shape\n",
       ":   3.74947220444238marginal_adhesion\n",
       ":   1.24388478612331single_epithelial_cell_size\n",
       ":   1.66903942276204bare_nuclei\n",
       ":   1.26856944040662bland_chromatin\n",
       ":   1.39920367950785normal_nucleoli\n",
       ":   1.21359163574589mitoses\n",
       ":   1.09658321251474\n",
       "\n"
      ],
      "text/plain": [
       "            clump_thickness             uniformity_size \n",
       "                   1.268866                    4.204806 \n",
       "           uniformity_shape           marginal_adhesion \n",
       "                   3.749472                    1.243885 \n",
       "single_epithelial_cell_size                 bare_nuclei \n",
       "                   1.669039                    1.268569 \n",
       "            bland_chromatin             normal_nucleoli \n",
       "                   1.399204                    1.213592 \n",
       "                    mitoses \n",
       "                   1.096583 "
      ]
     },
     "metadata": {},
     "output_type": "display_data"
    }
   ],
   "source": [
    "vif(lm)"
   ]
  },
  {
   "cell_type": "code",
   "execution_count": 16,
   "id": "76f41174",
   "metadata": {},
   "outputs": [
    {
     "data": {
      "text/plain": [
       "\n",
       "Call:\n",
       "glm(formula = diagnosis ~ ., family = binomial(), data = train %>% \n",
       "    select(-c(uniformity_size, single_epithelial_cell_size, mitoses)))\n",
       "\n",
       "Deviance Residuals: \n",
       "     Min        1Q    Median        3Q       Max  \n",
       "-2.63687  -0.11037  -0.05221   0.01876   2.45831  \n",
       "\n",
       "Coefficients:\n",
       "                  Estimate Std. Error z value Pr(>|z|)    \n",
       "(Intercept)       -10.2093     1.3940  -7.324 2.41e-13 ***\n",
       "clump_thickness     0.6606     0.1635   4.041 5.33e-05 ***\n",
       "uniformity_shape    0.1772     0.1867   0.949 0.342581    \n",
       "marginal_adhesion   0.3152     0.1419   2.221 0.026344 *  \n",
       "bare_nuclei         0.3924     0.1121   3.500 0.000466 ***\n",
       "bland_chromatin     0.5561     0.1860   2.990 0.002788 ** \n",
       "normal_nucleoli     0.3982     0.1448   2.749 0.005973 ** \n",
       "---\n",
       "Signif. codes:  0 '***' 0.001 '**' 0.01 '*' 0.05 '.' 0.1 ' ' 1\n",
       "\n",
       "(Dispersion parameter for binomial family taken to be 1)\n",
       "\n",
       "    Null deviance: 605.221  on 477  degrees of freedom\n",
       "Residual deviance:  70.627  on 471  degrees of freedom\n",
       "AIC: 84.627\n",
       "\n",
       "Number of Fisher Scoring iterations: 8\n"
      ]
     },
     "metadata": {},
     "output_type": "display_data"
    },
    {
     "data": {
      "text/html": [
       "<style>\n",
       ".dl-inline {width: auto; margin:0; padding: 0}\n",
       ".dl-inline>dt, .dl-inline>dd {float: none; width: auto; display: inline-block}\n",
       ".dl-inline>dt::after {content: \":\\0020\"; padding-right: .5ex}\n",
       ".dl-inline>dt:not(:first-of-type) {padding-left: .5ex}\n",
       "</style><dl class=dl-inline><dt>clump_thickness</dt><dd>1.18381467995089</dd><dt>uniformity_shape</dt><dd>1.48545935380439</dd><dt>marginal_adhesion</dt><dd>1.0845164718136</dd><dt>bare_nuclei</dt><dd>1.21663656640194</dd><dt>bland_chromatin</dt><dd>1.1320717698783</dd><dt>normal_nucleoli</dt><dd>1.09841525504936</dd></dl>\n"
      ],
      "text/latex": [
       "\\begin{description*}\n",
       "\\item[clump\\textbackslash{}\\_thickness] 1.18381467995089\n",
       "\\item[uniformity\\textbackslash{}\\_shape] 1.48545935380439\n",
       "\\item[marginal\\textbackslash{}\\_adhesion] 1.0845164718136\n",
       "\\item[bare\\textbackslash{}\\_nuclei] 1.21663656640194\n",
       "\\item[bland\\textbackslash{}\\_chromatin] 1.1320717698783\n",
       "\\item[normal\\textbackslash{}\\_nucleoli] 1.09841525504936\n",
       "\\end{description*}\n"
      ],
      "text/markdown": [
       "clump_thickness\n",
       ":   1.18381467995089uniformity_shape\n",
       ":   1.48545935380439marginal_adhesion\n",
       ":   1.0845164718136bare_nuclei\n",
       ":   1.21663656640194bland_chromatin\n",
       ":   1.1320717698783normal_nucleoli\n",
       ":   1.09841525504936\n",
       "\n"
      ],
      "text/plain": [
       "  clump_thickness  uniformity_shape marginal_adhesion       bare_nuclei \n",
       "         1.183815          1.485459          1.084516          1.216637 \n",
       "  bland_chromatin   normal_nucleoli \n",
       "         1.132072          1.098415 "
      ]
     },
     "metadata": {},
     "output_type": "display_data"
    }
   ],
   "source": [
    "lm2 <- glm(formula = diagnosis ~ ., data = train %>% select(-c(uniformity_size, single_epithelial_cell_size, mitoses)),family=binomial())\n",
    "summary(lm2)\n",
    "vif(lm2)"
   ]
  },
  {
   "cell_type": "code",
   "execution_count": 17,
   "id": "1f4c4e97",
   "metadata": {},
   "outputs": [
    {
     "data": {
      "text/plain": [
       "\n",
       "Call:\n",
       "glm(formula = diagnosis ~ ., family = binomial(), data = train %>% \n",
       "    select(-c(uniformity_size, single_epithelial_cell_size, bare_nuclei, \n",
       "        mitoses)))\n",
       "\n",
       "Deviance Residuals: \n",
       "     Min        1Q    Median        3Q       Max  \n",
       "-2.46876  -0.12491  -0.06328   0.01648   2.87512  \n",
       "\n",
       "Coefficients:\n",
       "                  Estimate Std. Error z value Pr(>|z|)    \n",
       "(Intercept)       -10.0595     1.2363  -8.137 4.06e-16 ***\n",
       "clump_thickness     0.6334     0.1459   4.343 1.41e-05 ***\n",
       "uniformity_shape    0.4874     0.1721   2.832  0.00463 ** \n",
       "marginal_adhesion   0.3869     0.1279   3.025  0.00248 ** \n",
       "bland_chromatin     0.6882     0.1758   3.915 9.03e-05 ***\n",
       "normal_nucleoli     0.3844     0.1464   2.626  0.00865 ** \n",
       "---\n",
       "Signif. codes:  0 '***' 0.001 '**' 0.01 '*' 0.05 '.' 0.1 ' ' 1\n",
       "\n",
       "(Dispersion parameter for binomial family taken to be 1)\n",
       "\n",
       "    Null deviance: 605.221  on 477  degrees of freedom\n",
       "Residual deviance:  84.562  on 472  degrees of freedom\n",
       "AIC: 96.562\n",
       "\n",
       "Number of Fisher Scoring iterations: 8\n"
      ]
     },
     "metadata": {},
     "output_type": "display_data"
    }
   ],
   "source": [
    "lm3 <- glm(formula = diagnosis ~ ., data = train %>% select(-c(uniformity_size, single_epithelial_cell_size, bare_nuclei, mitoses)),family=binomial())\n",
    "summary(lm3)"
   ]
  },
  {
   "cell_type": "code",
   "execution_count": 18,
   "id": "24d24b32",
   "metadata": {},
   "outputs": [
    {
     "data": {
      "text/html": [
       "<style>\n",
       ".dl-inline {width: auto; margin:0; padding: 0}\n",
       ".dl-inline>dt, .dl-inline>dd {float: none; width: auto; display: inline-block}\n",
       ".dl-inline>dt::after {content: \":\\0020\"; padding-right: .5ex}\n",
       ".dl-inline>dt:not(:first-of-type) {padding-left: .5ex}\n",
       "</style><dl class=dl-inline><dt>clump_thickness</dt><dd>1.083839928039</dd><dt>uniformity_shape</dt><dd>1.16363107957349</dd><dt>marginal_adhesion</dt><dd>1.06670105605742</dd><dt>bland_chromatin</dt><dd>1.07889643053897</dd><dt>normal_nucleoli</dt><dd>1.0816678973232</dd></dl>\n"
      ],
      "text/latex": [
       "\\begin{description*}\n",
       "\\item[clump\\textbackslash{}\\_thickness] 1.083839928039\n",
       "\\item[uniformity\\textbackslash{}\\_shape] 1.16363107957349\n",
       "\\item[marginal\\textbackslash{}\\_adhesion] 1.06670105605742\n",
       "\\item[bland\\textbackslash{}\\_chromatin] 1.07889643053897\n",
       "\\item[normal\\textbackslash{}\\_nucleoli] 1.0816678973232\n",
       "\\end{description*}\n"
      ],
      "text/markdown": [
       "clump_thickness\n",
       ":   1.083839928039uniformity_shape\n",
       ":   1.16363107957349marginal_adhesion\n",
       ":   1.06670105605742bland_chromatin\n",
       ":   1.07889643053897normal_nucleoli\n",
       ":   1.0816678973232\n",
       "\n"
      ],
      "text/plain": [
       "  clump_thickness  uniformity_shape marginal_adhesion   bland_chromatin \n",
       "         1.083840          1.163631          1.066701          1.078896 \n",
       "  normal_nucleoli \n",
       "         1.081668 "
      ]
     },
     "metadata": {},
     "output_type": "display_data"
    }
   ],
   "source": [
    "vif(lm3)"
   ]
  },
  {
   "cell_type": "code",
   "execution_count": 19,
   "id": "10a664ee",
   "metadata": {
    "scrolled": true
   },
   "outputs": [
    {
     "name": "stderr",
     "output_type": "stream",
     "text": [
      "Setting levels: control = 0, case = 1\n",
      "\n",
      "Setting direction: controls < cases\n",
      "\n"
     ]
    },
    {
     "data": {
      "image/png": "[encoded data removed]",
      "text/plain": [
       "plot without title"
      ]
     },
     "metadata": {
      "image/png": {
       "height": 420,
       "width": 420
      }
     },
     "output_type": "display_data"
    }
   ],
   "source": [
    "predtrain<- predict(lm3, train, type = 'response')\n",
    "AUCtrain<- roc(train$diagnosis, predtrain, percent = TRUE, plot = TRUE, print.auc = TRUE)"
   ]
  },
  {
   "cell_type": "code",
   "execution_count": 20,
   "id": "e4d533f7",
   "metadata": {},
   "outputs": [
    {
     "data": {
      "text/html": [
       "0.96234309623431"
      ],
      "text/latex": [
       "0.96234309623431"
      ],
      "text/markdown": [
       "0.96234309623431"
      ],
      "text/plain": [
       "[1] 0.9623431"
      ]
     },
     "metadata": {},
     "output_type": "display_data"
    }
   ],
   "source": [
    "\n",
    "accuracy <- 0\n",
    "f1 <- 0\n",
    "threshold <- 0\n",
    "\n",
    "for(i in seq(0.1, 0.9, by = 0.01)){\n",
    "  predtrain <- ifelse(predtrain < i, 0, 1)\n",
    "  a = Accuracy(y_true = train$diagnosis, y_pred = predtrain)\n",
    "  b = F1_Score(y_true = train$diagnosis, y_pred = predtrain)\n",
    "  \n",
    "  if(a > accuracy & b > f1)\n",
    "   TRUE:\n",
    "    { \n",
    "    accuracy = a\n",
    "    f1 = b\n",
    "    threshold = i\n",
    "  }\n",
    "}\n",
    "accuracy\n"
   ]
  },
  {
   "cell_type": "code",
   "execution_count": 21,
   "id": "8489b6d6",
   "metadata": {},
   "outputs": [
    {
     "data": {
      "text/html": [
       "0.962"
      ],
      "text/latex": [
       "0.962"
      ],
      "text/markdown": [
       "0.962"
      ],
      "text/plain": [
       "[1] 0.962"
      ]
     },
     "metadata": {},
     "output_type": "display_data"
    }
   ],
   "source": [
    "a <-Accuracy(y_true = train$diagnosis, y_pred = predtrain)\n",
    "round(a,3)\n"
   ]
  },
  {
   "cell_type": "code",
   "execution_count": 22,
   "id": "1fd89a26",
   "metadata": {},
   "outputs": [
    {
     "data": {
      "text/html": [
       "0.1"
      ],
      "text/latex": [
       "0.1"
      ],
      "text/markdown": [
       "0.1"
      ],
      "text/plain": [
       "[1] 0.1"
      ]
     },
     "metadata": {},
     "output_type": "display_data"
    }
   ],
   "source": [
    "threshold"
   ]
  },
  {
   "cell_type": "code",
   "execution_count": 23,
   "id": "fb902cba",
   "metadata": {
    "scrolled": true
   },
   "outputs": [
    {
     "data": {
      "text/plain": [
       "           Predictedvalue\n",
       "Actualvalue FALSE TRUE\n",
       "          0   304   17\n",
       "          1     1  156"
      ]
     },
     "metadata": {},
     "output_type": "display_data"
    }
   ],
   "source": [
    "table(Actualvalue=train$diagnosis,Predictedvalue=predtrain>0.5)"
   ]
  },
  {
   "cell_type": "code",
   "execution_count": 24,
   "id": "4ef4f498",
   "metadata": {},
   "outputs": [
    {
     "data": {
      "text/html": [
       "<style>\n",
       ".dl-inline {width: auto; margin:0; padding: 0}\n",
       ".dl-inline>dt, .dl-inline>dd {float: none; width: auto; display: inline-block}\n",
       ".dl-inline>dt::after {content: \":\\0020\"; padding-right: .5ex}\n",
       ".dl-inline>dt:not(:first-of-type) {padding-left: .5ex}\n",
       "</style><dl class=dl-inline><dt>224</dt><dd>1</dd><dt>641</dt><dd>0</dd><dt>330</dt><dd>1</dd><dt>653</dt><dd>0</dd><dt>634</dt><dd>1</dd><dt>495</dt><dd>1</dd></dl>\n"
      ],
      "text/latex": [
       "\\begin{description*}\n",
       "\\item[224] 1\n",
       "\\item[641] 0\n",
       "\\item[330] 1\n",
       "\\item[653] 0\n",
       "\\item[634] 1\n",
       "\\item[495] 1\n",
       "\\end{description*}\n"
      ],
      "text/markdown": [
       "224\n",
       ":   1641\n",
       ":   0330\n",
       ":   1653\n",
       ":   0634\n",
       ":   1495\n",
       ":   1\n",
       "\n"
      ],
      "text/plain": [
       "224 641 330 653 634 495 \n",
       "  1   0   1   0   1   1 "
      ]
     },
     "metadata": {},
     "output_type": "display_data"
    }
   ],
   "source": [
    "pred.classes <- (predtrain)\n",
    "head(pred.classes)"
   ]
  },
  {
   "cell_type": "code",
   "execution_count": 25,
   "id": "6872869e",
   "metadata": {
    "scrolled": true
   },
   "outputs": [
    {
     "name": "stderr",
     "output_type": "stream",
     "text": [
      "Setting levels: control = 0, case = 1\n",
      "\n",
      "Setting direction: controls < cases\n",
      "\n"
     ]
    },
    {
     "data": {
      "image/png": "[encoded data removed]",
      "text/plain": [
       "plot without title"
      ]
     },
     "metadata": {
      "image/png": {
       "height": 420,
       "width": 420
      }
     },
     "output_type": "display_data"
    }
   ],
   "source": [
    "predtest <- predict(lm3, test, type = 'response')\n",
    "\n",
    "AUCtest <- roc(test$diagnosis, predtest, percent = TRUE, plot = TRUE, print.auc = TRUE)"
   ]
  },
  {
   "cell_type": "code",
   "execution_count": 26,
   "id": "c5a2eb01",
   "metadata": {},
   "outputs": [
    {
     "data": {
      "text/html": [
       "0.966"
      ],
      "text/latex": [
       "0.966"
      ],
      "text/markdown": [
       "0.966"
      ],
      "text/plain": [
       "[1] 0.966"
      ]
     },
     "metadata": {},
     "output_type": "display_data"
    }
   ],
   "source": [
    "predtest1 <- ifelse(predtest>= 0.48, 1, 0)\n",
    "round(Accuracy(y_true = test$diagnosis, y_pred = predtest1),3)\n"
   ]
  },
  {
   "cell_type": "code",
   "execution_count": 27,
   "id": "3a462bac",
   "metadata": {},
   "outputs": [
    {
     "data": {
      "text/plain": [
       "      y_pred\n",
       "y_true   0   1\n",
       "     0 118   5\n",
       "     1   2  80"
      ]
     },
     "metadata": {},
     "output_type": "display_data"
    }
   ],
   "source": [
    "ConfusionMatrix(y_true = test$diagnosis, y_pred = predtest1)"
   ]
  },
  {
   "cell_type": "code",
   "execution_count": null,
   "id": "0189e27e",
   "metadata": {},
   "outputs": [],
   "source": []
  }
 ],
 "metadata": {
  "kernelspec": {
   "display_name": "R",
   "language": "R",
   "name": "ir"
  },
  "language_info": {
   "codemirror_mode": "r",
   "file_extension": ".r",
   "mimetype": "text/x-r-source",
   "name": "R",
   "pygments_lexer": "r",
   "version": "4.2.1"
  }
 },
 "nbformat": 4,
 "nbformat_minor": 5
}
